{
 "cells": [
  {
   "cell_type": "markdown",
   "metadata": {
    "id": "nSp0n7IorUr5"
   },
   "source": [
    "# **HIP Breast Cancer Screening**"
   ]
  },
  {
   "cell_type": "markdown",
   "metadata": {
    "id": "iCZOSk1crUsF"
   },
   "source": [
    "|Group|Size|Breast Cancer||All Other|\n",
    "|-----|----|-------------||---------|\n",
    "|     |    |  No., Rate|| No., Rate|\n",
    "|Treatment - Screened| 20,200     |23, 1.1     ||428, 21 |\n",
    "|Treatment - Refused| 10,800     |16, 1.5     ||409, 38 |\n",
    "|Treatment - Total| 31,000     |39, 1.3     ||837, 27 |\n",
    "|Control - Total| 31,000     |63, 2.0     ||879, 28 |"
   ]
  },
  {
   "cell_type": "markdown",
   "metadata": {
    "id": "OYh55JX0rUsG"
   },
   "source": [
    "**We perform hypothesis testing to check whether the difference in death rates between the treatment and the control group is significant enough, to establish that offering mammography reduces the risk of death from breast cancer.**"
   ]
  },
  {
   "cell_type": "markdown",
   "metadata": {
    "id": "KrymCR87rgjO"
   },
   "source": [
    "## **Importing the necessary libraries**"
   ]
  },
  {
   "cell_type": "code",
   "execution_count": 10,
   "metadata": {
    "id": "crFRv6yarUr7"
   },
   "outputs": [],
   "source": [
    "import scipy.stats as stats\n",
    "\n",
    "import numpy as np\n",
    "\n",
    "import matplotlib.pyplot as plt\n",
    "\n",
    "from statsmodels.stats.proportion import proportions_ztest\n",
    "\n",
    "import seaborn as sns\n",
    "\n",
    "from scipy.stats import binomtest\n"
   ]
  },
  {
   "cell_type": "markdown",
   "metadata": {
    "id": "cUurstIjscAF"
   },
   "source": [
    "## **Binomial Distribution**"
   ]
  },
  {
   "cell_type": "markdown",
   "metadata": {
    "id": "kwqEWubirUsH"
   },
   "source": [
    "**Null hypothesis $(H_0): π = 0.002$**\n",
    "\n",
    "**Alternative hypothesis $(H_a): π < 0.002$**"
   ]
  },
  {
   "cell_type": "markdown",
   "metadata": {
    "id": "vmqZ104nrUsJ"
   },
   "source": [
    "* The total number of trials / observations = 31,000\n",
    "* The hypothesized probability = 0.002\n",
    "* The number of deaths due to breast cancer in the treatment group = 39"
   ]
  },
  {
   "cell_type": "code",
   "execution_count": 11,
   "metadata": {
    "colab": {
     "base_uri": "https://localhost:8080/"
    },
    "id": "QirogVqdrUsK",
    "outputId": "82863da4-15bc-4f0e-b7a5-7de49f693ba0",
    "scrolled": true
   },
   "outputs": [
    {
     "name": "stdout",
     "output_type": "stream",
     "text": [
      "The p-value is 0.0012\n"
     ]
    }
   ],
   "source": [
    "# Perform the binom test\n",
    "\n",
    "result = binomtest(k=39, n=31000, p=0.002, alternative='less')\n",
    "\n",
    "# Print the p-value rounded to 4 decimal places\n",
    "print(\"The p-value is\", round(result.pvalue, 4))"
   ]
  },
  {
   "cell_type": "markdown",
   "metadata": {
    "id": "RJu5aB9nrUsY"
   },
   "source": [
    "Since the **p-value (0.0012) is less than 0.05, we reject the null hypothesis at a 95% confidence level**. This implies that we have sufficient evidence to conclude that offering mammography reduces the risk of death from breast cancer."
   ]
  },
  {
   "cell_type": "markdown",
   "metadata": {
    "id": "KcCCxyTQYrQ1"
   },
   "source": [
    "Now, let's plot the **probability distribution ~ Binom( n = 31000, p = 0.002 )**"
   ]
  },
  {
   "cell_type": "code",
   "execution_count": 12,
   "metadata": {
    "id": "xxGxYS0trUsm"
   },
   "outputs": [],
   "source": [
    "n = 31000\n",
    "\n",
    "p = 0.002\n",
    "\n",
    "k = np.arange(0, 200)\n",
    "\n",
    "dist = [binom.pmf(i, n, p) for i in k]    # Probabilities, calculated using ~ Binom( 31000, 0.002 ), for each value of k"
   ]
  },
  {
   "cell_type": "code",
   "execution_count": 13,
   "metadata": {
    "colab": {
     "base_uri": "https://localhost:8080/",
     "height": 465
    },
    "id": "IEBifcs4rUsy",
    "outputId": "defd910d-6b77-4118-a1e9-0dc763d44452",
    "scrolled": true
   },
   "outputs": [
    {
     "data": {
      "image/png": "[encoded data removed]",
      "text/plain": [
       "<Figure size 1000x500 with 1 Axes>"
      ]
     },
     "metadata": {},
     "output_type": "display_data"
    }
   ],
   "source": [
    "plt.figure(figsize = (10, 5))\n",
    "\n",
    "plt.bar(k, dist)\n",
    "\n",
    "plt.axvline(50, color = 'red', linestyle = '-', linewidth=1)\n",
    "\n",
    "plt.xlabel(\"x-value\")\n",
    "\n",
    "plt.ylabel(\"density\")\n",
    "\n",
    "plt.show()"
   ]
  },
  {
   "cell_type": "markdown",
   "metadata": {
    "id": "RHTesFAbYrQ3"
   },
   "source": [
    "In the above plot, the **red line shows the cut-off region** for a significance level of 0.05, i.e., the area under the curve on the left side of the red line is 0.05 or 5% of the probability density under the curve."
   ]
  },
  {
   "cell_type": "markdown",
   "metadata": {
    "id": "ySnGoknhrUs7"
   },
   "source": [
    "## **Normal Distribution**"
   ]
  },
  {
   "cell_type": "markdown",
   "metadata": {
    "id": "CSno4jgUYrQ3"
   },
   "source": [
    "We can also validate our result using another test, called the **proportion test**.\n",
    "\n",
    "A hypothesis test for a proportion is used when you are **comparing one group to a known or hypothesized population proportion value**. The **hypothesized population proportion in our case study is equal to 63/31000 = 0.002**\n",
    "\n",
    "There is a rule stating that **if $n*p \\ge 10$ and $n*(1-p) \\ge 10$, then the distribution of sample proportions is approximately normal and can be estimated using the normal distribution, i.e., using the z - statistic**.\n",
    "\n",
    "As **the condition in the rule is satisfied for our case study**, we can use the normal distribution for the proportion test."
   ]
  },
  {
   "cell_type": "markdown",
   "metadata": {
    "id": "0r77WzX6rUs8"
   },
   "source": [
    "**Null hypothesis $(H_0): π = 63/31000 = 0.002$**\n",
    "\n",
    "**Alternative $(H_a): π < 0.002$**"
   ]
  },
  {
   "cell_type": "markdown",
   "metadata": {
    "id": "8YbVZHInrUs9"
   },
   "source": [
    "* count: The number of successes in trials / observations\n",
    "* nobs: The total number of trials / observations\n",
    "* value: The value of the null hypothesis (proportion)"
   ]
  },
  {
   "cell_type": "code",
   "execution_count": 14,
   "metadata": {
    "id": "YeJphWHArUs-"
   },
   "outputs": [],
   "source": [
    "stat, pvalue = proportions_ztest(count = 39, nobs = 31000, value = 0.002, alternative = \"smaller\")"
   ]
  },
  {
   "cell_type": "code",
   "execution_count": 15,
   "metadata": {
    "colab": {
     "base_uri": "https://localhost:8080/"
    },
    "id": "8m9FOHRLrUtF",
    "outputId": "7a27c7c3-e8f7-4958-b6c9-cb6b572e35e4"
   },
   "outputs": [
    {
     "name": "stdout",
     "output_type": "stream",
     "text": [
      "The p-value is 0.00011423176454888235\n"
     ]
    }
   ],
   "source": [
    "print(\"The p-value is\", pvalue)"
   ]
  },
  {
   "cell_type": "markdown",
   "metadata": {
    "id": "IRqdhealrUtL"
   },
   "source": [
    "Since the **p-value (0.00011) is less than 0.05, we reject the null hypothesis at a 95% confidence level**. This implies that we have sufficient evidence to conclude that offering mammography reduces the risk of death from breast cancer."
   ]
  },
  {
   "cell_type": "markdown",
   "metadata": {
    "id": "4NTmyd88s569"
   },
   "source": [
    "**Hence, we conclude that this study suggests that offering mammography is indeed helpful and can reduce the risk of death from breast cancer.**"
   ]
  }
 ],
 "metadata": {
  "colab": {
   "provenance": []
  },
  "kernelspec": {
   "display_name": "Python 3 (ipykernel)",
   "language": "python",
   "name": "python3"
  },
  "language_info": {
   "codemirror_mode": {
    "name": "ipython",
    "version": 3
   },
   "file_extension": ".py",
   "mimetype": "text/x-python",
   "name": "python",
   "nbconvert_exporter": "python",
   "pygments_lexer": "ipython3",
   "version": "3.8.19"
  }
 },
 "nbformat": 4,
 "nbformat_minor": 4
}
