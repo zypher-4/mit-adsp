{
  "cells": [
    {
      "cell_type": "markdown",
      "metadata": {
        "id": "IIfOydFLJIaI"
      },
      "source": [
        "# **Predicting Chances of Admission**\n",
        "\n",
        "--------------------\n",
        "## **Context**\n",
        "--------------------\n",
        "\n",
        "The world is developing rapidly and continuously looking for the best knowledge and experience among people. This motivates people all around the world to stand out in their jobs and look for higher degrees that can help them in improving their skills and knowledge. As a result, the number of students applying for Master's programs has increased substantially.\n",
        "\n",
        "The current admission dataset was created for the prediction of admissions into the University of California, Los Angeles (UCLA). It was built to help students in shortlisting universities based on their profiles. The predicted output gives them a fair idea about their chances of getting accepted.\n",
        "\n",
        "----------------------\n",
        "## **Objective**\n",
        "----------------------\n",
        "\n",
        "We need to build a classification model using neural networks to predict a student's chances of admission into UCLA.\n",
        "\n",
        "------------------------------\n",
        "## **Data Dictionary**\n",
        "------------------------------\n",
        "\n",
        "The dataset contains several features which are considered important during the application for Masters Programs.\n",
        "The features included are: \n",
        "\n",
        "- **GRE Scores:** (out of 340)\n",
        "\n",
        "- **TOEFL Scores:** (out of 120)\n",
        "\n",
        "- **University Rating:**  It indicates the Bachelor University ranking (out of 5)\n",
        "\n",
        "- **Statement of Purpose Strength:** (out of 5)\n",
        "\n",
        "- **Letter of Recommendation Strength:** (out of 5)\n",
        "\n",
        "- **Undergraduate GPA:** (out of 10)\n",
        "\n",
        "- **Research Experience:** (either 0 or 1)\n",
        "\n",
        "- **Chance of Admit:** (ranging from 0 to 1)"
      ]
    },
    {
      "cell_type": "markdown",
      "metadata": {
        "id": "RUNw9Lh-mZHQ"
      },
      "source": [
        "## **Loading the libraries and the dataset**"
      ]
    },
    {
      "cell_type": "markdown",
      "metadata": {
        "id": "Ycku3MMOwTGZ"
      },
      "source": [
        "We will be using **Google Colab** to run this notebook. \n",
        "\n",
        "First, let's **import the data** so that Colab can access the dataset. One way to load the data in Colab is by uploading the dataset directly in the notebook. The following code does just that.\n",
        "Once you run the cell, it would ask you to choose the file from your local system."
      ]
    },
    {
      "cell_type": "code",
      "execution_count": 1,
      "metadata": {
        "colab": {
          "base_uri": "https://localhost:8080/",
          "height": 73
        },
        "id": "wxUDP72g1N96",
        "outputId": "11e53db6-63ab-4acc-ac75-819f43e06169"
      },
      "outputs": [
        {
          "output_type": "display_data",
          "data": {
            "text/plain": [
              "<IPython.core.display.HTML object>"
            ],
            "text/html": [
              "\n",
              "     <input type=\"file\" id=\"files-bb51dc1f-8f2e-41e1-b95b-9dff75349a62\" name=\"files[]\" multiple disabled\n",
              "        style=\"border:none\" />\n",
              "     <output id=\"result-bb51dc1f-8f2e-41e1-b95b-9dff75349a62\">\n",
              "      Upload widget is only available when the cell has been executed in the\n",
              "      current browser session. Please rerun this cell to enable.\n",
              "      </output>\n",
              "      <script>// Copyright 2017 Google LLC\n",
              "//\n",
              "// Licensed under the Apache License, Version 2.0 (the \"License\");\n",
              "// you may not use this file except in compliance with the License.\n",
              "// You may obtain a copy of the License at\n",
              "//\n",
              "//      http://www.apache.org/licenses/LICENSE-2.0\n",
              "//\n",
              "// Unless required by applicable law or agreed to in writing, software\n",
              "// distributed under the License is distributed on an \"AS IS\" BASIS,\n",
              "// WITHOUT WARRANTIES OR CONDITIONS OF ANY KIND, either express or implied.\n",
              "// See the License for the specific language governing permissions and\n",
              "// limitations under the License.\n",
              "\n",
              "/**\n",
              " * @fileoverview Helpers for google.colab Python module.\n",
              " */\n",
              "(function(scope) {\n",
              "function span(text, styleAttributes = {}) {\n",
              "  const element = document.createElement('span');\n",
              "  element.textContent = text;\n",
              "  for (const key of Object.keys(styleAttributes)) {\n",
              "    element.style[key] = styleAttributes[key];\n",
              "  }\n",
              "  return element;\n",
              "}\n",
              "\n",
              "// Max number of bytes which will be uploaded at a time.\n",
              "const MAX_PAYLOAD_SIZE = 100 * 1024;\n",
              "\n",
              "function _uploadFiles(inputId, outputId) {\n",
              "  const steps = uploadFilesStep(inputId, outputId);\n",
              "  const outputElement = document.getElementById(outputId);\n",
              "  // Cache steps on the outputElement to make it available for the next call\n",
              "  // to uploadFilesContinue from Python.\n",
              "  outputElement.steps = steps;\n",
              "\n",
              "  return _uploadFilesContinue(outputId);\n",
              "}\n",
              "\n",
              "// This is roughly an async generator (not supported in the browser yet),\n",
              "// where there are multiple asynchronous steps and the Python side is going\n",
              "// to poll for completion of each step.\n",
              "// This uses a Promise to block the python side on completion of each step,\n",
              "// then passes the result of the previous step as the input to the next step.\n",
              "function _uploadFilesContinue(outputId) {\n",
              "  const outputElement = document.getElementById(outputId);\n",
              "  const steps = outputElement.steps;\n",
              "\n",
              "  const next = steps.next(outputElement.lastPromiseValue);\n",
              "  return Promise.resolve(next.value.promise).then((value) => {\n",
              "    // Cache the last promise value to make it available to the next\n",
              "    // step of the generator.\n",
              "    outputElement.lastPromiseValue = value;\n",
              "    return next.value.response;\n",
              "  });\n",
              "}\n",
              "\n",
              "/**\n",
              " * Generator function which is called between each async step of the upload\n",
              " * process.\n",
              " * @param {string} inputId Element ID of the input file picker element.\n",
              " * @param {string} outputId Element ID of the output display.\n",
              " * @return {!Iterable<!Object>} Iterable of next steps.\n",
              " */\n",
              "function* uploadFilesStep(inputId, outputId) {\n",
              "  const inputElement = document.getElementById(inputId);\n",
              "  inputElement.disabled = false;\n",
              "\n",
              "  const outputElement = document.getElementById(outputId);\n",
              "  outputElement.innerHTML = '';\n",
              "\n",
              "  const pickedPromise = new Promise((resolve) => {\n",
              "    inputElement.addEventListener('change', (e) => {\n",
              "      resolve(e.target.files);\n",
              "    });\n",
              "  });\n",
              "\n",
              "  const cancel = document.createElement('button');\n",
              "  inputElement.parentElement.appendChild(cancel);\n",
              "  cancel.textContent = 'Cancel upload';\n",
              "  const cancelPromise = new Promise((resolve) => {\n",
              "    cancel.onclick = () => {\n",
              "      resolve(null);\n",
              "    };\n",
              "  });\n",
              "\n",
              "  // Wait for the user to pick the files.\n",
              "  const files = yield {\n",
              "    promise: Promise.race([pickedPromise, cancelPromise]),\n",
              "    response: {\n",
              "      action: 'starting',\n",
              "    }\n",
              "  };\n",
              "\n",
              "  cancel.remove();\n",
              "\n",
              "  // Disable the input element since further picks are not allowed.\n",
              "  inputElement.disabled = true;\n",
              "\n",
              "  if (!files) {\n",
              "    return {\n",
              "      response: {\n",
              "        action: 'complete',\n",
              "      }\n",
              "    };\n",
              "  }\n",
              "\n",
              "  for (const file of files) {\n",
              "    const li = document.createElement('li');\n",
              "    li.append(span(file.name, {fontWeight: 'bold'}));\n",
              "    li.append(span(\n",
              "        `(${file.type || 'n/a'}) - ${file.size} bytes, ` +\n",
              "        `last modified: ${\n",
              "            file.lastModifiedDate ? file.lastModifiedDate.toLocaleDateString() :\n",
              "                                    'n/a'} - `));\n",
              "    const percent = span('0% done');\n",
              "    li.appendChild(percent);\n",
              "\n",
              "    outputElement.appendChild(li);\n",
              "\n",
              "    const fileDataPromise = new Promise((resolve) => {\n",
              "      const reader = new FileReader();\n",
              "      reader.onload = (e) => {\n",
              "        resolve(e.target.result);\n",
              "      };\n",
              "      reader.readAsArrayBuffer(file);\n",
              "    });\n",
              "    // Wait for the data to be ready.\n",
              "    let fileData = yield {\n",
              "      promise: fileDataPromise,\n",
              "      response: {\n",
              "        action: 'continue',\n",
              "      }\n",
              "    };\n",
              "\n",
              "    // Use a chunked sending to avoid message size limits. See b/62115660.\n",
              "    let position = 0;\n",
              "    do {\n",
              "      const length = Math.min(fileData.byteLength - position, MAX_PAYLOAD_SIZE);\n",
              "      const chunk = new Uint8Array(fileData, position, length);\n",
              "      position += length;\n",
              "\n",
              "      const base64 = btoa(String.fromCharCode.apply(null, chunk));\n",
              "      yield {\n",
              "        response: {\n",
              "          action: 'append',\n",
              "          file: file.name,\n",
              "          data: base64,\n",
              "        },\n",
              "      };\n",
              "\n",
              "      let percentDone = fileData.byteLength === 0 ?\n",
              "          100 :\n",
              "          Math.round((position / fileData.byteLength) * 100);\n",
              "      percent.textContent = `${percentDone}% done`;\n",
              "\n",
              "    } while (position < fileData.byteLength);\n",
              "  }\n",
              "\n",
              "  // All done.\n",
              "  yield {\n",
              "    response: {\n",
              "      action: 'complete',\n",
              "    }\n",
              "  };\n",
              "}\n",
              "\n",
              "scope.google = scope.google || {};\n",
              "scope.google.colab = scope.google.colab || {};\n",
              "scope.google.colab._files = {\n",
              "  _uploadFiles,\n",
              "  _uploadFilesContinue,\n",
              "};\n",
              "})(self);\n",
              "</script> "
            ]
          },
          "metadata": {}
        },
        {
          "output_type": "stream",
          "name": "stdout",
          "text": [
            "Saving Admission_Predict.csv to Admission_Predict.csv\n"
          ]
        }
      ],
      "source": [
        "from google.colab import files\n",
        "\n",
        "uploaded = files.upload()"
      ]
    },
    {
      "cell_type": "code",
      "execution_count": 2,
      "metadata": {
        "id": "CK_nbUDBmX2E"
      },
      "outputs": [],
      "source": [
        "import numpy as np\n",
        "import pandas as pd\n",
        "import matplotlib.pyplot as plt\n",
        "import seaborn as sns\n",
        "\n",
        "from sklearn.model_selection import train_test_split\n",
        "from sklearn.preprocessing import MinMaxScaler\n",
        "\n",
        "import tensorflow as tf\n",
        "from tensorflow.keras.models import Sequential\n",
        "from tensorflow.keras.layers import Dense, Dropout, Activation"
      ]
    },
    {
      "cell_type": "markdown",
      "metadata": {
        "id": "F6lw4gHtxYfK"
      },
      "source": [
        "Now, let's load the data using the read_csv() function. One small change from Jupyter here is that the path of the file might be a bit different. \n",
        "To get the path of the data file, follow the below steps:\n",
        "- To go the panel on the left-hand side and click on the folder icon at the bottom\n",
        "- Move the cursor on the file name\n",
        "- Click on the three dots and select the option \"Copy path\""
      ]
    },
    {
      "cell_type": "code",
      "execution_count": 3,
      "metadata": {
        "colab": {
          "base_uri": "https://localhost:8080/",
          "height": 206
        },
        "id": "cF6d_Z6B2CpB",
        "outputId": "ef2154e7-6240-48c9-a4f0-134b4481542e"
      },
      "outputs": [
        {
          "output_type": "execute_result",
          "data": {
            "text/plain": [
              "   Serial No.  GRE Score  TOEFL Score  University Rating  SOP  LOR   CGPA  \\\n",
              "0           1        337          118                  4  4.5   4.5  9.65   \n",
              "1           2        324          107                  4  4.0   4.5  8.87   \n",
              "2           3        316          104                  3  3.0   3.5  8.00   \n",
              "3           4        322          110                  3  3.5   2.5  8.67   \n",
              "4           5        314          103                  2  2.0   3.0  8.21   \n",
              "\n",
              "   Research  Chance of Admit   \n",
              "0         1              0.92  \n",
              "1         1              0.76  \n",
              "2         1              0.72  \n",
              "3         1              0.80  \n",
              "4         0              0.65  "
            ],
            "text/html": [
              "\n",
              "  <div id=\"df-4d06117a-e7bf-4fcc-8d8b-e579b09a84bb\">\n",
              "    <div class=\"colab-df-container\">\n",
              "      <div>\n",
              "<style scoped>\n",
              "    .dataframe tbody tr th:only-of-type {\n",
              "        vertical-align: middle;\n",
              "    }\n",
              "\n",
              "    .dataframe tbody tr th {\n",
              "        vertical-align: top;\n",
              "    }\n",
              "\n",
              "    .dataframe thead th {\n",
              "        text-align: right;\n",
              "    }\n",
              "</style>\n",
              "<table border=\"1\" class=\"dataframe\">\n",
              "  <thead>\n",
              "    <tr style=\"text-align: right;\">\n",
              "      <th></th>\n",
              "      <th>Serial No.</th>\n",
              "      <th>GRE Score</th>\n",
              "      <th>TOEFL Score</th>\n",
              "      <th>University Rating</th>\n",
              "      <th>SOP</th>\n",
              "      <th>LOR</th>\n",
              "      <th>CGPA</th>\n",
              "      <th>Research</th>\n",
              "      <th>Chance of Admit</th>\n",
              "    </tr>\n",
              "  </thead>\n",
              "  <tbody>\n",
              "    <tr>\n",
              "      <th>0</th>\n",
              "      <td>1</td>\n",
              "      <td>337</td>\n",
              "      <td>118</td>\n",
              "      <td>4</td>\n",
              "      <td>4.5</td>\n",
              "      <td>4.5</td>\n",
              "      <td>9.65</td>\n",
              "      <td>1</td>\n",
              "      <td>0.92</td>\n",
              "    </tr>\n",
              "    <tr>\n",
              "      <th>1</th>\n",
              "      <td>2</td>\n",
              "      <td>324</td>\n",
              "      <td>107</td>\n",
              "      <td>4</td>\n",
              "      <td>4.0</td>\n",
              "      <td>4.5</td>\n",
              "      <td>8.87</td>\n",
              "      <td>1</td>\n",
              "      <td>0.76</td>\n",
              "    </tr>\n",
              "    <tr>\n",
              "      <th>2</th>\n",
              "      <td>3</td>\n",
              "      <td>316</td>\n",
              "      <td>104</td>\n",
              "      <td>3</td>\n",
              "      <td>3.0</td>\n",
              "      <td>3.5</td>\n",
              "      <td>8.00</td>\n",
              "      <td>1</td>\n",
              "      <td>0.72</td>\n",
              "    </tr>\n",
              "    <tr>\n",
              "      <th>3</th>\n",
              "      <td>4</td>\n",
              "      <td>322</td>\n",
              "      <td>110</td>\n",
              "      <td>3</td>\n",
              "      <td>3.5</td>\n",
              "      <td>2.5</td>\n",
              "      <td>8.67</td>\n",
              "      <td>1</td>\n",
              "      <td>0.80</td>\n",
              "    </tr>\n",
              "    <tr>\n",
              "      <th>4</th>\n",
              "      <td>5</td>\n",
              "      <td>314</td>\n",
              "      <td>103</td>\n",
              "      <td>2</td>\n",
              "      <td>2.0</td>\n",
              "      <td>3.0</td>\n",
              "      <td>8.21</td>\n",
              "      <td>0</td>\n",
              "      <td>0.65</td>\n",
              "    </tr>\n",
              "  </tbody>\n",
              "</table>\n",
              "</div>\n",
              "      <button class=\"colab-df-convert\" onclick=\"convertToInteractive('df-4d06117a-e7bf-4fcc-8d8b-e579b09a84bb')\"\n",
              "              title=\"Convert this dataframe to an interactive table.\"\n",
              "              style=\"display:none;\">\n",
              "        \n",
              "  <svg xmlns=\"http://www.w3.org/2000/svg\" height=\"24px\"viewBox=\"0 0 24 24\"\n",
              "       width=\"24px\">\n",
              "    <path d=\"M0 0h24v24H0V0z\" fill=\"none\"/>\n",
              "    <path d=\"M18.56 5.44l.94 2.06.94-2.06 2.06-.94-2.06-.94-.94-2.06-.94 2.06-2.06.94zm-11 1L8.5 8.5l.94-2.06 2.06-.94-2.06-.94L8.5 2.5l-.94 2.06-2.06.94zm10 10l.94 2.06.94-2.06 2.06-.94-2.06-.94-.94-2.06-.94 2.06-2.06.94z\"/><path d=\"M17.41 7.96l-1.37-1.37c-.4-.4-.92-.59-1.43-.59-.52 0-1.04.2-1.43.59L10.3 9.45l-7.72 7.72c-.78.78-.78 2.05 0 2.83L4 21.41c.39.39.9.59 1.41.59.51 0 1.02-.2 1.41-.59l7.78-7.78 2.81-2.81c.8-.78.8-2.07 0-2.86zM5.41 20L4 18.59l7.72-7.72 1.47 1.35L5.41 20z\"/>\n",
              "  </svg>\n",
              "      </button>\n",
              "      \n",
              "  <style>\n",
              "    .colab-df-container {\n",
              "      display:flex;\n",
              "      flex-wrap:wrap;\n",
              "      gap: 12px;\n",
              "    }\n",
              "\n",
              "    .colab-df-convert {\n",
              "      background-color: #E8F0FE;\n",
              "      border: none;\n",
              "      border-radius: 50%;\n",
              "      cursor: pointer;\n",
              "      display: none;\n",
              "      fill: #1967D2;\n",
              "      height: 32px;\n",
              "      padding: 0 0 0 0;\n",
              "      width: 32px;\n",
              "    }\n",
              "\n",
              "    .colab-df-convert:hover {\n",
              "      background-color: #E2EBFA;\n",
              "      box-shadow: 0px 1px 2px rgba(60, 64, 67, 0.3), 0px 1px 3px 1px rgba(60, 64, 67, 0.15);\n",
              "      fill: #174EA6;\n",
              "    }\n",
              "\n",
              "    [theme=dark] .colab-df-convert {\n",
              "      background-color: #3B4455;\n",
              "      fill: #D2E3FC;\n",
              "    }\n",
              "\n",
              "    [theme=dark] .colab-df-convert:hover {\n",
              "      background-color: #434B5C;\n",
              "      box-shadow: 0px 1px 3px 1px rgba(0, 0, 0, 0.15);\n",
              "      filter: drop-shadow(0px 1px 2px rgba(0, 0, 0, 0.3));\n",
              "      fill: #FFFFFF;\n",
              "    }\n",
              "  </style>\n",
              "\n",
              "      <script>\n",
              "        const buttonEl =\n",
              "          document.querySelector('#df-4d06117a-e7bf-4fcc-8d8b-e579b09a84bb button.colab-df-convert');\n",
              "        buttonEl.style.display =\n",
              "          google.colab.kernel.accessAllowed ? 'block' : 'none';\n",
              "\n",
              "        async function convertToInteractive(key) {\n",
              "          const element = document.querySelector('#df-4d06117a-e7bf-4fcc-8d8b-e579b09a84bb');\n",
              "          const dataTable =\n",
              "            await google.colab.kernel.invokeFunction('convertToInteractive',\n",
              "                                                     [key], {});\n",
              "          if (!dataTable) return;\n",
              "\n",
              "          const docLinkHtml = 'Like what you see? Visit the ' +\n",
              "            '<a target=\"_blank\" href=https://colab.research.google.com/notebooks/data_table.ipynb>data table notebook</a>'\n",
              "            + ' to learn more about interactive tables.';\n",
              "          element.innerHTML = '';\n",
              "          dataTable['output_type'] = 'display_data';\n",
              "          await google.colab.output.renderOutput(dataTable, element);\n",
              "          const docLink = document.createElement('div');\n",
              "          docLink.innerHTML = docLinkHtml;\n",
              "          element.appendChild(docLink);\n",
              "        }\n",
              "      </script>\n",
              "    </div>\n",
              "  </div>\n",
              "  "
            ]
          },
          "metadata": {},
          "execution_count": 3
        }
      ],
      "source": [
        "# Importing the dataset\n",
        "data = pd.read_csv('/content/Admission_Predict.csv')\n",
        "\n",
        "# Check the top five records of the data\n",
        "data.head()"
      ]
    },
    {
      "cell_type": "markdown",
      "metadata": {
        "id": "yVsWWzVw2brU"
      },
      "source": [
        "**Observations:**\n",
        "\n",
        "- In the above dataset, the target variable is **Chance of Admit**.\n",
        "- To make this a classification task, let's convert the target variable into a categorical variable by using a threshold of 80%.\n",
        "- We are assuming that if **Chance of Admit** is more than 80% then **Admit** would be 1 (i.e. yes), otherwise, it would be 0 (i.e. no)."
      ]
    },
    {
      "cell_type": "code",
      "execution_count": 4,
      "metadata": {
        "id": "HLxtOrbw2ZLS"
      },
      "outputs": [],
      "source": [
        "# Converting the target variable into a categorical variable\n",
        "\n",
        "data['Admit'] = data['Chance of Admit '].apply(lambda x: 1 if x > 0.8 else 0)"
      ]
    },
    {
      "cell_type": "markdown",
      "metadata": {
        "id": "CY4KERF63aAY"
      },
      "source": [
        "Now that we have created a new target variable, we can remove the column - **Chance of Admit** from the dataset. We can also remove the column - **Serial No.** as it would not add any value to our analysis."
      ]
    },
    {
      "cell_type": "code",
      "execution_count": 5,
      "metadata": {
        "colab": {
          "base_uri": "https://localhost:8080/",
          "height": 206
        },
        "id": "XGCid1us3jRJ",
        "outputId": "f055c70d-3c3d-4df5-e68e-3d7bff5dc83f"
      },
      "outputs": [
        {
          "output_type": "execute_result",
          "data": {
            "text/plain": [
              "   GRE Score  TOEFL Score  University Rating  SOP  LOR   CGPA  Research  Admit\n",
              "0        337          118                  4  4.5   4.5  9.65         1      1\n",
              "1        324          107                  4  4.0   4.5  8.87         1      0\n",
              "2        316          104                  3  3.0   3.5  8.00         1      0\n",
              "3        322          110                  3  3.5   2.5  8.67         1      0\n",
              "4        314          103                  2  2.0   3.0  8.21         0      0"
            ],
            "text/html": [
              "\n",
              "  <div id=\"df-db61533d-5237-4e79-834a-09acc9cef74d\">\n",
              "    <div class=\"colab-df-container\">\n",
              "      <div>\n",
              "<style scoped>\n",
              "    .dataframe tbody tr th:only-of-type {\n",
              "        vertical-align: middle;\n",
              "    }\n",
              "\n",
              "    .dataframe tbody tr th {\n",
              "        vertical-align: top;\n",
              "    }\n",
              "\n",
              "    .dataframe thead th {\n",
              "        text-align: right;\n",
              "    }\n",
              "</style>\n",
              "<table border=\"1\" class=\"dataframe\">\n",
              "  <thead>\n",
              "    <tr style=\"text-align: right;\">\n",
              "      <th></th>\n",
              "      <th>GRE Score</th>\n",
              "      <th>TOEFL Score</th>\n",
              "      <th>University Rating</th>\n",
              "      <th>SOP</th>\n",
              "      <th>LOR</th>\n",
              "      <th>CGPA</th>\n",
              "      <th>Research</th>\n",
              "      <th>Admit</th>\n",
              "    </tr>\n",
              "  </thead>\n",
              "  <tbody>\n",
              "    <tr>\n",
              "      <th>0</th>\n",
              "      <td>337</td>\n",
              "      <td>118</td>\n",
              "      <td>4</td>\n",
              "      <td>4.5</td>\n",
              "      <td>4.5</td>\n",
              "      <td>9.65</td>\n",
              "      <td>1</td>\n",
              "      <td>1</td>\n",
              "    </tr>\n",
              "    <tr>\n",
              "      <th>1</th>\n",
              "      <td>324</td>\n",
              "      <td>107</td>\n",
              "      <td>4</td>\n",
              "      <td>4.0</td>\n",
              "      <td>4.5</td>\n",
              "      <td>8.87</td>\n",
              "      <td>1</td>\n",
              "      <td>0</td>\n",
              "    </tr>\n",
              "    <tr>\n",
              "      <th>2</th>\n",
              "      <td>316</td>\n",
              "      <td>104</td>\n",
              "      <td>3</td>\n",
              "      <td>3.0</td>\n",
              "      <td>3.5</td>\n",
              "      <td>8.00</td>\n",
              "      <td>1</td>\n",
              "      <td>0</td>\n",
              "    </tr>\n",
              "    <tr>\n",
              "      <th>3</th>\n",
              "      <td>322</td>\n",
              "      <td>110</td>\n",
              "      <td>3</td>\n",
              "      <td>3.5</td>\n",
              "      <td>2.5</td>\n",
              "      <td>8.67</td>\n",
              "      <td>1</td>\n",
              "      <td>0</td>\n",
              "    </tr>\n",
              "    <tr>\n",
              "      <th>4</th>\n",
              "      <td>314</td>\n",
              "      <td>103</td>\n",
              "      <td>2</td>\n",
              "      <td>2.0</td>\n",
              "      <td>3.0</td>\n",
              "      <td>8.21</td>\n",
              "      <td>0</td>\n",
              "      <td>0</td>\n",
              "    </tr>\n",
              "  </tbody>\n",
              "</table>\n",
              "</div>\n",
              "      <button class=\"colab-df-convert\" onclick=\"convertToInteractive('df-db61533d-5237-4e79-834a-09acc9cef74d')\"\n",
              "              title=\"Convert this dataframe to an interactive table.\"\n",
              "              style=\"display:none;\">\n",
              "        \n",
              "  <svg xmlns=\"http://www.w3.org/2000/svg\" height=\"24px\"viewBox=\"0 0 24 24\"\n",
              "       width=\"24px\">\n",
              "    <path d=\"M0 0h24v24H0V0z\" fill=\"none\"/>\n",
              "    <path d=\"M18.56 5.44l.94 2.06.94-2.06 2.06-.94-2.06-.94-.94-2.06-.94 2.06-2.06.94zm-11 1L8.5 8.5l.94-2.06 2.06-.94-2.06-.94L8.5 2.5l-.94 2.06-2.06.94zm10 10l.94 2.06.94-2.06 2.06-.94-2.06-.94-.94-2.06-.94 2.06-2.06.94z\"/><path d=\"M17.41 7.96l-1.37-1.37c-.4-.4-.92-.59-1.43-.59-.52 0-1.04.2-1.43.59L10.3 9.45l-7.72 7.72c-.78.78-.78 2.05 0 2.83L4 21.41c.39.39.9.59 1.41.59.51 0 1.02-.2 1.41-.59l7.78-7.78 2.81-2.81c.8-.78.8-2.07 0-2.86zM5.41 20L4 18.59l7.72-7.72 1.47 1.35L5.41 20z\"/>\n",
              "  </svg>\n",
              "      </button>\n",
              "      \n",
              "  <style>\n",
              "    .colab-df-container {\n",
              "      display:flex;\n",
              "      flex-wrap:wrap;\n",
              "      gap: 12px;\n",
              "    }\n",
              "\n",
              "    .colab-df-convert {\n",
              "      background-color: #E8F0FE;\n",
              "      border: none;\n",
              "      border-radius: 50%;\n",
              "      cursor: pointer;\n",
              "      display: none;\n",
              "      fill: #1967D2;\n",
              "      height: 32px;\n",
              "      padding: 0 0 0 0;\n",
              "      width: 32px;\n",
              "    }\n",
              "\n",
              "    .colab-df-convert:hover {\n",
              "      background-color: #E2EBFA;\n",
              "      box-shadow: 0px 1px 2px rgba(60, 64, 67, 0.3), 0px 1px 3px 1px rgba(60, 64, 67, 0.15);\n",
              "      fill: #174EA6;\n",
              "    }\n",
              "\n",
              "    [theme=dark] .colab-df-convert {\n",
              "      background-color: #3B4455;\n",
              "      fill: #D2E3FC;\n",
              "    }\n",
              "\n",
              "    [theme=dark] .colab-df-convert:hover {\n",
              "      background-color: #434B5C;\n",
              "      box-shadow: 0px 1px 3px 1px rgba(0, 0, 0, 0.15);\n",
              "      filter: drop-shadow(0px 1px 2px rgba(0, 0, 0, 0.3));\n",
              "      fill: #FFFFFF;\n",
              "    }\n",
              "  </style>\n",
              "\n",
              "      <script>\n",
              "        const buttonEl =\n",
              "          document.querySelector('#df-db61533d-5237-4e79-834a-09acc9cef74d button.colab-df-convert');\n",
              "        buttonEl.style.display =\n",
              "          google.colab.kernel.accessAllowed ? 'block' : 'none';\n",
              "\n",
              "        async function convertToInteractive(key) {\n",
              "          const element = document.querySelector('#df-db61533d-5237-4e79-834a-09acc9cef74d');\n",
              "          const dataTable =\n",
              "            await google.colab.kernel.invokeFunction('convertToInteractive',\n",
              "                                                     [key], {});\n",
              "          if (!dataTable) return;\n",
              "\n",
              "          const docLinkHtml = 'Like what you see? Visit the ' +\n",
              "            '<a target=\"_blank\" href=https://colab.research.google.com/notebooks/data_table.ipynb>data table notebook</a>'\n",
              "            + ' to learn more about interactive tables.';\n",
              "          element.innerHTML = '';\n",
              "          dataTable['output_type'] = 'display_data';\n",
              "          await google.colab.output.renderOutput(dataTable, element);\n",
              "          const docLink = document.createElement('div');\n",
              "          docLink.innerHTML = docLinkHtml;\n",
              "          element.appendChild(docLink);\n",
              "        }\n",
              "      </script>\n",
              "    </div>\n",
              "  </div>\n",
              "  "
            ]
          },
          "metadata": {},
          "execution_count": 5
        }
      ],
      "source": [
        "# Dropping columns\n",
        "data = data.drop(['Serial No.', 'Chance of Admit '], axis=1)\n",
        "data.head()"
      ]
    },
    {
      "cell_type": "markdown",
      "source": [
        "## **Exploratory Data Analysis**"
      ],
      "metadata": {
        "id": "x5hMhtRugy5K"
      }
    },
    {
      "cell_type": "markdown",
      "metadata": {
        "id": "VxPbTdpkC-ax"
      },
      "source": [
        "**Let's check the info of the data**"
      ]
    },
    {
      "cell_type": "code",
      "execution_count": 6,
      "metadata": {
        "colab": {
          "base_uri": "https://localhost:8080/"
        },
        "id": "Y5wPX0lb3wRU",
        "outputId": "706a2bd0-83a0-4988-b98d-f223c8e53fb1"
      },
      "outputs": [
        {
          "output_type": "stream",
          "name": "stdout",
          "text": [
            "<class 'pandas.core.frame.DataFrame'>\n",
            "RangeIndex: 500 entries, 0 to 499\n",
            "Data columns (total 8 columns):\n",
            " #   Column             Non-Null Count  Dtype  \n",
            "---  ------             --------------  -----  \n",
            " 0   GRE Score          500 non-null    int64  \n",
            " 1   TOEFL Score        500 non-null    int64  \n",
            " 2   University Rating  500 non-null    int64  \n",
            " 3   SOP                500 non-null    float64\n",
            " 4   LOR                500 non-null    float64\n",
            " 5   CGPA               500 non-null    float64\n",
            " 6   Research           500 non-null    int64  \n",
            " 7   Admit              500 non-null    int64  \n",
            "dtypes: float64(3), int64(5)\n",
            "memory usage: 31.4 KB\n"
          ]
        }
      ],
      "source": [
        "# Let's check the info of the data\n",
        "data.info()"
      ]
    },
    {
      "cell_type": "markdown",
      "metadata": {
        "id": "cBQS9b56DC2_"
      },
      "source": [
        "**Observations:**\n",
        "\n",
        "- There are **500 observations and 8 columns** in the data.\n",
        "- All the columns are of **numeric data** type.\n",
        "- There are **no missing values** in the data."
      ]
    },
    {
      "cell_type": "markdown",
      "source": [
        "### **Summary Statistics**"
      ],
      "metadata": {
        "id": "kd8maHDRg423"
      }
    },
    {
      "cell_type": "code",
      "execution_count": 7,
      "metadata": {
        "colab": {
          "base_uri": "https://localhost:8080/",
          "height": 300
        },
        "id": "WpdM4iC0DwPJ",
        "outputId": "5cf70c38-ad53-4a68-913c-3cf5390358f5"
      },
      "outputs": [
        {
          "output_type": "execute_result",
          "data": {
            "text/plain": [
              "                   count       mean        std    min       25%     50%  \\\n",
              "GRE Score          500.0  316.47200  11.295148  290.0  308.0000  317.00   \n",
              "TOEFL Score        500.0  107.19200   6.081868   92.0  103.0000  107.00   \n",
              "University Rating  500.0    3.11400   1.143512    1.0    2.0000    3.00   \n",
              "SOP                500.0    3.37400   0.991004    1.0    2.5000    3.50   \n",
              "LOR                500.0    3.48400   0.925450    1.0    3.0000    3.50   \n",
              "CGPA               500.0    8.57644   0.604813    6.8    8.1275    8.56   \n",
              "Research           500.0    0.56000   0.496884    0.0    0.0000    1.00   \n",
              "Admit              500.0    0.28400   0.451388    0.0    0.0000    0.00   \n",
              "\n",
              "                      75%     max  \n",
              "GRE Score          325.00  340.00  \n",
              "TOEFL Score        112.00  120.00  \n",
              "University Rating    4.00    5.00  \n",
              "SOP                  4.00    5.00  \n",
              "LOR                  4.00    5.00  \n",
              "CGPA                 9.04    9.92  \n",
              "Research             1.00    1.00  \n",
              "Admit                1.00    1.00  "
            ],
            "text/html": [
              "\n",
              "  <div id=\"df-6b70322a-ca2d-4430-8a12-e40f7ebf461d\">\n",
              "    <div class=\"colab-df-container\">\n",
              "      <div>\n",
              "<style scoped>\n",
              "    .dataframe tbody tr th:only-of-type {\n",
              "        vertical-align: middle;\n",
              "    }\n",
              "\n",
              "    .dataframe tbody tr th {\n",
              "        vertical-align: top;\n",
              "    }\n",
              "\n",
              "    .dataframe thead th {\n",
              "        text-align: right;\n",
              "    }\n",
              "</style>\n",
              "<table border=\"1\" class=\"dataframe\">\n",
              "  <thead>\n",
              "    <tr style=\"text-align: right;\">\n",
              "      <th></th>\n",
              "      <th>count</th>\n",
              "      <th>mean</th>\n",
              "      <th>std</th>\n",
              "      <th>min</th>\n",
              "      <th>25%</th>\n",
              "      <th>50%</th>\n",
              "      <th>75%</th>\n",
              "      <th>max</th>\n",
              "    </tr>\n",
              "  </thead>\n",
              "  <tbody>\n",
              "    <tr>\n",
              "      <th>GRE Score</th>\n",
              "      <td>500.0</td>\n",
              "      <td>316.47200</td>\n",
              "      <td>11.295148</td>\n",
              "      <td>290.0</td>\n",
              "      <td>308.0000</td>\n",
              "      <td>317.00</td>\n",
              "      <td>325.00</td>\n",
              "      <td>340.00</td>\n",
              "    </tr>\n",
              "    <tr>\n",
              "      <th>TOEFL Score</th>\n",
              "      <td>500.0</td>\n",
              "      <td>107.19200</td>\n",
              "      <td>6.081868</td>\n",
              "      <td>92.0</td>\n",
              "      <td>103.0000</td>\n",
              "      <td>107.00</td>\n",
              "      <td>112.00</td>\n",
              "      <td>120.00</td>\n",
              "    </tr>\n",
              "    <tr>\n",
              "      <th>University Rating</th>\n",
              "      <td>500.0</td>\n",
              "      <td>3.11400</td>\n",
              "      <td>1.143512</td>\n",
              "      <td>1.0</td>\n",
              "      <td>2.0000</td>\n",
              "      <td>3.00</td>\n",
              "      <td>4.00</td>\n",
              "      <td>5.00</td>\n",
              "    </tr>\n",
              "    <tr>\n",
              "      <th>SOP</th>\n",
              "      <td>500.0</td>\n",
              "      <td>3.37400</td>\n",
              "      <td>0.991004</td>\n",
              "      <td>1.0</td>\n",
              "      <td>2.5000</td>\n",
              "      <td>3.50</td>\n",
              "      <td>4.00</td>\n",
              "      <td>5.00</td>\n",
              "    </tr>\n",
              "    <tr>\n",
              "      <th>LOR</th>\n",
              "      <td>500.0</td>\n",
              "      <td>3.48400</td>\n",
              "      <td>0.925450</td>\n",
              "      <td>1.0</td>\n",
              "      <td>3.0000</td>\n",
              "      <td>3.50</td>\n",
              "      <td>4.00</td>\n",
              "      <td>5.00</td>\n",
              "    </tr>\n",
              "    <tr>\n",
              "      <th>CGPA</th>\n",
              "      <td>500.0</td>\n",
              "      <td>8.57644</td>\n",
              "      <td>0.604813</td>\n",
              "      <td>6.8</td>\n",
              "      <td>8.1275</td>\n",
              "      <td>8.56</td>\n",
              "      <td>9.04</td>\n",
              "      <td>9.92</td>\n",
              "    </tr>\n",
              "    <tr>\n",
              "      <th>Research</th>\n",
              "      <td>500.0</td>\n",
              "      <td>0.56000</td>\n",
              "      <td>0.496884</td>\n",
              "      <td>0.0</td>\n",
              "      <td>0.0000</td>\n",
              "      <td>1.00</td>\n",
              "      <td>1.00</td>\n",
              "      <td>1.00</td>\n",
              "    </tr>\n",
              "    <tr>\n",
              "      <th>Admit</th>\n",
              "      <td>500.0</td>\n",
              "      <td>0.28400</td>\n",
              "      <td>0.451388</td>\n",
              "      <td>0.0</td>\n",
              "      <td>0.0000</td>\n",
              "      <td>0.00</td>\n",
              "      <td>1.00</td>\n",
              "      <td>1.00</td>\n",
              "    </tr>\n",
              "  </tbody>\n",
              "</table>\n",
              "</div>\n",
              "      <button class=\"colab-df-convert\" onclick=\"convertToInteractive('df-6b70322a-ca2d-4430-8a12-e40f7ebf461d')\"\n",
              "              title=\"Convert this dataframe to an interactive table.\"\n",
              "              style=\"display:none;\">\n",
              "        \n",
              "  <svg xmlns=\"http://www.w3.org/2000/svg\" height=\"24px\"viewBox=\"0 0 24 24\"\n",
              "       width=\"24px\">\n",
              "    <path d=\"M0 0h24v24H0V0z\" fill=\"none\"/>\n",
              "    <path d=\"M18.56 5.44l.94 2.06.94-2.06 2.06-.94-2.06-.94-.94-2.06-.94 2.06-2.06.94zm-11 1L8.5 8.5l.94-2.06 2.06-.94-2.06-.94L8.5 2.5l-.94 2.06-2.06.94zm10 10l.94 2.06.94-2.06 2.06-.94-2.06-.94-.94-2.06-.94 2.06-2.06.94z\"/><path d=\"M17.41 7.96l-1.37-1.37c-.4-.4-.92-.59-1.43-.59-.52 0-1.04.2-1.43.59L10.3 9.45l-7.72 7.72c-.78.78-.78 2.05 0 2.83L4 21.41c.39.39.9.59 1.41.59.51 0 1.02-.2 1.41-.59l7.78-7.78 2.81-2.81c.8-.78.8-2.07 0-2.86zM5.41 20L4 18.59l7.72-7.72 1.47 1.35L5.41 20z\"/>\n",
              "  </svg>\n",
              "      </button>\n",
              "      \n",
              "  <style>\n",
              "    .colab-df-container {\n",
              "      display:flex;\n",
              "      flex-wrap:wrap;\n",
              "      gap: 12px;\n",
              "    }\n",
              "\n",
              "    .colab-df-convert {\n",
              "      background-color: #E8F0FE;\n",
              "      border: none;\n",
              "      border-radius: 50%;\n",
              "      cursor: pointer;\n",
              "      display: none;\n",
              "      fill: #1967D2;\n",
              "      height: 32px;\n",
              "      padding: 0 0 0 0;\n",
              "      width: 32px;\n",
              "    }\n",
              "\n",
              "    .colab-df-convert:hover {\n",
              "      background-color: #E2EBFA;\n",
              "      box-shadow: 0px 1px 2px rgba(60, 64, 67, 0.3), 0px 1px 3px 1px rgba(60, 64, 67, 0.15);\n",
              "      fill: #174EA6;\n",
              "    }\n",
              "\n",
              "    [theme=dark] .colab-df-convert {\n",
              "      background-color: #3B4455;\n",
              "      fill: #D2E3FC;\n",
              "    }\n",
              "\n",
              "    [theme=dark] .colab-df-convert:hover {\n",
              "      background-color: #434B5C;\n",
              "      box-shadow: 0px 1px 3px 1px rgba(0, 0, 0, 0.15);\n",
              "      filter: drop-shadow(0px 1px 2px rgba(0, 0, 0, 0.3));\n",
              "      fill: #FFFFFF;\n",
              "    }\n",
              "  </style>\n",
              "\n",
              "      <script>\n",
              "        const buttonEl =\n",
              "          document.querySelector('#df-6b70322a-ca2d-4430-8a12-e40f7ebf461d button.colab-df-convert');\n",
              "        buttonEl.style.display =\n",
              "          google.colab.kernel.accessAllowed ? 'block' : 'none';\n",
              "\n",
              "        async function convertToInteractive(key) {\n",
              "          const element = document.querySelector('#df-6b70322a-ca2d-4430-8a12-e40f7ebf461d');\n",
              "          const dataTable =\n",
              "            await google.colab.kernel.invokeFunction('convertToInteractive',\n",
              "                                                     [key], {});\n",
              "          if (!dataTable) return;\n",
              "\n",
              "          const docLinkHtml = 'Like what you see? Visit the ' +\n",
              "            '<a target=\"_blank\" href=https://colab.research.google.com/notebooks/data_table.ipynb>data table notebook</a>'\n",
              "            + ' to learn more about interactive tables.';\n",
              "          element.innerHTML = '';\n",
              "          dataTable['output_type'] = 'display_data';\n",
              "          await google.colab.output.renderOutput(dataTable, element);\n",
              "          const docLink = document.createElement('div');\n",
              "          docLink.innerHTML = docLinkHtml;\n",
              "          element.appendChild(docLink);\n",
              "        }\n",
              "      </script>\n",
              "    </div>\n",
              "  </div>\n",
              "  "
            ]
          },
          "metadata": {},
          "execution_count": 7
        }
      ],
      "source": [
        "# Let's check the summary statistics of the data\n",
        "data.describe().T"
      ]
    },
    {
      "cell_type": "markdown",
      "metadata": {
        "id": "Dwro2RclD222"
      },
      "source": [
        "**Observations:**\n",
        "\n",
        "- The average GRE score of students applying for UCLA is ~316 out of 340. Some students scored full marks on GRE. \n",
        "-  The average TOEFL score of students applying for UCLA is ~107 out of 120. Some students scored full marks on TOEFL.\n",
        "- There are students with all kinds of ratings for bachelor's University, SOP, and LOR - ratings ranging from 1 to 5.\n",
        "-  The average CGPA of students applying for UCLA is 8.57.\n",
        "- Majority of students (~56%) have research experience.\n",
        "- As per our assumption, on average 28.4% of students would get admission to UCLA."
      ]
    },
    {
      "cell_type": "markdown",
      "metadata": {
        "id": "fhotGVGD4hgT"
      },
      "source": [
        "### **Let's visualize the dataset to see some patterns**"
      ]
    },
    {
      "cell_type": "code",
      "execution_count": 8,
      "metadata": {
        "colab": {
          "base_uri": "https://localhost:8080/",
          "height": 696
        },
        "id": "vwTqs3205Zk6",
        "outputId": "6e6d0c06-51c1-465d-8bb7-009435a2bd4e"
      },
      "outputs": [
        {
          "output_type": "display_data",
          "data": {
            "text/plain": [
              "<Figure size 1500x800 with 1 Axes>"
            ],
            "image/png": "[encoded data removed]"
          },
          "metadata": {}
        }
      ],
      "source": [
        "plt.figure(figsize=(15,8))\n",
        "sns.scatterplot(data=data, \n",
        "           x='GRE Score', \n",
        "           y='TOEFL Score', \n",
        "           hue='Admit',\n",
        "           size='SOP');"
      ]
    },
    {
      "cell_type": "markdown",
      "metadata": {
        "id": "csxwJUu4Kmj4"
      },
      "source": [
        "**Observations:** \n",
        "\n",
        "- There is a linear relationship between GRE and TOEFL scores. This implies that students scoring high one of them would score high in the other as well.\n",
        "- With the increase in GRE and TOEFL scores, the strength of SOP increases. \n",
        "- We can see a distinction between students who were admitted (denoted by orange) vs those who were not admitted (denoted by blue). We can see that majority of students who were admitted have GRE score greater than 320, TOEFL score greater than 105, and SOP of 4 or higher."
      ]
    },
    {
      "cell_type": "code",
      "execution_count": 9,
      "metadata": {
        "colab": {
          "base_uri": "https://localhost:8080/",
          "height": 641
        },
        "id": "cEOrIzXp4m4L",
        "outputId": "c83c5484-5cb3-426e-ea5f-c7d630f905eb"
      },
      "outputs": [
        {
          "output_type": "display_data",
          "data": {
            "text/plain": [
              "<Figure size 1000x700 with 1 Axes>"
            ],
            "image/png": "[encoded data removed]"
          },
          "metadata": {}
        }
      ],
      "source": [
        "plt.figure(figsize=(10,7))\n",
        "sns.boxplot(data=data,\n",
        "             x='University Rating', \n",
        "             y='CGPA',\n",
        "             hue='Admit')\n",
        "plt.title('Relationship between different University Rating and CGPA')\n",
        "plt.show()"
      ]
    },
    {
      "cell_type": "markdown",
      "metadata": {
        "id": "qphs_7DPMb05"
      },
      "source": [
        "**Observations:** \n",
        "\n",
        "- We can see that, with increasing university ratings, the CGPA is also increasing, and also the chances of getting admitted to UCLA have increased.\n",
        "- The CGPA of students getting admission to UCLA is higher as compared to students not getting admission to UCLA which makes sense."
      ]
    },
    {
      "cell_type": "markdown",
      "metadata": {
        "id": "ZZP_r2sD7B0P"
      },
      "source": [
        "## **Data Preparation**"
      ]
    },
    {
      "cell_type": "markdown",
      "metadata": {
        "id": "5N2uA8r4MwX6"
      },
      "source": [
        "This dataset contains both numerical and categorical variables. We need to treat them first before we pass them onto the neural network. We will perform the below pre-processing steps: \n",
        "*   One hot encoding of categorical variables\n",
        "*   Scaling numerical variables\n",
        "\n",
        "An important point to remember: Before we scale numerical variables, we would first split the dataset into train and test datasets and perform scaling separately. Otherwise, we would be leaking information from the test data to the train data and the resulting model might give a false sense of good performance. This is known as **data leakage** which we would like to avoid."
      ]
    },
    {
      "cell_type": "markdown",
      "metadata": {
        "id": "8kYCXX6UN7rE"
      },
      "source": [
        "In this dataset, although the variable **University Rating** is encoded as a numerical variable. **University Rating** is denoting or signifying the quality of the university, so that is why this is a categorical variable and we would be creating one-hot encoding or dummy variables for this variable."
      ]
    },
    {
      "cell_type": "code",
      "execution_count": 10,
      "metadata": {
        "colab": {
          "base_uri": "https://localhost:8080/",
          "height": 268
        },
        "id": "FHbuFLR-7EeE",
        "outputId": "dcb63b7c-ebd8-42f4-f01b-56ed6066daad"
      },
      "outputs": [
        {
          "output_type": "execute_result",
          "data": {
            "text/plain": [
              "   GRE Score  TOEFL Score  SOP  LOR   CGPA  Research  Admit  \\\n",
              "0        337          118  4.5   4.5  9.65         1      1   \n",
              "1        324          107  4.0   4.5  8.87         1      0   \n",
              "2        316          104  3.0   3.5  8.00         1      0   \n",
              "3        322          110  3.5   2.5  8.67         1      0   \n",
              "4        314          103  2.0   3.0  8.21         0      0   \n",
              "\n",
              "   University Rating_1  University Rating_2  University Rating_3  \\\n",
              "0                    0                    0                    0   \n",
              "1                    0                    0                    0   \n",
              "2                    0                    0                    1   \n",
              "3                    0                    0                    1   \n",
              "4                    0                    1                    0   \n",
              "\n",
              "   University Rating_4  University Rating_5  \n",
              "0                    1                    0  \n",
              "1                    1                    0  \n",
              "2                    0                    0  \n",
              "3                    0                    0  \n",
              "4                    0                    0  "
            ],
            "text/html": [
              "\n",
              "  <div id=\"df-edded437-c484-4cbc-92a3-2cd4f12b8bbc\">\n",
              "    <div class=\"colab-df-container\">\n",
              "      <div>\n",
              "<style scoped>\n",
              "    .dataframe tbody tr th:only-of-type {\n",
              "        vertical-align: middle;\n",
              "    }\n",
              "\n",
              "    .dataframe tbody tr th {\n",
              "        vertical-align: top;\n",
              "    }\n",
              "\n",
              "    .dataframe thead th {\n",
              "        text-align: right;\n",
              "    }\n",
              "</style>\n",
              "<table border=\"1\" class=\"dataframe\">\n",
              "  <thead>\n",
              "    <tr style=\"text-align: right;\">\n",
              "      <th></th>\n",
              "      <th>GRE Score</th>\n",
              "      <th>TOEFL Score</th>\n",
              "      <th>SOP</th>\n",
              "      <th>LOR</th>\n",
              "      <th>CGPA</th>\n",
              "      <th>Research</th>\n",
              "      <th>Admit</th>\n",
              "      <th>University Rating_1</th>\n",
              "      <th>University Rating_2</th>\n",
              "      <th>University Rating_3</th>\n",
              "      <th>University Rating_4</th>\n",
              "      <th>University Rating_5</th>\n",
              "    </tr>\n",
              "  </thead>\n",
              "  <tbody>\n",
              "    <tr>\n",
              "      <th>0</th>\n",
              "      <td>337</td>\n",
              "      <td>118</td>\n",
              "      <td>4.5</td>\n",
              "      <td>4.5</td>\n",
              "      <td>9.65</td>\n",
              "      <td>1</td>\n",
              "      <td>1</td>\n",
              "      <td>0</td>\n",
              "      <td>0</td>\n",
              "      <td>0</td>\n",
              "      <td>1</td>\n",
              "      <td>0</td>\n",
              "    </tr>\n",
              "    <tr>\n",
              "      <th>1</th>\n",
              "      <td>324</td>\n",
              "      <td>107</td>\n",
              "      <td>4.0</td>\n",
              "      <td>4.5</td>\n",
              "      <td>8.87</td>\n",
              "      <td>1</td>\n",
              "      <td>0</td>\n",
              "      <td>0</td>\n",
              "      <td>0</td>\n",
              "      <td>0</td>\n",
              "      <td>1</td>\n",
              "      <td>0</td>\n",
              "    </tr>\n",
              "    <tr>\n",
              "      <th>2</th>\n",
              "      <td>316</td>\n",
              "      <td>104</td>\n",
              "      <td>3.0</td>\n",
              "      <td>3.5</td>\n",
              "      <td>8.00</td>\n",
              "      <td>1</td>\n",
              "      <td>0</td>\n",
              "      <td>0</td>\n",
              "      <td>0</td>\n",
              "      <td>1</td>\n",
              "      <td>0</td>\n",
              "      <td>0</td>\n",
              "    </tr>\n",
              "    <tr>\n",
              "      <th>3</th>\n",
              "      <td>322</td>\n",
              "      <td>110</td>\n",
              "      <td>3.5</td>\n",
              "      <td>2.5</td>\n",
              "      <td>8.67</td>\n",
              "      <td>1</td>\n",
              "      <td>0</td>\n",
              "      <td>0</td>\n",
              "      <td>0</td>\n",
              "      <td>1</td>\n",
              "      <td>0</td>\n",
              "      <td>0</td>\n",
              "    </tr>\n",
              "    <tr>\n",
              "      <th>4</th>\n",
              "      <td>314</td>\n",
              "      <td>103</td>\n",
              "      <td>2.0</td>\n",
              "      <td>3.0</td>\n",
              "      <td>8.21</td>\n",
              "      <td>0</td>\n",
              "      <td>0</td>\n",
              "      <td>0</td>\n",
              "      <td>1</td>\n",
              "      <td>0</td>\n",
              "      <td>0</td>\n",
              "      <td>0</td>\n",
              "    </tr>\n",
              "  </tbody>\n",
              "</table>\n",
              "</div>\n",
              "      <button class=\"colab-df-convert\" onclick=\"convertToInteractive('df-edded437-c484-4cbc-92a3-2cd4f12b8bbc')\"\n",
              "              title=\"Convert this dataframe to an interactive table.\"\n",
              "              style=\"display:none;\">\n",
              "        \n",
              "  <svg xmlns=\"http://www.w3.org/2000/svg\" height=\"24px\"viewBox=\"0 0 24 24\"\n",
              "       width=\"24px\">\n",
              "    <path d=\"M0 0h24v24H0V0z\" fill=\"none\"/>\n",
              "    <path d=\"M18.56 5.44l.94 2.06.94-2.06 2.06-.94-2.06-.94-.94-2.06-.94 2.06-2.06.94zm-11 1L8.5 8.5l.94-2.06 2.06-.94-2.06-.94L8.5 2.5l-.94 2.06-2.06.94zm10 10l.94 2.06.94-2.06 2.06-.94-2.06-.94-.94-2.06-.94 2.06-2.06.94z\"/><path d=\"M17.41 7.96l-1.37-1.37c-.4-.4-.92-.59-1.43-.59-.52 0-1.04.2-1.43.59L10.3 9.45l-7.72 7.72c-.78.78-.78 2.05 0 2.83L4 21.41c.39.39.9.59 1.41.59.51 0 1.02-.2 1.41-.59l7.78-7.78 2.81-2.81c.8-.78.8-2.07 0-2.86zM5.41 20L4 18.59l7.72-7.72 1.47 1.35L5.41 20z\"/>\n",
              "  </svg>\n",
              "      </button>\n",
              "      \n",
              "  <style>\n",
              "    .colab-df-container {\n",
              "      display:flex;\n",
              "      flex-wrap:wrap;\n",
              "      gap: 12px;\n",
              "    }\n",
              "\n",
              "    .colab-df-convert {\n",
              "      background-color: #E8F0FE;\n",
              "      border: none;\n",
              "      border-radius: 50%;\n",
              "      cursor: pointer;\n",
              "      display: none;\n",
              "      fill: #1967D2;\n",
              "      height: 32px;\n",
              "      padding: 0 0 0 0;\n",
              "      width: 32px;\n",
              "    }\n",
              "\n",
              "    .colab-df-convert:hover {\n",
              "      background-color: #E2EBFA;\n",
              "      box-shadow: 0px 1px 2px rgba(60, 64, 67, 0.3), 0px 1px 3px 1px rgba(60, 64, 67, 0.15);\n",
              "      fill: #174EA6;\n",
              "    }\n",
              "\n",
              "    [theme=dark] .colab-df-convert {\n",
              "      background-color: #3B4455;\n",
              "      fill: #D2E3FC;\n",
              "    }\n",
              "\n",
              "    [theme=dark] .colab-df-convert:hover {\n",
              "      background-color: #434B5C;\n",
              "      box-shadow: 0px 1px 3px 1px rgba(0, 0, 0, 0.15);\n",
              "      filter: drop-shadow(0px 1px 2px rgba(0, 0, 0, 0.3));\n",
              "      fill: #FFFFFF;\n",
              "    }\n",
              "  </style>\n",
              "\n",
              "      <script>\n",
              "        const buttonEl =\n",
              "          document.querySelector('#df-edded437-c484-4cbc-92a3-2cd4f12b8bbc button.colab-df-convert');\n",
              "        buttonEl.style.display =\n",
              "          google.colab.kernel.accessAllowed ? 'block' : 'none';\n",
              "\n",
              "        async function convertToInteractive(key) {\n",
              "          const element = document.querySelector('#df-edded437-c484-4cbc-92a3-2cd4f12b8bbc');\n",
              "          const dataTable =\n",
              "            await google.colab.kernel.invokeFunction('convertToInteractive',\n",
              "                                                     [key], {});\n",
              "          if (!dataTable) return;\n",
              "\n",
              "          const docLinkHtml = 'Like what you see? Visit the ' +\n",
              "            '<a target=\"_blank\" href=https://colab.research.google.com/notebooks/data_table.ipynb>data table notebook</a>'\n",
              "            + ' to learn more about interactive tables.';\n",
              "          element.innerHTML = '';\n",
              "          dataTable['output_type'] = 'display_data';\n",
              "          await google.colab.output.renderOutput(dataTable, element);\n",
              "          const docLink = document.createElement('div');\n",
              "          docLink.innerHTML = docLinkHtml;\n",
              "          element.appendChild(docLink);\n",
              "        }\n",
              "      </script>\n",
              "    </div>\n",
              "  </div>\n",
              "  "
            ]
          },
          "metadata": {},
          "execution_count": 10
        }
      ],
      "source": [
        "# Creating one hot encoding for the column - University Rating and then dropping University Rating\n",
        "one_hot_data = pd.concat([data, pd.get_dummies(data['University Rating'], prefix = 'University Rating')], axis=1)\n",
        "\n",
        "one_hot_data = one_hot_data.drop(columns = 'University Rating')\n",
        "\n",
        "one_hot_data.head()"
      ]
    },
    {
      "cell_type": "markdown",
      "metadata": {
        "id": "M3O6DOWXOWkn"
      },
      "source": [
        "Now, let's split the dataset into train and test datasets. To do that, we would be extracting all the **independent variables** and save them into a variable **features**. And the target variable **Admit** would be saved into a variable **target**. These two variables will be used to split the parent dataset into train and test datasets."
      ]
    },
    {
      "cell_type": "code",
      "execution_count": 11,
      "metadata": {
        "id": "7MQ2juQB8IuT"
      },
      "outputs": [],
      "source": [
        "features = one_hot_data.drop(['Admit'], axis=1)\n",
        "\n",
        "target = one_hot_data['Admit']"
      ]
    },
    {
      "cell_type": "markdown",
      "metadata": {
        "id": "NuYQ0t2WcBLG"
      },
      "source": [
        "The size of the dataset is small and the Keras implementation provides an argument for selecting some percentage of training data as validation data to check the accuracy of the model. Therefore, we will split the data into an 80:20 ratio."
      ]
    },
    {
      "cell_type": "code",
      "execution_count": 12,
      "metadata": {
        "id": "I8fE8aF_7hJY"
      },
      "outputs": [],
      "source": [
        "# Splitting the dataset into train and test data\n",
        "X_train, X_test, y_train, y_test =  train_test_split(features, target, test_size=0.2, random_state=42)"
      ]
    },
    {
      "cell_type": "markdown",
      "metadata": {
        "id": "U883DzGZOwpp"
      },
      "source": [
        "Now, we will perform scaling on the numerical variables separately for train and test sets. We will perform **fit** and **transform** on the train data and then only we will perform **transform** on the test data. "
      ]
    },
    {
      "cell_type": "code",
      "execution_count": 13,
      "metadata": {
        "id": "mVdTFnkb8dfQ"
      },
      "outputs": [],
      "source": [
        "scaler = MinMaxScaler()\n",
        "\n",
        "# Here, we are passing all the features (numerical and categorical), that's okay as min-max scaler will not change values of categorical variables\n",
        "X_train_normalized = scaler.fit_transform(X_train)"
      ]
    },
    {
      "cell_type": "code",
      "execution_count": 14,
      "metadata": {
        "id": "2VLYxAVu953T"
      },
      "outputs": [],
      "source": [
        "X_test_normalized = scaler.transform(X_test)"
      ]
    },
    {
      "cell_type": "markdown",
      "metadata": {
        "id": "X7VT_t5f9bwR"
      },
      "source": [
        "## **Model Building**"
      ]
    },
    {
      "cell_type": "markdown",
      "metadata": {
        "id": "hbltijMlPVVP"
      },
      "source": [
        "In neural networks, there are so many hyper-parameters that you can play around with and tune the network to get the best results. Some of them are - \n",
        "\n",
        "\n",
        "\n",
        "1.   Number of hidden layers\n",
        "2.   Number of neurons in each hidden layer\n",
        "3.   Activation functions in hidden layers\n",
        "4.   Optimizers\n",
        "5.   Random initialization of weights and biases\n",
        "6.   Batch size\n",
        "7.   Learning rate\n",
        "8.   Early stopping\n",
        "9.   L1 and L2 Regularization\n",
        "10.  Dropout\n",
        "11.  Momentum\n",
        "\n",
        "and so on..."
      ]
    },
    {
      "cell_type": "markdown",
      "metadata": {
        "id": "9YFaopNE_lpw"
      },
      "source": [
        "First, let's set the seed for random number generators in NumPy, Python, and TensorFlow to be able to reproduce the same results everytime we run the code."
      ]
    },
    {
      "cell_type": "code",
      "execution_count": 15,
      "metadata": {
        "id": "VTVs7lmH_hXx"
      },
      "outputs": [],
      "source": [
        "# Fixing the seed for random number generators\n",
        "np.random.seed(42)\n",
        "\n",
        "import random\n",
        "random.seed(42)\n",
        "\n",
        "tf.random.set_seed(42)"
      ]
    },
    {
      "cell_type": "markdown",
      "metadata": {
        "id": "tLsxcmgPQ_cG"
      },
      "source": [
        "**Let's build a feed forward neural network with 2 hidden layers and the output layer.**"
      ]
    },
    {
      "cell_type": "code",
      "execution_count": 16,
      "metadata": {
        "id": "ytCsjy93BKbK"
      },
      "outputs": [],
      "source": [
        "# We will be adding the layers sequentially\n",
        "model_1 = Sequential()\n",
        "\n",
        "# First hidden layer with 128 neurons and relu activation function, the input shape tuple denotes number of independent variables\n",
        "model_1.add(Dense(128, activation='relu', input_shape=(11,)))\n",
        "\n",
        "# We will be switching 20% of neurons off randomly at each iteration to avoid overfitting\n",
        "model_1.add(Dropout(0.2))\n",
        "\n",
        "# Second hidden layer with 64 neurons and relu activation function\n",
        "model_1.add(Dense(64, activation='relu'))\n",
        "\n",
        "# We will be switching 10% of neurons off randomly at each iteration to avoid overfitting\n",
        "model_1.add(Dropout(0.1))\n",
        "\n",
        "# Output layer with only one neuron and sigmoid as activation function will give the probability of students getting admitted into UCLA  \n",
        "model_1.add(Dense(1, activation='sigmoid'))"
      ]
    },
    {
      "cell_type": "markdown",
      "metadata": {
        "id": "FvBhQn8ZR_HW"
      },
      "source": [
        "Once we are done with the model architecture, we need to compile the model, where we need to provide the loss function that we want to optimize, the optimization algorithm, and the evaluation metric that we are interested in to evaluate the model."
      ]
    },
    {
      "cell_type": "markdown",
      "metadata": {
        "id": "GAP99treSW_4"
      },
      "source": [
        "Since this is a binary classification task, we will be minimizing the **binary_crossentropy** and we can choose one optimizer out of \n",
        "1.   SGD\n",
        "2.   RMSprop\n",
        "3.   Adam\n",
        "4.   Adadelta\n",
        "5.   Adagrad\n",
        "6.   Adamax\n",
        "7.   Nadam\n",
        "8.   Ftrl\n",
        "\n",
        "This is a hyper-parameter. You can play around with these optimizers to check which one performs better with a particular data.\n",
        "\n",
        "For now, let's try **adamax** optimizer with **accuracy** as the metric and see the model's summary."
      ]
    },
    {
      "cell_type": "code",
      "execution_count": 17,
      "metadata": {
        "colab": {
          "base_uri": "https://localhost:8080/"
        },
        "id": "2REFSaSx9RBi",
        "outputId": "7d4ca7c0-6380-45bd-9a86-2e8e3b37dc22"
      },
      "outputs": [
        {
          "output_type": "stream",
          "name": "stdout",
          "text": [
            "Model: \"sequential\"\n",
            "_________________________________________________________________\n",
            " Layer (type)                Output Shape              Param #   \n",
            "=================================================================\n",
            " dense (Dense)               (None, 128)               1536      \n",
            "                                                                 \n",
            " dropout (Dropout)           (None, 128)               0         \n",
            "                                                                 \n",
            " dense_1 (Dense)             (None, 64)                8256      \n",
            "                                                                 \n",
            " dropout_1 (Dropout)         (None, 64)                0         \n",
            "                                                                 \n",
            " dense_2 (Dense)             (None, 1)                 65        \n",
            "                                                                 \n",
            "=================================================================\n",
            "Total params: 9,857\n",
            "Trainable params: 9,857\n",
            "Non-trainable params: 0\n",
            "_________________________________________________________________\n"
          ]
        }
      ],
      "source": [
        "model_1.compile(loss = 'binary_crossentropy', optimizer='adamax', metrics=['accuracy'])\n",
        "\n",
        "model_1.summary()"
      ]
    },
    {
      "cell_type": "markdown",
      "metadata": {
        "id": "C7W9EYZnTP1P"
      },
      "source": [
        "From the above summary, we can see that this architecture will train a total of **9,857** parameters i.e. weights and biases in the network."
      ]
    },
    {
      "cell_type": "markdown",
      "metadata": {
        "id": "4N6XAn6mA_BD"
      },
      "source": [
        "### **Training the model**"
      ]
    },
    {
      "cell_type": "markdown",
      "metadata": {
        "id": "hmZ5ZSIlUSVH"
      },
      "source": [
        "Let's now train the model using the below piece of code. We will keep the 10% of the training data for validation."
      ]
    },
    {
      "cell_type": "code",
      "execution_count": 18,
      "metadata": {
        "colab": {
          "base_uri": "https://localhost:8080/"
        },
        "id": "hkeCQ_K99nob",
        "outputId": "dc4bd124-3e30-4472-addc-dfb3085e7869"
      },
      "outputs": [
        {
          "output_type": "stream",
          "name": "stdout",
          "text": [
            "Epoch 1/150\n",
            "12/12 - 6s - loss: 0.6542 - accuracy: 0.6639 - val_loss: 0.6546 - val_accuracy: 0.5750 - 6s/epoch - 525ms/step\n",
            "Epoch 2/150\n",
            "12/12 - 0s - loss: 0.5893 - accuracy: 0.7306 - val_loss: 0.6212 - val_accuracy: 0.5750 - 64ms/epoch - 5ms/step\n",
            "Epoch 3/150\n",
            "12/12 - 0s - loss: 0.5492 - accuracy: 0.7333 - val_loss: 0.5885 - val_accuracy: 0.5750 - 72ms/epoch - 6ms/step\n",
            "Epoch 4/150\n",
            "12/12 - 0s - loss: 0.5131 - accuracy: 0.7417 - val_loss: 0.5413 - val_accuracy: 0.7500 - 70ms/epoch - 6ms/step\n",
            "Epoch 5/150\n",
            "12/12 - 0s - loss: 0.4815 - accuracy: 0.7861 - val_loss: 0.4917 - val_accuracy: 0.8250 - 66ms/epoch - 5ms/step\n",
            "Epoch 6/150\n",
            "12/12 - 0s - loss: 0.4416 - accuracy: 0.8444 - val_loss: 0.4530 - val_accuracy: 0.8500 - 68ms/epoch - 6ms/step\n",
            "Epoch 7/150\n",
            "12/12 - 0s - loss: 0.4091 - accuracy: 0.8667 - val_loss: 0.4109 - val_accuracy: 0.9250 - 64ms/epoch - 5ms/step\n",
            "Epoch 8/150\n",
            "12/12 - 0s - loss: 0.3828 - accuracy: 0.8889 - val_loss: 0.3816 - val_accuracy: 0.9250 - 91ms/epoch - 8ms/step\n",
            "Epoch 9/150\n",
            "12/12 - 0s - loss: 0.3606 - accuracy: 0.8861 - val_loss: 0.3552 - val_accuracy: 0.9250 - 70ms/epoch - 6ms/step\n",
            "Epoch 10/150\n",
            "12/12 - 0s - loss: 0.3350 - accuracy: 0.8806 - val_loss: 0.3328 - val_accuracy: 0.9250 - 72ms/epoch - 6ms/step\n",
            "Epoch 11/150\n",
            "12/12 - 0s - loss: 0.3267 - accuracy: 0.8778 - val_loss: 0.3170 - val_accuracy: 0.9250 - 88ms/epoch - 7ms/step\n",
            "Epoch 12/150\n",
            "12/12 - 0s - loss: 0.3113 - accuracy: 0.8861 - val_loss: 0.3135 - val_accuracy: 0.9250 - 80ms/epoch - 7ms/step\n",
            "Epoch 13/150\n",
            "12/12 - 0s - loss: 0.3109 - accuracy: 0.8806 - val_loss: 0.3039 - val_accuracy: 0.9250 - 87ms/epoch - 7ms/step\n",
            "Epoch 14/150\n",
            "12/12 - 0s - loss: 0.3151 - accuracy: 0.8806 - val_loss: 0.2907 - val_accuracy: 0.9250 - 77ms/epoch - 6ms/step\n",
            "Epoch 15/150\n",
            "12/12 - 0s - loss: 0.2965 - accuracy: 0.8806 - val_loss: 0.2904 - val_accuracy: 0.9250 - 82ms/epoch - 7ms/step\n",
            "Epoch 16/150\n",
            "12/12 - 0s - loss: 0.2915 - accuracy: 0.8806 - val_loss: 0.2887 - val_accuracy: 0.9250 - 83ms/epoch - 7ms/step\n",
            "Epoch 17/150\n",
            "12/12 - 0s - loss: 0.2727 - accuracy: 0.8972 - val_loss: 0.2780 - val_accuracy: 0.9250 - 63ms/epoch - 5ms/step\n",
            "Epoch 18/150\n",
            "12/12 - 0s - loss: 0.2789 - accuracy: 0.8861 - val_loss: 0.2777 - val_accuracy: 0.9250 - 70ms/epoch - 6ms/step\n",
            "Epoch 19/150\n",
            "12/12 - 0s - loss: 0.2776 - accuracy: 0.8778 - val_loss: 0.2802 - val_accuracy: 0.9250 - 67ms/epoch - 6ms/step\n",
            "Epoch 20/150\n",
            "12/12 - 0s - loss: 0.2660 - accuracy: 0.8833 - val_loss: 0.2819 - val_accuracy: 0.9250 - 70ms/epoch - 6ms/step\n",
            "Epoch 21/150\n",
            "12/12 - 0s - loss: 0.2639 - accuracy: 0.8889 - val_loss: 0.2776 - val_accuracy: 0.9250 - 74ms/epoch - 6ms/step\n",
            "Epoch 22/150\n",
            "12/12 - 0s - loss: 0.2543 - accuracy: 0.8944 - val_loss: 0.2706 - val_accuracy: 0.9250 - 75ms/epoch - 6ms/step\n",
            "Epoch 23/150\n",
            "12/12 - 0s - loss: 0.2546 - accuracy: 0.8861 - val_loss: 0.2649 - val_accuracy: 0.9250 - 70ms/epoch - 6ms/step\n",
            "Epoch 24/150\n",
            "12/12 - 0s - loss: 0.2558 - accuracy: 0.8972 - val_loss: 0.2663 - val_accuracy: 0.9250 - 69ms/epoch - 6ms/step\n",
            "Epoch 25/150\n",
            "12/12 - 0s - loss: 0.2586 - accuracy: 0.8889 - val_loss: 0.2692 - val_accuracy: 0.9250 - 91ms/epoch - 8ms/step\n",
            "Epoch 26/150\n",
            "12/12 - 0s - loss: 0.2475 - accuracy: 0.8972 - val_loss: 0.2692 - val_accuracy: 0.9250 - 83ms/epoch - 7ms/step\n",
            "Epoch 27/150\n",
            "12/12 - 0s - loss: 0.2496 - accuracy: 0.8889 - val_loss: 0.2652 - val_accuracy: 0.9250 - 89ms/epoch - 7ms/step\n",
            "Epoch 28/150\n",
            "12/12 - 0s - loss: 0.2443 - accuracy: 0.9056 - val_loss: 0.2710 - val_accuracy: 0.9250 - 66ms/epoch - 6ms/step\n",
            "Epoch 29/150\n",
            "12/12 - 0s - loss: 0.2477 - accuracy: 0.9056 - val_loss: 0.2682 - val_accuracy: 0.9250 - 76ms/epoch - 6ms/step\n",
            "Epoch 30/150\n",
            "12/12 - 0s - loss: 0.2611 - accuracy: 0.8917 - val_loss: 0.2594 - val_accuracy: 0.9250 - 70ms/epoch - 6ms/step\n",
            "Epoch 31/150\n",
            "12/12 - 0s - loss: 0.2471 - accuracy: 0.8972 - val_loss: 0.2620 - val_accuracy: 0.9250 - 74ms/epoch - 6ms/step\n",
            "Epoch 32/150\n",
            "12/12 - 0s - loss: 0.2444 - accuracy: 0.9000 - val_loss: 0.2673 - val_accuracy: 0.9250 - 67ms/epoch - 6ms/step\n",
            "Epoch 33/150\n",
            "12/12 - 0s - loss: 0.2494 - accuracy: 0.8944 - val_loss: 0.2646 - val_accuracy: 0.9250 - 84ms/epoch - 7ms/step\n",
            "Epoch 34/150\n",
            "12/12 - 0s - loss: 0.2414 - accuracy: 0.8917 - val_loss: 0.2636 - val_accuracy: 0.9250 - 72ms/epoch - 6ms/step\n",
            "Epoch 35/150\n",
            "12/12 - 0s - loss: 0.2371 - accuracy: 0.8944 - val_loss: 0.2650 - val_accuracy: 0.9250 - 68ms/epoch - 6ms/step\n",
            "Epoch 36/150\n",
            "12/12 - 0s - loss: 0.2453 - accuracy: 0.8917 - val_loss: 0.2609 - val_accuracy: 0.9250 - 67ms/epoch - 6ms/step\n",
            "Epoch 37/150\n",
            "12/12 - 0s - loss: 0.2394 - accuracy: 0.9056 - val_loss: 0.2549 - val_accuracy: 0.9250 - 74ms/epoch - 6ms/step\n",
            "Epoch 38/150\n",
            "12/12 - 0s - loss: 0.2207 - accuracy: 0.9139 - val_loss: 0.2541 - val_accuracy: 0.9250 - 72ms/epoch - 6ms/step\n",
            "Epoch 39/150\n",
            "12/12 - 0s - loss: 0.2447 - accuracy: 0.8917 - val_loss: 0.2570 - val_accuracy: 0.9250 - 72ms/epoch - 6ms/step\n",
            "Epoch 40/150\n",
            "12/12 - 0s - loss: 0.2322 - accuracy: 0.9000 - val_loss: 0.2529 - val_accuracy: 0.9250 - 71ms/epoch - 6ms/step\n",
            "Epoch 41/150\n",
            "12/12 - 0s - loss: 0.2320 - accuracy: 0.8917 - val_loss: 0.2561 - val_accuracy: 0.9250 - 86ms/epoch - 7ms/step\n",
            "Epoch 42/150\n",
            "12/12 - 0s - loss: 0.2215 - accuracy: 0.9028 - val_loss: 0.2527 - val_accuracy: 0.9250 - 65ms/epoch - 5ms/step\n",
            "Epoch 43/150\n",
            "12/12 - 0s - loss: 0.2282 - accuracy: 0.9000 - val_loss: 0.2593 - val_accuracy: 0.9250 - 67ms/epoch - 6ms/step\n",
            "Epoch 44/150\n",
            "12/12 - 0s - loss: 0.2375 - accuracy: 0.9000 - val_loss: 0.2602 - val_accuracy: 0.9250 - 71ms/epoch - 6ms/step\n",
            "Epoch 45/150\n",
            "12/12 - 0s - loss: 0.2329 - accuracy: 0.9139 - val_loss: 0.2579 - val_accuracy: 0.9250 - 90ms/epoch - 8ms/step\n",
            "Epoch 46/150\n",
            "12/12 - 0s - loss: 0.2317 - accuracy: 0.8972 - val_loss: 0.2586 - val_accuracy: 0.9250 - 91ms/epoch - 8ms/step\n",
            "Epoch 47/150\n",
            "12/12 - 0s - loss: 0.2283 - accuracy: 0.8917 - val_loss: 0.2558 - val_accuracy: 0.9250 - 72ms/epoch - 6ms/step\n",
            "Epoch 48/150\n",
            "12/12 - 0s - loss: 0.2239 - accuracy: 0.9167 - val_loss: 0.2516 - val_accuracy: 0.9250 - 69ms/epoch - 6ms/step\n",
            "Epoch 49/150\n",
            "12/12 - 0s - loss: 0.2286 - accuracy: 0.9056 - val_loss: 0.2533 - val_accuracy: 0.9250 - 74ms/epoch - 6ms/step\n",
            "Epoch 50/150\n",
            "12/12 - 0s - loss: 0.2269 - accuracy: 0.9000 - val_loss: 0.2485 - val_accuracy: 0.9250 - 85ms/epoch - 7ms/step\n",
            "Epoch 51/150\n",
            "12/12 - 0s - loss: 0.2281 - accuracy: 0.9028 - val_loss: 0.2519 - val_accuracy: 0.9250 - 92ms/epoch - 8ms/step\n",
            "Epoch 52/150\n",
            "12/12 - 0s - loss: 0.2215 - accuracy: 0.9056 - val_loss: 0.2530 - val_accuracy: 0.9250 - 93ms/epoch - 8ms/step\n",
            "Epoch 53/150\n",
            "12/12 - 0s - loss: 0.2151 - accuracy: 0.9028 - val_loss: 0.2488 - val_accuracy: 0.9250 - 86ms/epoch - 7ms/step\n",
            "Epoch 54/150\n",
            "12/12 - 0s - loss: 0.2220 - accuracy: 0.9083 - val_loss: 0.2501 - val_accuracy: 0.9250 - 85ms/epoch - 7ms/step\n",
            "Epoch 55/150\n",
            "12/12 - 0s - loss: 0.2073 - accuracy: 0.9056 - val_loss: 0.2472 - val_accuracy: 0.9250 - 76ms/epoch - 6ms/step\n",
            "Epoch 56/150\n",
            "12/12 - 0s - loss: 0.2170 - accuracy: 0.9056 - val_loss: 0.2443 - val_accuracy: 0.9250 - 80ms/epoch - 7ms/step\n",
            "Epoch 57/150\n",
            "12/12 - 0s - loss: 0.2069 - accuracy: 0.9083 - val_loss: 0.2437 - val_accuracy: 0.9250 - 67ms/epoch - 6ms/step\n",
            "Epoch 58/150\n",
            "12/12 - 0s - loss: 0.2219 - accuracy: 0.9056 - val_loss: 0.2461 - val_accuracy: 0.9250 - 64ms/epoch - 5ms/step\n",
            "Epoch 59/150\n",
            "12/12 - 0s - loss: 0.2207 - accuracy: 0.9083 - val_loss: 0.2485 - val_accuracy: 0.9250 - 88ms/epoch - 7ms/step\n",
            "Epoch 60/150\n",
            "12/12 - 0s - loss: 0.2064 - accuracy: 0.9278 - val_loss: 0.2469 - val_accuracy: 0.9250 - 71ms/epoch - 6ms/step\n",
            "Epoch 61/150\n",
            "12/12 - 0s - loss: 0.2081 - accuracy: 0.9083 - val_loss: 0.2505 - val_accuracy: 0.9250 - 86ms/epoch - 7ms/step\n",
            "Epoch 62/150\n",
            "12/12 - 0s - loss: 0.2068 - accuracy: 0.9111 - val_loss: 0.2541 - val_accuracy: 0.9250 - 79ms/epoch - 7ms/step\n",
            "Epoch 63/150\n",
            "12/12 - 0s - loss: 0.2194 - accuracy: 0.9056 - val_loss: 0.2546 - val_accuracy: 0.9250 - 70ms/epoch - 6ms/step\n",
            "Epoch 64/150\n",
            "12/12 - 0s - loss: 0.2115 - accuracy: 0.9139 - val_loss: 0.2484 - val_accuracy: 0.9250 - 65ms/epoch - 5ms/step\n",
            "Epoch 65/150\n",
            "12/12 - 0s - loss: 0.2226 - accuracy: 0.9000 - val_loss: 0.2448 - val_accuracy: 0.9250 - 88ms/epoch - 7ms/step\n",
            "Epoch 66/150\n",
            "12/12 - 0s - loss: 0.2078 - accuracy: 0.9083 - val_loss: 0.2457 - val_accuracy: 0.9250 - 83ms/epoch - 7ms/step\n",
            "Epoch 67/150\n",
            "12/12 - 0s - loss: 0.2090 - accuracy: 0.9083 - val_loss: 0.2419 - val_accuracy: 0.9250 - 89ms/epoch - 7ms/step\n",
            "Epoch 68/150\n",
            "12/12 - 0s - loss: 0.2153 - accuracy: 0.9111 - val_loss: 0.2422 - val_accuracy: 0.9250 - 68ms/epoch - 6ms/step\n",
            "Epoch 69/150\n",
            "12/12 - 0s - loss: 0.1951 - accuracy: 0.9139 - val_loss: 0.2469 - val_accuracy: 0.9250 - 82ms/epoch - 7ms/step\n",
            "Epoch 70/150\n",
            "12/12 - 0s - loss: 0.2186 - accuracy: 0.9056 - val_loss: 0.2424 - val_accuracy: 0.9250 - 71ms/epoch - 6ms/step\n",
            "Epoch 71/150\n",
            "12/12 - 0s - loss: 0.1959 - accuracy: 0.9167 - val_loss: 0.2476 - val_accuracy: 0.9250 - 80ms/epoch - 7ms/step\n",
            "Epoch 72/150\n",
            "12/12 - 0s - loss: 0.1978 - accuracy: 0.9139 - val_loss: 0.2420 - val_accuracy: 0.9250 - 71ms/epoch - 6ms/step\n",
            "Epoch 73/150\n",
            "12/12 - 0s - loss: 0.1924 - accuracy: 0.9250 - val_loss: 0.2429 - val_accuracy: 0.9250 - 69ms/epoch - 6ms/step\n",
            "Epoch 74/150\n",
            "12/12 - 0s - loss: 0.1984 - accuracy: 0.9167 - val_loss: 0.2443 - val_accuracy: 0.9250 - 79ms/epoch - 7ms/step\n",
            "Epoch 75/150\n",
            "12/12 - 0s - loss: 0.2103 - accuracy: 0.9056 - val_loss: 0.2506 - val_accuracy: 0.9250 - 80ms/epoch - 7ms/step\n",
            "Epoch 76/150\n",
            "12/12 - 0s - loss: 0.2041 - accuracy: 0.9167 - val_loss: 0.2568 - val_accuracy: 0.9250 - 67ms/epoch - 6ms/step\n",
            "Epoch 77/150\n",
            "12/12 - 0s - loss: 0.1994 - accuracy: 0.9000 - val_loss: 0.2470 - val_accuracy: 0.9250 - 66ms/epoch - 5ms/step\n",
            "Epoch 78/150\n",
            "12/12 - 0s - loss: 0.2001 - accuracy: 0.9139 - val_loss: 0.2413 - val_accuracy: 0.9250 - 84ms/epoch - 7ms/step\n",
            "Epoch 79/150\n",
            "12/12 - 0s - loss: 0.1874 - accuracy: 0.9222 - val_loss: 0.2482 - val_accuracy: 0.9250 - 87ms/epoch - 7ms/step\n",
            "Epoch 80/150\n",
            "12/12 - 0s - loss: 0.2024 - accuracy: 0.9139 - val_loss: 0.2463 - val_accuracy: 0.9250 - 67ms/epoch - 6ms/step\n",
            "Epoch 81/150\n",
            "12/12 - 0s - loss: 0.2056 - accuracy: 0.9083 - val_loss: 0.2418 - val_accuracy: 0.9250 - 73ms/epoch - 6ms/step\n",
            "Epoch 82/150\n",
            "12/12 - 0s - loss: 0.2031 - accuracy: 0.9028 - val_loss: 0.2521 - val_accuracy: 0.9250 - 90ms/epoch - 8ms/step\n",
            "Epoch 83/150\n",
            "12/12 - 0s - loss: 0.2094 - accuracy: 0.9083 - val_loss: 0.2492 - val_accuracy: 0.9250 - 73ms/epoch - 6ms/step\n",
            "Epoch 84/150\n",
            "12/12 - 0s - loss: 0.1924 - accuracy: 0.9139 - val_loss: 0.2428 - val_accuracy: 0.9250 - 80ms/epoch - 7ms/step\n",
            "Epoch 85/150\n",
            "12/12 - 0s - loss: 0.1901 - accuracy: 0.9167 - val_loss: 0.2494 - val_accuracy: 0.9250 - 70ms/epoch - 6ms/step\n",
            "Epoch 86/150\n",
            "12/12 - 0s - loss: 0.2101 - accuracy: 0.9083 - val_loss: 0.2483 - val_accuracy: 0.9250 - 67ms/epoch - 6ms/step\n",
            "Epoch 87/150\n",
            "12/12 - 0s - loss: 0.1870 - accuracy: 0.9167 - val_loss: 0.2384 - val_accuracy: 0.9250 - 91ms/epoch - 8ms/step\n",
            "Epoch 88/150\n",
            "12/12 - 0s - loss: 0.1905 - accuracy: 0.9222 - val_loss: 0.2412 - val_accuracy: 0.9250 - 66ms/epoch - 6ms/step\n",
            "Epoch 89/150\n",
            "12/12 - 0s - loss: 0.2027 - accuracy: 0.9111 - val_loss: 0.2435 - val_accuracy: 0.9250 - 88ms/epoch - 7ms/step\n",
            "Epoch 90/150\n",
            "12/12 - 0s - loss: 0.1886 - accuracy: 0.9250 - val_loss: 0.2403 - val_accuracy: 0.9250 - 66ms/epoch - 5ms/step\n",
            "Epoch 91/150\n",
            "12/12 - 0s - loss: 0.1944 - accuracy: 0.9111 - val_loss: 0.2426 - val_accuracy: 0.9250 - 85ms/epoch - 7ms/step\n",
            "Epoch 92/150\n",
            "12/12 - 0s - loss: 0.1913 - accuracy: 0.9167 - val_loss: 0.2495 - val_accuracy: 0.9250 - 71ms/epoch - 6ms/step\n",
            "Epoch 93/150\n",
            "12/12 - 0s - loss: 0.1975 - accuracy: 0.9111 - val_loss: 0.2474 - val_accuracy: 0.9250 - 72ms/epoch - 6ms/step\n",
            "Epoch 94/150\n",
            "12/12 - 0s - loss: 0.2025 - accuracy: 0.9056 - val_loss: 0.2478 - val_accuracy: 0.9250 - 67ms/epoch - 6ms/step\n",
            "Epoch 95/150\n",
            "12/12 - 0s - loss: 0.1951 - accuracy: 0.9111 - val_loss: 0.2454 - val_accuracy: 0.9250 - 82ms/epoch - 7ms/step\n",
            "Epoch 96/150\n",
            "12/12 - 0s - loss: 0.1828 - accuracy: 0.9278 - val_loss: 0.2449 - val_accuracy: 0.9250 - 73ms/epoch - 6ms/step\n",
            "Epoch 97/150\n",
            "12/12 - 0s - loss: 0.2039 - accuracy: 0.9139 - val_loss: 0.2455 - val_accuracy: 0.9250 - 82ms/epoch - 7ms/step\n",
            "Epoch 98/150\n",
            "12/12 - 0s - loss: 0.1939 - accuracy: 0.9167 - val_loss: 0.2500 - val_accuracy: 0.9250 - 84ms/epoch - 7ms/step\n",
            "Epoch 99/150\n",
            "12/12 - 0s - loss: 0.1915 - accuracy: 0.9083 - val_loss: 0.2419 - val_accuracy: 0.9250 - 97ms/epoch - 8ms/step\n",
            "Epoch 100/150\n",
            "12/12 - 0s - loss: 0.2021 - accuracy: 0.9194 - val_loss: 0.2448 - val_accuracy: 0.9250 - 69ms/epoch - 6ms/step\n",
            "Epoch 101/150\n",
            "12/12 - 0s - loss: 0.1905 - accuracy: 0.9222 - val_loss: 0.2425 - val_accuracy: 0.9250 - 66ms/epoch - 6ms/step\n",
            "Epoch 102/150\n",
            "12/12 - 0s - loss: 0.2028 - accuracy: 0.9139 - val_loss: 0.2481 - val_accuracy: 0.9250 - 81ms/epoch - 7ms/step\n",
            "Epoch 103/150\n",
            "12/12 - 0s - loss: 0.1908 - accuracy: 0.9250 - val_loss: 0.2416 - val_accuracy: 0.9250 - 86ms/epoch - 7ms/step\n",
            "Epoch 104/150\n",
            "12/12 - 0s - loss: 0.1891 - accuracy: 0.9111 - val_loss: 0.2479 - val_accuracy: 0.9250 - 71ms/epoch - 6ms/step\n",
            "Epoch 105/150\n",
            "12/12 - 0s - loss: 0.1901 - accuracy: 0.9139 - val_loss: 0.2560 - val_accuracy: 0.9250 - 73ms/epoch - 6ms/step\n",
            "Epoch 106/150\n",
            "12/12 - 0s - loss: 0.1914 - accuracy: 0.9167 - val_loss: 0.2474 - val_accuracy: 0.9250 - 70ms/epoch - 6ms/step\n",
            "Epoch 107/150\n",
            "12/12 - 0s - loss: 0.1850 - accuracy: 0.9083 - val_loss: 0.2492 - val_accuracy: 0.9250 - 69ms/epoch - 6ms/step\n",
            "Epoch 108/150\n",
            "12/12 - 0s - loss: 0.1943 - accuracy: 0.9111 - val_loss: 0.2484 - val_accuracy: 0.9250 - 85ms/epoch - 7ms/step\n",
            "Epoch 109/150\n",
            "12/12 - 0s - loss: 0.1840 - accuracy: 0.9111 - val_loss: 0.2435 - val_accuracy: 0.9250 - 69ms/epoch - 6ms/step\n",
            "Epoch 110/150\n",
            "12/12 - 0s - loss: 0.1894 - accuracy: 0.9278 - val_loss: 0.2481 - val_accuracy: 0.9250 - 70ms/epoch - 6ms/step\n",
            "Epoch 111/150\n",
            "12/12 - 0s - loss: 0.1975 - accuracy: 0.9167 - val_loss: 0.2445 - val_accuracy: 0.9000 - 84ms/epoch - 7ms/step\n",
            "Epoch 112/150\n",
            "12/12 - 0s - loss: 0.1778 - accuracy: 0.9306 - val_loss: 0.2479 - val_accuracy: 0.9000 - 68ms/epoch - 6ms/step\n",
            "Epoch 113/150\n",
            "12/12 - 0s - loss: 0.1776 - accuracy: 0.9083 - val_loss: 0.2538 - val_accuracy: 0.9000 - 85ms/epoch - 7ms/step\n",
            "Epoch 114/150\n",
            "12/12 - 0s - loss: 0.1869 - accuracy: 0.9222 - val_loss: 0.2550 - val_accuracy: 0.9250 - 72ms/epoch - 6ms/step\n",
            "Epoch 115/150\n",
            "12/12 - 0s - loss: 0.1853 - accuracy: 0.9306 - val_loss: 0.2563 - val_accuracy: 0.9250 - 80ms/epoch - 7ms/step\n",
            "Epoch 116/150\n",
            "12/12 - 0s - loss: 0.1885 - accuracy: 0.9056 - val_loss: 0.2498 - val_accuracy: 0.9250 - 66ms/epoch - 5ms/step\n",
            "Epoch 117/150\n",
            "12/12 - 0s - loss: 0.1759 - accuracy: 0.9250 - val_loss: 0.2436 - val_accuracy: 0.9250 - 64ms/epoch - 5ms/step\n",
            "Epoch 118/150\n",
            "12/12 - 0s - loss: 0.1692 - accuracy: 0.9306 - val_loss: 0.2458 - val_accuracy: 0.9250 - 67ms/epoch - 6ms/step\n",
            "Epoch 119/150\n",
            "12/12 - 0s - loss: 0.1830 - accuracy: 0.9111 - val_loss: 0.2466 - val_accuracy: 0.9250 - 86ms/epoch - 7ms/step\n",
            "Epoch 120/150\n",
            "12/12 - 0s - loss: 0.1710 - accuracy: 0.9278 - val_loss: 0.2506 - val_accuracy: 0.9250 - 69ms/epoch - 6ms/step\n",
            "Epoch 121/150\n",
            "12/12 - 0s - loss: 0.1773 - accuracy: 0.9333 - val_loss: 0.2485 - val_accuracy: 0.9250 - 67ms/epoch - 6ms/step\n",
            "Epoch 122/150\n",
            "12/12 - 0s - loss: 0.1900 - accuracy: 0.9083 - val_loss: 0.2518 - val_accuracy: 0.9250 - 113ms/epoch - 9ms/step\n",
            "Epoch 123/150\n",
            "12/12 - 0s - loss: 0.1683 - accuracy: 0.9222 - val_loss: 0.2481 - val_accuracy: 0.9250 - 113ms/epoch - 9ms/step\n",
            "Epoch 124/150\n",
            "12/12 - 0s - loss: 0.1714 - accuracy: 0.9139 - val_loss: 0.2426 - val_accuracy: 0.9250 - 115ms/epoch - 10ms/step\n",
            "Epoch 125/150\n",
            "12/12 - 0s - loss: 0.1941 - accuracy: 0.9111 - val_loss: 0.2437 - val_accuracy: 0.9000 - 111ms/epoch - 9ms/step\n",
            "Epoch 126/150\n",
            "12/12 - 0s - loss: 0.1827 - accuracy: 0.9111 - val_loss: 0.2516 - val_accuracy: 0.9250 - 109ms/epoch - 9ms/step\n",
            "Epoch 127/150\n",
            "12/12 - 0s - loss: 0.1703 - accuracy: 0.9222 - val_loss: 0.2489 - val_accuracy: 0.9250 - 121ms/epoch - 10ms/step\n",
            "Epoch 128/150\n",
            "12/12 - 0s - loss: 0.1824 - accuracy: 0.9167 - val_loss: 0.2540 - val_accuracy: 0.9250 - 108ms/epoch - 9ms/step\n",
            "Epoch 129/150\n",
            "12/12 - 0s - loss: 0.1762 - accuracy: 0.9222 - val_loss: 0.2447 - val_accuracy: 0.9000 - 100ms/epoch - 8ms/step\n",
            "Epoch 130/150\n",
            "12/12 - 0s - loss: 0.1769 - accuracy: 0.9306 - val_loss: 0.2507 - val_accuracy: 0.9250 - 92ms/epoch - 8ms/step\n",
            "Epoch 131/150\n",
            "12/12 - 0s - loss: 0.1786 - accuracy: 0.9194 - val_loss: 0.2470 - val_accuracy: 0.9250 - 115ms/epoch - 10ms/step\n",
            "Epoch 132/150\n",
            "12/12 - 0s - loss: 0.1900 - accuracy: 0.9083 - val_loss: 0.2471 - val_accuracy: 0.9250 - 119ms/epoch - 10ms/step\n",
            "Epoch 133/150\n",
            "12/12 - 0s - loss: 0.1731 - accuracy: 0.9389 - val_loss: 0.2409 - val_accuracy: 0.9250 - 111ms/epoch - 9ms/step\n",
            "Epoch 134/150\n",
            "12/12 - 0s - loss: 0.1755 - accuracy: 0.9250 - val_loss: 0.2442 - val_accuracy: 0.9250 - 112ms/epoch - 9ms/step\n",
            "Epoch 135/150\n",
            "12/12 - 0s - loss: 0.1704 - accuracy: 0.9250 - val_loss: 0.2451 - val_accuracy: 0.9250 - 103ms/epoch - 9ms/step\n",
            "Epoch 136/150\n",
            "12/12 - 0s - loss: 0.1739 - accuracy: 0.9167 - val_loss: 0.2508 - val_accuracy: 0.9250 - 105ms/epoch - 9ms/step\n",
            "Epoch 137/150\n",
            "12/12 - 0s - loss: 0.1786 - accuracy: 0.9222 - val_loss: 0.2564 - val_accuracy: 0.9250 - 108ms/epoch - 9ms/step\n",
            "Epoch 138/150\n",
            "12/12 - 0s - loss: 0.1654 - accuracy: 0.9250 - val_loss: 0.2580 - val_accuracy: 0.9250 - 120ms/epoch - 10ms/step\n",
            "Epoch 139/150\n",
            "12/12 - 0s - loss: 0.1913 - accuracy: 0.9111 - val_loss: 0.2514 - val_accuracy: 0.9000 - 128ms/epoch - 11ms/step\n",
            "Epoch 140/150\n",
            "12/12 - 0s - loss: 0.1732 - accuracy: 0.9083 - val_loss: 0.2555 - val_accuracy: 0.9250 - 108ms/epoch - 9ms/step\n",
            "Epoch 141/150\n",
            "12/12 - 0s - loss: 0.1794 - accuracy: 0.9139 - val_loss: 0.2530 - val_accuracy: 0.9250 - 125ms/epoch - 10ms/step\n",
            "Epoch 142/150\n",
            "12/12 - 0s - loss: 0.1657 - accuracy: 0.9222 - val_loss: 0.2526 - val_accuracy: 0.9250 - 123ms/epoch - 10ms/step\n",
            "Epoch 143/150\n",
            "12/12 - 0s - loss: 0.1735 - accuracy: 0.9278 - val_loss: 0.2661 - val_accuracy: 0.9250 - 106ms/epoch - 9ms/step\n",
            "Epoch 144/150\n",
            "12/12 - 0s - loss: 0.1865 - accuracy: 0.9111 - val_loss: 0.2609 - val_accuracy: 0.9250 - 69ms/epoch - 6ms/step\n",
            "Epoch 145/150\n",
            "12/12 - 0s - loss: 0.1748 - accuracy: 0.9278 - val_loss: 0.2508 - val_accuracy: 0.9000 - 82ms/epoch - 7ms/step\n",
            "Epoch 146/150\n",
            "12/12 - 0s - loss: 0.1768 - accuracy: 0.9194 - val_loss: 0.2559 - val_accuracy: 0.9250 - 69ms/epoch - 6ms/step\n",
            "Epoch 147/150\n",
            "12/12 - 0s - loss: 0.1656 - accuracy: 0.9333 - val_loss: 0.2558 - val_accuracy: 0.9250 - 61ms/epoch - 5ms/step\n",
            "Epoch 148/150\n",
            "12/12 - 0s - loss: 0.1860 - accuracy: 0.9278 - val_loss: 0.2594 - val_accuracy: 0.9250 - 69ms/epoch - 6ms/step\n",
            "Epoch 149/150\n",
            "12/12 - 0s - loss: 0.1750 - accuracy: 0.9250 - val_loss: 0.2585 - val_accuracy: 0.9250 - 67ms/epoch - 6ms/step\n",
            "Epoch 150/150\n",
            "12/12 - 0s - loss: 0.1863 - accuracy: 0.9083 - val_loss: 0.2544 - val_accuracy: 0.9250 - 86ms/epoch - 7ms/step\n"
          ]
        }
      ],
      "source": [
        "history_1 = model_1.fit(X_train_normalized, \n",
        "                    y_train,\n",
        "                    validation_split=0.1, \n",
        "                    epochs=150, \n",
        "                    verbose=2)"
      ]
    },
    {
      "cell_type": "markdown",
      "metadata": {
        "id": "EFMmpLAuBC4n"
      },
      "source": [
        "### **Plotting Accuracy vs Epoch Curve**"
      ]
    },
    {
      "cell_type": "code",
      "execution_count": 19,
      "metadata": {
        "colab": {
          "base_uri": "https://localhost:8080/",
          "height": 472
        },
        "id": "oe8CUImT-8xf",
        "outputId": "7380a68d-df6e-4ba5-c908-d536582bab59"
      },
      "outputs": [
        {
          "output_type": "display_data",
          "data": {
            "text/plain": [
              "<Figure size 640x480 with 1 Axes>"
            ],
            "image/png": "[encoded data removed]"
          },
          "metadata": {}
        }
      ],
      "source": [
        "plt.plot(history_1.history['accuracy'])\n",
        "plt.plot(history_1.history['val_accuracy'])\n",
        "plt.title('Accuracy vs Epochs')\n",
        "plt.ylabel('Accuracy')\n",
        "plt.xlabel('Epoch')\n",
        "plt.legend(['Train', 'Validation'], loc='lower right')\n",
        "plt.show()"
      ]
    },
    {
      "cell_type": "markdown",
      "metadata": {
        "id": "K8cyNSpIjURF"
      },
      "source": [
        "**Observations:**\n",
        "\n",
        "- The training accuracy is fluctuating but overall it is increasing with the increase in the epochs.\n",
        "- The validation accuracy is constant between ~20 to 100 epochs and it is fluctuating a bit post 100 epochs.\n",
        "- The model is giving good accuracy. After 150 epochs, the accuracy of the model on the training data is similar to the validation accuracy (~93%). This indicates that the model is giving a generalized performance."
      ]
    },
    {
      "cell_type": "markdown",
      "metadata": {
        "id": "e3lV6QFMVqQh"
      },
      "source": [
        "Let's try to increase the model complexity by tuning some of the hyper-parameters mentioned earlier and check if we can improve the model performance. Out of all the options we have, let's try to change the number of hidden layers, the number of neurons in each hidden layer, the activation function in the hidden layer, and the optimizer from **adamax** to **adam**. Also, we have observed that validation accuracy became constant after some epochs, let's try less number of epochs which would also reduce the computation time. "
      ]
    },
    {
      "cell_type": "markdown",
      "metadata": {
        "id": "TcLYYkZo6PaW"
      },
      "source": [
        "First, we need to clear the previous model's history from the session. In Keras, we need special command to clear the model's history otherwise the previous model history remains in the backend.\n",
        "Also, let's fix the seed again after clearing the backend."
      ]
    },
    {
      "cell_type": "code",
      "execution_count": 20,
      "metadata": {
        "id": "_GQu0Mv56_IH"
      },
      "outputs": [],
      "source": [
        "# Clearing backend\n",
        "from tensorflow.keras import backend\n",
        "backend.clear_session()"
      ]
    },
    {
      "cell_type": "code",
      "execution_count": 21,
      "metadata": {
        "id": "7PIxvVI0LqbV"
      },
      "outputs": [],
      "source": [
        "# Fixing the seed for random number generators\n",
        "np.random.seed(42)\n",
        "\n",
        "import random\n",
        "random.seed(42)\n",
        "\n",
        "tf.random.set_seed(42)"
      ]
    },
    {
      "cell_type": "code",
      "execution_count": 22,
      "metadata": {
        "id": "S23oRyS2XJZW"
      },
      "outputs": [],
      "source": [
        "model_2 = Sequential()\n",
        "model_2.add(Dense(128, activation='tanh', input_shape=(11,)))\n",
        "model_2.add(Dropout(0.1))\n",
        "model_2.add(Dense(64, activation='tanh'))\n",
        "model_2.add(Dropout(0.1))\n",
        "model_2.add(Dense(32, activation='tanh'))\n",
        "model_2.add(Dense(1, activation='sigmoid'))"
      ]
    },
    {
      "cell_type": "code",
      "execution_count": 23,
      "metadata": {
        "colab": {
          "base_uri": "https://localhost:8080/"
        },
        "id": "DT1QFebrV9ZC",
        "outputId": "8ca213a5-263f-48e6-f1ef-fae1c518cff4"
      },
      "outputs": [
        {
          "output_type": "stream",
          "name": "stdout",
          "text": [
            "Model: \"sequential\"\n",
            "_________________________________________________________________\n",
            " Layer (type)                Output Shape              Param #   \n",
            "=================================================================\n",
            " dense (Dense)               (None, 128)               1536      \n",
            "                                                                 \n",
            " dropout (Dropout)           (None, 128)               0         \n",
            "                                                                 \n",
            " dense_1 (Dense)             (None, 64)                8256      \n",
            "                                                                 \n",
            " dropout_1 (Dropout)         (None, 64)                0         \n",
            "                                                                 \n",
            " dense_2 (Dense)             (None, 32)                2080      \n",
            "                                                                 \n",
            " dense_3 (Dense)             (None, 1)                 33        \n",
            "                                                                 \n",
            "=================================================================\n",
            "Total params: 11,905\n",
            "Trainable params: 11,905\n",
            "Non-trainable params: 0\n",
            "_________________________________________________________________\n"
          ]
        }
      ],
      "source": [
        "model_2.compile(loss = 'binary_crossentropy', optimizer='adam', metrics=['accuracy'])\n",
        "model_2.summary()"
      ]
    },
    {
      "cell_type": "code",
      "execution_count": 24,
      "metadata": {
        "colab": {
          "base_uri": "https://localhost:8080/"
        },
        "id": "d0mHas6KV9f9",
        "outputId": "d954dd96-8089-453c-d903-68188606e797"
      },
      "outputs": [
        {
          "output_type": "stream",
          "name": "stdout",
          "text": [
            "Epoch 1/100\n",
            "12/12 - 2s - loss: 0.6109 - accuracy: 0.6389 - val_loss: 0.5549 - val_accuracy: 0.6500 - 2s/epoch - 176ms/step\n",
            "Epoch 2/100\n",
            "12/12 - 0s - loss: 0.4221 - accuracy: 0.8333 - val_loss: 0.3531 - val_accuracy: 0.8750 - 74ms/epoch - 6ms/step\n",
            "Epoch 3/100\n",
            "12/12 - 0s - loss: 0.3422 - accuracy: 0.8611 - val_loss: 0.3053 - val_accuracy: 0.9000 - 90ms/epoch - 7ms/step\n",
            "Epoch 4/100\n",
            "12/12 - 0s - loss: 0.3199 - accuracy: 0.8722 - val_loss: 0.2768 - val_accuracy: 0.9000 - 83ms/epoch - 7ms/step\n",
            "Epoch 5/100\n",
            "12/12 - 0s - loss: 0.3095 - accuracy: 0.8639 - val_loss: 0.2783 - val_accuracy: 0.9250 - 75ms/epoch - 6ms/step\n",
            "Epoch 6/100\n",
            "12/12 - 0s - loss: 0.2849 - accuracy: 0.8722 - val_loss: 0.2704 - val_accuracy: 0.9250 - 71ms/epoch - 6ms/step\n",
            "Epoch 7/100\n",
            "12/12 - 0s - loss: 0.2672 - accuracy: 0.8750 - val_loss: 0.2880 - val_accuracy: 0.9250 - 72ms/epoch - 6ms/step\n",
            "Epoch 8/100\n",
            "12/12 - 0s - loss: 0.2618 - accuracy: 0.8861 - val_loss: 0.2567 - val_accuracy: 0.9250 - 91ms/epoch - 8ms/step\n",
            "Epoch 9/100\n",
            "12/12 - 0s - loss: 0.2413 - accuracy: 0.8972 - val_loss: 0.2567 - val_accuracy: 0.9250 - 65ms/epoch - 5ms/step\n",
            "Epoch 10/100\n",
            "12/12 - 0s - loss: 0.2469 - accuracy: 0.8917 - val_loss: 0.2573 - val_accuracy: 0.9250 - 80ms/epoch - 7ms/step\n",
            "Epoch 11/100\n",
            "12/12 - 0s - loss: 0.2181 - accuracy: 0.9111 - val_loss: 0.2798 - val_accuracy: 0.9250 - 71ms/epoch - 6ms/step\n",
            "Epoch 12/100\n",
            "12/12 - 0s - loss: 0.2324 - accuracy: 0.8917 - val_loss: 0.2245 - val_accuracy: 0.8750 - 89ms/epoch - 7ms/step\n",
            "Epoch 13/100\n",
            "12/12 - 0s - loss: 0.2305 - accuracy: 0.8889 - val_loss: 0.2831 - val_accuracy: 0.9250 - 93ms/epoch - 8ms/step\n",
            "Epoch 14/100\n",
            "12/12 - 0s - loss: 0.2375 - accuracy: 0.8944 - val_loss: 0.2365 - val_accuracy: 0.9250 - 71ms/epoch - 6ms/step\n",
            "Epoch 15/100\n",
            "12/12 - 0s - loss: 0.2147 - accuracy: 0.9083 - val_loss: 0.2122 - val_accuracy: 0.9000 - 87ms/epoch - 7ms/step\n",
            "Epoch 16/100\n",
            "12/12 - 0s - loss: 0.2311 - accuracy: 0.8944 - val_loss: 0.2301 - val_accuracy: 0.9250 - 88ms/epoch - 7ms/step\n",
            "Epoch 17/100\n",
            "12/12 - 0s - loss: 0.2158 - accuracy: 0.9000 - val_loss: 0.2279 - val_accuracy: 0.9250 - 92ms/epoch - 8ms/step\n",
            "Epoch 18/100\n",
            "12/12 - 0s - loss: 0.2292 - accuracy: 0.9083 - val_loss: 0.1988 - val_accuracy: 0.9250 - 71ms/epoch - 6ms/step\n",
            "Epoch 19/100\n",
            "12/12 - 0s - loss: 0.2058 - accuracy: 0.8972 - val_loss: 0.2523 - val_accuracy: 0.9250 - 84ms/epoch - 7ms/step\n",
            "Epoch 20/100\n",
            "12/12 - 0s - loss: 0.1927 - accuracy: 0.9167 - val_loss: 0.2237 - val_accuracy: 0.9000 - 97ms/epoch - 8ms/step\n",
            "Epoch 21/100\n",
            "12/12 - 0s - loss: 0.1981 - accuracy: 0.9083 - val_loss: 0.2295 - val_accuracy: 0.9000 - 88ms/epoch - 7ms/step\n",
            "Epoch 22/100\n",
            "12/12 - 0s - loss: 0.1791 - accuracy: 0.9250 - val_loss: 0.2171 - val_accuracy: 0.9000 - 88ms/epoch - 7ms/step\n",
            "Epoch 23/100\n",
            "12/12 - 0s - loss: 0.1971 - accuracy: 0.9167 - val_loss: 0.2501 - val_accuracy: 0.9250 - 80ms/epoch - 7ms/step\n",
            "Epoch 24/100\n",
            "12/12 - 0s - loss: 0.1891 - accuracy: 0.9167 - val_loss: 0.2381 - val_accuracy: 0.9250 - 85ms/epoch - 7ms/step\n",
            "Epoch 25/100\n",
            "12/12 - 0s - loss: 0.1900 - accuracy: 0.9056 - val_loss: 0.2164 - val_accuracy: 0.9250 - 75ms/epoch - 6ms/step\n",
            "Epoch 26/100\n",
            "12/12 - 0s - loss: 0.1710 - accuracy: 0.9250 - val_loss: 0.2287 - val_accuracy: 0.9000 - 73ms/epoch - 6ms/step\n",
            "Epoch 27/100\n",
            "12/12 - 0s - loss: 0.1662 - accuracy: 0.9139 - val_loss: 0.2475 - val_accuracy: 0.9250 - 86ms/epoch - 7ms/step\n",
            "Epoch 28/100\n",
            "12/12 - 0s - loss: 0.1800 - accuracy: 0.9194 - val_loss: 0.2210 - val_accuracy: 0.9000 - 78ms/epoch - 7ms/step\n",
            "Epoch 29/100\n",
            "12/12 - 0s - loss: 0.1931 - accuracy: 0.9028 - val_loss: 0.2206 - val_accuracy: 0.9250 - 77ms/epoch - 6ms/step\n",
            "Epoch 30/100\n",
            "12/12 - 0s - loss: 0.2116 - accuracy: 0.9028 - val_loss: 0.2617 - val_accuracy: 0.9250 - 69ms/epoch - 6ms/step\n",
            "Epoch 31/100\n",
            "12/12 - 0s - loss: 0.1681 - accuracy: 0.9139 - val_loss: 0.2568 - val_accuracy: 0.9000 - 73ms/epoch - 6ms/step\n",
            "Epoch 32/100\n",
            "12/12 - 0s - loss: 0.1722 - accuracy: 0.9278 - val_loss: 0.2207 - val_accuracy: 0.9500 - 84ms/epoch - 7ms/step\n",
            "Epoch 33/100\n",
            "12/12 - 0s - loss: 0.1807 - accuracy: 0.9278 - val_loss: 0.2421 - val_accuracy: 0.9250 - 69ms/epoch - 6ms/step\n",
            "Epoch 34/100\n",
            "12/12 - 0s - loss: 0.1842 - accuracy: 0.9194 - val_loss: 0.2141 - val_accuracy: 0.9250 - 73ms/epoch - 6ms/step\n",
            "Epoch 35/100\n",
            "12/12 - 0s - loss: 0.1833 - accuracy: 0.9111 - val_loss: 0.2138 - val_accuracy: 0.9500 - 67ms/epoch - 6ms/step\n",
            "Epoch 36/100\n",
            "12/12 - 0s - loss: 0.1690 - accuracy: 0.9278 - val_loss: 0.2191 - val_accuracy: 0.9250 - 73ms/epoch - 6ms/step\n",
            "Epoch 37/100\n",
            "12/12 - 0s - loss: 0.1672 - accuracy: 0.9167 - val_loss: 0.2289 - val_accuracy: 0.9250 - 91ms/epoch - 8ms/step\n",
            "Epoch 38/100\n",
            "12/12 - 0s - loss: 0.1786 - accuracy: 0.9167 - val_loss: 0.2426 - val_accuracy: 0.9000 - 89ms/epoch - 7ms/step\n",
            "Epoch 39/100\n",
            "12/12 - 0s - loss: 0.1755 - accuracy: 0.9167 - val_loss: 0.2312 - val_accuracy: 0.9500 - 76ms/epoch - 6ms/step\n",
            "Epoch 40/100\n",
            "12/12 - 0s - loss: 0.1715 - accuracy: 0.9278 - val_loss: 0.2597 - val_accuracy: 0.9250 - 67ms/epoch - 6ms/step\n",
            "Epoch 41/100\n",
            "12/12 - 0s - loss: 0.1762 - accuracy: 0.9306 - val_loss: 0.2157 - val_accuracy: 0.9500 - 85ms/epoch - 7ms/step\n",
            "Epoch 42/100\n",
            "12/12 - 0s - loss: 0.1665 - accuracy: 0.9139 - val_loss: 0.2512 - val_accuracy: 0.9250 - 88ms/epoch - 7ms/step\n",
            "Epoch 43/100\n",
            "12/12 - 0s - loss: 0.1818 - accuracy: 0.9194 - val_loss: 0.2311 - val_accuracy: 0.9000 - 85ms/epoch - 7ms/step\n",
            "Epoch 44/100\n",
            "12/12 - 0s - loss: 0.1725 - accuracy: 0.9167 - val_loss: 0.2425 - val_accuracy: 0.9000 - 92ms/epoch - 8ms/step\n",
            "Epoch 45/100\n",
            "12/12 - 0s - loss: 0.1702 - accuracy: 0.9250 - val_loss: 0.2344 - val_accuracy: 0.9000 - 70ms/epoch - 6ms/step\n",
            "Epoch 46/100\n",
            "12/12 - 0s - loss: 0.1697 - accuracy: 0.9222 - val_loss: 0.2289 - val_accuracy: 0.9000 - 69ms/epoch - 6ms/step\n",
            "Epoch 47/100\n",
            "12/12 - 0s - loss: 0.1660 - accuracy: 0.9111 - val_loss: 0.2298 - val_accuracy: 0.9000 - 86ms/epoch - 7ms/step\n",
            "Epoch 48/100\n",
            "12/12 - 0s - loss: 0.1589 - accuracy: 0.9250 - val_loss: 0.2354 - val_accuracy: 0.9000 - 87ms/epoch - 7ms/step\n",
            "Epoch 49/100\n",
            "12/12 - 0s - loss: 0.1629 - accuracy: 0.9278 - val_loss: 0.2315 - val_accuracy: 0.9000 - 71ms/epoch - 6ms/step\n",
            "Epoch 50/100\n",
            "12/12 - 0s - loss: 0.1668 - accuracy: 0.9194 - val_loss: 0.2499 - val_accuracy: 0.9000 - 87ms/epoch - 7ms/step\n",
            "Epoch 51/100\n",
            "12/12 - 0s - loss: 0.1710 - accuracy: 0.9139 - val_loss: 0.2409 - val_accuracy: 0.9250 - 97ms/epoch - 8ms/step\n",
            "Epoch 52/100\n",
            "12/12 - 0s - loss: 0.1791 - accuracy: 0.9278 - val_loss: 0.2323 - val_accuracy: 0.9000 - 89ms/epoch - 7ms/step\n",
            "Epoch 53/100\n",
            "12/12 - 0s - loss: 0.1688 - accuracy: 0.9139 - val_loss: 0.2486 - val_accuracy: 0.9250 - 85ms/epoch - 7ms/step\n",
            "Epoch 54/100\n",
            "12/12 - 0s - loss: 0.1986 - accuracy: 0.9111 - val_loss: 0.2292 - val_accuracy: 0.9500 - 74ms/epoch - 6ms/step\n",
            "Epoch 55/100\n",
            "12/12 - 0s - loss: 0.1730 - accuracy: 0.9111 - val_loss: 0.2390 - val_accuracy: 0.9250 - 71ms/epoch - 6ms/step\n",
            "Epoch 56/100\n",
            "12/12 - 0s - loss: 0.1700 - accuracy: 0.9389 - val_loss: 0.2149 - val_accuracy: 0.9250 - 71ms/epoch - 6ms/step\n",
            "Epoch 57/100\n",
            "12/12 - 0s - loss: 0.1569 - accuracy: 0.9361 - val_loss: 0.2349 - val_accuracy: 0.9000 - 75ms/epoch - 6ms/step\n",
            "Epoch 58/100\n",
            "12/12 - 0s - loss: 0.1640 - accuracy: 0.9167 - val_loss: 0.2337 - val_accuracy: 0.9250 - 77ms/epoch - 6ms/step\n",
            "Epoch 59/100\n",
            "12/12 - 0s - loss: 0.1732 - accuracy: 0.9028 - val_loss: 0.2456 - val_accuracy: 0.9250 - 70ms/epoch - 6ms/step\n",
            "Epoch 60/100\n",
            "12/12 - 0s - loss: 0.1712 - accuracy: 0.9111 - val_loss: 0.2361 - val_accuracy: 0.9000 - 74ms/epoch - 6ms/step\n",
            "Epoch 61/100\n",
            "12/12 - 0s - loss: 0.1601 - accuracy: 0.9333 - val_loss: 0.2302 - val_accuracy: 0.9000 - 90ms/epoch - 7ms/step\n",
            "Epoch 62/100\n",
            "12/12 - 0s - loss: 0.1498 - accuracy: 0.9389 - val_loss: 0.2396 - val_accuracy: 0.9250 - 85ms/epoch - 7ms/step\n",
            "Epoch 63/100\n",
            "12/12 - 0s - loss: 0.1645 - accuracy: 0.9306 - val_loss: 0.2328 - val_accuracy: 0.9500 - 72ms/epoch - 6ms/step\n",
            "Epoch 64/100\n",
            "12/12 - 0s - loss: 0.1642 - accuracy: 0.9278 - val_loss: 0.2473 - val_accuracy: 0.9250 - 88ms/epoch - 7ms/step\n",
            "Epoch 65/100\n",
            "12/12 - 0s - loss: 0.1799 - accuracy: 0.9250 - val_loss: 0.2311 - val_accuracy: 0.9250 - 73ms/epoch - 6ms/step\n",
            "Epoch 66/100\n",
            "12/12 - 0s - loss: 0.1661 - accuracy: 0.9222 - val_loss: 0.2337 - val_accuracy: 0.9500 - 67ms/epoch - 6ms/step\n",
            "Epoch 67/100\n",
            "12/12 - 0s - loss: 0.1835 - accuracy: 0.9222 - val_loss: 0.2625 - val_accuracy: 0.9250 - 70ms/epoch - 6ms/step\n",
            "Epoch 68/100\n",
            "12/12 - 0s - loss: 0.1745 - accuracy: 0.9194 - val_loss: 0.2506 - val_accuracy: 0.9250 - 96ms/epoch - 8ms/step\n",
            "Epoch 69/100\n",
            "12/12 - 0s - loss: 0.1608 - accuracy: 0.9222 - val_loss: 0.2289 - val_accuracy: 0.9250 - 70ms/epoch - 6ms/step\n",
            "Epoch 70/100\n",
            "12/12 - 0s - loss: 0.1686 - accuracy: 0.9194 - val_loss: 0.2510 - val_accuracy: 0.9250 - 93ms/epoch - 8ms/step\n",
            "Epoch 71/100\n",
            "12/12 - 0s - loss: 0.1693 - accuracy: 0.9194 - val_loss: 0.2183 - val_accuracy: 0.9500 - 71ms/epoch - 6ms/step\n",
            "Epoch 72/100\n",
            "12/12 - 0s - loss: 0.1761 - accuracy: 0.9167 - val_loss: 0.2836 - val_accuracy: 0.9250 - 90ms/epoch - 7ms/step\n",
            "Epoch 73/100\n",
            "12/12 - 0s - loss: 0.1535 - accuracy: 0.9333 - val_loss: 0.2290 - val_accuracy: 0.9500 - 69ms/epoch - 6ms/step\n",
            "Epoch 74/100\n",
            "12/12 - 0s - loss: 0.1799 - accuracy: 0.9278 - val_loss: 0.2846 - val_accuracy: 0.9250 - 74ms/epoch - 6ms/step\n",
            "Epoch 75/100\n",
            "12/12 - 0s - loss: 0.1869 - accuracy: 0.9111 - val_loss: 0.2342 - val_accuracy: 0.9000 - 71ms/epoch - 6ms/step\n",
            "Epoch 76/100\n",
            "12/12 - 0s - loss: 0.1644 - accuracy: 0.9278 - val_loss: 0.2474 - val_accuracy: 0.9250 - 87ms/epoch - 7ms/step\n",
            "Epoch 77/100\n",
            "12/12 - 0s - loss: 0.1529 - accuracy: 0.9333 - val_loss: 0.2263 - val_accuracy: 0.9250 - 74ms/epoch - 6ms/step\n",
            "Epoch 78/100\n",
            "12/12 - 0s - loss: 0.1489 - accuracy: 0.9250 - val_loss: 0.2390 - val_accuracy: 0.9250 - 71ms/epoch - 6ms/step\n",
            "Epoch 79/100\n",
            "12/12 - 0s - loss: 0.1631 - accuracy: 0.9278 - val_loss: 0.2350 - val_accuracy: 0.9250 - 70ms/epoch - 6ms/step\n",
            "Epoch 80/100\n",
            "12/12 - 0s - loss: 0.1729 - accuracy: 0.9111 - val_loss: 0.2416 - val_accuracy: 0.9000 - 99ms/epoch - 8ms/step\n",
            "Epoch 81/100\n",
            "12/12 - 0s - loss: 0.1630 - accuracy: 0.9250 - val_loss: 0.2220 - val_accuracy: 0.9250 - 119ms/epoch - 10ms/step\n",
            "Epoch 82/100\n",
            "12/12 - 0s - loss: 0.1623 - accuracy: 0.9306 - val_loss: 0.2365 - val_accuracy: 0.9250 - 116ms/epoch - 10ms/step\n",
            "Epoch 83/100\n",
            "12/12 - 0s - loss: 0.1658 - accuracy: 0.9306 - val_loss: 0.2323 - val_accuracy: 0.9500 - 139ms/epoch - 12ms/step\n",
            "Epoch 84/100\n",
            "12/12 - 0s - loss: 0.1552 - accuracy: 0.9333 - val_loss: 0.2327 - val_accuracy: 0.9250 - 122ms/epoch - 10ms/step\n",
            "Epoch 85/100\n",
            "12/12 - 0s - loss: 0.1505 - accuracy: 0.9361 - val_loss: 0.2387 - val_accuracy: 0.9250 - 119ms/epoch - 10ms/step\n",
            "Epoch 86/100\n",
            "12/12 - 0s - loss: 0.1575 - accuracy: 0.9250 - val_loss: 0.2387 - val_accuracy: 0.9000 - 119ms/epoch - 10ms/step\n",
            "Epoch 87/100\n",
            "12/12 - 0s - loss: 0.1631 - accuracy: 0.9306 - val_loss: 0.2361 - val_accuracy: 0.9250 - 113ms/epoch - 9ms/step\n",
            "Epoch 88/100\n",
            "12/12 - 0s - loss: 0.1820 - accuracy: 0.9194 - val_loss: 0.2183 - val_accuracy: 0.9000 - 117ms/epoch - 10ms/step\n",
            "Epoch 89/100\n",
            "12/12 - 0s - loss: 0.1595 - accuracy: 0.9333 - val_loss: 0.2350 - val_accuracy: 0.9000 - 117ms/epoch - 10ms/step\n",
            "Epoch 90/100\n",
            "12/12 - 0s - loss: 0.1751 - accuracy: 0.9222 - val_loss: 0.2425 - val_accuracy: 0.9000 - 124ms/epoch - 10ms/step\n",
            "Epoch 91/100\n",
            "12/12 - 0s - loss: 0.1550 - accuracy: 0.9306 - val_loss: 0.2296 - val_accuracy: 0.9000 - 119ms/epoch - 10ms/step\n",
            "Epoch 92/100\n",
            "12/12 - 0s - loss: 0.1570 - accuracy: 0.9278 - val_loss: 0.2393 - val_accuracy: 0.9250 - 127ms/epoch - 11ms/step\n",
            "Epoch 93/100\n",
            "12/12 - 0s - loss: 0.1568 - accuracy: 0.9278 - val_loss: 0.2330 - val_accuracy: 0.9500 - 121ms/epoch - 10ms/step\n",
            "Epoch 94/100\n",
            "12/12 - 0s - loss: 0.1689 - accuracy: 0.9250 - val_loss: 0.2349 - val_accuracy: 0.9000 - 121ms/epoch - 10ms/step\n",
            "Epoch 95/100\n",
            "12/12 - 0s - loss: 0.1516 - accuracy: 0.9306 - val_loss: 0.2386 - val_accuracy: 0.9000 - 116ms/epoch - 10ms/step\n",
            "Epoch 96/100\n",
            "12/12 - 0s - loss: 0.1649 - accuracy: 0.9194 - val_loss: 0.2337 - val_accuracy: 0.9000 - 116ms/epoch - 10ms/step\n",
            "Epoch 97/100\n",
            "12/12 - 0s - loss: 0.1650 - accuracy: 0.9278 - val_loss: 0.2502 - val_accuracy: 0.9250 - 96ms/epoch - 8ms/step\n",
            "Epoch 98/100\n",
            "12/12 - 0s - loss: 0.1591 - accuracy: 0.9278 - val_loss: 0.2341 - val_accuracy: 0.9250 - 116ms/epoch - 10ms/step\n",
            "Epoch 99/100\n",
            "12/12 - 0s - loss: 0.1775 - accuracy: 0.9111 - val_loss: 0.2599 - val_accuracy: 0.9250 - 127ms/epoch - 11ms/step\n",
            "Epoch 100/100\n",
            "12/12 - 0s - loss: 0.1666 - accuracy: 0.9250 - val_loss: 0.2276 - val_accuracy: 0.9250 - 111ms/epoch - 9ms/step\n"
          ]
        }
      ],
      "source": [
        "history_2 = model_2.fit(X_train_normalized, \n",
        "                    y_train, \n",
        "                    validation_split=0.1, \n",
        "                    epochs=100, \n",
        "                    verbose=2)"
      ]
    },
    {
      "cell_type": "code",
      "execution_count": 25,
      "metadata": {
        "colab": {
          "base_uri": "https://localhost:8080/",
          "height": 472
        },
        "id": "i96cw1viV9om",
        "outputId": "513a2612-1701-4916-83f2-9e9209d8e4c8"
      },
      "outputs": [
        {
          "output_type": "display_data",
          "data": {
            "text/plain": [
              "<Figure size 640x480 with 1 Axes>"
            ],
            "image/png": "[encoded data removed]"
          },
          "metadata": {}
        }
      ],
      "source": [
        "plt.plot(history_2.history['accuracy'])\n",
        "plt.plot(history_2.history['val_accuracy'])\n",
        "plt.title('Accuracy vs Epochs')\n",
        "plt.ylabel('Accuracy')\n",
        "plt.xlabel('Epoch')\n",
        "plt.legend(['Train', 'Validation'], loc='lower right')\n",
        "plt.show()"
      ]
    },
    {
      "cell_type": "markdown",
      "metadata": {
        "id": "Iu0UbJjKAi8z"
      },
      "source": [
        "**Observations:** \n",
        "\n",
        "- We are able to slightly improve the model performance on the training data and the validation accuracy has also increased.\n",
        "- The validation accuracy is slightly higher than the training accuracy. This might due to the small size of the validation set and the model is able is to correctly classify the data points in the validation set."
      ]
    },
    {
      "cell_type": "markdown",
      "metadata": {
        "id": "TLXYwazvu0jQ"
      },
      "source": [
        "**Let's try to further tune some of the hyper-parameters and check if we can improve the model performance.**\n",
        "\n",
        "We will use learning_rate = 0.001 for the optimizer in the training process and increase the model complexity by further increasing the number of layers, the number of nodes in each layer, and the epochs."
      ]
    },
    {
      "cell_type": "code",
      "execution_count": 26,
      "metadata": {
        "id": "N7aNw91z_wgD"
      },
      "outputs": [],
      "source": [
        "# Clearing the backend\n",
        "from tensorflow.keras import backend\n",
        "backend.clear_session()"
      ]
    },
    {
      "cell_type": "code",
      "execution_count": 27,
      "metadata": {
        "id": "1HMdf0uSO3uw"
      },
      "outputs": [],
      "source": [
        "# Fixing the seed for random number generators\n",
        "np.random.seed(42)\n",
        "\n",
        "import random\n",
        "random.seed(42)\n",
        "\n",
        "tf.random.set_seed(42)"
      ]
    },
    {
      "cell_type": "code",
      "execution_count": 28,
      "metadata": {
        "id": "xRpBpRf_vXJO"
      },
      "outputs": [],
      "source": [
        "model_3 = Sequential()\n",
        "model_3.add(Dense(256, activation='tanh', input_shape=(11,)))\n",
        "model_3.add(Dropout(0.1))\n",
        "model_3.add(Dense(128, activation='tanh'))\n",
        "model_3.add(Dropout(0.1))\n",
        "model_3.add(Dense(64, activation='tanh'))\n",
        "model_3.add(Dropout(0.1))\n",
        "model_3.add(Dense(32, activation='tanh'))\n",
        "model_3.add(Dense(1, activation='sigmoid'))"
      ]
    },
    {
      "cell_type": "code",
      "execution_count": 29,
      "metadata": {
        "colab": {
          "base_uri": "https://localhost:8080/"
        },
        "id": "_kUFccLDy48t",
        "outputId": "91f04424-b3a9-4162-9f7b-37a1d7c52e96"
      },
      "outputs": [
        {
          "output_type": "stream",
          "name": "stdout",
          "text": [
            "Model: \"sequential\"\n",
            "_________________________________________________________________\n",
            " Layer (type)                Output Shape              Param #   \n",
            "=================================================================\n",
            " dense (Dense)               (None, 256)               3072      \n",
            "                                                                 \n",
            " dropout (Dropout)           (None, 256)               0         \n",
            "                                                                 \n",
            " dense_1 (Dense)             (None, 128)               32896     \n",
            "                                                                 \n",
            " dropout_1 (Dropout)         (None, 128)               0         \n",
            "                                                                 \n",
            " dense_2 (Dense)             (None, 64)                8256      \n",
            "                                                                 \n",
            " dropout_2 (Dropout)         (None, 64)                0         \n",
            "                                                                 \n",
            " dense_3 (Dense)             (None, 32)                2080      \n",
            "                                                                 \n",
            " dense_4 (Dense)             (None, 1)                 33        \n",
            "                                                                 \n",
            "=================================================================\n",
            "Total params: 46,337\n",
            "Trainable params: 46,337\n",
            "Non-trainable params: 0\n",
            "_________________________________________________________________\n"
          ]
        }
      ],
      "source": [
        "model_3.compile(loss = 'binary_crossentropy', optimizer=tf.keras.optimizers.Adam(learning_rate=0.001), metrics=['accuracy'])\n",
        "model_3.summary()"
      ]
    },
    {
      "cell_type": "markdown",
      "metadata": {
        "id": "8LBADqBprJ7J"
      },
      "source": [
        "- Notice that the number of trainable parameters has increased substantially as compared to previous models."
      ]
    },
    {
      "cell_type": "code",
      "execution_count": 30,
      "metadata": {
        "colab": {
          "base_uri": "https://localhost:8080/"
        },
        "id": "OLN7jZWmy_fb",
        "outputId": "7569a8b2-7613-4101-f2c1-37a70bc633ff"
      },
      "outputs": [
        {
          "output_type": "stream",
          "name": "stdout",
          "text": [
            "Epoch 1/200\n",
            "12/12 - 3s - loss: 0.5423 - accuracy: 0.7278 - val_loss: 0.3818 - val_accuracy: 0.9000 - 3s/epoch - 242ms/step\n",
            "Epoch 2/200\n",
            "12/12 - 0s - loss: 0.3642 - accuracy: 0.8611 - val_loss: 0.3379 - val_accuracy: 0.9000 - 78ms/epoch - 7ms/step\n",
            "Epoch 3/200\n",
            "12/12 - 0s - loss: 0.3222 - accuracy: 0.8528 - val_loss: 0.2938 - val_accuracy: 0.9000 - 80ms/epoch - 7ms/step\n",
            "Epoch 4/200\n",
            "12/12 - 0s - loss: 0.3090 - accuracy: 0.8694 - val_loss: 0.2875 - val_accuracy: 0.9250 - 81ms/epoch - 7ms/step\n",
            "Epoch 5/200\n",
            "12/12 - 0s - loss: 0.2804 - accuracy: 0.8889 - val_loss: 0.2543 - val_accuracy: 0.9000 - 95ms/epoch - 8ms/step\n",
            "Epoch 6/200\n",
            "12/12 - 0s - loss: 0.2878 - accuracy: 0.8722 - val_loss: 0.2619 - val_accuracy: 0.9250 - 80ms/epoch - 7ms/step\n",
            "Epoch 7/200\n",
            "12/12 - 0s - loss: 0.2469 - accuracy: 0.8861 - val_loss: 0.3036 - val_accuracy: 0.9250 - 82ms/epoch - 7ms/step\n",
            "Epoch 8/200\n",
            "12/12 - 0s - loss: 0.2286 - accuracy: 0.9139 - val_loss: 0.2800 - val_accuracy: 0.9250 - 86ms/epoch - 7ms/step\n",
            "Epoch 9/200\n",
            "12/12 - 0s - loss: 0.2340 - accuracy: 0.8944 - val_loss: 0.2364 - val_accuracy: 0.9250 - 76ms/epoch - 6ms/step\n",
            "Epoch 10/200\n",
            "12/12 - 0s - loss: 0.2057 - accuracy: 0.9139 - val_loss: 0.2412 - val_accuracy: 0.9250 - 74ms/epoch - 6ms/step\n",
            "Epoch 11/200\n",
            "12/12 - 0s - loss: 0.2164 - accuracy: 0.8972 - val_loss: 0.3028 - val_accuracy: 0.9000 - 80ms/epoch - 7ms/step\n",
            "Epoch 12/200\n",
            "12/12 - 0s - loss: 0.2042 - accuracy: 0.9056 - val_loss: 0.2487 - val_accuracy: 0.9250 - 76ms/epoch - 6ms/step\n",
            "Epoch 13/200\n",
            "12/12 - 0s - loss: 0.2097 - accuracy: 0.9000 - val_loss: 0.2663 - val_accuracy: 0.9250 - 87ms/epoch - 7ms/step\n",
            "Epoch 14/200\n",
            "12/12 - 0s - loss: 0.2282 - accuracy: 0.8889 - val_loss: 0.3329 - val_accuracy: 0.9000 - 73ms/epoch - 6ms/step\n",
            "Epoch 15/200\n",
            "12/12 - 0s - loss: 0.2526 - accuracy: 0.8917 - val_loss: 0.2168 - val_accuracy: 0.9250 - 74ms/epoch - 6ms/step\n",
            "Epoch 16/200\n",
            "12/12 - 0s - loss: 0.2114 - accuracy: 0.8972 - val_loss: 0.2221 - val_accuracy: 0.9250 - 92ms/epoch - 8ms/step\n",
            "Epoch 17/200\n",
            "12/12 - 0s - loss: 0.2066 - accuracy: 0.9139 - val_loss: 0.2658 - val_accuracy: 0.9250 - 89ms/epoch - 7ms/step\n",
            "Epoch 18/200\n",
            "12/12 - 0s - loss: 0.2062 - accuracy: 0.9139 - val_loss: 0.2330 - val_accuracy: 0.9250 - 79ms/epoch - 7ms/step\n",
            "Epoch 19/200\n",
            "12/12 - 0s - loss: 0.2265 - accuracy: 0.8806 - val_loss: 0.2557 - val_accuracy: 0.9250 - 76ms/epoch - 6ms/step\n",
            "Epoch 20/200\n",
            "12/12 - 0s - loss: 0.1930 - accuracy: 0.9000 - val_loss: 0.2354 - val_accuracy: 0.9250 - 70ms/epoch - 6ms/step\n",
            "Epoch 21/200\n",
            "12/12 - 0s - loss: 0.1977 - accuracy: 0.9167 - val_loss: 0.2267 - val_accuracy: 0.9500 - 89ms/epoch - 7ms/step\n",
            "Epoch 22/200\n",
            "12/12 - 0s - loss: 0.2029 - accuracy: 0.9139 - val_loss: 0.2237 - val_accuracy: 0.9000 - 78ms/epoch - 7ms/step\n",
            "Epoch 23/200\n",
            "12/12 - 0s - loss: 0.1953 - accuracy: 0.9000 - val_loss: 0.2593 - val_accuracy: 0.9250 - 77ms/epoch - 6ms/step\n",
            "Epoch 24/200\n",
            "12/12 - 0s - loss: 0.1918 - accuracy: 0.9167 - val_loss: 0.2423 - val_accuracy: 0.9250 - 75ms/epoch - 6ms/step\n",
            "Epoch 25/200\n",
            "12/12 - 0s - loss: 0.1900 - accuracy: 0.9250 - val_loss: 0.2089 - val_accuracy: 0.9250 - 76ms/epoch - 6ms/step\n",
            "Epoch 26/200\n",
            "12/12 - 0s - loss: 0.1736 - accuracy: 0.9278 - val_loss: 0.2240 - val_accuracy: 0.9500 - 76ms/epoch - 6ms/step\n",
            "Epoch 27/200\n",
            "12/12 - 0s - loss: 0.1691 - accuracy: 0.9278 - val_loss: 0.2439 - val_accuracy: 0.9250 - 76ms/epoch - 6ms/step\n",
            "Epoch 28/200\n",
            "12/12 - 0s - loss: 0.1759 - accuracy: 0.9222 - val_loss: 0.2218 - val_accuracy: 0.9250 - 94ms/epoch - 8ms/step\n",
            "Epoch 29/200\n",
            "12/12 - 0s - loss: 0.2031 - accuracy: 0.9083 - val_loss: 0.2225 - val_accuracy: 0.9250 - 96ms/epoch - 8ms/step\n",
            "Epoch 30/200\n",
            "12/12 - 0s - loss: 0.1922 - accuracy: 0.9139 - val_loss: 0.2477 - val_accuracy: 0.9250 - 72ms/epoch - 6ms/step\n",
            "Epoch 31/200\n",
            "12/12 - 0s - loss: 0.1821 - accuracy: 0.9083 - val_loss: 0.2595 - val_accuracy: 0.9250 - 77ms/epoch - 6ms/step\n",
            "Epoch 32/200\n",
            "12/12 - 0s - loss: 0.1775 - accuracy: 0.9278 - val_loss: 0.2263 - val_accuracy: 0.9500 - 92ms/epoch - 8ms/step\n",
            "Epoch 33/200\n",
            "12/12 - 0s - loss: 0.1634 - accuracy: 0.9306 - val_loss: 0.2359 - val_accuracy: 0.9250 - 72ms/epoch - 6ms/step\n",
            "Epoch 34/200\n",
            "12/12 - 0s - loss: 0.1687 - accuracy: 0.9250 - val_loss: 0.2272 - val_accuracy: 0.9250 - 75ms/epoch - 6ms/step\n",
            "Epoch 35/200\n",
            "12/12 - 0s - loss: 0.1733 - accuracy: 0.9139 - val_loss: 0.2205 - val_accuracy: 0.9500 - 90ms/epoch - 8ms/step\n",
            "Epoch 36/200\n",
            "12/12 - 0s - loss: 0.1794 - accuracy: 0.9167 - val_loss: 0.2343 - val_accuracy: 0.9250 - 84ms/epoch - 7ms/step\n",
            "Epoch 37/200\n",
            "12/12 - 0s - loss: 0.1691 - accuracy: 0.9083 - val_loss: 0.2241 - val_accuracy: 0.9250 - 91ms/epoch - 8ms/step\n",
            "Epoch 38/200\n",
            "12/12 - 0s - loss: 0.1627 - accuracy: 0.9306 - val_loss: 0.2337 - val_accuracy: 0.9000 - 72ms/epoch - 6ms/step\n",
            "Epoch 39/200\n",
            "12/12 - 0s - loss: 0.1716 - accuracy: 0.9222 - val_loss: 0.2296 - val_accuracy: 0.9500 - 77ms/epoch - 6ms/step\n",
            "Epoch 40/200\n",
            "12/12 - 0s - loss: 0.1847 - accuracy: 0.9111 - val_loss: 0.2777 - val_accuracy: 0.9250 - 74ms/epoch - 6ms/step\n",
            "Epoch 41/200\n",
            "12/12 - 0s - loss: 0.1776 - accuracy: 0.9139 - val_loss: 0.2185 - val_accuracy: 0.9500 - 86ms/epoch - 7ms/step\n",
            "Epoch 42/200\n",
            "12/12 - 0s - loss: 0.1675 - accuracy: 0.9167 - val_loss: 0.2414 - val_accuracy: 0.9250 - 76ms/epoch - 6ms/step\n",
            "Epoch 43/200\n",
            "12/12 - 0s - loss: 0.1736 - accuracy: 0.9139 - val_loss: 0.2509 - val_accuracy: 0.9250 - 77ms/epoch - 6ms/step\n",
            "Epoch 44/200\n",
            "12/12 - 0s - loss: 0.1689 - accuracy: 0.9194 - val_loss: 0.2278 - val_accuracy: 0.9000 - 74ms/epoch - 6ms/step\n",
            "Epoch 45/200\n",
            "12/12 - 0s - loss: 0.1643 - accuracy: 0.9333 - val_loss: 0.2224 - val_accuracy: 0.9250 - 75ms/epoch - 6ms/step\n",
            "Epoch 46/200\n",
            "12/12 - 0s - loss: 0.1686 - accuracy: 0.9222 - val_loss: 0.2191 - val_accuracy: 0.9250 - 73ms/epoch - 6ms/step\n",
            "Epoch 47/200\n",
            "12/12 - 0s - loss: 0.1633 - accuracy: 0.9278 - val_loss: 0.2202 - val_accuracy: 0.9250 - 76ms/epoch - 6ms/step\n",
            "Epoch 48/200\n",
            "12/12 - 0s - loss: 0.1603 - accuracy: 0.9306 - val_loss: 0.2401 - val_accuracy: 0.9250 - 72ms/epoch - 6ms/step\n",
            "Epoch 49/200\n",
            "12/12 - 0s - loss: 0.1621 - accuracy: 0.9250 - val_loss: 0.2283 - val_accuracy: 0.9250 - 96ms/epoch - 8ms/step\n",
            "Epoch 50/200\n",
            "12/12 - 0s - loss: 0.1557 - accuracy: 0.9250 - val_loss: 0.2553 - val_accuracy: 0.9250 - 87ms/epoch - 7ms/step\n",
            "Epoch 51/200\n",
            "12/12 - 0s - loss: 0.1601 - accuracy: 0.9167 - val_loss: 0.2362 - val_accuracy: 0.9250 - 75ms/epoch - 6ms/step\n",
            "Epoch 52/200\n",
            "12/12 - 0s - loss: 0.1632 - accuracy: 0.9306 - val_loss: 0.2249 - val_accuracy: 0.9250 - 73ms/epoch - 6ms/step\n",
            "Epoch 53/200\n",
            "12/12 - 0s - loss: 0.1679 - accuracy: 0.9278 - val_loss: 0.2710 - val_accuracy: 0.9250 - 96ms/epoch - 8ms/step\n",
            "Epoch 54/200\n",
            "12/12 - 0s - loss: 0.1963 - accuracy: 0.9056 - val_loss: 0.2263 - val_accuracy: 0.9500 - 74ms/epoch - 6ms/step\n",
            "Epoch 55/200\n",
            "12/12 - 0s - loss: 0.1809 - accuracy: 0.9083 - val_loss: 0.2273 - val_accuracy: 0.9500 - 103ms/epoch - 9ms/step\n",
            "Epoch 56/200\n",
            "12/12 - 0s - loss: 0.1663 - accuracy: 0.9222 - val_loss: 0.2370 - val_accuracy: 0.9250 - 87ms/epoch - 7ms/step\n",
            "Epoch 57/200\n",
            "12/12 - 0s - loss: 0.1547 - accuracy: 0.9333 - val_loss: 0.2292 - val_accuracy: 0.9500 - 71ms/epoch - 6ms/step\n",
            "Epoch 58/200\n",
            "12/12 - 0s - loss: 0.1570 - accuracy: 0.9417 - val_loss: 0.2321 - val_accuracy: 0.9250 - 76ms/epoch - 6ms/step\n",
            "Epoch 59/200\n",
            "12/12 - 0s - loss: 0.1879 - accuracy: 0.9028 - val_loss: 0.2576 - val_accuracy: 0.9250 - 93ms/epoch - 8ms/step\n",
            "Epoch 60/200\n",
            "12/12 - 0s - loss: 0.1583 - accuracy: 0.9306 - val_loss: 0.2330 - val_accuracy: 0.9250 - 79ms/epoch - 7ms/step\n",
            "Epoch 61/200\n",
            "12/12 - 0s - loss: 0.1558 - accuracy: 0.9250 - val_loss: 0.2385 - val_accuracy: 0.9250 - 81ms/epoch - 7ms/step\n",
            "Epoch 62/200\n",
            "12/12 - 0s - loss: 0.1534 - accuracy: 0.9361 - val_loss: 0.2402 - val_accuracy: 0.9250 - 77ms/epoch - 6ms/step\n",
            "Epoch 63/200\n",
            "12/12 - 0s - loss: 0.1681 - accuracy: 0.9139 - val_loss: 0.2342 - val_accuracy: 0.9500 - 92ms/epoch - 8ms/step\n",
            "Epoch 64/200\n",
            "12/12 - 0s - loss: 0.1473 - accuracy: 0.9361 - val_loss: 0.2455 - val_accuracy: 0.9250 - 85ms/epoch - 7ms/step\n",
            "Epoch 65/200\n",
            "12/12 - 0s - loss: 0.1642 - accuracy: 0.9278 - val_loss: 0.2365 - val_accuracy: 0.9000 - 76ms/epoch - 6ms/step\n",
            "Epoch 66/200\n",
            "12/12 - 0s - loss: 0.1691 - accuracy: 0.9250 - val_loss: 0.2342 - val_accuracy: 0.9500 - 97ms/epoch - 8ms/step\n",
            "Epoch 67/200\n",
            "12/12 - 0s - loss: 0.1959 - accuracy: 0.9194 - val_loss: 0.2604 - val_accuracy: 0.9250 - 76ms/epoch - 6ms/step\n",
            "Epoch 68/200\n",
            "12/12 - 0s - loss: 0.1824 - accuracy: 0.9167 - val_loss: 0.2428 - val_accuracy: 0.9250 - 74ms/epoch - 6ms/step\n",
            "Epoch 69/200\n",
            "12/12 - 0s - loss: 0.1634 - accuracy: 0.9278 - val_loss: 0.2301 - val_accuracy: 0.9250 - 70ms/epoch - 6ms/step\n",
            "Epoch 70/200\n",
            "12/12 - 0s - loss: 0.1536 - accuracy: 0.9306 - val_loss: 0.2351 - val_accuracy: 0.9500 - 95ms/epoch - 8ms/step\n",
            "Epoch 71/200\n",
            "12/12 - 0s - loss: 0.1588 - accuracy: 0.9278 - val_loss: 0.2299 - val_accuracy: 0.9500 - 88ms/epoch - 7ms/step\n",
            "Epoch 72/200\n",
            "12/12 - 0s - loss: 0.1563 - accuracy: 0.9278 - val_loss: 0.3029 - val_accuracy: 0.9250 - 76ms/epoch - 6ms/step\n",
            "Epoch 73/200\n",
            "12/12 - 0s - loss: 0.1565 - accuracy: 0.9278 - val_loss: 0.2332 - val_accuracy: 0.9500 - 78ms/epoch - 7ms/step\n",
            "Epoch 74/200\n",
            "12/12 - 0s - loss: 0.1445 - accuracy: 0.9417 - val_loss: 0.2911 - val_accuracy: 0.9250 - 85ms/epoch - 7ms/step\n",
            "Epoch 75/200\n",
            "12/12 - 0s - loss: 0.1841 - accuracy: 0.9083 - val_loss: 0.2349 - val_accuracy: 0.9250 - 75ms/epoch - 6ms/step\n",
            "Epoch 76/200\n",
            "12/12 - 0s - loss: 0.1484 - accuracy: 0.9306 - val_loss: 0.2409 - val_accuracy: 0.9250 - 85ms/epoch - 7ms/step\n",
            "Epoch 77/200\n",
            "12/12 - 0s - loss: 0.1530 - accuracy: 0.9306 - val_loss: 0.2322 - val_accuracy: 0.9500 - 78ms/epoch - 6ms/step\n",
            "Epoch 78/200\n",
            "12/12 - 0s - loss: 0.1583 - accuracy: 0.9139 - val_loss: 0.2438 - val_accuracy: 0.9000 - 89ms/epoch - 7ms/step\n",
            "Epoch 79/200\n",
            "12/12 - 0s - loss: 0.1604 - accuracy: 0.9222 - val_loss: 0.2364 - val_accuracy: 0.9250 - 75ms/epoch - 6ms/step\n",
            "Epoch 80/200\n",
            "12/12 - 0s - loss: 0.1662 - accuracy: 0.9222 - val_loss: 0.2506 - val_accuracy: 0.9250 - 84ms/epoch - 7ms/step\n",
            "Epoch 81/200\n",
            "12/12 - 0s - loss: 0.1588 - accuracy: 0.9361 - val_loss: 0.2366 - val_accuracy: 0.9500 - 76ms/epoch - 6ms/step\n",
            "Epoch 82/200\n",
            "12/12 - 0s - loss: 0.1471 - accuracy: 0.9333 - val_loss: 0.2444 - val_accuracy: 0.9000 - 74ms/epoch - 6ms/step\n",
            "Epoch 83/200\n",
            "12/12 - 0s - loss: 0.1612 - accuracy: 0.9222 - val_loss: 0.2409 - val_accuracy: 0.9500 - 74ms/epoch - 6ms/step\n",
            "Epoch 84/200\n",
            "12/12 - 0s - loss: 0.1381 - accuracy: 0.9361 - val_loss: 0.2427 - val_accuracy: 0.9250 - 77ms/epoch - 6ms/step\n",
            "Epoch 85/200\n",
            "12/12 - 0s - loss: 0.1550 - accuracy: 0.9306 - val_loss: 0.2363 - val_accuracy: 0.9250 - 75ms/epoch - 6ms/step\n",
            "Epoch 86/200\n",
            "12/12 - 0s - loss: 0.1413 - accuracy: 0.9278 - val_loss: 0.2448 - val_accuracy: 0.9250 - 74ms/epoch - 6ms/step\n",
            "Epoch 87/200\n",
            "12/12 - 0s - loss: 0.1468 - accuracy: 0.9361 - val_loss: 0.2490 - val_accuracy: 0.9250 - 76ms/epoch - 6ms/step\n",
            "Epoch 88/200\n",
            "12/12 - 0s - loss: 0.1662 - accuracy: 0.9028 - val_loss: 0.2290 - val_accuracy: 0.9250 - 96ms/epoch - 8ms/step\n",
            "Epoch 89/200\n",
            "12/12 - 0s - loss: 0.1437 - accuracy: 0.9278 - val_loss: 0.2439 - val_accuracy: 0.9500 - 183ms/epoch - 15ms/step\n",
            "Epoch 90/200\n",
            "12/12 - 0s - loss: 0.1412 - accuracy: 0.9306 - val_loss: 0.2447 - val_accuracy: 0.9250 - 215ms/epoch - 18ms/step\n",
            "Epoch 91/200\n",
            "12/12 - 0s - loss: 0.1404 - accuracy: 0.9417 - val_loss: 0.2482 - val_accuracy: 0.9000 - 236ms/epoch - 20ms/step\n",
            "Epoch 92/200\n",
            "12/12 - 0s - loss: 0.1423 - accuracy: 0.9333 - val_loss: 0.2453 - val_accuracy: 0.9250 - 145ms/epoch - 12ms/step\n",
            "Epoch 93/200\n",
            "12/12 - 0s - loss: 0.1402 - accuracy: 0.9417 - val_loss: 0.2408 - val_accuracy: 0.9500 - 76ms/epoch - 6ms/step\n",
            "Epoch 94/200\n",
            "12/12 - 0s - loss: 0.1535 - accuracy: 0.9333 - val_loss: 0.2506 - val_accuracy: 0.9250 - 73ms/epoch - 6ms/step\n",
            "Epoch 95/200\n",
            "12/12 - 0s - loss: 0.1583 - accuracy: 0.9306 - val_loss: 0.2510 - val_accuracy: 0.9500 - 96ms/epoch - 8ms/step\n",
            "Epoch 96/200\n",
            "12/12 - 0s - loss: 0.1624 - accuracy: 0.9250 - val_loss: 0.2409 - val_accuracy: 0.9500 - 97ms/epoch - 8ms/step\n",
            "Epoch 97/200\n",
            "12/12 - 0s - loss: 0.1466 - accuracy: 0.9389 - val_loss: 0.2408 - val_accuracy: 0.9500 - 100ms/epoch - 8ms/step\n",
            "Epoch 98/200\n",
            "12/12 - 0s - loss: 0.1394 - accuracy: 0.9472 - val_loss: 0.2423 - val_accuracy: 0.9250 - 134ms/epoch - 11ms/step\n",
            "Epoch 99/200\n",
            "12/12 - 0s - loss: 0.1612 - accuracy: 0.9111 - val_loss: 0.2612 - val_accuracy: 0.9250 - 298ms/epoch - 25ms/step\n",
            "Epoch 100/200\n",
            "12/12 - 0s - loss: 0.1314 - accuracy: 0.9333 - val_loss: 0.2427 - val_accuracy: 0.9250 - 439ms/epoch - 37ms/step\n",
            "Epoch 101/200\n",
            "12/12 - 0s - loss: 0.1434 - accuracy: 0.9361 - val_loss: 0.2363 - val_accuracy: 0.9500 - 196ms/epoch - 16ms/step\n",
            "Epoch 102/200\n",
            "12/12 - 0s - loss: 0.1478 - accuracy: 0.9417 - val_loss: 0.2428 - val_accuracy: 0.9500 - 125ms/epoch - 10ms/step\n",
            "Epoch 103/200\n",
            "12/12 - 0s - loss: 0.1441 - accuracy: 0.9278 - val_loss: 0.2889 - val_accuracy: 0.9250 - 126ms/epoch - 10ms/step\n",
            "Epoch 104/200\n",
            "12/12 - 0s - loss: 0.1591 - accuracy: 0.9222 - val_loss: 0.2469 - val_accuracy: 0.9250 - 129ms/epoch - 11ms/step\n",
            "Epoch 105/200\n",
            "12/12 - 0s - loss: 0.1388 - accuracy: 0.9417 - val_loss: 0.2549 - val_accuracy: 0.9250 - 394ms/epoch - 33ms/step\n",
            "Epoch 106/200\n",
            "12/12 - 0s - loss: 0.1540 - accuracy: 0.9361 - val_loss: 0.2402 - val_accuracy: 0.9500 - 363ms/epoch - 30ms/step\n",
            "Epoch 107/200\n",
            "12/12 - 0s - loss: 0.1482 - accuracy: 0.9278 - val_loss: 0.2399 - val_accuracy: 0.9500 - 394ms/epoch - 33ms/step\n",
            "Epoch 108/200\n",
            "12/12 - 0s - loss: 0.1359 - accuracy: 0.9361 - val_loss: 0.2484 - val_accuracy: 0.9250 - 218ms/epoch - 18ms/step\n",
            "Epoch 109/200\n",
            "12/12 - 0s - loss: 0.1497 - accuracy: 0.9250 - val_loss: 0.2524 - val_accuracy: 0.9000 - 127ms/epoch - 11ms/step\n",
            "Epoch 110/200\n",
            "12/12 - 0s - loss: 0.1456 - accuracy: 0.9250 - val_loss: 0.2436 - val_accuracy: 0.9500 - 120ms/epoch - 10ms/step\n",
            "Epoch 111/200\n",
            "12/12 - 0s - loss: 0.1638 - accuracy: 0.9167 - val_loss: 0.2809 - val_accuracy: 0.9250 - 113ms/epoch - 9ms/step\n",
            "Epoch 112/200\n",
            "12/12 - 0s - loss: 0.1485 - accuracy: 0.9306 - val_loss: 0.2412 - val_accuracy: 0.9500 - 75ms/epoch - 6ms/step\n",
            "Epoch 113/200\n",
            "12/12 - 0s - loss: 0.1397 - accuracy: 0.9361 - val_loss: 0.2495 - val_accuracy: 0.9500 - 94ms/epoch - 8ms/step\n",
            "Epoch 114/200\n",
            "12/12 - 0s - loss: 0.1378 - accuracy: 0.9333 - val_loss: 0.2357 - val_accuracy: 0.9250 - 91ms/epoch - 8ms/step\n",
            "Epoch 115/200\n",
            "12/12 - 0s - loss: 0.1482 - accuracy: 0.9278 - val_loss: 0.2543 - val_accuracy: 0.9500 - 76ms/epoch - 6ms/step\n",
            "Epoch 116/200\n",
            "12/12 - 0s - loss: 0.1311 - accuracy: 0.9361 - val_loss: 0.2377 - val_accuracy: 0.9250 - 93ms/epoch - 8ms/step\n",
            "Epoch 117/200\n",
            "12/12 - 0s - loss: 0.1418 - accuracy: 0.9444 - val_loss: 0.2588 - val_accuracy: 0.9250 - 100ms/epoch - 8ms/step\n",
            "Epoch 118/200\n",
            "12/12 - 0s - loss: 0.1590 - accuracy: 0.9194 - val_loss: 0.2548 - val_accuracy: 0.9500 - 79ms/epoch - 7ms/step\n",
            "Epoch 119/200\n",
            "12/12 - 0s - loss: 0.1457 - accuracy: 0.9361 - val_loss: 0.2575 - val_accuracy: 0.9500 - 80ms/epoch - 7ms/step\n",
            "Epoch 120/200\n",
            "12/12 - 0s - loss: 0.1443 - accuracy: 0.9250 - val_loss: 0.2575 - val_accuracy: 0.9500 - 93ms/epoch - 8ms/step\n",
            "Epoch 121/200\n",
            "12/12 - 0s - loss: 0.1355 - accuracy: 0.9389 - val_loss: 0.2463 - val_accuracy: 0.9500 - 83ms/epoch - 7ms/step\n",
            "Epoch 122/200\n",
            "12/12 - 0s - loss: 0.1392 - accuracy: 0.9361 - val_loss: 0.2425 - val_accuracy: 0.9500 - 80ms/epoch - 7ms/step\n",
            "Epoch 123/200\n",
            "12/12 - 0s - loss: 0.1325 - accuracy: 0.9389 - val_loss: 0.2549 - val_accuracy: 0.9500 - 77ms/epoch - 6ms/step\n",
            "Epoch 124/200\n",
            "12/12 - 0s - loss: 0.1564 - accuracy: 0.9167 - val_loss: 0.2673 - val_accuracy: 0.9250 - 89ms/epoch - 7ms/step\n",
            "Epoch 125/200\n",
            "12/12 - 0s - loss: 0.1432 - accuracy: 0.9306 - val_loss: 0.2514 - val_accuracy: 0.9500 - 77ms/epoch - 6ms/step\n",
            "Epoch 126/200\n",
            "12/12 - 0s - loss: 0.1511 - accuracy: 0.9222 - val_loss: 0.2447 - val_accuracy: 0.9500 - 95ms/epoch - 8ms/step\n",
            "Epoch 127/200\n",
            "12/12 - 0s - loss: 0.1356 - accuracy: 0.9278 - val_loss: 0.2615 - val_accuracy: 0.9250 - 78ms/epoch - 7ms/step\n",
            "Epoch 128/200\n",
            "12/12 - 0s - loss: 0.1431 - accuracy: 0.9333 - val_loss: 0.2502 - val_accuracy: 0.9500 - 97ms/epoch - 8ms/step\n",
            "Epoch 129/200\n",
            "12/12 - 0s - loss: 0.1537 - accuracy: 0.9167 - val_loss: 0.2573 - val_accuracy: 0.9500 - 84ms/epoch - 7ms/step\n",
            "Epoch 130/200\n",
            "12/12 - 0s - loss: 0.1319 - accuracy: 0.9361 - val_loss: 0.2438 - val_accuracy: 0.9500 - 75ms/epoch - 6ms/step\n",
            "Epoch 131/200\n",
            "12/12 - 0s - loss: 0.1386 - accuracy: 0.9306 - val_loss: 0.2573 - val_accuracy: 0.9500 - 94ms/epoch - 8ms/step\n",
            "Epoch 132/200\n",
            "12/12 - 0s - loss: 0.1445 - accuracy: 0.9278 - val_loss: 0.2508 - val_accuracy: 0.9500 - 71ms/epoch - 6ms/step\n",
            "Epoch 133/200\n",
            "12/12 - 0s - loss: 0.1429 - accuracy: 0.9222 - val_loss: 0.2633 - val_accuracy: 0.9250 - 75ms/epoch - 6ms/step\n",
            "Epoch 134/200\n",
            "12/12 - 0s - loss: 0.1345 - accuracy: 0.9250 - val_loss: 0.2462 - val_accuracy: 0.9250 - 78ms/epoch - 6ms/step\n",
            "Epoch 135/200\n",
            "12/12 - 0s - loss: 0.1303 - accuracy: 0.9417 - val_loss: 0.2662 - val_accuracy: 0.9250 - 69ms/epoch - 6ms/step\n",
            "Epoch 136/200\n",
            "12/12 - 0s - loss: 0.1347 - accuracy: 0.9333 - val_loss: 0.2461 - val_accuracy: 0.9500 - 78ms/epoch - 7ms/step\n",
            "Epoch 137/200\n",
            "12/12 - 0s - loss: 0.1276 - accuracy: 0.9389 - val_loss: 0.2602 - val_accuracy: 0.9500 - 79ms/epoch - 7ms/step\n",
            "Epoch 138/200\n",
            "12/12 - 0s - loss: 0.1392 - accuracy: 0.9333 - val_loss: 0.2678 - val_accuracy: 0.9250 - 81ms/epoch - 7ms/step\n",
            "Epoch 139/200\n",
            "12/12 - 0s - loss: 0.1384 - accuracy: 0.9361 - val_loss: 0.2815 - val_accuracy: 0.9250 - 79ms/epoch - 7ms/step\n",
            "Epoch 140/200\n",
            "12/12 - 0s - loss: 0.1354 - accuracy: 0.9278 - val_loss: 0.2483 - val_accuracy: 0.9500 - 80ms/epoch - 7ms/step\n",
            "Epoch 141/200\n",
            "12/12 - 0s - loss: 0.1364 - accuracy: 0.9472 - val_loss: 0.2705 - val_accuracy: 0.9250 - 86ms/epoch - 7ms/step\n",
            "Epoch 142/200\n",
            "12/12 - 0s - loss: 0.1472 - accuracy: 0.9306 - val_loss: 0.2489 - val_accuracy: 0.9500 - 89ms/epoch - 7ms/step\n",
            "Epoch 143/200\n",
            "12/12 - 0s - loss: 0.1551 - accuracy: 0.9278 - val_loss: 0.2510 - val_accuracy: 0.9500 - 78ms/epoch - 6ms/step\n",
            "Epoch 144/200\n",
            "12/12 - 0s - loss: 0.1484 - accuracy: 0.9361 - val_loss: 0.2678 - val_accuracy: 0.9250 - 95ms/epoch - 8ms/step\n",
            "Epoch 145/200\n",
            "12/12 - 0s - loss: 0.1327 - accuracy: 0.9361 - val_loss: 0.2510 - val_accuracy: 0.9500 - 77ms/epoch - 6ms/step\n",
            "Epoch 146/200\n",
            "12/12 - 0s - loss: 0.1429 - accuracy: 0.9417 - val_loss: 0.2578 - val_accuracy: 0.9500 - 70ms/epoch - 6ms/step\n",
            "Epoch 147/200\n",
            "12/12 - 0s - loss: 0.1407 - accuracy: 0.9222 - val_loss: 0.2788 - val_accuracy: 0.9250 - 92ms/epoch - 8ms/step\n",
            "Epoch 148/200\n",
            "12/12 - 0s - loss: 0.1403 - accuracy: 0.9417 - val_loss: 0.2479 - val_accuracy: 0.9500 - 75ms/epoch - 6ms/step\n",
            "Epoch 149/200\n",
            "12/12 - 0s - loss: 0.1479 - accuracy: 0.9167 - val_loss: 0.2480 - val_accuracy: 0.9500 - 76ms/epoch - 6ms/step\n",
            "Epoch 150/200\n",
            "12/12 - 0s - loss: 0.1395 - accuracy: 0.9361 - val_loss: 0.2537 - val_accuracy: 0.9500 - 86ms/epoch - 7ms/step\n",
            "Epoch 151/200\n",
            "12/12 - 0s - loss: 0.1323 - accuracy: 0.9417 - val_loss: 0.2489 - val_accuracy: 0.9250 - 86ms/epoch - 7ms/step\n",
            "Epoch 152/200\n",
            "12/12 - 0s - loss: 0.1347 - accuracy: 0.9417 - val_loss: 0.2521 - val_accuracy: 0.9500 - 87ms/epoch - 7ms/step\n",
            "Epoch 153/200\n",
            "12/12 - 0s - loss: 0.1355 - accuracy: 0.9361 - val_loss: 0.2511 - val_accuracy: 0.9500 - 77ms/epoch - 6ms/step\n",
            "Epoch 154/200\n",
            "12/12 - 0s - loss: 0.1445 - accuracy: 0.9361 - val_loss: 0.2797 - val_accuracy: 0.9250 - 88ms/epoch - 7ms/step\n",
            "Epoch 155/200\n",
            "12/12 - 0s - loss: 0.1427 - accuracy: 0.9333 - val_loss: 0.2603 - val_accuracy: 0.9500 - 74ms/epoch - 6ms/step\n",
            "Epoch 156/200\n",
            "12/12 - 0s - loss: 0.1324 - accuracy: 0.9417 - val_loss: 0.2505 - val_accuracy: 0.9500 - 91ms/epoch - 8ms/step\n",
            "Epoch 157/200\n",
            "12/12 - 0s - loss: 0.1324 - accuracy: 0.9389 - val_loss: 0.2770 - val_accuracy: 0.9250 - 74ms/epoch - 6ms/step\n",
            "Epoch 158/200\n",
            "12/12 - 0s - loss: 0.1406 - accuracy: 0.9306 - val_loss: 0.2639 - val_accuracy: 0.9250 - 77ms/epoch - 6ms/step\n",
            "Epoch 159/200\n",
            "12/12 - 0s - loss: 0.1242 - accuracy: 0.9389 - val_loss: 0.2501 - val_accuracy: 0.9500 - 79ms/epoch - 7ms/step\n",
            "Epoch 160/200\n",
            "12/12 - 0s - loss: 0.1274 - accuracy: 0.9306 - val_loss: 0.2664 - val_accuracy: 0.9500 - 88ms/epoch - 7ms/step\n",
            "Epoch 161/200\n",
            "12/12 - 0s - loss: 0.1511 - accuracy: 0.9361 - val_loss: 0.2757 - val_accuracy: 0.9250 - 93ms/epoch - 8ms/step\n",
            "Epoch 162/200\n",
            "12/12 - 0s - loss: 0.1485 - accuracy: 0.9306 - val_loss: 0.2702 - val_accuracy: 0.9250 - 79ms/epoch - 7ms/step\n",
            "Epoch 163/200\n",
            "12/12 - 0s - loss: 0.1424 - accuracy: 0.9278 - val_loss: 0.2795 - val_accuracy: 0.9250 - 82ms/epoch - 7ms/step\n",
            "Epoch 164/200\n",
            "12/12 - 0s - loss: 0.1277 - accuracy: 0.9333 - val_loss: 0.2529 - val_accuracy: 0.9500 - 95ms/epoch - 8ms/step\n",
            "Epoch 165/200\n",
            "12/12 - 0s - loss: 0.1430 - accuracy: 0.9306 - val_loss: 0.2540 - val_accuracy: 0.9500 - 89ms/epoch - 7ms/step\n",
            "Epoch 166/200\n",
            "12/12 - 0s - loss: 0.1475 - accuracy: 0.9306 - val_loss: 0.2791 - val_accuracy: 0.9250 - 73ms/epoch - 6ms/step\n",
            "Epoch 167/200\n",
            "12/12 - 0s - loss: 0.1470 - accuracy: 0.9250 - val_loss: 0.2519 - val_accuracy: 0.9500 - 76ms/epoch - 6ms/step\n",
            "Epoch 168/200\n",
            "12/12 - 0s - loss: 0.1267 - accuracy: 0.9500 - val_loss: 0.2532 - val_accuracy: 0.9250 - 84ms/epoch - 7ms/step\n",
            "Epoch 169/200\n",
            "12/12 - 0s - loss: 0.1250 - accuracy: 0.9333 - val_loss: 0.2575 - val_accuracy: 0.9250 - 96ms/epoch - 8ms/step\n",
            "Epoch 170/200\n",
            "12/12 - 0s - loss: 0.1276 - accuracy: 0.9333 - val_loss: 0.2489 - val_accuracy: 0.9250 - 85ms/epoch - 7ms/step\n",
            "Epoch 171/200\n",
            "12/12 - 0s - loss: 0.1331 - accuracy: 0.9278 - val_loss: 0.2939 - val_accuracy: 0.9250 - 92ms/epoch - 8ms/step\n",
            "Epoch 172/200\n",
            "12/12 - 0s - loss: 0.1203 - accuracy: 0.9528 - val_loss: 0.2518 - val_accuracy: 0.9500 - 81ms/epoch - 7ms/step\n",
            "Epoch 173/200\n",
            "12/12 - 0s - loss: 0.1381 - accuracy: 0.9333 - val_loss: 0.2617 - val_accuracy: 0.9500 - 82ms/epoch - 7ms/step\n",
            "Epoch 174/200\n",
            "12/12 - 0s - loss: 0.1300 - accuracy: 0.9444 - val_loss: 0.2532 - val_accuracy: 0.9500 - 83ms/epoch - 7ms/step\n",
            "Epoch 175/200\n",
            "12/12 - 0s - loss: 0.1256 - accuracy: 0.9389 - val_loss: 0.2580 - val_accuracy: 0.9500 - 84ms/epoch - 7ms/step\n",
            "Epoch 176/200\n",
            "12/12 - 0s - loss: 0.1240 - accuracy: 0.9389 - val_loss: 0.2568 - val_accuracy: 0.9500 - 74ms/epoch - 6ms/step\n",
            "Epoch 177/200\n",
            "12/12 - 0s - loss: 0.1336 - accuracy: 0.9417 - val_loss: 0.2569 - val_accuracy: 0.9250 - 87ms/epoch - 7ms/step\n",
            "Epoch 178/200\n",
            "12/12 - 0s - loss: 0.1423 - accuracy: 0.9333 - val_loss: 0.2612 - val_accuracy: 0.9500 - 76ms/epoch - 6ms/step\n",
            "Epoch 179/200\n",
            "12/12 - 0s - loss: 0.1187 - accuracy: 0.9528 - val_loss: 0.2588 - val_accuracy: 0.9500 - 74ms/epoch - 6ms/step\n",
            "Epoch 180/200\n",
            "12/12 - 0s - loss: 0.1271 - accuracy: 0.9361 - val_loss: 0.2568 - val_accuracy: 0.9250 - 79ms/epoch - 7ms/step\n",
            "Epoch 181/200\n",
            "12/12 - 0s - loss: 0.1294 - accuracy: 0.9361 - val_loss: 0.2566 - val_accuracy: 0.9250 - 82ms/epoch - 7ms/step\n",
            "Epoch 182/200\n",
            "12/12 - 0s - loss: 0.1262 - accuracy: 0.9389 - val_loss: 0.3305 - val_accuracy: 0.9250 - 75ms/epoch - 6ms/step\n",
            "Epoch 183/200\n",
            "12/12 - 0s - loss: 0.1367 - accuracy: 0.9500 - val_loss: 0.2602 - val_accuracy: 0.9250 - 74ms/epoch - 6ms/step\n",
            "Epoch 184/200\n",
            "12/12 - 0s - loss: 0.1413 - accuracy: 0.9250 - val_loss: 0.3078 - val_accuracy: 0.9250 - 92ms/epoch - 8ms/step\n",
            "Epoch 185/200\n",
            "12/12 - 0s - loss: 0.1381 - accuracy: 0.9306 - val_loss: 0.2628 - val_accuracy: 0.9250 - 77ms/epoch - 6ms/step\n",
            "Epoch 186/200\n",
            "12/12 - 0s - loss: 0.1411 - accuracy: 0.9333 - val_loss: 0.2582 - val_accuracy: 0.9500 - 97ms/epoch - 8ms/step\n",
            "Epoch 187/200\n",
            "12/12 - 0s - loss: 0.1224 - accuracy: 0.9417 - val_loss: 0.2595 - val_accuracy: 0.9500 - 81ms/epoch - 7ms/step\n",
            "Epoch 188/200\n",
            "12/12 - 0s - loss: 0.1242 - accuracy: 0.9389 - val_loss: 0.2571 - val_accuracy: 0.9500 - 73ms/epoch - 6ms/step\n",
            "Epoch 189/200\n",
            "12/12 - 0s - loss: 0.1240 - accuracy: 0.9361 - val_loss: 0.2583 - val_accuracy: 0.9500 - 68ms/epoch - 6ms/step\n",
            "Epoch 190/200\n",
            "12/12 - 0s - loss: 0.1293 - accuracy: 0.9333 - val_loss: 0.2574 - val_accuracy: 0.9500 - 97ms/epoch - 8ms/step\n",
            "Epoch 191/200\n",
            "12/12 - 0s - loss: 0.1299 - accuracy: 0.9389 - val_loss: 0.2635 - val_accuracy: 0.9500 - 78ms/epoch - 6ms/step\n",
            "Epoch 192/200\n",
            "12/12 - 0s - loss: 0.1214 - accuracy: 0.9444 - val_loss: 0.2575 - val_accuracy: 0.9500 - 78ms/epoch - 6ms/step\n",
            "Epoch 193/200\n",
            "12/12 - 0s - loss: 0.1241 - accuracy: 0.9444 - val_loss: 0.2577 - val_accuracy: 0.9500 - 80ms/epoch - 7ms/step\n",
            "Epoch 194/200\n",
            "12/12 - 0s - loss: 0.1434 - accuracy: 0.9361 - val_loss: 0.3077 - val_accuracy: 0.9250 - 74ms/epoch - 6ms/step\n",
            "Epoch 195/200\n",
            "12/12 - 0s - loss: 0.1362 - accuracy: 0.9417 - val_loss: 0.2577 - val_accuracy: 0.9500 - 90ms/epoch - 7ms/step\n",
            "Epoch 196/200\n",
            "12/12 - 0s - loss: 0.1449 - accuracy: 0.9333 - val_loss: 0.2561 - val_accuracy: 0.9500 - 71ms/epoch - 6ms/step\n",
            "Epoch 197/200\n",
            "12/12 - 0s - loss: 0.1335 - accuracy: 0.9361 - val_loss: 0.3176 - val_accuracy: 0.9250 - 77ms/epoch - 6ms/step\n",
            "Epoch 198/200\n",
            "12/12 - 0s - loss: 0.1437 - accuracy: 0.9333 - val_loss: 0.2585 - val_accuracy: 0.9500 - 79ms/epoch - 7ms/step\n",
            "Epoch 199/200\n",
            "12/12 - 0s - loss: 0.1255 - accuracy: 0.9417 - val_loss: 0.2586 - val_accuracy: 0.9500 - 91ms/epoch - 8ms/step\n",
            "Epoch 200/200\n",
            "12/12 - 0s - loss: 0.1235 - accuracy: 0.9444 - val_loss: 0.2710 - val_accuracy: 0.9250 - 74ms/epoch - 6ms/step\n"
          ]
        }
      ],
      "source": [
        "history_3 = model_3.fit(X_train_normalized, \n",
        "                    y_train, \n",
        "                    validation_split=0.1, \n",
        "                    epochs=200,\n",
        "                    verbose=2)"
      ]
    },
    {
      "cell_type": "code",
      "execution_count": 31,
      "metadata": {
        "colab": {
          "base_uri": "https://localhost:8080/",
          "height": 472
        },
        "id": "zBvMtn6VzFDJ",
        "outputId": "e8cce3b7-a141-4347-c133-024ad5f0ca12"
      },
      "outputs": [
        {
          "output_type": "display_data",
          "data": {
            "text/plain": [
              "<Figure size 640x480 with 1 Axes>"
            ],
            "image/png": "[encoded data removed]"
          },
          "metadata": {}
        }
      ],
      "source": [
        "plt.plot(history_3.history['accuracy'])\n",
        "plt.plot(history_3.history['val_accuracy'])\n",
        "plt.title('Accuracy vs Epochs')\n",
        "plt.ylabel('Accuracy')\n",
        "plt.xlabel('Epoch')\n",
        "plt.legend(['Train', 'Validation'], loc='lower right')\n",
        "plt.show()"
      ]
    },
    {
      "cell_type": "markdown",
      "metadata": {
        "id": "-xfRck7yrbX5"
      },
      "source": [
        "**Observations:**\n",
        "\n",
        "- This model is giving a generalized performance with 95% accuracy on the train as well as validation data.\n",
        "- The validation accuracy is similar to the previous model but the training accuracy has increased.\n",
        "- One reason for the algorithm not being able to reach higher than 95% even for training data might be due to the optimizer being stuck at some local minima.\n",
        "- One way to resolve that is to further tune the model with some other hyper-parameters.\n",
        "- Among all three models, model 3 has given the best performance. Let's check its performance on the test data."
      ]
    },
    {
      "cell_type": "markdown",
      "metadata": {
        "id": "iSpvgJ_ZPP0f"
      },
      "source": [
        "### **Model evaluation on the test data**"
      ]
    },
    {
      "cell_type": "code",
      "execution_count": 32,
      "metadata": {
        "colab": {
          "base_uri": "https://localhost:8080/"
        },
        "id": "VNs-4a67SXNT",
        "outputId": "dc1be146-da3b-4849-dc06-98f08be7b3a0"
      },
      "outputs": [
        {
          "output_type": "stream",
          "name": "stdout",
          "text": [
            "4/4 [==============================] - 0s 5ms/step - loss: 0.1021 - accuracy: 0.9600\n",
            "4/4 [==============================] - 0s 3ms/step\n"
          ]
        }
      ],
      "source": [
        "model_3.evaluate(X_test_normalized, y_test, verbose = 1)\n",
        "test_pred = np.round(model_3.predict(X_test_normalized))"
      ]
    },
    {
      "cell_type": "markdown",
      "metadata": {
        "id": "RldGhjVdxHCx"
      },
      "source": [
        "The test accuracy is also coming out to be 95% which implies that our model is able to replicate the performance from the train and validation data on the test (unseen) data."
      ]
    },
    {
      "cell_type": "code",
      "execution_count": 33,
      "metadata": {
        "colab": {
          "base_uri": "https://localhost:8080/",
          "height": 621
        },
        "id": "y5fWdjHHPTZh",
        "outputId": "45eb3eb3-a6b8-4ff1-8529-070fd4000fb6"
      },
      "outputs": [
        {
          "output_type": "stream",
          "name": "stdout",
          "text": [
            "              precision    recall  f1-score   support\n",
            "\n",
            "           0       0.96      0.99      0.97        73\n",
            "           1       0.96      0.89      0.92        27\n",
            "\n",
            "    accuracy                           0.96       100\n",
            "   macro avg       0.96      0.94      0.95       100\n",
            "weighted avg       0.96      0.96      0.96       100\n",
            "\n"
          ]
        },
        {
          "output_type": "display_data",
          "data": {
            "text/plain": [
              "<Figure size 800x500 with 2 Axes>"
            ],
            "image/png": "[encoded data removed]"
          },
          "metadata": {}
        }
      ],
      "source": [
        "from sklearn.metrics import classification_report\n",
        "from sklearn.metrics import confusion_matrix\n",
        "\n",
        "print(classification_report(y_test, test_pred))\n",
        "cm = confusion_matrix(y_test, test_pred)\n",
        "plt.figure(figsize=(8,5))\n",
        "sns.heatmap(cm, annot=True,  fmt='.0f',xticklabels=['Not Admitted', 'Admitted'], yticklabels=['Not Admitted', 'Admitted'])\n",
        "plt.ylabel('Actual')\n",
        "plt.xlabel('Predicted')\n",
        "plt.show()"
      ]
    },
    {
      "cell_type": "markdown",
      "metadata": {
        "id": "uk_tuE7LxGC3"
      },
      "source": [
        "**Observations:**\n",
        "\n",
        "- The confusion matrix shows that the model can identify the majority of students who would get admission and who won't get admission to UCLA.\n",
        "- The classification report shows that all the metrics except recall for class 1 are above 90%, which is good."
      ]
    },
    {
      "cell_type": "markdown",
      "metadata": {
        "id": "1bVzop-DYYmv"
      },
      "source": [
        "## **Conclusion:**"
      ]
    },
    {
      "cell_type": "markdown",
      "metadata": {
        "id": "PiMgKE2xYbCW"
      },
      "source": [
        "In this case study, \n",
        "- We have learned how to build a feed-forward neural network for a classification task using Keras. \n",
        "- We have seen different hyper-parameters and how they affect the network. \n",
        "- We also learned about the accuracy vs. epoch curve and how it aids in understanding how the model learns weights.\n",
        "- We were able to get the test accuracy of 95% using the final model.\n",
        "- Interested learners can further analyze the misclassified points and see if there is a pattern or if they were outliers that our model could not identify.\n",
        "- We would highly recommend you to play around with the other hyper-parameters and see for yourself how it affects your model."
      ]
    }
  ],
  "metadata": {
    "accelerator": "GPU",
    "colab": {
      "provenance": []
    },
    "kernelspec": {
      "display_name": "Python 3",
      "language": "python",
      "name": "python3"
    },
    "language_info": {
      "codemirror_mode": {
        "name": "ipython",
        "version": 3
      },
      "file_extension": ".py",
      "mimetype": "text/x-python",
      "name": "python",
      "nbconvert_exporter": "python",
      "pygments_lexer": "ipython3",
      "version": "3.8.3"
    }
  },
  "nbformat": 4,
  "nbformat_minor": 0
}