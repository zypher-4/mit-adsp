{
 "cells": [
  {
   "cell_type": "markdown",
   "metadata": {
    "id": "7g2xpAPPnRts"
   },
   "source": [
    "# **Loan Default Prediction**"
   ]
  },
  {
   "cell_type": "markdown",
   "metadata": {
    "id": "917Lmjp9vpig"
   },
   "source": [
    "----------------------------------------\n",
    "## **Context and Objective**\n",
    "----------------------------------------\n",
    "\n",
    "- It is very critical to be able to identify the loan defaults in the financial domain. Given a set of features about a person, the goal is to predict if the person will default or not.\n",
    "- In this notebook, we are going to cover the concepts of LVC 3 and try to create a model that predicts if a particular person will default or not.\n",
    "\n",
    "--------------------\n",
    "## **Dataset**\n",
    "--------------------\n",
    "\n",
    "The dataset used has the below features:\n",
    "\n",
    "- **Default** - Yes/No, categorical dependent variable suggesting the state of default.\n",
    "- **Student** - Yes/No, categorical independent variable depicting if the applicant is a student or not.\n",
    "- **Balance** - The account balance of the applicant.\n",
    "- **Income** - The income of the applicant."
   ]
  },
  {
   "cell_type": "markdown",
   "metadata": {
    "id": "NVengD1hzHWa"
   },
   "source": [
    "## **Importing the libraries and overview of the dataset**"
   ]
  },
  {
   "cell_type": "code",
   "execution_count": 1,
   "metadata": {
    "id": "MFioBzbnzBnx"
   },
   "outputs": [],
   "source": [
    "import pandas as pd\n",
    "\n",
    "import numpy as np\n",
    "\n",
    "import matplotlib.pyplot as plt\n",
    "\n",
    "import seaborn as sns\n",
    "\n",
    "import warnings\n",
    "warnings.filterwarnings('ignore') # To get rid of warning messages\n",
    "\n",
    "# Remove scientific notations and display numbers with 2 decimal points instead\n",
    "pd.options.display.float_format = '{:,.2f}'.format        \n",
    "\n",
    "# Update default background style of plots\n",
    "sns.set_style(style = 'darkgrid')\n",
    "\n",
    "from sklearn import linear_model\n",
    "from sklearn.model_selection import KFold, StratifiedKFold, cross_val_score, cross_val_predict\n",
    "from sklearn.metrics import confusion_matrix"
   ]
  },
  {
   "cell_type": "markdown",
   "metadata": {
    "id": "x0mCz6LgnRt1"
   },
   "source": [
    "### **Loading the data**"
   ]
  },
  {
   "cell_type": "code",
   "execution_count": 2,
   "metadata": {
    "id": "-_STK5Iawokh"
   },
   "outputs": [],
   "source": [
    "# Let us import the files\n",
    "df = pd.read_csv('Default.csv')"
   ]
  },
  {
   "cell_type": "code",
   "execution_count": 3,
   "metadata": {
    "colab": {
     "base_uri": "https://localhost:8080/",
     "height": 197
    },
    "id": "Tb8Adr860las",
    "outputId": "70da96fc-862c-48cc-f66f-5ce79f2045cf"
   },
   "outputs": [
    {
     "data": {
      "text/html": [
       "<div>\n",
       "<style scoped>\n",
       "    .dataframe tbody tr th:only-of-type {\n",
       "        vertical-align: middle;\n",
       "    }\n",
       "\n",
       "    .dataframe tbody tr th {\n",
       "        vertical-align: top;\n",
       "    }\n",
       "\n",
       "    .dataframe thead th {\n",
       "        text-align: right;\n",
       "    }\n",
       "</style>\n",
       "<table border=\"1\" class=\"dataframe\">\n",
       "  <thead>\n",
       "    <tr style=\"text-align: right;\">\n",
       "      <th></th>\n",
       "      <th>Unnamed: 0</th>\n",
       "      <th>default</th>\n",
       "      <th>student</th>\n",
       "      <th>balance</th>\n",
       "      <th>income</th>\n",
       "    </tr>\n",
       "  </thead>\n",
       "  <tbody>\n",
       "    <tr>\n",
       "      <th>0</th>\n",
       "      <td>1</td>\n",
       "      <td>No</td>\n",
       "      <td>No</td>\n",
       "      <td>729.53</td>\n",
       "      <td>44,361.63</td>\n",
       "    </tr>\n",
       "    <tr>\n",
       "      <th>1</th>\n",
       "      <td>2</td>\n",
       "      <td>No</td>\n",
       "      <td>Yes</td>\n",
       "      <td>817.18</td>\n",
       "      <td>12,106.13</td>\n",
       "    </tr>\n",
       "    <tr>\n",
       "      <th>2</th>\n",
       "      <td>3</td>\n",
       "      <td>No</td>\n",
       "      <td>No</td>\n",
       "      <td>1,073.55</td>\n",
       "      <td>31,767.14</td>\n",
       "    </tr>\n",
       "    <tr>\n",
       "      <th>3</th>\n",
       "      <td>4</td>\n",
       "      <td>No</td>\n",
       "      <td>No</td>\n",
       "      <td>529.25</td>\n",
       "      <td>35,704.49</td>\n",
       "    </tr>\n",
       "    <tr>\n",
       "      <th>4</th>\n",
       "      <td>5</td>\n",
       "      <td>No</td>\n",
       "      <td>No</td>\n",
       "      <td>785.66</td>\n",
       "      <td>38,463.50</td>\n",
       "    </tr>\n",
       "  </tbody>\n",
       "</table>\n",
       "</div>"
      ],
      "text/plain": [
       "   Unnamed: 0 default student  balance    income\n",
       "0           1      No      No   729.53 44,361.63\n",
       "1           2      No     Yes   817.18 12,106.13\n",
       "2           3      No      No 1,073.55 31,767.14\n",
       "3           4      No      No   529.25 35,704.49\n",
       "4           5      No      No   785.66 38,463.50"
      ]
     },
     "execution_count": 3,
     "metadata": {},
     "output_type": "execute_result"
    }
   ],
   "source": [
    "df.head()"
   ]
  },
  {
   "cell_type": "code",
   "execution_count": 4,
   "metadata": {
    "colab": {
     "base_uri": "https://localhost:8080/",
     "height": 197
    },
    "id": "4tc-fYiNz8rz",
    "outputId": "abdd5d59-419e-4e58-bb16-5f77550aeb98"
   },
   "outputs": [
    {
     "data": {
      "text/html": [
       "<div>\n",
       "<style scoped>\n",
       "    .dataframe tbody tr th:only-of-type {\n",
       "        vertical-align: middle;\n",
       "    }\n",
       "\n",
       "    .dataframe tbody tr th {\n",
       "        vertical-align: top;\n",
       "    }\n",
       "\n",
       "    .dataframe thead th {\n",
       "        text-align: right;\n",
       "    }\n",
       "</style>\n",
       "<table border=\"1\" class=\"dataframe\">\n",
       "  <thead>\n",
       "    <tr style=\"text-align: right;\">\n",
       "      <th></th>\n",
       "      <th>default</th>\n",
       "      <th>student</th>\n",
       "      <th>balance</th>\n",
       "      <th>income</th>\n",
       "    </tr>\n",
       "  </thead>\n",
       "  <tbody>\n",
       "    <tr>\n",
       "      <th>0</th>\n",
       "      <td>No</td>\n",
       "      <td>No</td>\n",
       "      <td>729.53</td>\n",
       "      <td>44,361.63</td>\n",
       "    </tr>\n",
       "    <tr>\n",
       "      <th>1</th>\n",
       "      <td>No</td>\n",
       "      <td>Yes</td>\n",
       "      <td>817.18</td>\n",
       "      <td>12,106.13</td>\n",
       "    </tr>\n",
       "    <tr>\n",
       "      <th>2</th>\n",
       "      <td>No</td>\n",
       "      <td>No</td>\n",
       "      <td>1,073.55</td>\n",
       "      <td>31,767.14</td>\n",
       "    </tr>\n",
       "    <tr>\n",
       "      <th>3</th>\n",
       "      <td>No</td>\n",
       "      <td>No</td>\n",
       "      <td>529.25</td>\n",
       "      <td>35,704.49</td>\n",
       "    </tr>\n",
       "    <tr>\n",
       "      <th>4</th>\n",
       "      <td>No</td>\n",
       "      <td>No</td>\n",
       "      <td>785.66</td>\n",
       "      <td>38,463.50</td>\n",
       "    </tr>\n",
       "  </tbody>\n",
       "</table>\n",
       "</div>"
      ],
      "text/plain": [
       "  default student  balance    income\n",
       "0      No      No   729.53 44,361.63\n",
       "1      No     Yes   817.18 12,106.13\n",
       "2      No      No 1,073.55 31,767.14\n",
       "3      No      No   529.25 35,704.49\n",
       "4      No      No   785.66 38,463.50"
      ]
     },
     "execution_count": 4,
     "metadata": {},
     "output_type": "execute_result"
    }
   ],
   "source": [
    "# Dropping the column Unnamed:0 as it is just the index\n",
    "\n",
    "df.drop(columns = ['Unnamed: 0'], inplace = True)\n",
    "\n",
    "df.head()"
   ]
  },
  {
   "cell_type": "markdown",
   "metadata": {},
   "source": [
    "### **Encoding categorical variables**"
   ]
  },
  {
   "cell_type": "code",
   "execution_count": 5,
   "metadata": {
    "id": "oxuMgWuU0WNP"
   },
   "outputs": [],
   "source": [
    "# Let us define a dictionary to replace the Yes/No with numerical values 1 and 0\n",
    "\n",
    "encoding_dict = {'Yes': 1, 'No': 0}"
   ]
  },
  {
   "cell_type": "code",
   "execution_count": 6,
   "metadata": {
    "id": "3Oe3BV9w2tF2"
   },
   "outputs": [],
   "source": [
    "# Encoding the features\n",
    "\n",
    "df['default'] = df['default'].map(encoding_dict)\n",
    "\n",
    "df['student'] = df['student'].map(encoding_dict)"
   ]
  },
  {
   "cell_type": "code",
   "execution_count": 7,
   "metadata": {
    "colab": {
     "base_uri": "https://localhost:8080/",
     "height": 137
    },
    "id": "KpRYS1rt3F85",
    "outputId": "7e652112-b19b-48df-841f-db28d151c847"
   },
   "outputs": [
    {
     "data": {
      "text/html": [
       "<div>\n",
       "<style scoped>\n",
       "    .dataframe tbody tr th:only-of-type {\n",
       "        vertical-align: middle;\n",
       "    }\n",
       "\n",
       "    .dataframe tbody tr th {\n",
       "        vertical-align: top;\n",
       "    }\n",
       "\n",
       "    .dataframe thead th {\n",
       "        text-align: right;\n",
       "    }\n",
       "</style>\n",
       "<table border=\"1\" class=\"dataframe\">\n",
       "  <thead>\n",
       "    <tr style=\"text-align: right;\">\n",
       "      <th></th>\n",
       "      <th>default</th>\n",
       "      <th>student</th>\n",
       "      <th>balance</th>\n",
       "      <th>income</th>\n",
       "    </tr>\n",
       "  </thead>\n",
       "  <tbody>\n",
       "    <tr>\n",
       "      <th>0</th>\n",
       "      <td>0</td>\n",
       "      <td>0</td>\n",
       "      <td>729.53</td>\n",
       "      <td>44,361.63</td>\n",
       "    </tr>\n",
       "    <tr>\n",
       "      <th>1</th>\n",
       "      <td>0</td>\n",
       "      <td>1</td>\n",
       "      <td>817.18</td>\n",
       "      <td>12,106.13</td>\n",
       "    </tr>\n",
       "    <tr>\n",
       "      <th>2</th>\n",
       "      <td>0</td>\n",
       "      <td>0</td>\n",
       "      <td>1,073.55</td>\n",
       "      <td>31,767.14</td>\n",
       "    </tr>\n",
       "    <tr>\n",
       "      <th>3</th>\n",
       "      <td>0</td>\n",
       "      <td>0</td>\n",
       "      <td>529.25</td>\n",
       "      <td>35,704.49</td>\n",
       "    </tr>\n",
       "    <tr>\n",
       "      <th>4</th>\n",
       "      <td>0</td>\n",
       "      <td>0</td>\n",
       "      <td>785.66</td>\n",
       "      <td>38,463.50</td>\n",
       "    </tr>\n",
       "  </tbody>\n",
       "</table>\n",
       "</div>"
      ],
      "text/plain": [
       "   default  student  balance    income\n",
       "0        0        0   729.53 44,361.63\n",
       "1        0        1   817.18 12,106.13\n",
       "2        0        0 1,073.55 31,767.14\n",
       "3        0        0   529.25 35,704.49\n",
       "4        0        0   785.66 38,463.50"
      ]
     },
     "execution_count": 7,
     "metadata": {},
     "output_type": "execute_result"
    }
   ],
   "source": [
    "df.head()"
   ]
  },
  {
   "cell_type": "markdown",
   "metadata": {
    "id": "J8X23NROtAYl"
   },
   "source": [
    "Let's check what is the percentage of defaulters and non-defaulters in the data."
   ]
  },
  {
   "cell_type": "code",
   "execution_count": 8,
   "metadata": {
    "colab": {
     "base_uri": "https://localhost:8080/"
    },
    "id": "ikhZxmVL3vom",
    "outputId": "0aba7eaa-8e30-4398-a2f3-f78cc2a42de8"
   },
   "outputs": [
    {
     "data": {
      "text/plain": [
       "default\n",
       "0   0.97\n",
       "1   0.03\n",
       "Name: proportion, dtype: float64"
      ]
     },
     "execution_count": 8,
     "metadata": {},
     "output_type": "execute_result"
    }
   ],
   "source": [
    "df['default'].value_counts(normalize = True)"
   ]
  },
  {
   "cell_type": "markdown",
   "metadata": {},
   "source": [
    "- Only 3.33% of data points represent the class Default.\n",
    "\n",
    "Let us also have a look at the info of the data."
   ]
  },
  {
   "cell_type": "markdown",
   "metadata": {
    "id": "4vrdw2AmnRt6"
   },
   "source": [
    "### **Checking the info of the data**"
   ]
  },
  {
   "cell_type": "code",
   "execution_count": 9,
   "metadata": {
    "colab": {
     "base_uri": "https://localhost:8080/"
    },
    "id": "yKngLrSj4QEe",
    "outputId": "ce2391fc-a0f7-4816-e640-fd02d2e11ce1"
   },
   "outputs": [
    {
     "name": "stdout",
     "output_type": "stream",
     "text": [
      "<class 'pandas.core.frame.DataFrame'>\n",
      "RangeIndex: 10000 entries, 0 to 9999\n",
      "Data columns (total 4 columns):\n",
      " #   Column   Non-Null Count  Dtype  \n",
      "---  ------   --------------  -----  \n",
      " 0   default  10000 non-null  int64  \n",
      " 1   student  10000 non-null  int64  \n",
      " 2   balance  10000 non-null  float64\n",
      " 3   income   10000 non-null  float64\n",
      "dtypes: float64(2), int64(2)\n",
      "memory usage: 312.6 KB\n"
     ]
    }
   ],
   "source": [
    "df.info()"
   ]
  },
  {
   "cell_type": "markdown",
   "metadata": {
    "id": "420HoXPl3nyD"
   },
   "source": [
    "- There do not seem to be any missing values. Let us get straight to the modeling."
   ]
  },
  {
   "cell_type": "markdown",
   "metadata": {
    "id": "NsWHuLDO3qp6"
   },
   "source": [
    "## **Linear Discriminant Analysis**"
   ]
  },
  {
   "cell_type": "code",
   "execution_count": 10,
   "metadata": {
    "id": "LcM9eIzT3Wdf"
   },
   "outputs": [],
   "source": [
    "# Importing sklearn LDA\n",
    "from sklearn.discriminant_analysis import LinearDiscriminantAnalysis\n",
    "\n",
    "from sklearn.discriminant_analysis import QuadraticDiscriminantAnalysis"
   ]
  },
  {
   "cell_type": "code",
   "execution_count": 11,
   "metadata": {},
   "outputs": [],
   "source": [
    "# Define the number of folds for cross-validation\n",
    "k = 10\n",
    "\n",
    "# Define the cross-validation method\n",
    "kf = KFold(n_splits=k, shuffle=True, random_state=42)"
   ]
  },
  {
   "cell_type": "code",
   "execution_count": 12,
   "metadata": {
    "colab": {
     "base_uri": "https://localhost:8080/"
    },
    "id": "A_5IUa8j3jWw",
    "outputId": "7abd81e5-ad32-4c7c-c6b9-61a96c2b0219"
   },
   "outputs": [],
   "source": [
    "# Using only one feature - balance\n",
    "\n",
    "balance = df.balance.values.reshape(len(df['balance']), 1)\n",
    "\n",
    "default = df.default.values.reshape(len(df['default']), 1)\n",
    "\n",
    "student = df.student.values.reshape(len(df['student']), 1)\n",
    "\n",
    "income = df.income.values.reshape(len(df['income']), 1)\n",
    "\n",
    "features = ['balance', 'student', 'income'] "
   ]
  },
  {
   "cell_type": "code",
   "execution_count": 13,
   "metadata": {
    "colab": {
     "base_uri": "https://localhost:8080/"
    },
    "id": "A_5IUa8j3jWw",
    "outputId": "7abd81e5-ad32-4c7c-c6b9-61a96c2b0219"
   },
   "outputs": [
    {
     "name": "stdout",
     "output_type": "stream",
     "text": [
      "Training Confusion Matrix: \n",
      " [[9643   24]\n",
      " [ 257   76]]\n",
      "LDA error rate while using only balance as a feature is 2.81% \n",
      "Cross-validated Error rate: 2.79% (+/- 0.66%)\n",
      "Cross-validated Confusion Matrix : \n",
      " [[9644   23]\n",
      " [ 256   77]]\n"
     ]
    }
   ],
   "source": [
    "# Fitting a LDA model\n",
    "\n",
    "lda = LinearDiscriminantAnalysis()\n",
    "\n",
    "lda.fit(balance, df['default'])\n",
    "\n",
    "y_pred_train = lda.predict(balance)\n",
    "cm_train = confusion_matrix(default, y_pred_train)\n",
    "print(\"Training Confusion Matrix: \\n\", cm_train)\n",
    "\n",
    "lda_error_rate = (1 - lda.score(balance, default))*100\n",
    "print(\"LDA error rate while using only balance as a feature is {}% \".format(np.round(lda_error_rate, 2)))\n",
    "\n",
    "# Running Cross Validation\n",
    "scores = cross_val_score(lda, balance, default, cv=kf)\n",
    "y_pred = cross_val_predict(lda, balance, default, cv=kf)\n",
    "cm = confusion_matrix(default, y_pred)\n",
    "print(f\"Cross-validated Error rate: {100 * np.mean(1 - scores):.2f}% (+/- {100 * np.std(1 - scores):.2f}%)\")\n",
    "print(\"Cross-validated Confusion Matrix : \\n\", cm)"
   ]
  },
  {
   "cell_type": "code",
   "execution_count": 14,
   "metadata": {
    "colab": {
     "base_uri": "https://localhost:8080/"
    },
    "id": "A_5IUa8j3jWw",
    "outputId": "7abd81e5-ad32-4c7c-c6b9-61a96c2b0219"
   },
   "outputs": [
    {
     "name": "stdout",
     "output_type": "stream",
     "text": [
      "Training Confusion Matrix : \n",
      " [[9639   28]\n",
      " [ 246   87]]\n",
      "QDA error rate while using only balance as a feature is 2.74%\n",
      "Cross-validated Error rate: 2.77% (+/- 0.69%)\n",
      "Cross-validated Confusion Matrix : \n",
      " [[9637   30]\n",
      " [ 247   86]]\n"
     ]
    }
   ],
   "source": [
    "# Fitting a QDA model\n",
    "\n",
    "qda = QuadraticDiscriminantAnalysis()\n",
    "\n",
    "qda.fit(balance, df['default'])\n",
    "\n",
    "y_pred_train = qda.predict(balance)\n",
    "cm_train = confusion_matrix(default, y_pred_train)\n",
    "print(\"Training Confusion Matrix : \\n\", cm_train)\n",
    "\n",
    "qda_error_rate = (1 - qda.score(balance, default))*100\n",
    "print(\"QDA error rate while using only balance as a feature is {}%\".format(np.round(qda_error_rate, 2)))\n",
    "\n",
    "# Running Cross Validation\n",
    "scores = cross_val_score(qda, balance, default, cv=kf)\n",
    "y_pred = cross_val_predict(qda, balance, default, cv=kf)\n",
    "cm = confusion_matrix(default, y_pred)\n",
    "print(f\"Cross-validated Error rate: {100 * np.mean(1 - scores):.2f}% (+/- {100 * np.std(1 - scores):.2f}%)\")\n",
    "print(\"Cross-validated Confusion Matrix : \\n\", cm)"
   ]
  },
  {
   "cell_type": "code",
   "execution_count": 15,
   "metadata": {
    "id": "svf92ES1tAYo",
    "outputId": "4248432a-f0a4-481a-b67b-0bf657461608"
   },
   "outputs": [
    {
     "name": "stdout",
     "output_type": "stream",
     "text": [
      "Training Confusion Matrix : \n",
      " [[9645   22]\n",
      " [ 254   79]]\n",
      "LDA error rate using all the features is 2.76% \n",
      "Cross-validated Error rate: 2.76% (+/- 0.66%)\n",
      "Cross-validated Confusion Matrix: \n",
      " [[9644   23]\n",
      " [ 253   80]]\n"
     ]
    }
   ],
   "source": [
    "# Let us now use all the features\n",
    "lda.fit(df[features], df['default'])\n",
    "\n",
    "y_pred_train = lda.predict(df[features])\n",
    "cm_train = confusion_matrix(default, y_pred_train)\n",
    "print(\"Training Confusion Matrix : \\n\", cm_train)\n",
    "\n",
    "new_lda_error_rate = (1 - lda.score(df[features], df['default']))*100\n",
    "\n",
    "print(\"LDA error rate using all the features is {}% \".format(np.round(new_lda_error_rate, 2)))\n",
    "\n",
    "# Running Cross Validation\n",
    "scores = cross_val_score(lda, df[features], default, cv=kf)\n",
    "y_pred = cross_val_predict(lda, df[features], default, cv=kf)\n",
    "cm = confusion_matrix(default, y_pred)\n",
    "print(f\"Cross-validated Error rate: {100 * np.mean(1 - scores):.2f}% (+/- {100 * np.std(1 - scores):.2f}%)\")\n",
    "print(\"Cross-validated Confusion Matrix: \\n\", cm)"
   ]
  },
  {
   "cell_type": "code",
   "execution_count": 16,
   "metadata": {
    "id": "svf92ES1tAYo",
    "outputId": "4248432a-f0a4-481a-b67b-0bf657461608"
   },
   "outputs": [
    {
     "name": "stdout",
     "output_type": "stream",
     "text": [
      "Training Confusion Matrix : \n",
      " [[9636   31]\n",
      " [ 239   94]]\n",
      "QDA error rate using all the features is 2.7%\n",
      "Cross-validated Error rate: 2.72% (+/- 0.60%)\n",
      "Cross-validated Confusion Matrix : \n",
      " [[9638   29]\n",
      " [ 243   90]]\n"
     ]
    }
   ],
   "source": [
    "qda.fit(df[features], df['default'])\n",
    "\n",
    "y_pred_train = qda.predict(df[features])\n",
    "cm_train = confusion_matrix(default, y_pred_train)\n",
    "print(\"Training Confusion Matrix : \\n\", cm_train)\n",
    "\n",
    "new_qda_error_rate = (1 - qda.score(df[features], df['default']))*100\n",
    "\n",
    "print(\"QDA error rate using all the features is {}%\".format(np.round(new_qda_error_rate, 2)))\n",
    "\n",
    "# Running Cross Validation\n",
    "scores = cross_val_score(qda, df[features], default, cv=kf)\n",
    "y_pred = cross_val_predict(qda, df[features], default, cv=kf)\n",
    "cm = confusion_matrix(default, y_pred)\n",
    "print(f\"Cross-validated Error rate: {100 * np.mean(1 - scores):.2f}% (+/- {100 * np.std(1 - scores):.2f}%)\")\n",
    "print(\"Cross-validated Confusion Matrix : \\n\", cm)"
   ]
  },
  {
   "cell_type": "markdown",
   "metadata": {
    "id": "9-2PJYLQtAYo"
   },
   "source": [
    "**Observation:**\n",
    "\n",
    "- We observe that by using all the features to predict default, the error rate has reduced."
   ]
  },
  {
   "cell_type": "markdown",
   "metadata": {
    "id": "kmznB6eDpW28"
   },
   "source": [
    "## **Logistic Regression**"
   ]
  },
  {
   "cell_type": "code",
   "execution_count": 17,
   "metadata": {
    "id": "yBsUkfvLjb-0"
   },
   "outputs": [],
   "source": [
    "from sklearn.linear_model import LogisticRegression"
   ]
  },
  {
   "cell_type": "code",
   "execution_count": 18,
   "metadata": {
    "colab": {
     "base_uri": "https://localhost:8080/"
    },
    "id": "S-02fodUpsL8",
    "outputId": "02d71f55-590a-44df-c7b5-86d5695274b5"
   },
   "outputs": [
    {
     "name": "stdout",
     "output_type": "stream",
     "text": [
      "Training Confusion Matrix : \n",
      " [[9625   42]\n",
      " [ 233  100]]\n",
      "Logistic Regression error rate using balance feature is 2.75% \n",
      "Cross-validated Error rate: 2.77% (+/- 0.64%)\n",
      "Cross-validated Confusion Matrix : \n",
      " [[9624   43]\n",
      " [ 234   99]]\n"
     ]
    }
   ],
   "source": [
    "lr = LogisticRegression(penalty = 'none', max_iter = 100)\n",
    "\n",
    "lr.fit(balance, df['default'])\n",
    "\n",
    "y_pred_train = lr.predict(balance)\n",
    "cm_train = confusion_matrix(default, y_pred_train)\n",
    "print(\"Training Confusion Matrix : \\n\", cm_train)\n",
    "\n",
    "lr_error_rate = (1 - lr.score(balance, df['default']))*100\n",
    "\n",
    "print(\"Logistic Regression error rate using balance feature is {}% \".format(np.round(lr_error_rate, 2)))\n",
    "\n",
    "# Running Cross Validation\n",
    "scores = cross_val_score(lr, balance, default, cv=kf)\n",
    "y_pred = cross_val_predict(lr, balance, default, cv=kf)\n",
    "cm = confusion_matrix(default, y_pred)\n",
    "print(f\"Cross-validated Error rate: {100 * np.mean(1 - scores):.2f}% (+/- {100 * np.std(1 - scores):.2f}%)\")\n",
    "print(\"Cross-validated Confusion Matrix : \\n\", cm)"
   ]
  },
  {
   "cell_type": "code",
   "execution_count": 20,
   "metadata": {
    "colab": {
     "base_uri": "https://localhost:8080/"
    },
    "id": "M-s3pCM5qHjI",
    "outputId": "495cf32c-b193-40a7-e011-3aa99e127ec3"
   },
   "outputs": [
    {
     "name": "stdout",
     "output_type": "stream",
     "text": [
      "Training Confusion Matrix : \n",
      " [[9608   59]\n",
      " [ 269   64]]\n",
      "Logistic Regression error rate using all the features is 3.28% \n",
      "Cross-validated Error rate: 3.25% (+/- 0.62%)\n",
      "Cross-validated Confusion Matrix : \n",
      " [[9621   46]\n",
      " [ 279   54]]\n"
     ]
    }
   ],
   "source": [
    "lrm = LogisticRegression(penalty = 'none')\n",
    "\n",
    "lrm.fit(df[features], df['default'])\n",
    "\n",
    "y_pred_train = lrm.predict(df[features])\n",
    "cm_train = confusion_matrix(default, y_pred_train)\n",
    "print(\"Training Confusion Matrix : \\n\", cm_train)\n",
    "\n",
    "lr_error_rate = (1 - lrm.score(df[features], df['default']))*100\n",
    "\n",
    "# Running Cross Validation\n",
    "scores = cross_val_score(lrm, df[features], default, cv=kf)\n",
    "y_pred = cross_val_predict(lrm, df[features], default, cv=kf)\n",
    "cm = confusion_matrix(default, y_pred)\n",
    "\n",
    "print(\"Logistic Regression error rate using all the features is {}% \".format(np.round(lr_error_rate, 2)))\n",
    "print(f\"Cross-validated Error rate: {100 * np.mean(1 - scores):.2f}% (+/- {100 * np.std(1 - scores):.2f}%)\")\n",
    "print(\"Cross-validated Confusion Matrix : \\n\", cm)"
   ]
  },
  {
   "cell_type": "code",
   "execution_count": 21,
   "metadata": {
    "colab": {
     "base_uri": "https://localhost:8080/"
    },
    "id": "M-s3pCM5qHjI",
    "outputId": "495cf32c-b193-40a7-e011-3aa99e127ec3"
   },
   "outputs": [
    {
     "name": "stdout",
     "output_type": "stream",
     "text": [
      "Training Confusion Matrix : \n",
      " [[9631   36]\n",
      " [ 234   99]]\n",
      "Logistic Regression error rate using absolute value (Lasso) regularization is 2.7% \n",
      "Cross-validated Error rate: 2.71% (+/- 0.64%)\n",
      "Cross-validated Confusion Matrix : \n",
      " [[9631   36]\n",
      " [ 231  102]]\n"
     ]
    }
   ],
   "source": [
    "lrm_r = LogisticRegression(penalty = 'l1', solver = 'liblinear')\n",
    "\n",
    "lrm_r.fit(df[features], df['default'])\n",
    "\n",
    "y_pred_train = lrm_r.predict(df[features])\n",
    "cm_train = confusion_matrix(default, y_pred_train)\n",
    "print(\"Training Confusion Matrix : \\n\", cm_train)\n",
    "\n",
    "lrm_r_error_rate = (1 - lrm_r.score(df[features], df['default']))*100\n",
    "\n",
    "# Running Cross Validation\n",
    "scores = cross_val_score(lrm_r, df[features], default, cv=kf)\n",
    "y_pred = cross_val_predict(lrm_r, df[features], default, cv=kf)\n",
    "cm = confusion_matrix(default, y_pred)\n",
    "\n",
    "print(\"Logistic Regression error rate using absolute value (Lasso) regularization is {}% \".format(np.round(lrm_r_error_rate, 2)))\n",
    "print(f\"Cross-validated Error rate: {100 * np.mean(1 - scores):.2f}% (+/- {100 * np.std(1 - scores):.2f}%)\")\n",
    "print(\"Cross-validated Confusion Matrix : \\n\", cm)"
   ]
  },
  {
   "cell_type": "markdown",
   "metadata": {
    "id": "-k_pZOt02uwz"
   },
   "source": [
    "**Observations:**\n",
    "\n",
    "- We calculated the error rates for LDA, QDA, and Logistic Regression.\n",
    "- The hyperparameter - 'multi_class' takes care of the multiclass classification.\n",
    "- To evaluate the model and to check how well it performs on unseen data, always take a validation set out and check the performance of the model on the same.\n",
    "- Let us now move to K-NN, where we demonstrate the validation set performance check."
   ]
  },
  {
   "cell_type": "markdown",
   "metadata": {
    "id": "Qjz9j5c_5NHg"
   },
   "source": [
    "## **K-Nearest Neighbors (K-NN)**"
   ]
  },
  {
   "cell_type": "code",
   "execution_count": 22,
   "metadata": {
    "id": "kqWdEg5Lq9Lo"
   },
   "outputs": [],
   "source": [
    "from sklearn.neighbors import KNeighborsClassifier\n",
    "\n",
    "from sklearn.model_selection import train_test_split\n",
    "\n",
    "# Let us now scale the features\n",
    "from sklearn.preprocessing import StandardScaler\n",
    "\n",
    "ss = StandardScaler()"
   ]
  },
  {
   "cell_type": "markdown",
   "metadata": {
    "id": "c-vSQu4qnRt-"
   },
   "source": [
    "**NOTE**: The following code might take a few minutes to run depending on the system's configuration."
   ]
  },
  {
   "cell_type": "code",
   "execution_count": 23,
   "metadata": {
    "colab": {
     "base_uri": "https://localhost:8080/"
    },
    "id": "Uw1Sbdp87raA",
    "outputId": "f31b8459-e461-4726-a1a1-05402f73d1a6"
   },
   "outputs": [
    {
     "name": "stdout",
     "output_type": "stream",
     "text": [
      "1\n",
      "[0.0, 0.04290000000000002]\n",
      "2\n",
      "[0.02177500000000001, 0.032865]\n",
      "3\n",
      "[0.02228250000000001, 0.03313000000000001]\n",
      "4\n",
      "[0.02497624999999999, 0.030074999999999984]\n",
      "5\n",
      "[0.024911250000000003, 0.030680000000000006]\n",
      "6\n",
      "[0.02543624999999999, 0.028894999999999994]\n",
      "7\n",
      "[0.025038750000000002, 0.028989999999999988]\n",
      "8\n",
      "[0.025424999999999986, 0.02878]\n",
      "9\n",
      "[0.025641249999999997, 0.02832000000000001]\n",
      "10\n",
      "[0.025902499999999988, 0.028269999999999986]\n",
      "11\n",
      "[0.025921250000000007, 0.02818]\n",
      "12\n",
      "[0.02624374999999999, 0.028155]\n",
      "13\n",
      "[0.025961249999999998, 0.027864999999999994]\n",
      "14\n",
      "[0.02623000000000001, 0.02872]\n",
      "15\n",
      "[0.026305000000000005, 0.027510000000000003]\n"
     ]
    },
    {
     "data": {
      "text/plain": [
       "{1: [0.0, 0.04290000000000002],\n",
       " 2: [0.02177500000000001, 0.032865],\n",
       " 3: [0.02228250000000001, 0.03313000000000001],\n",
       " 4: [0.02497624999999999, 0.030074999999999984],\n",
       " 5: [0.024911250000000003, 0.030680000000000006],\n",
       " 6: [0.02543624999999999, 0.028894999999999994],\n",
       " 7: [0.025038750000000002, 0.028989999999999988],\n",
       " 8: [0.025424999999999986, 0.02878],\n",
       " 9: [0.025641249999999997, 0.02832000000000001],\n",
       " 10: [0.025902499999999988, 0.028269999999999986],\n",
       " 11: [0.025921250000000007, 0.02818],\n",
       " 12: [0.02624374999999999, 0.028155],\n",
       " 13: [0.025961249999999998, 0.027864999999999994],\n",
       " 14: [0.02623000000000001, 0.02872],\n",
       " 15: [0.026305000000000005, 0.027510000000000003]}"
      ]
     },
     "execution_count": 23,
     "metadata": {},
     "output_type": "execute_result"
    }
   ],
   "source": [
    "# We select the best value of k for which the error rate is the least in the validation data\n",
    "# Let us loop over a few values of k to determine the best k \n",
    "\n",
    "train_error = []\n",
    "\n",
    "test_error = []\n",
    "\n",
    "knn_many_split = {}\n",
    "\n",
    "error_df_knn = pd.DataFrame()\n",
    "\n",
    "\n",
    "for k in range(1,16):\n",
    "    \n",
    "    train_error = []\n",
    "    test_error = []\n",
    "    lista = []\n",
    "    knn = KNeighborsClassifier(n_neighbors = k)\n",
    "    print(k)\n",
    "\n",
    "    for i in range(100):\n",
    "        x_train, x_test, y_train, y_test = train_test_split(df[features], df['default'], test_size = 0.20)\n",
    "\n",
    "        # Let us scale the data. Notice the scaling done here.\n",
    "        x_train = ss.fit_transform(x_train)\n",
    "        x_test = ss.transform(x_test)\n",
    "        \n",
    "        # Fitting the K-NN model\n",
    "        knn.fit(x_train, y_train)\n",
    "        \n",
    "        # Finding train and test errors\n",
    "        train_error.append(1 - knn.score(x_train, y_train)) \n",
    "        test_error.append(1 - knn.score(x_test, y_test))\n",
    "    \n",
    "    lista.append(sum(train_error)/len(train_error))\n",
    "    lista.append(sum(test_error)/len(test_error))\n",
    "    knn_many_split[k] = lista\n",
    "    print(knn_many_split[k])\n",
    "\n",
    "knn_many_split"
   ]
  },
  {
   "cell_type": "code",
   "execution_count": 24,
   "metadata": {
    "id": "dO7vrLHZNdjJ"
   },
   "outputs": [],
   "source": [
    "# Extracting k, the train error, and the test error in separate lists for easy plotting\n",
    "\n",
    "kl = []\n",
    "vl = []\n",
    "v2 = []\n",
    "\n",
    "for k, v in knn_many_split.items():\n",
    "    \n",
    "    kl.append(k)\n",
    "    \n",
    "    vl.append(knn_many_split[k][1])\n",
    "    \n",
    "    v2.append(knn_many_split[k][0])"
   ]
  },
  {
   "cell_type": "code",
   "execution_count": 25,
   "metadata": {
    "colab": {
     "base_uri": "https://localhost:8080/",
     "height": 282
    },
    "id": "kSBseeJ99yDg",
    "outputId": "6ac95690-770b-4390-ddaf-ee299a6893ca"
   },
   "outputs": [
    {
     "data": {
      "image/png": "[encoded data removed]",
      "text/plain": [
       "<Figure size 800x800 with 1 Axes>"
      ]
     },
     "metadata": {},
     "output_type": "display_data"
    }
   ],
   "source": [
    "# Plotting k vs train and test error\n",
    "plt.figure(figsize = (8, 8))\n",
    "\n",
    "plt.xlabel(\"Number of Neighbors (k)\")\n",
    "\n",
    "plt.ylabel(\"Error\")\n",
    "\n",
    "plt.plot(kl, vl, label = 'Test Error')\n",
    "\n",
    "plt.plot(kl, v2, label = 'Train Error')\n",
    "\n",
    "plt.legend()\n",
    "\n",
    "plt.show()"
   ]
  },
  {
   "cell_type": "markdown",
   "metadata": {
    "id": "LLGPgfyEtAYt"
   },
   "source": [
    "**Observation**: \n",
    "\n",
    "- From the above graph, we can say that K=15 gives us the generalized model with very similar train and test errors."
   ]
  }
 ],
 "metadata": {
  "colab": {
   "collapsed_sections": [],
   "name": "LVC_3_Practical_Application_Classification_Predicting_Loan_Defaulters.ipynb",
   "provenance": []
  },
  "kernelspec": {
   "display_name": "Python 3 (ipykernel)",
   "language": "python",
   "name": "python3"
  },
  "language_info": {
   "codemirror_mode": {
    "name": "ipython",
    "version": 3
   },
   "file_extension": ".py",
   "mimetype": "text/x-python",
   "name": "python",
   "nbconvert_exporter": "python",
   "pygments_lexer": "ipython3",
   "version": "3.11.7"
  }
 },
 "nbformat": 4,
 "nbformat_minor": 4
}
