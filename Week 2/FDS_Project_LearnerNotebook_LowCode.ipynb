{
 "cells": [
  {
   "cell_type": "markdown",
   "metadata": {
    "id": "HnAlaR5Y2rc8"
   },
   "source": [
    "# Project Foundations for Data Science: FoodHub Data Analysis\n",
    "\n",
    "**Marks: 60 points**"
   ]
  },
  {
   "cell_type": "markdown",
   "metadata": {
    "id": "N0e9ilAx2rc_"
   },
   "source": [
    "### Context\n",
    "\n",
    "The number of restaurants in New York is increasing day by day. Lots of students and busy professionals rely on those restaurants due to their hectic lifestyles. Online food delivery service is a great option for them. It provides them with good food from their favorite restaurants. A food aggregator company FoodHub offers access to multiple restaurants through a single smartphone app.\n",
    "\n",
    "The app allows the restaurants to receive a direct online order from a customer. The app assigns a delivery person from the company to pick up the order after it is confirmed by the restaurant. The delivery person then uses the map to reach the restaurant and waits for the food package. Once the food package is handed over to the delivery person, he/she confirms the pick-up in the app and travels to the customer's location to deliver the food. The delivery person confirms the drop-off in the app after delivering the food package to the customer. The customer can rate the order in the app. The food aggregator earns money by collecting a fixed margin of the delivery order from the restaurants.\n",
    "\n",
    "### Objective\n",
    "\n",
    "The food aggregator company has stored the data of the different orders made by the registered customers in their online portal. They want to analyze the data to get a fair idea about the demand of different restaurants which will help them in enhancing their customer experience. Suppose you are a Data Scientist at Foodhub and the Data Science team has shared some of the key questions that need to be answered. Perform the data analysis to find answers to these questions that will help the company to improve the business.\n",
    "\n",
    "### Data Description\n",
    "\n",
    "The data contains the different data related to a food order. The detailed data dictionary is given below.\n",
    "\n",
    "### Data Dictionary\n",
    "\n",
    "* order_id: Unique ID of the order\n",
    "* customer_id: ID of the customer who ordered the food\n",
    "* restaurant_name: Name of the restaurant\n",
    "* cuisine_type: Cuisine ordered by the customer\n",
    "* cost_of_the_order: Cost of the order\n",
    "* day_of_the_week: Indicates whether the order is placed on a weekday or weekend (The weekday is from Monday to Friday and the weekend is Saturday and Sunday)\n",
    "* rating: Rating given by the customer out of 5\n",
    "* food_preparation_time: Time (in minutes) taken by the restaurant to prepare the food. This is calculated by taking the difference between the timestamps of the restaurant's order confirmation and the delivery person's pick-up confirmation.\n",
    "* delivery_time: Time (in minutes) taken by the delivery person to deliver the food package. This is calculated by taking the difference between the timestamps of the delivery person's pick-up confirmation and drop-off information"
   ]
  },
  {
   "cell_type": "markdown",
   "metadata": {
    "id": "Ruz2EiJ32rdB"
   },
   "source": [
    "### **Please read the instructions carefully before starting the project.** \n",
    "This is a commented Jupyter IPython Notebook file in which all the instructions and tasks to be performed are mentioned. Read along carefully to complete the project.\n",
    "* Blanks '_______' are provided in the notebook that \n",
    "needs to be filled with an appropriate code to get the correct result. Please replace the blank with the right code snippet. With every '_______' blank, there is a comment that briefly describes what needs to be filled in the blank space. \n",
    "* Identify the task to be performed correctly, and only then proceed to write the required code.\n",
    "* Fill the code wherever asked by the commented lines like \"# write your code here\" or \"# complete the code\". Running incomplete code may throw an error.\n",
    "* Please run the codes in a sequential manner from the beginning to avoid any unnecessary errors.\n",
    "* You can the results/observations derived from the analysis here and use them to create your final report."
   ]
  },
  {
   "cell_type": "markdown",
   "metadata": {
    "id": "enOodKS42rdB"
   },
   "source": [
    "### Let us start by importing the required libraries"
   ]
  },
  {
   "cell_type": "code",
   "execution_count": 1,
   "metadata": {
    "id": "p7FpluTK2rdC"
   },
   "outputs": [],
   "source": [
    "# Import libraries for data manipulation\n",
    "import numpy as np\n",
    "import pandas as pd\n",
    "\n",
    "# Import libraries for data visualization\n",
    "import matplotlib.pyplot as plt\n",
    "import seaborn as sns"
   ]
  },
  {
   "cell_type": "markdown",
   "metadata": {
    "id": "LHxIYWXP2rdD"
   },
   "source": [
    "### Understanding the structure of the data"
   ]
  },
  {
   "cell_type": "code",
   "execution_count": 2,
   "metadata": {
    "id": "nwlzFr-_2rdD",
    "scrolled": true
   },
   "outputs": [
    {
     "data": {
      "text/html": [
       "<div>\n",
       "<style scoped>\n",
       "    .dataframe tbody tr th:only-of-type {\n",
       "        vertical-align: middle;\n",
       "    }\n",
       "\n",
       "    .dataframe tbody tr th {\n",
       "        vertical-align: top;\n",
       "    }\n",
       "\n",
       "    .dataframe thead th {\n",
       "        text-align: right;\n",
       "    }\n",
       "</style>\n",
       "<table border=\"1\" class=\"dataframe\">\n",
       "  <thead>\n",
       "    <tr style=\"text-align: right;\">\n",
       "      <th></th>\n",
       "      <th>order_id</th>\n",
       "      <th>customer_id</th>\n",
       "      <th>restaurant_name</th>\n",
       "      <th>cuisine_type</th>\n",
       "      <th>cost_of_the_order</th>\n",
       "      <th>day_of_the_week</th>\n",
       "      <th>rating</th>\n",
       "      <th>food_preparation_time</th>\n",
       "      <th>delivery_time</th>\n",
       "    </tr>\n",
       "  </thead>\n",
       "  <tbody>\n",
       "    <tr>\n",
       "      <th>0</th>\n",
       "      <td>1477147</td>\n",
       "      <td>337525</td>\n",
       "      <td>Hangawi</td>\n",
       "      <td>Korean</td>\n",
       "      <td>30.75</td>\n",
       "      <td>Weekend</td>\n",
       "      <td>Not given</td>\n",
       "      <td>25</td>\n",
       "      <td>20</td>\n",
       "    </tr>\n",
       "    <tr>\n",
       "      <th>1</th>\n",
       "      <td>1477685</td>\n",
       "      <td>358141</td>\n",
       "      <td>Blue Ribbon Sushi Izakaya</td>\n",
       "      <td>Japanese</td>\n",
       "      <td>12.08</td>\n",
       "      <td>Weekend</td>\n",
       "      <td>Not given</td>\n",
       "      <td>25</td>\n",
       "      <td>23</td>\n",
       "    </tr>\n",
       "    <tr>\n",
       "      <th>2</th>\n",
       "      <td>1477070</td>\n",
       "      <td>66393</td>\n",
       "      <td>Cafe Habana</td>\n",
       "      <td>Mexican</td>\n",
       "      <td>12.23</td>\n",
       "      <td>Weekday</td>\n",
       "      <td>5</td>\n",
       "      <td>23</td>\n",
       "      <td>28</td>\n",
       "    </tr>\n",
       "    <tr>\n",
       "      <th>3</th>\n",
       "      <td>1477334</td>\n",
       "      <td>106968</td>\n",
       "      <td>Blue Ribbon Fried Chicken</td>\n",
       "      <td>American</td>\n",
       "      <td>29.20</td>\n",
       "      <td>Weekend</td>\n",
       "      <td>3</td>\n",
       "      <td>25</td>\n",
       "      <td>15</td>\n",
       "    </tr>\n",
       "    <tr>\n",
       "      <th>4</th>\n",
       "      <td>1478249</td>\n",
       "      <td>76942</td>\n",
       "      <td>Dirty Bird to Go</td>\n",
       "      <td>American</td>\n",
       "      <td>11.59</td>\n",
       "      <td>Weekday</td>\n",
       "      <td>4</td>\n",
       "      <td>25</td>\n",
       "      <td>24</td>\n",
       "    </tr>\n",
       "  </tbody>\n",
       "</table>\n",
       "</div>"
      ],
      "text/plain": [
       "   order_id  customer_id            restaurant_name cuisine_type  \\\n",
       "0   1477147       337525                    Hangawi       Korean   \n",
       "1   1477685       358141  Blue Ribbon Sushi Izakaya     Japanese   \n",
       "2   1477070        66393                Cafe Habana      Mexican   \n",
       "3   1477334       106968  Blue Ribbon Fried Chicken     American   \n",
       "4   1478249        76942           Dirty Bird to Go     American   \n",
       "\n",
       "   cost_of_the_order day_of_the_week     rating  food_preparation_time  \\\n",
       "0              30.75         Weekend  Not given                     25   \n",
       "1              12.08         Weekend  Not given                     25   \n",
       "2              12.23         Weekday          5                     23   \n",
       "3              29.20         Weekend          3                     25   \n",
       "4              11.59         Weekday          4                     25   \n",
       "\n",
       "   delivery_time  \n",
       "0             20  \n",
       "1             23  \n",
       "2             28  \n",
       "3             15  \n",
       "4             24  "
      ]
     },
     "execution_count": 2,
     "metadata": {},
     "output_type": "execute_result"
    }
   ],
   "source": [
    "# Read the data\n",
    "df = pd.read_csv('data/foodhub_order.csv')\n",
    "# Returns the first 5 rows\n",
    "df.head() "
   ]
  },
  {
   "cell_type": "markdown",
   "metadata": {
    "id": "AeR7rXZF2rdE"
   },
   "source": [
    "### **Question 1:** How many rows and columns are present in the data? [0.5 mark]"
   ]
  },
  {
   "cell_type": "code",
   "execution_count": null,
   "metadata": {
    "id": "xaLu_bAm2rdE"
   },
   "outputs": [],
   "source": [
    "# Check the shape of the dataset\n",
    "df._______ # Fill in the blank"
   ]
  },
  {
   "cell_type": "markdown",
   "metadata": {
    "id": "-YJkCL112rdF"
   },
   "source": [
    "### **Question 2:** What are the datatypes of the different columns in the dataset? [0.5 mark]"
   ]
  },
  {
   "cell_type": "code",
   "execution_count": null,
   "metadata": {
    "id": "EUXmdNxe2rdF"
   },
   "outputs": [],
   "source": [
    "df.info()"
   ]
  },
  {
   "cell_type": "markdown",
   "metadata": {
    "id": "Atn8lGeE2rdF"
   },
   "source": [
    "### **Question 3:** Are there any missing values in the data? If yes, treat them using an appropriate method.  [1 Mark]"
   ]
  },
  {
   "cell_type": "code",
   "execution_count": null,
   "metadata": {
    "id": "kZbMrwFC2rdG"
   },
   "outputs": [],
   "source": [
    "# Checking for missing values in the data\n",
    "df.______  # Write the appropriate function to print the sum of null values for each column"
   ]
  },
  {
   "cell_type": "markdown",
   "metadata": {
    "id": "krjqvuKv2rdG"
   },
   "source": [
    "### **Question 4:** Check the statistical summary of the data. What is the minimum, average, and maximum time it takes for food to be prepared once an order is placed? [2 marks]"
   ]
  },
  {
   "cell_type": "code",
   "execution_count": null,
   "metadata": {
    "id": "MDZkL24f2rdG"
   },
   "outputs": [],
   "source": [
    "# Get the summary statistics of the numerical data\n",
    "df._______  # Write the appropriate function to print the statistical summary of the data (Hint: you have seen this in the case studies before)"
   ]
  },
  {
   "cell_type": "markdown",
   "metadata": {
    "id": "LDlbXZWG2rdH"
   },
   "source": [
    "### **Question 5:** How many orders are not rated? [1 mark]"
   ]
  },
  {
   "cell_type": "code",
   "execution_count": null,
   "metadata": {
    "id": "RUJo1me22rdH"
   },
   "outputs": [],
   "source": [
    "df['_______'].value_counts() # Complete the code "
   ]
  },
  {
   "cell_type": "markdown",
   "metadata": {
    "id": "LUh8hTiW2rdH"
   },
   "source": [
    "### Exploratory Data Analysis (EDA)"
   ]
  },
  {
   "cell_type": "markdown",
   "metadata": {
    "id": "2Dl2aL1W2rdI"
   },
   "source": [
    "### Univariate Analysis"
   ]
  },
  {
   "cell_type": "markdown",
   "metadata": {
    "id": "gxBiurJ-2rdI"
   },
   "source": [
    "### **Question 6:** Explore all the variables and provide observations on their distributions. (Generally, histograms, boxplots, countplots, etc. are used for univariate exploration.) [9 marks]"
   ]
  },
  {
   "cell_type": "markdown",
   "metadata": {
    "id": "TXEjEAXqbZmQ"
   },
   "source": [
    "#### Order ID"
   ]
  },
  {
   "cell_type": "code",
   "execution_count": null,
   "metadata": {
    "id": "cmmmjUyebZmQ"
   },
   "outputs": [],
   "source": [
    "# check unique order ID\n",
    "df['order_id'].nunique()  "
   ]
  },
  {
   "cell_type": "markdown",
   "metadata": {
    "id": "ts6l2h0abZmQ"
   },
   "source": [
    "#### Customer ID"
   ]
  },
  {
   "cell_type": "code",
   "execution_count": null,
   "metadata": {
    "id": "yZRW2FBSbZmQ"
   },
   "outputs": [],
   "source": [
    "# check unique customer ID\n",
    "df['customer_id']._____  # Complete the code to find out the number of unique Customer ID"
   ]
  },
  {
   "cell_type": "markdown",
   "metadata": {
    "id": "mgv5gIIEbZmR"
   },
   "source": [
    "#### Restaurant name"
   ]
  },
  {
   "cell_type": "code",
   "execution_count": null,
   "metadata": {
    "id": "GYGzUuzcbZmR"
   },
   "outputs": [],
   "source": [
    "# check unique Restaurant Name\n",
    "df['restaurant_name']._____  # Complete the code to find out number of unique Restaurant Name"
   ]
  },
  {
   "cell_type": "markdown",
   "metadata": {
    "id": "X7jR8GHN2rdK"
   },
   "source": [
    "#### Cuisine type"
   ]
  },
  {
   "cell_type": "code",
   "execution_count": null,
   "metadata": {
    "id": "uFd2adxc2rdK"
   },
   "outputs": [],
   "source": [
    "# Check unique cuisine type\n",
    "df['cuisine_type']._______  # Complete the code to find out the number of unique cuisine type"
   ]
  },
  {
   "cell_type": "code",
   "execution_count": null,
   "metadata": {
    "id": "4JHi590P2rdK",
    "scrolled": true
   },
   "outputs": [],
   "source": [
    "plt.figure(figsize = (15,5))\n",
    "sns.countplot(data = df, x = 'cuisine_type') # Create a countplot for cuisine type"
   ]
  },
  {
   "cell_type": "markdown",
   "metadata": {
    "id": "fmWW_qb42rdL"
   },
   "source": [
    "#### Cost of the order"
   ]
  },
  {
   "cell_type": "code",
   "execution_count": null,
   "metadata": {
    "id": "kq1lIbf42rdL"
   },
   "outputs": [],
   "source": [
    "sns.histplot(data=df,x='cost_of_the_order') ## Histogram for the cost of order\n",
    "plt.show()\n",
    "sns.boxplot(data=df,x='cost_of_the_order') ## Boxplot for the cost of order\n",
    "plt.show() "
   ]
  },
  {
   "cell_type": "markdown",
   "metadata": {
    "id": "p34KqEqx2rdL"
   },
   "source": [
    "#### Day of the week"
   ]
  },
  {
   "cell_type": "code",
   "execution_count": null,
   "metadata": {
    "id": "KBMjgXjv2rdL"
   },
   "outputs": [],
   "source": [
    "# # Check the unique values\n",
    "df['day_of_the_week']._______ # Complete the code to check unique values for the 'day_of_the_week' column"
   ]
  },
  {
   "cell_type": "code",
   "execution_count": null,
   "metadata": {
    "id": "Q5jvwJkZ2rdL"
   },
   "outputs": [],
   "source": [
    "sns.countplot(data = df, x = '______') # Complete the code to plot a bar graph for 'day_of_the_week' column"
   ]
  },
  {
   "cell_type": "markdown",
   "metadata": {
    "id": "1oOW_lzO2rdL"
   },
   "source": [
    "#### Rating"
   ]
  },
  {
   "cell_type": "code",
   "execution_count": null,
   "metadata": {
    "id": "TNxjskCF2rdL",
    "scrolled": true
   },
   "outputs": [],
   "source": [
    "# Check the unique values\n",
    "df['rating']._______ # Complete the code to check unique values for the 'rating' column"
   ]
  },
  {
   "cell_type": "code",
   "execution_count": null,
   "metadata": {
    "id": "aP_djdHY2rdM",
    "scrolled": true
   },
   "outputs": [],
   "source": [
    "sns.countplot(data = df, x = '______') # Complete the code to plot bar graph for 'rating' column"
   ]
  },
  {
   "cell_type": "markdown",
   "metadata": {
    "id": "OP1gYWnR2rdM"
   },
   "source": [
    "#### Food Preparation time"
   ]
  },
  {
   "cell_type": "code",
   "execution_count": null,
   "metadata": {
    "id": "TYiF3h3t2rdM",
    "scrolled": true
   },
   "outputs": [],
   "source": [
    "sns.histplot(data=df,x='_____') # Complete the code to plot the histogram for the cost of order\n",
    "plt.show()\n",
    "sns.boxplot(data=df,x='_____') # Complete the code to plot the boxplot for the cost of order\n",
    "plt.show()"
   ]
  },
  {
   "cell_type": "markdown",
   "metadata": {
    "id": "ENW0PF5b2rdM"
   },
   "source": [
    "#### Delivery time"
   ]
  },
  {
   "cell_type": "code",
   "execution_count": null,
   "metadata": {
    "id": "_1ZcT_SM2rdM",
    "scrolled": true
   },
   "outputs": [],
   "source": [
    "sns.histplot(data=df,x='_____') # Complete the code to plot the histogram for the delivery time\n",
    "plt.show()\n",
    "sns.boxplot(data=df,x='_____')  # Complete the code to plot the boxplot for the delivery time\n",
    "plt.show()"
   ]
  },
  {
   "cell_type": "markdown",
   "metadata": {
    "id": "HMwsI8f32rdM"
   },
   "source": [
    "### **Question 7:** Which are the top 5 restaurants in terms of the number of orders received? [1 mark]"
   ]
  },
  {
   "cell_type": "code",
   "execution_count": null,
   "metadata": {
    "id": "OLQISNlc2rdM"
   },
   "outputs": [],
   "source": [
    "# Get top 5 restaurants with highest number of orders\n",
    "df['restaurant_name']._______ # Complete the code"
   ]
  },
  {
   "cell_type": "markdown",
   "metadata": {
    "id": "OV26KAC42rdN"
   },
   "source": [
    "### **Question 8:** Which is the most popular cuisine on weekends? [1 mark]"
   ]
  },
  {
   "cell_type": "code",
   "execution_count": null,
   "metadata": {
    "id": "BqL62Kuu2rdN"
   },
   "outputs": [],
   "source": [
    "# Get most popular cuisine on weekends\n",
    "df_weekend = df[df['day_of_the_week'] == 'Weekend']\n",
    "df_weekend['cuisine_type']._______  # Complete the code to check unique values for the cuisine type on weekend"
   ]
  },
  {
   "cell_type": "markdown",
   "metadata": {
    "id": "UPFNE6Da2rdN"
   },
   "source": [
    "### **Question 9:** What percentage of the orders cost more than 20 dollars? [2 marks]"
   ]
  },
  {
   "cell_type": "code",
   "execution_count": null,
   "metadata": {
    "id": "gHlH53rJ2rdN"
   },
   "outputs": [],
   "source": [
    "# Get orders that cost above 20 dollars\n",
    "df_greater_than_20 = df[df['_______']>20] # Write the appropriate column name to get the orders having cost above $20\n",
    "\n",
    "# Calculate the number of total orders where the cost is above 20 dollars\n",
    "print('The number of total orders that cost above 20 dollars is:', df_greater_than_20.shape[0])\n",
    "\n",
    "# Calculate percentage of such orders in the dataset\n",
    "percentage = (df_greater_than_20.shape[0] / df.shape[0]) * 100\n",
    "\n",
    "print(\"Percentage of orders above 20 dollars:\", round(percentage, 2), '%')"
   ]
  },
  {
   "cell_type": "markdown",
   "metadata": {
    "id": "rmOXTij42rdN"
   },
   "source": [
    "### **Question 10:** What is the mean order delivery time? [1 mark]"
   ]
  },
  {
   "cell_type": "code",
   "execution_count": null,
   "metadata": {
    "id": "733fsOoO2rdN"
   },
   "outputs": [],
   "source": [
    "# Get the mean delivery time\n",
    "mean_del_time = df['delivery_time']._______  # Write the appropriate function to obtain the mean delivery time\n",
    "\n",
    "print('The mean delivery time for this dataset is', round(mean_del_time, 2), 'minutes')"
   ]
  },
  {
   "cell_type": "markdown",
   "metadata": {
    "id": "7C_G-BEy2rdO"
   },
   "source": [
    "### **Question 11:** The company has decided to give 20% discount vouchers to the top 3 most frequent customers. Find the IDs of these customers and the number of orders they placed. [1 mark]"
   ]
  },
  {
   "cell_type": "code",
   "execution_count": null,
   "metadata": {
    "id": "U-husHb6F5lY"
   },
   "outputs": [],
   "source": [
    "# Get the counts of each customer_id\n",
    "df['_______'].value_counts().head(3)  # Write the appropriate column name to get the 5 most frequent customers"
   ]
  },
  {
   "cell_type": "markdown",
   "metadata": {
    "id": "4ceeYAVy2rdO"
   },
   "source": [
    "### Multivariate Analysis"
   ]
  },
  {
   "cell_type": "markdown",
   "metadata": {
    "id": "h-gdOXrS2rdO"
   },
   "source": [
    "### **Question 12:** Perform a multivariate analysis to explore relationships between the important variables in the dataset. (It is a good idea to explore relations between numerical variables as well as relations between numerical and categorical variables) [10 marks]"
   ]
  },
  {
   "cell_type": "markdown",
   "metadata": {
    "id": "sTYfSbdR2rdO"
   },
   "source": [
    "#### Cuisine vs Cost of the order"
   ]
  },
  {
   "cell_type": "code",
   "execution_count": null,
   "metadata": {
    "id": "wzJpBxZQ2rdP"
   },
   "outputs": [],
   "source": [
    "# Relationship between cost of the order and cuisine type\n",
    "plt.figure(figsize=(15,7))\n",
    "sns.boxplot(x = \"cuisine_type\", y = \"cost_of_the_order\", data = df, palette = 'PuBu')\n",
    "plt.xticks(rotation = 60)\n",
    "plt.show()"
   ]
  },
  {
   "cell_type": "markdown",
   "metadata": {
    "id": "cmf4oTiB2rdQ"
   },
   "source": [
    "#### Cuisine vs Food Preparation time"
   ]
  },
  {
   "cell_type": "code",
   "execution_count": null,
   "metadata": {
    "id": "cfeDWTgN2rdQ",
    "scrolled": true
   },
   "outputs": [],
   "source": [
    "# Relationship between food preparation time and cuisine type\n",
    "plt.figure(figsize=(15,7))\n",
    "sns.boxplot('_______')  # Complete the code to visualize the relationship between food preparation time and cuisine type using boxplot\n",
    "plt.xticks(rotation = 60)\n",
    "plt.show()"
   ]
  },
  {
   "cell_type": "markdown",
   "metadata": {
    "id": "28L5vjZw2rdQ"
   },
   "source": [
    "#### Day of the Week vs Delivery time"
   ]
  },
  {
   "cell_type": "code",
   "execution_count": null,
   "metadata": {
    "id": "fG3QyQ452rdQ",
    "scrolled": true
   },
   "outputs": [],
   "source": [
    "# Relationship between day of the week and delivery time\n",
    "plt.figure(figsize=(15,7))\n",
    "sns.boxplot('_______')  # Complete the code to visualize the relationship between day of the week and delivery time using boxplot\n",
    "plt.show()"
   ]
  },
  {
   "cell_type": "markdown",
   "metadata": {
    "id": "UnppMp022rdQ"
   },
   "source": [
    "#### Run the below code and write your observations on the revenue generated by the restaurants."
   ]
  },
  {
   "cell_type": "code",
   "execution_count": null,
   "metadata": {
    "id": "LaDfuzIt2rdR"
   },
   "outputs": [],
   "source": [
    "df.groupby(['restaurant_name'])['cost_of_the_order'].sum().sort_values(ascending = False).head(14)"
   ]
  },
  {
   "cell_type": "markdown",
   "metadata": {
    "id": "lu0o5GkQ2rdR"
   },
   "source": [
    "#### Rating vs Delivery time"
   ]
  },
  {
   "cell_type": "code",
   "execution_count": null,
   "metadata": {
    "id": "NoBGHlPR2rdR",
    "scrolled": true
   },
   "outputs": [],
   "source": [
    "# Relationship between rating and delivery time\n",
    "plt.figure(figsize=(15, 7))\n",
    "sns.pointplot(x = 'rating', y = 'delivery_time', data = df)\n",
    "plt.show()"
   ]
  },
  {
   "cell_type": "markdown",
   "metadata": {
    "id": "EUW_xUEK2rdR"
   },
   "source": [
    "#### Rating vs Food preparation time"
   ]
  },
  {
   "cell_type": "code",
   "execution_count": 7,
   "metadata": {
    "id": "d7qzVLdE2rdR"
   },
   "outputs": [
    {
     "data": {
      "image/png": "[encoded data removed]",
      "text/plain": [
       "<Figure size 1500x700 with 1 Axes>"
      ]
     },
     "metadata": {},
     "output_type": "display_data"
    }
   ],
   "source": [
    "# Relationship between rating and food preparation time\n",
    "plt.figure(figsize=(15, 7))\n",
    "sns.pointplot(data=df, x='rating', y='food_preparation_time')  # Complete the code to visualize the relationship between rating and food preparation time using pointplot\n",
    "plt.show()"
   ]
  },
  {
   "cell_type": "markdown",
   "metadata": {
    "id": "x1xcxS6h2rdS"
   },
   "source": [
    "#### Rating vs Cost of the order"
   ]
  },
  {
   "cell_type": "code",
   "execution_count": 4,
   "metadata": {
    "id": "QV1lg0_72rdS"
   },
   "outputs": [
    {
     "data": {
      "image/png": "[encoded data removed]",
      "text/plain": [
       "<Figure size 1500x700 with 1 Axes>"
      ]
     },
     "metadata": {},
     "output_type": "display_data"
    }
   ],
   "source": [
    "# Relationship between rating and cost of the order\n",
    "plt.figure(figsize=(15, 7))\n",
    "sns.pointplot(data=df, x='rating', y='cost_of_the_order')   # Complete the code to visualize the relationship between rating and cost of the order using pointplot\n",
    "plt.show()"
   ]
  },
  {
   "cell_type": "markdown",
   "metadata": {
    "id": "N1ATzdSX2rdS"
   },
   "source": [
    "#### Correlation among variables"
   ]
  },
  {
   "cell_type": "code",
   "execution_count": 3,
   "metadata": {
    "id": "I4yA0y032rdS"
   },
   "outputs": [
    {
     "data": {
      "image/png": "[encoded data removed]",
      "text/plain": [
       "<Figure size 1500x700 with 2 Axes>"
      ]
     },
     "metadata": {},
     "output_type": "display_data"
    }
   ],
   "source": [
    "# Plot the heatmap \n",
    "col_list = ['cost_of_the_order', 'food_preparation_time', 'delivery_time']\n",
    "plt.figure(figsize=(15, 7))\n",
    "sns.heatmap(df[col_list].corr(), annot=True, vmin=-1, vmax=1, fmt=\".2f\", cmap=\"Spectral\")\n",
    "plt.show()"
   ]
  },
  {
   "cell_type": "markdown",
   "metadata": {
    "id": "zwBb5dAq2rdS"
   },
   "source": [
    "### **Question 13:** The company wants to provide a promotional offer in the advertisement of the restaurants. The condition to get the offer is that the restaurants must have a rating count of more than 50 and the average rating should be greater than 4. Find the restaurants fulfilling the criteria to get the promotional offer. [3 marks]"
   ]
  },
  {
   "cell_type": "code",
   "execution_count": null,
   "metadata": {
    "id": "4jQUoQ812rdS",
    "scrolled": true
   },
   "outputs": [],
   "source": [
    "# Filter the rated restaurants\n",
    "df_rated = df[df['rating'] != 'Not given'].copy()\n",
    "\n",
    "# Convert rating column from object to integer\n",
    "df_rated['rating'] = df_rated['rating'].astype('int')  \n",
    "\n",
    "# Create a dataframe that contains the restaurant names with their rating counts\n",
    "df_rating_count = df_rated.groupby(['restaurant_name'])['rating'].count().sort_values(ascending = False).reset_index()\n",
    "df_rating_count.head() "
   ]
  },
  {
   "cell_type": "code",
   "execution_count": null,
   "metadata": {
    "id": "VLdgfwoL2rdT"
   },
   "outputs": [],
   "source": [
    "# Get the restaurant names that have rating count more than 50\n",
    "rest_names = df_rating_count['______________']['restaurant_name'] # Complete the code to get the restaurant names having rating count more than 50\n",
    "\n",
    "# Filter to get the data of restaurants that have rating count more than 50\n",
    "df_mean_4 = df_rated[df_rated['restaurant_name'].isin(rest_names)].copy()\n",
    "\n",
    "# Group the restaurant names with their ratings and find the mean rating of each restaurant\n",
    "df_mean_4.groupby(['_______'])['_______'].mean().sort_values(ascending = False).reset_index().dropna() # Complete the code to find the mean rating\n"
   ]
  },
  {
   "cell_type": "markdown",
   "metadata": {
    "id": "UYq_xMk72rdT"
   },
   "source": [
    "### **Question 14:** The company charges the restaurant 25% on the orders having cost greater than 20 dollars and 15% on the orders having cost greater than 5 dollars. Find the net revenue generated by the company across all orders. [3 marks]"
   ]
  },
  {
   "cell_type": "code",
   "execution_count": null,
   "metadata": {
    "id": "We7SLKbr2rdT"
   },
   "outputs": [],
   "source": [
    "# Function to determine the revenue\n",
    "def compute_rev(x):\n",
    "    if x > 20:\n",
    "        return x*0.25\n",
    "    elif x > 5:\n",
    "        return x*0.15\n",
    "    else:\n",
    "        return x*0\n",
    "\n",
    "df['Revenue'] = df['________'].apply(compute_rev) # Write the apprpriate column name to compute the revenue\n",
    "df.head()"
   ]
  },
  {
   "cell_type": "code",
   "execution_count": null,
   "metadata": {
    "id": "Ab_UW6kRIAk3"
   },
   "outputs": [],
   "source": [
    "# Get the total revenue and print it\n",
    "total_rev = df['Revenue'].______ # Write the appropriate function to get the total revenue\n",
    "print('The net revenue is around', round(total_rev, 2), 'dollars')"
   ]
  },
  {
   "cell_type": "markdown",
   "metadata": {
    "id": "LZy7Tky82rdT"
   },
   "source": [
    "### **Question 15:** The company wants to analyze the total time required to deliver the food. What percentage of orders take more than 60 minutes to get delivered from the time the order is placed? (The food has to be prepared and then delivered.) [2 marks]\n"
   ]
  },
  {
   "cell_type": "code",
   "execution_count": null,
   "metadata": {
    "id": "Ati2ZEEE2rdT"
   },
   "outputs": [],
   "source": [
    "# Calculate total delivery time and add a new column to the dataframe df to store the total delivery time\n",
    "df['total_time'] = df['food_preparation_time'] + df['delivery_time']\n",
    "\n",
    "\n",
    "# Write the code below to find the percentage of orders that have more than 60 minutes of total delivery time (see Question 9 for reference)\n",
    "\n",
    "\n",
    "\n"
   ]
  },
  {
   "cell_type": "markdown",
   "metadata": {
    "id": "SYOKcqNF2rdU"
   },
   "source": [
    "### **Question 16:** The company wants to analyze the delivery time of the orders on weekdays and weekends. How does the mean delivery time vary during weekdays and weekends? [2 marks]"
   ]
  },
  {
   "cell_type": "code",
   "execution_count": null,
   "metadata": {
    "id": "A2eovxKR2rdU"
   },
   "outputs": [],
   "source": [
    "# Get the mean delivery time on weekdays and print it\n",
    "print('The mean delivery time on weekdays is around', \n",
    "      round(df[df['day_of_the_week'] == 'Weekday']['delivery_time'].mean()),\n",
    "     'minutes')\n",
    "\n",
    "# Write the code below to get the mean delivery time on weekends and print it\n",
    "\n",
    "\n",
    "\n",
    "\n"
   ]
  },
  {
   "cell_type": "markdown",
   "metadata": {
    "id": "2nE3pq472rdU"
   },
   "source": [
    "### Conclusion and Recommendations"
   ]
  },
  {
   "cell_type": "markdown",
   "metadata": {
    "id": "DL1sNndy2rdU"
   },
   "source": [
    "### **Question 17:** What are your conclusions from the analysis? What recommendations would you like to share to help improve the business? (You can use cuisine type and feedback ratings to drive your business recommendations.) [6 marks]"
   ]
  },
  {
   "cell_type": "markdown",
   "metadata": {
    "id": "VTugVsL4Ddz-"
   },
   "source": [
    "### Conclusions:\n",
    "*  "
   ]
  },
  {
   "cell_type": "markdown",
   "metadata": {
    "id": "PWnsI0i_guWJ"
   },
   "source": [
    "### Recommendations:\n",
    "\n",
    "*  "
   ]
  },
  {
   "cell_type": "markdown",
   "metadata": {
    "id": "Kvk0Fh6WhMjU"
   },
   "source": [
    "---"
   ]
  }
 ],
 "metadata": {
  "colab": {
   "collapsed_sections": [
    "LUh8hTiW2rdH",
    "2Dl2aL1W2rdI",
    "4ceeYAVy2rdO",
    "lu0o5GkQ2rdR",
    "2nE3pq472rdU",
    "DL1sNndy2rdU"
   ],
   "name": "PYF_Project_LearnerNotebook_LowCode.ipynb",
   "provenance": []
  },
  "hide_input": false,
  "kernelspec": {
   "display_name": "Python 3 (ipykernel)",
   "language": "python",
   "name": "python3"
  },
  "language_info": {
   "codemirror_mode": {
    "name": "ipython",
    "version": 3
   },
   "file_extension": ".py",
   "mimetype": "text/x-python",
   "name": "python",
   "nbconvert_exporter": "python",
   "pygments_lexer": "ipython3",
   "version": "3.8.19"
  },
  "toc": {
   "base_numbering": 1,
   "nav_menu": {},
   "number_sections": true,
   "sideBar": true,
   "skip_h1_title": false,
   "title_cell": "Table of Contents",
   "title_sidebar": "Contents",
   "toc_cell": false,
   "toc_position": {},
   "toc_section_display": true,
   "toc_window_display": false
  },
  "varInspector": {
   "cols": {
    "lenName": 16,
    "lenType": 16,
    "lenVar": 40
   },
   "kernels_config": {
    "python": {
     "delete_cmd_postfix": "",
     "delete_cmd_prefix": "del ",
     "library": "var_list.py",
     "varRefreshCmd": "print(var_dic_list())"
    },
    "r": {
     "delete_cmd_postfix": ") ",
     "delete_cmd_prefix": "rm(",
     "library": "var_list.r",
     "varRefreshCmd": "cat(var_dic_list()) "
    }
   },
   "types_to_exclude": [
    "module",
    "function",
    "builtin_function_or_method",
    "instance",
    "_Feature"
   ],
   "window_display": false
  }
 },
 "nbformat": 4,
 "nbformat_minor": 4
}
