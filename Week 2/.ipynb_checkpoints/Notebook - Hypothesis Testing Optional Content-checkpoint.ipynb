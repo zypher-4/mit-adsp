{
 "cells": [
  {
   "cell_type": "markdown",
   "metadata": {
    "id": "na3XXQqwxk4n"
   },
   "source": [
    "# **Concepts Covered:**\n",
    "\n",
    "- <a href = #link6>One Sample T-test for Population Mean $\\mu$</a>\n",
    "- <a href = #link7>Two Independent Sample Z-test for Equality of Means</a>\n",
    "- <a href = #link8>Two Independent Sample T-test for Equality of Means - Equal Std Dev</a>\n",
    "- <a href = #link9>Two Independent Sample T-test for Equality of Means - Unequal Std Dev</a>\n",
    "- <a href = #link10>One Proportion Z-test</a>\n",
    "- <a href = #link11>Two Proportion Z-test</a>\n",
    "- <a href = #link12>Chi-Square Test for Variance</a>\n",
    "- <a href = #link13>F-test for Equality of Variances</a>\n",
    "- <a href = #link14>Chi-Square Test for Independence</a>\n",
    "- <a href = #link15>One-way Anova Test</a>\n",
    "\n",
    "\n",
    "\n"
   ]
  },
  {
   "cell_type": "markdown",
   "metadata": {
    "id": "Mev65aUY93J9"
   },
   "source": [
    "## Import the required packages"
   ]
  },
  {
   "cell_type": "code",
   "execution_count": 1,
   "metadata": {
    "id": "n1269wHJF96t"
   },
   "outputs": [],
   "source": [
    "# import the important packages\n",
    "import pandas as pd                 # library used for data manipulation and analysis\n",
    "import numpy as np                  # library used for working with arrays\n",
    "import matplotlib.pyplot as plt     # library for plots and visualizations\n",
    "import seaborn as sns               # library for visualizations\n",
    "%matplotlib inline\n",
    "\n",
    "import scipy.stats as stats  # this library contains a large number of probability distributions as well as a growing library of statistical functions"
   ]
  },
  {
   "cell_type": "markdown",
   "metadata": {
    "id": "54uwRjj0wK0t"
   },
   "source": [
    "## **One Sample T-test for Population Mean**"
   ]
  },
  {
   "cell_type": "markdown",
   "metadata": {
    "id": "9lpoQOzkw9cb"
   },
   "source": [
    "### Let's revisit the example\n",
    "A certain food aggregator ZYX is facing stiff competition from its main rival SWG during the Corona period. To retain business, ZYX is advertising that, within a radius of 5 km from the restaurant where the order is placed, it can still deliver in 40 minutes or less (and the changed condition has not made any impact on them). \n",
    "\n",
    "The delivery times in minutes of 25 randomly selected deliveries are given in a CSV file.\n",
    "\n",
    "Assuming the delivery distribution is approximately normal and at a 0.05 level of significance, is there enough evidence that ZYX’s claim is false?\n"
   ]
  },
  {
   "cell_type": "markdown",
   "metadata": {
    "id": "daSTqeX01t1b"
   },
   "source": [
    "### Let's write the null and alternative hypothesis\n",
    "Let $\\mu$ be the mean delivery time of the ZYX food aggregator.\n",
    "\n",
    "We will test the null hypothesis\n",
    "\n",
    ">$H_0:\\mu = 40$\n",
    "\n",
    "against the alternate hypothesis\n",
    "\n",
    ">$H_a:\\mu > 40$\n",
    "\n"
   ]
  },
  {
   "cell_type": "markdown",
   "metadata": {
    "id": "JhRo1Ebg2_1H"
   },
   "source": [
    "### Let's have a look at the sample data"
   ]
  },
  {
   "cell_type": "code",
   "execution_count": 2,
   "metadata": {
    "colab": {
     "base_uri": "https://localhost:8080/",
     "height": 204
    },
    "id": "jbZ2TScA3NNC",
    "outputId": "7421e4a1-a342-4972-88e4-8b0f557b0351"
   },
   "outputs": [
    {
     "data": {
      "text/html": [
       "<div>\n",
       "<style scoped>\n",
       "    .dataframe tbody tr th:only-of-type {\n",
       "        vertical-align: middle;\n",
       "    }\n",
       "\n",
       "    .dataframe tbody tr th {\n",
       "        vertical-align: top;\n",
       "    }\n",
       "\n",
       "    .dataframe thead th {\n",
       "        text-align: right;\n",
       "    }\n",
       "</style>\n",
       "<table border=\"1\" class=\"dataframe\">\n",
       "  <thead>\n",
       "    <tr style=\"text-align: right;\">\n",
       "      <th></th>\n",
       "      <th>Delivery</th>\n",
       "      <th>Time</th>\n",
       "    </tr>\n",
       "  </thead>\n",
       "  <tbody>\n",
       "    <tr>\n",
       "      <th>0</th>\n",
       "      <td>1</td>\n",
       "      <td>39.4</td>\n",
       "    </tr>\n",
       "    <tr>\n",
       "      <th>1</th>\n",
       "      <td>2</td>\n",
       "      <td>39.5</td>\n",
       "    </tr>\n",
       "    <tr>\n",
       "      <th>2</th>\n",
       "      <td>3</td>\n",
       "      <td>39.7</td>\n",
       "    </tr>\n",
       "    <tr>\n",
       "      <th>3</th>\n",
       "      <td>4</td>\n",
       "      <td>40.7</td>\n",
       "    </tr>\n",
       "    <tr>\n",
       "      <th>4</th>\n",
       "      <td>5</td>\n",
       "      <td>40.4</td>\n",
       "    </tr>\n",
       "  </tbody>\n",
       "</table>\n",
       "</div>"
      ],
      "text/plain": [
       "   Delivery  Time\n",
       "0         1  39.4\n",
       "1         2  39.5\n",
       "2         3  39.7\n",
       "3         4  40.7\n",
       "4         5  40.4"
      ]
     },
     "execution_count": 2,
     "metadata": {},
     "output_type": "execute_result"
    }
   ],
   "source": [
    "fastfood = pd.read_csv('FastFood1.csv')\n",
    "fastfood.head()"
   ]
  },
  {
   "cell_type": "markdown",
   "metadata": {
    "id": "gZkj8dfp60mY"
   },
   "source": [
    "### Let's test whether the T-test assumptions are satisfied or not\n",
    "\n",
    "* Continuous data - Yes, the delivery time is measured on a continuous scale.\n",
    "\n",
    "*   Normally distributed population and Sample size < 30 - Yes, it is assumed that the population is normal and the sample size is 25 which is less than 30.\n",
    "*   Observations are from a simple random sample - Yes, we are informed that the collected sample is a simple random sample.\n",
    "*   Population standard deviation is known - No\n",
    "\n",
    "Voila! We can use a T-test for this problem."
   ]
  },
  {
   "cell_type": "markdown",
   "metadata": {
    "id": "kxeP-6rx7T63"
   },
   "source": [
    "### Let's find the p-value"
   ]
  },
  {
   "cell_type": "code",
   "execution_count": 3,
   "metadata": {
    "colab": {
     "base_uri": "https://localhost:8080/"
    },
    "id": "TRmdVyRM7YUz",
    "outputId": "a5368027-0c61-478d-8d34-d78723d615c4"
   },
   "outputs": [
    {
     "name": "stdout",
     "output_type": "stream",
     "text": [
      "The p-value is  1.4822680927543513e-05\n"
     ]
    }
   ],
   "source": [
    "# import the required functions\n",
    "from scipy.stats import ttest_1samp\n",
    "\n",
    "# calculate the test statistic and p-value\n",
    "test_stat, p_value = ttest_1samp(fastfood['Time'], popmean = 40, alternative = 'greater')\n",
    "print('The p-value is ', p_value)"
   ]
  },
  {
   "cell_type": "markdown",
   "metadata": {
    "id": "uGVihRGE8RIq"
   },
   "source": [
    "### Insight\n",
    "As the p-value is much less than the level of significance, we can reject the null hypothesis. Hence, we do not have enough significance to conclude that the mean delivery time within a 5 km radius is indeed 40 min or less, as claimed by ZYX in their advertisement."
   ]
  },
  {
   "cell_type": "markdown",
   "metadata": {
    "id": "23LuDgOiv5JU"
   },
   "source": [
    "\n",
    "\n",
    "## **Two Independent Sample Z-test for Equality of Means**\n",
    "\n",
    "### Let's revisit the example\n",
    "\n",
    "To compare customer satisfaction levels of two competing media channels, 150 customers of Channel 1 and 300 customers of Channel 2 were randomly selected and were asked to rate their channels on a scale of 1 to 5, with 1 being least satisfied and 5 being most satisfied (The survey results are summarized in a CSV file). Suppose we know that, $\\sigma_1$ = 0.48 and $\\sigma_2$ = 0.49.\n",
    "\n",
    "Test at a 0.05 level of significance whether the data provide sufficient evidence to conclude that channel 1 has a higher mean satisfaction rating than channel 2.\n"
   ]
  },
  {
   "cell_type": "markdown",
   "metadata": {
    "id": "FD4tTSL2v5i6"
   },
   "source": [
    "### Let's write the null hypothesis and alternative hypothesis\n",
    "Let $\\mu_1, \\mu_2$ be the mean customer rating of channel 1 and channel 2 respectively.\n",
    "\n",
    "We will test the null hypothesis\n",
    "\n",
    ">$H_0:\\mu_1=\\mu_2$\n",
    "\n",
    "against the alternate hypothesis\n",
    "\n",
    ">$H_a:\\mu_1>\\mu_2$"
   ]
  },
  {
   "cell_type": "markdown",
   "metadata": {
    "id": "k6SHWGjvqZbE"
   },
   "source": [
    "### Let's have a look at the sample data"
   ]
  },
  {
   "cell_type": "code",
   "execution_count": 4,
   "metadata": {
    "colab": {
     "base_uri": "https://localhost:8080/",
     "height": 204
    },
    "id": "QQF4Wfwwqgk2",
    "outputId": "dcf40bef-2661-4503-8e3d-880a41a2bda0"
   },
   "outputs": [
    {
     "data": {
      "text/html": [
       "<div>\n",
       "<style scoped>\n",
       "    .dataframe tbody tr th:only-of-type {\n",
       "        vertical-align: middle;\n",
       "    }\n",
       "\n",
       "    .dataframe tbody tr th {\n",
       "        vertical-align: top;\n",
       "    }\n",
       "\n",
       "    .dataframe thead th {\n",
       "        text-align: right;\n",
       "    }\n",
       "</style>\n",
       "<table border=\"1\" class=\"dataframe\">\n",
       "  <thead>\n",
       "    <tr style=\"text-align: right;\">\n",
       "      <th></th>\n",
       "      <th>channel1_rating</th>\n",
       "      <th>channel2_rating</th>\n",
       "    </tr>\n",
       "  </thead>\n",
       "  <tbody>\n",
       "    <tr>\n",
       "      <th>0</th>\n",
       "      <td>3.5</td>\n",
       "      <td>3.3</td>\n",
       "    </tr>\n",
       "    <tr>\n",
       "      <th>1</th>\n",
       "      <td>3.7</td>\n",
       "      <td>3.3</td>\n",
       "    </tr>\n",
       "    <tr>\n",
       "      <th>2</th>\n",
       "      <td>3.0</td>\n",
       "      <td>2.9</td>\n",
       "    </tr>\n",
       "    <tr>\n",
       "      <th>3</th>\n",
       "      <td>3.8</td>\n",
       "      <td>3.7</td>\n",
       "    </tr>\n",
       "    <tr>\n",
       "      <th>4</th>\n",
       "      <td>3.3</td>\n",
       "      <td>4.0</td>\n",
       "    </tr>\n",
       "  </tbody>\n",
       "</table>\n",
       "</div>"
      ],
      "text/plain": [
       "   channel1_rating  channel2_rating\n",
       "0              3.5              3.3\n",
       "1              3.7              3.3\n",
       "2              3.0              2.9\n",
       "3              3.8              3.7\n",
       "4              3.3              4.0"
      ]
     },
     "execution_count": 4,
     "metadata": {},
     "output_type": "execute_result"
    }
   ],
   "source": [
    "rating = pd.read_csv('rating.csv')\n",
    "rating.head()"
   ]
  },
  {
   "cell_type": "code",
   "execution_count": 5,
   "metadata": {
    "colab": {
     "base_uri": "https://localhost:8080/"
    },
    "id": "6TKSnS1-r0yk",
    "outputId": "ac87755f-792d-42ee-8a0b-af35ba67a7a3",
    "scrolled": true
   },
   "outputs": [
    {
     "name": "stdout",
     "output_type": "stream",
     "text": [
      "The mean rating for channel 1 is 3.5\n",
      "The mean rating for channel 2 is 3.2\n"
     ]
    }
   ],
   "source": [
    "# find the sample means and sample standard deviations for the two samples\n",
    "print('The mean rating for channel 1 is ' + str(round(rating['channel1_rating'].mean(), 1)))\n",
    "print('The mean rating for channel 2 is ' + str(round(rating['channel2_rating'].mean(), 1)))"
   ]
  },
  {
   "cell_type": "markdown",
   "metadata": {
    "id": "On9IY1NDv5yJ"
   },
   "source": [
    "### Let's test whether the Z-test assumptions are satisfied or not\n",
    "\n",
    "* Continuous data - The ratings are measured on a continuous scale.\n",
    "* Normally distributed populations or Sample sizes > 30 - Since the sample sizes are greater than 30, Central Limit Theorem states that the distribution of sample means will be normal.\n",
    "* Independent populations - As we are taking samples for two different channels, the two samples are from two independent populations.\n",
    "* Known population standard deviations $\\sigma_1$ and $\\sigma_2$ - Yes, we know the population standard deviations of both populations.\n",
    "* Random sampling from the population - Yes, we are informed that the collected sample is a simple random sample.\n",
    "\n",
    "Voila! We can use a two-sample Z-test for this problem."
   ]
  },
  {
   "cell_type": "markdown",
   "metadata": {
    "id": "xPyf-mDIqqTk"
   },
   "source": [
    "### Let's find the p-value"
   ]
  },
  {
   "cell_type": "code",
   "execution_count": 6,
   "metadata": {
    "id": "d9A5SND093KE"
   },
   "outputs": [],
   "source": [
    "# user-defined function to compare the equality of two means from two independent populations, where population standard deviations are known\n",
    "# this function returns the p-value for one-tailed test\n",
    "# for two-tailed test, multiply the p-value by 2\n",
    "def ztest_2samp(X1, X2, pop_sd1, pop_sd2, n1, n2):\n",
    "    '''\n",
    "    X1 - first of the two independent samples (sample 1)\n",
    "    X2 - second of the two independent samples (sample 2)\n",
    "    pop_sd1 - Population standard deviation of sample 1\n",
    "    pop_sd2 - Population standard deviation of sample 2\n",
    "    n1 - the size of sample 1\n",
    "    n2 - the size of sample 2\n",
    "    '''\n",
    "    from numpy import sqrt, abs\n",
    "    from scipy.stats import norm\n",
    "    se = sqrt(pop_sd1**2/n1 + pop_sd2**2/n2)\n",
    "    test_stat = ((X1.mean() - X2.mean()) - 0)/ se\n",
    "    pval = 1 - norm.cdf(abs(test_stat))\n",
    "    return pval"
   ]
  },
  {
   "cell_type": "code",
   "execution_count": 7,
   "metadata": {
    "colab": {
     "base_uri": "https://localhost:8080/"
    },
    "id": "a_KDzzbLrXc6",
    "outputId": "09e5913f-4576-4b78-9aa2-ee9ac814b51a"
   },
   "outputs": [
    {
     "name": "stdout",
     "output_type": "stream",
     "text": [
      "The P-value is 5.87973714161194e-09\n"
     ]
    }
   ],
   "source": [
    "# find the p-value\n",
    "p_value = ztest_2samp(rating['channel1_rating'].dropna(), rating['channel2_rating'], 0.48, 0.49, 150 ,300)\n",
    "print('The P-value is', p_value)"
   ]
  },
  {
   "cell_type": "markdown",
   "metadata": {
    "id": "6YUHgI3hxjrC"
   },
   "source": [
    "### Insight\n",
    "\n",
    "As the p-value is much less than the level of significance of 0.05, we reject the null hypothesis. Thus, we have enough statistical evidence to tell that channel 1 has a higher mean satisfaction rating than channel 2."
   ]
  },
  {
   "cell_type": "markdown",
   "metadata": {
    "id": "gE3YTnBx54pI"
   },
   "source": [
    "## **Two Independent Sample T-test for Equality of Means - Equal Std Dev**"
   ]
  },
  {
   "cell_type": "markdown",
   "metadata": {
    "id": "2VX0ny4f6a_B"
   },
   "source": [
    "\n",
    "### Let's revisit the example\n",
    "\n",
    "\n",
    "During the lockdown period, because of working from home and increased screen time, many opted for listening to FM Radio for entertainment rather than watching Cable TV. An advertisement agency randomly collected daily usage time data (in minutes) from both types of users and stored it in a CSV file.\n",
    "\n",
    "Assuming daily Radio and TV usage time are normally distributed, do we have enough evidence to conclude that there is any difference between daily TV and Radio usage time at a 0.05 significance level?\n"
   ]
  },
  {
   "cell_type": "markdown",
   "metadata": {
    "id": "QQI62wCl9JEB"
   },
   "source": [
    "### Let's write the null hypothesis and alternative hypothesis\n",
    "Let $\\mu_1, \\mu_2$ be the daily mean Radio usage time and TV usage time respectively.\n",
    "\n",
    "We will test the null hypothesis\n",
    "\n",
    ">$H_0:\\mu_1=\\mu_2$\n",
    "\n",
    "against the alternate hypothesis\n",
    "\n",
    ">$H_a:\\mu_1\\neq\\mu_2$\n",
    "\n"
   ]
  },
  {
   "cell_type": "markdown",
   "metadata": {
    "id": "Bq06ETuCYEey"
   },
   "source": [
    "### Let's have a look at the sample data"
   ]
  },
  {
   "cell_type": "code",
   "execution_count": 8,
   "metadata": {
    "colab": {
     "base_uri": "https://localhost:8080/",
     "height": 204
    },
    "id": "v63O6W_byo2Z",
    "outputId": "5c0b668b-d895-4080-bdaa-6fc222550ecd"
   },
   "outputs": [
    {
     "data": {
      "text/html": [
       "<div>\n",
       "<style scoped>\n",
       "    .dataframe tbody tr th:only-of-type {\n",
       "        vertical-align: middle;\n",
       "    }\n",
       "\n",
       "    .dataframe tbody tr th {\n",
       "        vertical-align: top;\n",
       "    }\n",
       "\n",
       "    .dataframe thead th {\n",
       "        text-align: right;\n",
       "    }\n",
       "</style>\n",
       "<table border=\"1\" class=\"dataframe\">\n",
       "  <thead>\n",
       "    <tr style=\"text-align: right;\">\n",
       "      <th></th>\n",
       "      <th>Cable_TV</th>\n",
       "      <th>FM_Radio</th>\n",
       "    </tr>\n",
       "  </thead>\n",
       "  <tbody>\n",
       "    <tr>\n",
       "      <th>0</th>\n",
       "      <td>22</td>\n",
       "      <td>25</td>\n",
       "    </tr>\n",
       "    <tr>\n",
       "      <th>1</th>\n",
       "      <td>8</td>\n",
       "      <td>10</td>\n",
       "    </tr>\n",
       "    <tr>\n",
       "      <th>2</th>\n",
       "      <td>25</td>\n",
       "      <td>29</td>\n",
       "    </tr>\n",
       "    <tr>\n",
       "      <th>3</th>\n",
       "      <td>22</td>\n",
       "      <td>19</td>\n",
       "    </tr>\n",
       "    <tr>\n",
       "      <th>4</th>\n",
       "      <td>12</td>\n",
       "      <td>13</td>\n",
       "    </tr>\n",
       "  </tbody>\n",
       "</table>\n",
       "</div>"
      ],
      "text/plain": [
       "   Cable_TV  FM_Radio\n",
       "0        22        25\n",
       "1         8        10\n",
       "2        25        29\n",
       "3        22        19\n",
       "4        12        13"
      ]
     },
     "execution_count": 8,
     "metadata": {},
     "output_type": "execute_result"
    }
   ],
   "source": [
    "tvradio = pd.read_csv('TVRadio.csv')\n",
    "tvradio.head()"
   ]
  },
  {
   "cell_type": "code",
   "execution_count": 9,
   "metadata": {
    "colab": {
     "base_uri": "https://localhost:8080/"
    },
    "id": "aJjplEcBXvnQ",
    "outputId": "5937a89e-e860-439e-bedd-fb38fc8470fc"
   },
   "outputs": [
    {
     "name": "stdout",
     "output_type": "stream",
     "text": [
      "The mean usage time of cable TV is 18.8\n",
      "The mean usage time of FM radio is 20.0\n",
      "The standard deviation of usage time of cable TV is 5.41\n",
      "The standard deviation of usage time of FM radio is 5.42\n"
     ]
    }
   ],
   "source": [
    "# find the sample means and sample standard deviations for the two samples\n",
    "print('The mean usage time of cable TV is ' + str(tvradio['Cable_TV'].mean()))\n",
    "print('The mean usage time of FM radio is ' + str(tvradio['FM_Radio'].mean()))\n",
    "print('The standard deviation of usage time of cable TV is ' + str(round(tvradio['Cable_TV'].std(),2)))\n",
    "print('The standard deviation of usage time of FM radio is ' + str(round(tvradio['FM_Radio'].std(),2)))"
   ]
  },
  {
   "cell_type": "markdown",
   "metadata": {
    "id": "-ZTenzwH-I6f"
   },
   "source": [
    "### Let's test whether the T-test assumptions are satisfied or not\n",
    "\n",
    "* Continuous data - Yes, the usage time is measured on a continuous scale.\n",
    "* Normally distributed populations - Yes, we are informed that the populations are assumed to be normal.\n",
    "* Independent populations - As we are taking random samples for two different types of users, the two samples are from two independent populations.\n",
    "* Equal population standard deviations - As the sample standard deviations are almost equal, the population standard deviations can be assumed to be equal.\n",
    "* Random sampling from the population - Yes, we are informed that the collected sample is a simple random sample.\n",
    "\n",
    "Voila! We can use a two-sample T-test for this problem."
   ]
  },
  {
   "cell_type": "markdown",
   "metadata": {
    "id": "HaXBN9zP6rFH"
   },
   "source": [
    "### Let's find the p-value"
   ]
  },
  {
   "cell_type": "code",
   "execution_count": 10,
   "metadata": {
    "colab": {
     "base_uri": "https://localhost:8080/"
    },
    "id": "XaRGog9D8_it",
    "outputId": "543549fc-5f47-4675-db4b-fbe2a5f2181b"
   },
   "outputs": [
    {
     "name": "stdout",
     "output_type": "stream",
     "text": [
      "The p-value is 0.5491435225558506\n"
     ]
    }
   ],
   "source": [
    "# import the required functions\n",
    "from scipy.stats import ttest_ind\n",
    "\n",
    "# find the p-value\n",
    "test_stat, p_value = ttest_ind(tvradio['Cable_TV'], tvradio['FM_Radio'], equal_var = True, alternative = 'two-sided')\n",
    "print('The p-value is ' + str(p_value))"
   ]
  },
  {
   "cell_type": "markdown",
   "metadata": {
    "id": "nU8OiJM1bTMJ"
   },
   "source": [
    "### Insight\n",
    "As the p-value(~0.55) is much greater than the level of significance, we can not reject the null hypothesis. Hence, we do not have enough significance to conclude that there is any difference between daily TV and Radio usage at a 0.05 significance level."
   ]
  },
  {
   "cell_type": "markdown",
   "metadata": {
    "id": "S94HHmoe6Hlv"
   },
   "source": [
    "## **Two Independent Sample T-test for Equality of Means - Unequal Std Dev**"
   ]
  },
  {
   "cell_type": "markdown",
   "metadata": {
    "id": "GF0J8cvZb_6Q"
   },
   "source": [
    "\n",
    "\n",
    "### Let's revisit the example\n",
    "\n",
    "SAT verbal scores of two groups of students are given in a CSV file. The first group, College, contains scores of students whose parents have at least a bachelor’s degree, and the second group, High School, contains scores of students whose parents do not have any college degree.\n",
    "\n",
    "The Education Department is interested to know whether the sample data support the theory that students show a higher population mean verbal score on SAT if their parents attain a higher level of education.\n",
    "\n",
    "Assuming SAT verbal scores for two populations are normally distributed, do we have enough statistical evidence for this at a 5% significance level?"
   ]
  },
  {
   "cell_type": "markdown",
   "metadata": {
    "id": "GJuoxHuSeiZW"
   },
   "source": [
    "### Let's write the null hypothesis and alternative hypothesis\n",
    "\n",
    "\n",
    "Let $\\mu_1, \\mu_2$ be the mean SAT verbal scores of **College** and **High School** groups respectively.\n",
    "\n",
    "We will test the null hypothesis\n",
    "\n",
    ">$H_0:\\mu_1=\\mu_2$\n",
    "\n",
    "against the alternate hypothesis\n",
    "\n",
    ">$H_a:\\mu_1>\\mu_2$"
   ]
  },
  {
   "cell_type": "markdown",
   "metadata": {
    "id": "k6PL8Qg6hc5I"
   },
   "source": [
    "### Let's have a look at the sample data"
   ]
  },
  {
   "cell_type": "code",
   "execution_count": 11,
   "metadata": {
    "colab": {
     "base_uri": "https://localhost:8080/",
     "height": 204
    },
    "id": "Zw4bSIVzwO7p",
    "outputId": "f8b41f17-aa36-4d3f-a34a-ea8517448be3"
   },
   "outputs": [
    {
     "data": {
      "text/html": [
       "<div>\n",
       "<style scoped>\n",
       "    .dataframe tbody tr th:only-of-type {\n",
       "        vertical-align: middle;\n",
       "    }\n",
       "\n",
       "    .dataframe tbody tr th {\n",
       "        vertical-align: top;\n",
       "    }\n",
       "\n",
       "    .dataframe thead th {\n",
       "        text-align: right;\n",
       "    }\n",
       "</style>\n",
       "<table border=\"1\" class=\"dataframe\">\n",
       "  <thead>\n",
       "    <tr style=\"text-align: right;\">\n",
       "      <th></th>\n",
       "      <th>College</th>\n",
       "      <th>High School</th>\n",
       "    </tr>\n",
       "  </thead>\n",
       "  <tbody>\n",
       "    <tr>\n",
       "      <th>0</th>\n",
       "      <td>485</td>\n",
       "      <td>489.0</td>\n",
       "    </tr>\n",
       "    <tr>\n",
       "      <th>1</th>\n",
       "      <td>534</td>\n",
       "      <td>507.0</td>\n",
       "    </tr>\n",
       "    <tr>\n",
       "      <th>2</th>\n",
       "      <td>650</td>\n",
       "      <td>447.0</td>\n",
       "    </tr>\n",
       "    <tr>\n",
       "      <th>3</th>\n",
       "      <td>554</td>\n",
       "      <td>515.0</td>\n",
       "    </tr>\n",
       "    <tr>\n",
       "      <th>4</th>\n",
       "      <td>550</td>\n",
       "      <td>470.0</td>\n",
       "    </tr>\n",
       "  </tbody>\n",
       "</table>\n",
       "</div>"
      ],
      "text/plain": [
       "   College  High School\n",
       "0      485        489.0\n",
       "1      534        507.0\n",
       "2      650        447.0\n",
       "3      554        515.0\n",
       "4      550        470.0"
      ]
     },
     "execution_count": 11,
     "metadata": {},
     "output_type": "execute_result"
    }
   ],
   "source": [
    "# import the data\n",
    "satscore = pd.read_csv('SATVerbal1.csv')\n",
    "satscore.head()"
   ]
  },
  {
   "cell_type": "code",
   "execution_count": 12,
   "metadata": {
    "colab": {
     "base_uri": "https://localhost:8080/"
    },
    "id": "I5ZaAJuwwslO",
    "outputId": "41869062-b024-42a2-91a1-f19f0162aaae"
   },
   "outputs": [
    {
     "name": "stdout",
     "output_type": "stream",
     "text": [
      "The mean SAT verbal score for College group is 525.0\n",
      "The mean SAT verbal score for High School group is 480.0\n",
      "The standard deviation of SAT verbal score for College group is 59.42\n",
      "The standard deviation of SAT verbal score for High School group is 31.1\n"
     ]
    }
   ],
   "source": [
    "# find the sample means and sample standard deviations for the two samples\n",
    "print('The mean SAT verbal score for College group is ' + str(satscore['College'].mean()))\n",
    "print('The mean SAT verbal score for High School group is ' + str(satscore['High School'].mean()))\n",
    "print('The standard deviation of SAT verbal score for College group is ' + str(round(satscore['College'].std(), 2)))\n",
    "print('The standard deviation of SAT verbal score for High School group is ' + str(round(satscore['High School'].std(), 2)))"
   ]
  },
  {
   "cell_type": "markdown",
   "metadata": {
    "id": "llTtGBvx6WeR"
   },
   "source": [
    "### Let's test whether the T-test assumptions are satisfied or not\n",
    "\n",
    "* Continuous data - Yes, the SAT score is measured on a continuous scale.\n",
    "* Normally distributed populations - Yes, we are informed that the populations are assumed to be normal.\n",
    "* Independent populations - As we are taking random samples for two different groups, the two samples are from two independent populations.\n",
    "* Unequal population standard deviations - As the sample standard deviations are different, the population standard deviations can be assumed to be different.\n",
    "* Random sampling from the population - Yes, we are informed that the collected sample is a simple random sample.\n",
    "\n",
    "Voila! We can use a two-sample T-test for this problem."
   ]
  },
  {
   "cell_type": "markdown",
   "metadata": {
    "id": "FLK0t0VL6vMg"
   },
   "source": [
    "### Let's find the p-value"
   ]
  },
  {
   "cell_type": "code",
   "execution_count": 13,
   "metadata": {
    "colab": {
     "base_uri": "https://localhost:8080/"
    },
    "id": "aXKIJXB66wCU",
    "outputId": "dd97f539-b0c1-48fd-b7dd-baf49f6af4ef"
   },
   "outputs": [
    {
     "name": "stdout",
     "output_type": "stream",
     "text": [
      "The p-value is  0.008034956026490195\n"
     ]
    }
   ],
   "source": [
    "# import the required functions\n",
    "from scipy.stats import ttest_ind\n",
    "\n",
    "# find the p-value\n",
    "test_stat, p_value = ttest_ind(satscore['College'], satscore['High School'].dropna(), equal_var = False, alternative = 'greater')\n",
    "print('The p-value is ', p_value)"
   ]
  },
  {
   "cell_type": "markdown",
   "metadata": {
    "id": "7xvyDESl8GXn"
   },
   "source": [
    "### Insight\n",
    "As the p-value (~0.008) is less than the level of significance, we can reject the null hypothesis. Hence, we do have enough evidence to support the claim that students show a higher population mean verbal score on SAT if their parents attain a higher level of education."
   ]
  },
  {
   "cell_type": "markdown",
   "metadata": {
    "id": "8JUAO2IjvNyb"
   },
   "source": [
    "## **Paired Sample T-test for Equality of Means**"
   ]
  },
  {
   "cell_type": "markdown",
   "metadata": {
    "id": "sK3hszBz2kFZ"
   },
   "source": [
    "### Let's revisit the example\n",
    "Typical prices of single-family homes in Florida are given for a sample of 15 metropolitan areas (in 1000 USD) for 2002 and 2003 in a CSV file.\n",
    " \n",
    "Assuming the house prices are normally distributed, do we have enough statistical evidence to say that there is an increase in the house price in one year at a 0.05 significance level?"
   ]
  },
  {
   "cell_type": "markdown",
   "metadata": {
    "id": "d6oqinL-6-JW"
   },
   "source": [
    "### Let's write the null hypothesis and alternative hypothesis\n",
    "\n",
    "Let $\\mu_1, \\mu_2$ be the mean price of single-family homes in metropolitan areas of Florida for 2002 and 2003 respectively.\n",
    "\n",
    "We want to test whether there is an increase in the house price from 2002 to 2003.\n",
    "\n",
    "We will test the null hypothesis\n",
    "\n",
    ">$H_0:\\mu_1=\\mu_2$\n",
    "\n",
    "against the alternate hypothesis\n",
    "\n",
    ">$H_a:\\mu_1<\\mu_2$"
   ]
  },
  {
   "cell_type": "markdown",
   "metadata": {
    "id": "6Bi_wT8h8_A1"
   },
   "source": [
    "### Let's have a look at the sample data"
   ]
  },
  {
   "cell_type": "code",
   "execution_count": 14,
   "metadata": {
    "colab": {
     "base_uri": "https://localhost:8080/",
     "height": 204
    },
    "id": "z47av-s1Arni",
    "outputId": "3c3c0aed-cdcd-4917-cbd0-8686bc2c10d8"
   },
   "outputs": [
    {
     "data": {
      "text/html": [
       "<div>\n",
       "<style scoped>\n",
       "    .dataframe tbody tr th:only-of-type {\n",
       "        vertical-align: middle;\n",
       "    }\n",
       "\n",
       "    .dataframe tbody tr th {\n",
       "        vertical-align: top;\n",
       "    }\n",
       "\n",
       "    .dataframe thead th {\n",
       "        text-align: right;\n",
       "    }\n",
       "</style>\n",
       "<table border=\"1\" class=\"dataframe\">\n",
       "  <thead>\n",
       "    <tr style=\"text-align: right;\">\n",
       "      <th></th>\n",
       "      <th>Metropolitan Area</th>\n",
       "      <th>Jan_2003</th>\n",
       "      <th>Jan_2002</th>\n",
       "    </tr>\n",
       "  </thead>\n",
       "  <tbody>\n",
       "    <tr>\n",
       "      <th>0</th>\n",
       "      <td>Daytona Beach</td>\n",
       "      <td>117</td>\n",
       "      <td>96</td>\n",
       "    </tr>\n",
       "    <tr>\n",
       "      <th>1</th>\n",
       "      <td>Fort Lauderdale</td>\n",
       "      <td>207</td>\n",
       "      <td>169</td>\n",
       "    </tr>\n",
       "    <tr>\n",
       "      <th>2</th>\n",
       "      <td>Fort Myers</td>\n",
       "      <td>143</td>\n",
       "      <td>129</td>\n",
       "    </tr>\n",
       "    <tr>\n",
       "      <th>3</th>\n",
       "      <td>Fort Walton Beach</td>\n",
       "      <td>139</td>\n",
       "      <td>134</td>\n",
       "    </tr>\n",
       "    <tr>\n",
       "      <th>4</th>\n",
       "      <td>Gainesville</td>\n",
       "      <td>131</td>\n",
       "      <td>119</td>\n",
       "    </tr>\n",
       "  </tbody>\n",
       "</table>\n",
       "</div>"
      ],
      "text/plain": [
       "   Metropolitan Area  Jan_2003  Jan_2002\n",
       "0      Daytona Beach       117        96\n",
       "1    Fort Lauderdale       207       169\n",
       "2         Fort Myers       143       129\n",
       "3  Fort Walton Beach       139       134\n",
       "4        Gainesville       131       119"
      ]
     },
     "execution_count": 14,
     "metadata": {},
     "output_type": "execute_result"
    }
   ],
   "source": [
    "# import the data\n",
    "houseprice = pd.read_csv('Florida.csv')\n",
    "houseprice.head()"
   ]
  },
  {
   "cell_type": "code",
   "execution_count": 15,
   "metadata": {
    "colab": {
     "base_uri": "https://localhost:8080/"
    },
    "id": "5IE49UrKBjpO",
    "outputId": "b28cd84d-1747-453a-f9fb-2a7e1136035c"
   },
   "outputs": [
    {
     "name": "stdout",
     "output_type": "stream",
     "text": [
      "The mean of the differences between the house prices from 2002 to 2003 15.0\n"
     ]
    }
   ],
   "source": [
    "# find the mean difference between the house prices in year 2002 and 2003\n",
    "diff = np.mean(houseprice['Jan_2003'] - houseprice['Jan_2002'])\n",
    "print('The mean of the differences between the house prices from 2002 to 2003', diff)"
   ]
  },
  {
   "cell_type": "markdown",
   "metadata": {
    "id": "0ZKt050TClTi"
   },
   "source": [
    "### Let's test whether the paired T-test assumptions are satisfied or not\n",
    "\n",
    "* Continuous data - Yes, the house price is measured on a continuous scale.\n",
    "* Normally distributed populations - Yes, we are informed that the populations are assumed to be normal.\n",
    "* Independent observations - As we are taking the sampled unit randomly, the observed units are independent.\n",
    "* Random sampling from the population - Yes, we are informed that the collected sample is a simple random sample.\n",
    "\n",
    "Voila! We can use paired sample T-test for this problem.\n",
    "\n"
   ]
  },
  {
   "cell_type": "markdown",
   "metadata": {
    "id": "geoF6g58DIpN"
   },
   "source": [
    "### Let's find the p-value"
   ]
  },
  {
   "cell_type": "code",
   "execution_count": 16,
   "metadata": {
    "colab": {
     "base_uri": "https://localhost:8080/"
    },
    "id": "b_OSS4ljDL4V",
    "outputId": "e044ece9-46a9-4bad-d4cb-1c206855de67"
   },
   "outputs": [
    {
     "name": "stdout",
     "output_type": "stream",
     "text": [
      "The p-value is  8.282698151615477e-05\n"
     ]
    }
   ],
   "source": [
    "# import the required functions\n",
    "from scipy.stats import ttest_rel\n",
    "\n",
    "# find the p-value\n",
    "test_stat, p_value = ttest_rel(houseprice['Jan_2002'], houseprice['Jan_2003'], alternative = 'less')\n",
    "print('The p-value is ', p_value)"
   ]
  },
  {
   "cell_type": "markdown",
   "metadata": {
    "id": "x2ZLqCVRKeO8"
   },
   "source": [
    "### Insight\n",
    "As the p-value is much less than the level of significance, the null hypothesis can be rejected. Thus, it may be concluded that there is enough statistical evidence to conclude that there is an increase in the prices from 2002 to 2003."
   ]
  },
  {
   "cell_type": "markdown",
   "metadata": {
    "id": "7fKq990WGyjJ"
   },
   "source": [
    "\n",
    "## **One Proportion Z-test**\n",
    "\n",
    "### Let's revisit the example\n",
    "\n",
    "A researcher claims that the Democratic party will win the next United States Presidential election. \n",
    "\n",
    "To test her belief the researcher randomly surveyed 90 people and 24 out of them said that they voted for the Democratic party. \n",
    "\n",
    "Is there enough evidence at 𝛂 = 0.05 to support this claim?"
   ]
  },
  {
   "cell_type": "markdown",
   "metadata": {
    "id": "TR0HTVFNP0rI"
   },
   "source": [
    "### Let's write the null hypothesis and alternative hypothesis\n",
    "Let $p$ be the proportion of people who voted for the Democratic party.\n",
    "\n",
    "The researcher will test the null hypothesis\n",
    "\n",
    ">$H_0:p \\leq 0.5$\n",
    "\n",
    "against the alternate hypothesis\n",
    "\n",
    ">$H_a:p > 0.5$"
   ]
  },
  {
   "cell_type": "markdown",
   "metadata": {
    "id": "8mVMkj0EQ4sW"
   },
   "source": [
    "### Let's test whether the Z-test assumptions are satisfied or not\n",
    "\n",
    "*   Binomially distributed population - Yes, people either vote for the Democratic or Republic party\n",
    "*   Random sampling from the population - Yes, the researcher conducted a random survey\n",
    "*   Can the binomial distribution be approximated to a normal distribution - Yes, For binary data, CLT works slower than usual. The standard thing is to check whether np and n(1-p) are greater than or equal to 10. \n",
    ">$np = 90\\cdot \\frac{24}{90} =24 \\geq 10\\\\\n",
    "n(1-p) = 90 \\cdot \\frac{90-24}{90} =66 \\geq 10$\n"
   ]
  },
  {
   "cell_type": "markdown",
   "metadata": {
    "id": "MUf9drG-ZzQV"
   },
   "source": [
    "### Let's find the p-value"
   ]
  },
  {
   "cell_type": "code",
   "execution_count": 17,
   "metadata": {
    "colab": {
     "base_uri": "https://localhost:8080/"
    },
    "id": "kj47KnHHYZov",
    "outputId": "4ff2c38a-e403-4cbd-973b-1963cfa0827c"
   },
   "outputs": [
    {
     "name": "stdout",
     "output_type": "stream",
     "text": [
      "The p-value is 0.9999997216721324\n"
     ]
    }
   ],
   "source": [
    "# import the required fuction\n",
    "from statsmodels.stats.proportion import proportions_ztest\n",
    "\n",
    "# find the p-value\n",
    "test_stat, p_value = proportions_ztest(24, 90, value = 0.5, alternative = 'larger')\n",
    "print('The p-value is ' + str(p_value))"
   ]
  },
  {
   "cell_type": "markdown",
   "metadata": {
    "id": "OdpMB1Qocutc"
   },
   "source": [
    "### Insight\n",
    "\n",
    "As the p-value is much greater than the significance level of 0.05, we can not reject the null hypothesis. Thus, the researcher does not have enough statistical evidence to claim that the Democratic party will win in the next United States Presidential election at a 5% significance level."
   ]
  },
  {
   "cell_type": "markdown",
   "metadata": {
    "id": "WvHJiRuF6guQ"
   },
   "source": [
    "\n",
    "## **Two Proportion Z-test**"
   ]
  },
  {
   "cell_type": "markdown",
   "metadata": {
    "id": "cn-dYLgzF69x"
   },
   "source": [
    "### Let's revisit the example\n",
    "\n",
    "A car manufacturer aims to improve its products’ quality by reducing defects. So, the manufacturer randomly checks the efficiency of two assembly lines on the shop floor. In line 1, there are 20 defects out of 200 samples, and in line 2, there are 25 defects out of 400 samples. \n",
    "\n",
    "At a 5% level of significance, do we have enough statistical evidence to conclude that the two assembly procedures are different?"
   ]
  },
  {
   "cell_type": "markdown",
   "metadata": {
    "id": "2YCkHK12HreW"
   },
   "source": [
    "### Let's write the null hypothesis and alternative hypothesis\n",
    "Let $p_1$ and $p_2$ be the proportions of defects in assembly line 1 and line 2 respectively.\n",
    "\n",
    "The manufacturer will test the null hypothesis\n",
    "\n",
    ">$H_0:p_1 =p_2$\n",
    "\n",
    "against the alternate hypothesis\n",
    "\n",
    ">$H_a:p_1 \\neq p_2$"
   ]
  },
  {
   "cell_type": "markdown",
   "metadata": {
    "id": "7c5hHivhKZUM"
   },
   "source": [
    "### Let's test whether the Z-test assumptions are satisfied or not\n",
    "\n",
    "*   Binomially distributed population - Yes, a product is either defective or non-defective.\n",
    "*   Random sampling from the population - Yes, we are informed that the collected sample is a simple random sample.  \n",
    "*   Can the binomial distribution be approximated to a normal distribution - Yes, For binary data, CLT works slower than usual. The standard thing is to check whether np and n(1-p) are greater than or equal to 10. \n",
    ">$np_1 = 200\\cdot \\frac{20}{200} =20 \\geq 10\\\\\n",
    "n(1-p_1) = 200 \\cdot \\frac{200-20}{200} =180 \\geq 10 \\\\\n",
    "np_2 = 400\\cdot \\frac{25}{400} =25 \\geq 10\\\\\n",
    "n(1-p_2) = 400 \\cdot \\frac{400-25}{400} =375 \\geq 10 $\n"
   ]
  },
  {
   "cell_type": "markdown",
   "metadata": {
    "id": "hHGP8KFiLdJ2"
   },
   "source": [
    "### Let's find the p-value"
   ]
  },
  {
   "cell_type": "code",
   "execution_count": 18,
   "metadata": {
    "colab": {
     "base_uri": "https://localhost:8080/"
    },
    "id": "4EoLlJA4LkzN",
    "outputId": "9054fa4e-cd88-4d38-adcc-8e2be79690a5"
   },
   "outputs": [
    {
     "name": "stdout",
     "output_type": "stream",
     "text": [
      "The p-value is 0.10017829422626796\n"
     ]
    }
   ],
   "source": [
    "# import the required fuction\n",
    "from statsmodels.stats.proportion import proportions_ztest\n",
    "\n",
    "# set the counts of defective items\n",
    "defect_count = np.array([20, 25])\n",
    "\n",
    "# set the sample sizes\n",
    "nobs = np.array([200, 400])\n",
    "\n",
    "# find the p-value\n",
    "test_stat, p_value = proportions_ztest(defect_count, nobs)\n",
    "print('The p-value is ' + str(p_value))"
   ]
  },
  {
   "cell_type": "markdown",
   "metadata": {
    "id": "IVjQs0SWNQQv"
   },
   "source": [
    "### Insight\n",
    "\n",
    "As the p-value is greater than the significance level of 0.05, we can not reject the null hypothesis. Thus, the manufacturer does not have enough statistical evidence to conclude that the two assembly procedures are different."
   ]
  },
  {
   "cell_type": "markdown",
   "metadata": {
    "id": "qc1Cy9re6q1w"
   },
   "source": [
    "## **Chi-Square Test for Variance**"
   ]
  },
  {
   "cell_type": "markdown",
   "metadata": {
    "id": "G9tlnF6ZXOvM"
   },
   "source": [
    "### Let's revisit an example\n",
    "It is conjectured that the standard deviation for the annual return of mid-cap mutual funds is 22.4% when all such funds are considered and over a long period. The sample standard deviation of a certain mid-cap mutual fund based on a random sample of size 32 is observed to be 26.4%. \n",
    "\n",
    "Do we have enough evidence to claim that the standard deviation of the chosen mutual fund is greater than the conjectured standard deviation for mid-cap mutual funds at a 0.05 level of significance?"
   ]
  },
  {
   "cell_type": "markdown",
   "metadata": {
    "id": "jgP0uEqFflBw"
   },
   "source": [
    "### Let's write the null hypothesis and alternative hypothesis\n",
    "Let $\\sigma$ be the average standard deviation of the mutual funds.\n",
    "\n",
    "We will test the null hypothesis\n",
    "\n",
    ">$H_0:\\sigma^2 = 22.4^2$\n",
    "\n",
    "against the alternate hypothesis\n",
    "\n",
    ">$H_a:\\sigma^2 > 26.4^2$"
   ]
  },
  {
   "cell_type": "markdown",
   "metadata": {
    "id": "yYWQiK5Ehtug"
   },
   "source": [
    "### Let's test whether the assumptions are satisfied or not\n",
    "\n",
    "* Continuous data - Yes\n",
    "* Normally distributed population - Since the sample sizes are greater than 30, Central Limit Theorem states that the distribution of sample means will be normal.\n",
    "* Random sampling from the population - Yes, we are informed that the collected sample is a simple random sample.   \n"
   ]
  },
  {
   "cell_type": "markdown",
   "metadata": {
    "id": "PbH-SLqriUcm"
   },
   "source": [
    "### Let's find the p-value"
   ]
  },
  {
   "cell_type": "code",
   "execution_count": 19,
   "metadata": {
    "colab": {
     "base_uri": "https://localhost:8080/"
    },
    "id": "Jso7skFviYr2",
    "outputId": "f47c0232-3ce3-4974-b3f2-d79b875c1ee1"
   },
   "outputs": [
    {
     "name": "stdout",
     "output_type": "stream",
     "text": [
      "The p-value is  0.0733923626973344\n"
     ]
    }
   ],
   "source": [
    "# import the required function\n",
    "from scipy.stats import chi2\n",
    "\n",
    "# user-defined function to get the test stat and p-value\n",
    "def chi_var(pop_var, sample_var, n):\n",
    "    # calculate the test statistic\n",
    "    test_stat = (n - 1) * sample_var / pop_var\n",
    "    # calculate the p-value\n",
    "    p_value = 1 - chi2.cdf(test_stat, n-1)\n",
    "    return (test_stat, p_value)\n",
    "\n",
    "# set the value of sample size\n",
    "n = 32\n",
    "# set the values of population and sample variance\n",
    "sigma_2, s_2 = 22.4**2, 26.4**2\n",
    "\n",
    "test_stat, p_value = chi_var(sigma_2, s_2, n)\n",
    "\n",
    "print('The p-value is ', p_value)"
   ]
  },
  {
   "cell_type": "markdown",
   "metadata": {
    "id": "AW4hJK7D_Fv8"
   },
   "source": [
    "### Let's plot the Chi-Square distribution with the test statistic"
   ]
  },
  {
   "cell_type": "code",
   "execution_count": 20,
   "metadata": {
    "colab": {
     "base_uri": "https://localhost:8080/",
     "height": 265
    },
    "id": "JFhfROer_U13",
    "outputId": "ad48ae4c-0d2b-440b-8846-17af8292b075"
   },
   "outputs": [
    {
     "data": {
      "image/png": "[encoded data removed]",
      "text/plain": [
       "<Figure size 640x480 with 1 Axes>"
      ]
     },
     "metadata": {},
     "output_type": "display_data"
    }
   ],
   "source": [
    "# plot the Chi-Square distribution (degrees of freedom n-1) with test statistic\n",
    "x = np.linspace(0, 100, 100)\n",
    "plt.plot(x, chi2.pdf(x, n-1))\n",
    "plt.axvline(x = test_stat, c = 'r')\n",
    "plt.show()"
   ]
  },
  {
   "cell_type": "markdown",
   "metadata": {
    "id": "37fXFQTln_5r"
   },
   "source": [
    "### Insight\n",
    "As the p-value is greater than the significance level, we can not reject the null hypothesis. Hence, we do not have enough statistical evidence to conclude that the standard deviation of the chosen mutual fund is greater than the average standard deviation for mid-cap mutual funds at a 0.05 level of significance."
   ]
  },
  {
   "cell_type": "markdown",
   "metadata": {
    "id": "BFROKrmE6975"
   },
   "source": [
    "## **F-test for Equality of Variances**"
   ]
  },
  {
   "cell_type": "markdown",
   "metadata": {
    "id": "8cIrDvcq5f1-"
   },
   "source": [
    "### Let's revisit the example\n",
    "\n",
    "The variance of a process is an important quality of the process. A large variance implies that the process needs better control and there is an opportunity to improve. \n",
    "\n",
    "\n",
    "The data (Bags.csv) includes weights for two different sets of bags manufactured from two different machines. It is assumed that the weights for two sets of bags follow a normal distribution.\n",
    "\n",
    "Do we have enough statistical evidence at a 5% significance level to conclude that there is a significant difference between the variances of the bag weights for the two machines?"
   ]
  },
  {
   "cell_type": "markdown",
   "metadata": {
    "id": "KupIZV2zDhmT"
   },
   "source": [
    "### Let's write the null hypothesis and alternative hypothesis\n",
    "Let $\\sigma_1^2, \\sigma_2^2$ be the variances of weights of the bags produced by two different machines.\n",
    "\n",
    "We will test the null hypothesis\n",
    "\n",
    ">$H_0:\\sigma_1^2 = \\sigma_2^2$\n",
    "\n",
    "against the alternate hypothesis\n",
    "\n",
    ">$H_a:\\sigma_1^2 \\neq \\sigma_2^2$"
   ]
  },
  {
   "cell_type": "markdown",
   "metadata": {
    "id": "ibuZ0DGDIEuW"
   },
   "source": [
    "### Let's test whether the assumptions of the F-test are satisfied or not\n",
    "\n",
    "* Continuous data - Yes, the weight is measured on a continuous scale.\n",
    "* Normally distributed populations - Yes, it is assumed that the populations are normally distributed.\n",
    "* Independent populations - As the two sets of bags are manufactured from two different machines, the populations are independent.\n",
    "* Random sampling from the population - Yes, we are informed that the collected sample is a simple random sample.\n"
   ]
  },
  {
   "cell_type": "markdown",
   "metadata": {
    "id": "O7_5T3R_IoM3"
   },
   "source": [
    "### Let's have a look at the sample data"
   ]
  },
  {
   "cell_type": "code",
   "execution_count": 21,
   "metadata": {
    "colab": {
     "base_uri": "https://localhost:8080/",
     "height": 204
    },
    "id": "7hU-UWjSbM2d",
    "outputId": "9bd92397-ce33-487e-d27f-5c7b3ddb897f"
   },
   "outputs": [
    {
     "data": {
      "text/html": [
       "<div>\n",
       "<style scoped>\n",
       "    .dataframe tbody tr th:only-of-type {\n",
       "        vertical-align: middle;\n",
       "    }\n",
       "\n",
       "    .dataframe tbody tr th {\n",
       "        vertical-align: top;\n",
       "    }\n",
       "\n",
       "    .dataframe thead th {\n",
       "        text-align: right;\n",
       "    }\n",
       "</style>\n",
       "<table border=\"1\" class=\"dataframe\">\n",
       "  <thead>\n",
       "    <tr style=\"text-align: right;\">\n",
       "      <th></th>\n",
       "      <th>Machine 1</th>\n",
       "      <th>Machine 2</th>\n",
       "    </tr>\n",
       "  </thead>\n",
       "  <tbody>\n",
       "    <tr>\n",
       "      <th>0</th>\n",
       "      <td>2.95</td>\n",
       "      <td>3.22</td>\n",
       "    </tr>\n",
       "    <tr>\n",
       "      <th>1</th>\n",
       "      <td>3.45</td>\n",
       "      <td>3.30</td>\n",
       "    </tr>\n",
       "    <tr>\n",
       "      <th>2</th>\n",
       "      <td>3.50</td>\n",
       "      <td>3.34</td>\n",
       "    </tr>\n",
       "    <tr>\n",
       "      <th>3</th>\n",
       "      <td>3.75</td>\n",
       "      <td>3.28</td>\n",
       "    </tr>\n",
       "    <tr>\n",
       "      <th>4</th>\n",
       "      <td>3.48</td>\n",
       "      <td>3.29</td>\n",
       "    </tr>\n",
       "  </tbody>\n",
       "</table>\n",
       "</div>"
      ],
      "text/plain": [
       "   Machine 1  Machine 2\n",
       "0       2.95       3.22\n",
       "1       3.45       3.30\n",
       "2       3.50       3.34\n",
       "3       3.75       3.28\n",
       "4       3.48       3.29"
      ]
     },
     "execution_count": 21,
     "metadata": {},
     "output_type": "execute_result"
    }
   ],
   "source": [
    "bagweight = pd.read_csv('Bags1.csv')\n",
    "bagweight.head()"
   ]
  },
  {
   "cell_type": "markdown",
   "metadata": {
    "id": "8LI-d8TAblYi"
   },
   "source": [
    "### Let's find the p-value"
   ]
  },
  {
   "cell_type": "code",
   "execution_count": 22,
   "metadata": {
    "colab": {
     "base_uri": "https://localhost:8080/"
    },
    "id": "QqPr1D8KbqOq",
    "outputId": "ae5234dd-0f5a-4895-ad30-236d8302becb"
   },
   "outputs": [
    {
     "name": "stdout",
     "output_type": "stream",
     "text": [
      "The p_value is 5.1e-06\n"
     ]
    }
   ],
   "source": [
    "# import the required function\n",
    "from scipy.stats import f\n",
    "\n",
    "# user-defined function to perform F-test\n",
    "def f_test(x, y):\n",
    "    x = np.array(x)\n",
    "    y = np.array(y) \n",
    "    test_stat = np.var(x, ddof = 1)/np.var(y, ddof = 1) # calculate f-test statistic \n",
    "    dfn = x.size-1 # define degrees of freedom numerator \n",
    "    dfd = y.size-1 # define degrees of freedom denominator \n",
    "    p = (1 - f.cdf(test_stat, dfn, dfd)) # find p-value of f-test statistic \n",
    "    p1 = p*2 # converting one-tail to two-tail test \n",
    "    return(print(\"The p_value is {}\" .format(round(p1,8)))) \n",
    "\n",
    "# perform f-test \n",
    "f_test(bagweight.dropna()['Machine 1'], bagweight.dropna()['Machine 2'])"
   ]
  },
  {
   "cell_type": "markdown",
   "metadata": {
    "id": "CUHnA3-hdvMO"
   },
   "source": [
    "### Insight\n",
    "As the p-value is much smaller than the level of significance, the null hypothesis can be rejected. Hence, we have enough statistical evidence to conclude that there is a difference between the bag weights for the two machines at a 0.05 significance level."
   ]
  },
  {
   "cell_type": "markdown",
   "metadata": {
    "id": "2xnmLq677KkA"
   },
   "source": [
    "## **Chi-Square Test for Independence**"
   ]
  },
  {
   "cell_type": "markdown",
   "metadata": {
    "id": "mU0SDjKyeUcR"
   },
   "source": [
    "### Let's revisit the example\n",
    "\n",
    "The beverage preference data for different age groups is given in the Beverage.csv file.\n",
    "\n",
    "Do we have enough statistical evidence to conclude that beverage preference depends on age?\n",
    "\n"
   ]
  },
  {
   "cell_type": "markdown",
   "metadata": {
    "id": "pqjXDxvwe-Io"
   },
   "source": [
    "### Let's have a look at the sample data"
   ]
  },
  {
   "cell_type": "code",
   "execution_count": 23,
   "metadata": {
    "colab": {
     "base_uri": "https://localhost:8080/",
     "height": 142
    },
    "id": "D5ADnSRofStd",
    "outputId": "914f83a3-86f0-4e3c-a72e-582b59e2180c"
   },
   "outputs": [
    {
     "data": {
      "text/html": [
       "<div>\n",
       "<style scoped>\n",
       "    .dataframe tbody tr th:only-of-type {\n",
       "        vertical-align: middle;\n",
       "    }\n",
       "\n",
       "    .dataframe tbody tr th {\n",
       "        vertical-align: top;\n",
       "    }\n",
       "\n",
       "    .dataframe thead th {\n",
       "        text-align: right;\n",
       "    }\n",
       "</style>\n",
       "<table border=\"1\" class=\"dataframe\">\n",
       "  <thead>\n",
       "    <tr style=\"text-align: right;\">\n",
       "      <th></th>\n",
       "      <th>Age</th>\n",
       "      <th>Tea/Coffee</th>\n",
       "      <th>Soft Drink</th>\n",
       "      <th>Others</th>\n",
       "    </tr>\n",
       "  </thead>\n",
       "  <tbody>\n",
       "    <tr>\n",
       "      <th>0</th>\n",
       "      <td>21 - 34</td>\n",
       "      <td>25</td>\n",
       "      <td>90</td>\n",
       "      <td>20</td>\n",
       "    </tr>\n",
       "    <tr>\n",
       "      <th>1</th>\n",
       "      <td>35 - 55</td>\n",
       "      <td>40</td>\n",
       "      <td>35</td>\n",
       "      <td>25</td>\n",
       "    </tr>\n",
       "    <tr>\n",
       "      <th>2</th>\n",
       "      <td>&gt; 55</td>\n",
       "      <td>24</td>\n",
       "      <td>15</td>\n",
       "      <td>30</td>\n",
       "    </tr>\n",
       "  </tbody>\n",
       "</table>\n",
       "</div>"
      ],
      "text/plain": [
       "       Age  Tea/Coffee  Soft Drink  Others\n",
       "0  21 - 34          25          90      20\n",
       "1  35 - 55          40          35      25\n",
       "2     > 55          24          15      30"
      ]
     },
     "execution_count": 23,
     "metadata": {},
     "output_type": "execute_result"
    }
   ],
   "source": [
    "beverage = pd.read_csv('Beverage.csv')\n",
    "beverage.head()"
   ]
  },
  {
   "cell_type": "markdown",
   "metadata": {
    "id": "9BL1dzNufjcm"
   },
   "source": [
    "### Let's write the null hypothesis and alternative hypothesis\n",
    "\n",
    "\n",
    "We will test the null hypothesis\n",
    "\n",
    ">$H_0:$ Beverage preference is independent of age.\n",
    "\n",
    "against the alternate hypothesis\n",
    "\n",
    ">$H_a:$ Beverage preference depends on age."
   ]
  },
  {
   "cell_type": "markdown",
   "metadata": {
    "id": "ITiDm4GMgEnt"
   },
   "source": [
    "### Let's test whether the assumptions of the Chi-Square test are satisfied or not\n",
    "\n",
    "* Categorical variables - Yes\n",
    "* The Expected value of the number of sample observations in each level of the variable is at least 5 - Yes, the number of observations in each level is greater than 5.\n",
    "* Random sampling from the population - Yes, we are informed that the collected sample is a simple random sample.\n"
   ]
  },
  {
   "cell_type": "markdown",
   "metadata": {
    "id": "no52O-10HQ4h"
   },
   "source": [
    "### Let's find the p-value"
   ]
  },
  {
   "cell_type": "code",
   "execution_count": 24,
   "metadata": {
    "colab": {
     "base_uri": "https://localhost:8080/"
    },
    "id": "qUPCXOomHXX7",
    "outputId": "81262c25-558d-4bff-821a-267356150f0d"
   },
   "outputs": [
    {
     "name": "stdout",
     "output_type": "stream",
     "text": [
      "The p-value is 5.410957050304089e-10\n"
     ]
    }
   ],
   "source": [
    "# import the required function\n",
    "from scipy.stats import chi2_contingency\n",
    "\n",
    "# find the p-value\n",
    "chi, p_value, dof, expected = chi2_contingency(beverage.drop('Age', axis = 1))\n",
    "print('The p-value is', p_value)"
   ]
  },
  {
   "cell_type": "markdown",
   "metadata": {
    "id": "YAb4fDcmJIpQ"
   },
   "source": [
    "### Insight\n",
    "As the p-value is much less than the significance level, we can reject the null hypothesis. Hence, we do have enough statistical evidence to conclude that beverage preference is not independent of age at a 5% significance level."
   ]
  },
  {
   "cell_type": "markdown",
   "metadata": {
    "id": "7ZLntwM_WcK2"
   },
   "source": [
    "## **One-way Anova Test**"
   ]
  },
  {
   "cell_type": "markdown",
   "metadata": {
    "id": "qxvEn474b25J"
   },
   "source": [
    "### Let's revisit the example\n",
    "\n",
    "A traffic management inspector in a certain city wants to understand whether carbon emissions from different cars are different. The inspector has reasons to believe that fuel type may be the factor responsible for differences in carbon emission.\n",
    "\n",
    "For this purpose, the inspector has taken random samples from all registered cars on the road in that city and would like to test if the amount of carbon emission released depends on fuel type at a 5% significance level."
   ]
  },
  {
   "cell_type": "markdown",
   "metadata": {
    "id": "lFMixr_Af40Q"
   },
   "source": [
    "### Let's have a look at the sample data"
   ]
  },
  {
   "cell_type": "code",
   "execution_count": 25,
   "metadata": {
    "colab": {
     "base_uri": "https://localhost:8080/",
     "height": 204
    },
    "id": "ab3mUcIxgKeH",
    "outputId": "7b2cd5d7-4648-4ddd-d234-ddd3f72f9c44"
   },
   "outputs": [
    {
     "data": {
      "text/html": [
       "<div>\n",
       "<style scoped>\n",
       "    .dataframe tbody tr th:only-of-type {\n",
       "        vertical-align: middle;\n",
       "    }\n",
       "\n",
       "    .dataframe tbody tr th {\n",
       "        vertical-align: top;\n",
       "    }\n",
       "\n",
       "    .dataframe thead th {\n",
       "        text-align: right;\n",
       "    }\n",
       "</style>\n",
       "<table border=\"1\" class=\"dataframe\">\n",
       "  <thead>\n",
       "    <tr style=\"text-align: right;\">\n",
       "      <th></th>\n",
       "      <th>Car_ID</th>\n",
       "      <th>manufacturer</th>\n",
       "      <th>fuel_type</th>\n",
       "      <th>co_emissions</th>\n",
       "    </tr>\n",
       "  </thead>\n",
       "  <tbody>\n",
       "    <tr>\n",
       "      <th>0</th>\n",
       "      <td>1</td>\n",
       "      <td>Audi</td>\n",
       "      <td>Petrol</td>\n",
       "      <td>441.55</td>\n",
       "    </tr>\n",
       "    <tr>\n",
       "      <th>1</th>\n",
       "      <td>2</td>\n",
       "      <td>BMW</td>\n",
       "      <td>E85</td>\n",
       "      <td>376.47</td>\n",
       "    </tr>\n",
       "    <tr>\n",
       "      <th>2</th>\n",
       "      <td>3</td>\n",
       "      <td>BMW</td>\n",
       "      <td>E85</td>\n",
       "      <td>414.12</td>\n",
       "    </tr>\n",
       "    <tr>\n",
       "      <th>3</th>\n",
       "      <td>4</td>\n",
       "      <td>BMW</td>\n",
       "      <td>E85</td>\n",
       "      <td>351.41</td>\n",
       "    </tr>\n",
       "    <tr>\n",
       "      <th>4</th>\n",
       "      <td>5</td>\n",
       "      <td>Volvo</td>\n",
       "      <td>E85</td>\n",
       "      <td>284.59</td>\n",
       "    </tr>\n",
       "  </tbody>\n",
       "</table>\n",
       "</div>"
      ],
      "text/plain": [
       "   Car_ID manufacturer fuel_type  co_emissions\n",
       "0       1         Audi    Petrol        441.55\n",
       "1       2          BMW       E85        376.47\n",
       "2       3          BMW       E85        414.12\n",
       "3       4          BMW       E85        351.41\n",
       "4       5        Volvo       E85        284.59"
      ]
     },
     "execution_count": 25,
     "metadata": {},
     "output_type": "execute_result"
    }
   ],
   "source": [
    "aovdata = pd.read_csv('AOVData.csv')\n",
    "aovdata.head()"
   ]
  },
  {
   "cell_type": "markdown",
   "metadata": {
    "id": "Cr_N3sAeoqeO"
   },
   "source": [
    "Here, co_emissions is the response and fuel_type is the factor."
   ]
  },
  {
   "cell_type": "code",
   "execution_count": 26,
   "metadata": {
    "colab": {
     "base_uri": "https://localhost:8080/"
    },
    "id": "1zyATPm47v6N",
    "outputId": "264b5235-20f1-4b9a-8638-0ad36bff4792"
   },
   "outputs": [
    {
     "data": {
      "text/plain": [
       "fuel_type\n",
       "Petrol    179\n",
       "LPG       170\n",
       "E85       161\n",
       "Name: count, dtype: int64"
      ]
     },
     "execution_count": 26,
     "metadata": {},
     "output_type": "execute_result"
    }
   ],
   "source": [
    "# get the levels of factor fuel_type\n",
    "aovdata['fuel_type'].value_counts()"
   ]
  },
  {
   "cell_type": "markdown",
   "metadata": {
    "id": "j63R8Uh78C-w"
   },
   "source": [
    "### Let's write the null hypothesis and alternative hypothesis\n",
    "\n",
    "Let $\\mu_1, \\mu_2, \\mu_3$ be the means of carbon dioxide emissions for fuel type E85, LPG, and Petrol respectively.\n",
    "\n",
    "We will test the null hypothesis\n",
    "\n",
    ">$H_0: \\mu_1 = \\mu_2 = \\mu_3$\n",
    "\n",
    "against the alternative hypothesis\n",
    "\n",
    ">$H_a: $ At least one carbon emission level is different from the rest.\n"
   ]
  },
  {
   "cell_type": "code",
   "execution_count": 27,
   "metadata": {
    "colab": {
     "base_uri": "https://localhost:8080/",
     "height": 492
    },
    "id": "WE2FRb1a9Gxs",
    "outputId": "baa8c2ce-a8c5-45bb-e6cc-03cc334d5165"
   },
   "outputs": [
    {
     "name": "stdout",
     "output_type": "stream",
     "text": [
      "fuel_type\n",
      "E85       338.124534\n",
      "LPG       363.744412\n",
      "Petrol    371.722961\n",
      "Name: co_emissions, dtype: float64\n"
     ]
    },
    {
     "data": {
      "image/png": "[encoded data removed]",
      "text/plain": [
       "<Figure size 600x600 with 1 Axes>"
      ]
     },
     "metadata": {},
     "output_type": "display_data"
    }
   ],
   "source": [
    "# mean of the carbon emission at different levels of the fuel_type factor\n",
    "print(aovdata.groupby(\"fuel_type\")[\"co_emissions\"].mean())\n",
    "\n",
    "# draw the boxplot for visualization \n",
    "fig, ax = plt.subplots(figsize = (6,6))\n",
    "a = sns.boxplot(x = \"fuel_type\", y = 'co_emissions' , data = aovdata, hue = 'fuel_type')\n",
    "a.set_title(\"Carbon Emission w.r.t. Fuel type (3 levels)\", fontsize = 15)\n",
    "plt.show()"
   ]
  },
  {
   "cell_type": "markdown",
   "metadata": {
    "id": "qb-sMEm2WtHf"
   },
   "source": [
    "Now, the normality and equality variance assumptions need to be checked. \n",
    "\n",
    "* For testing normality, Shapiro-Wilk's test is applied to the response variable.\n",
    "\n",
    "* For equality of variances, Levene's test is applied to the response variable."
   ]
  },
  {
   "cell_type": "markdown",
   "metadata": {
    "id": "_pFdvUuGC6qu"
   },
   "source": [
    "### Shapiro-Wilk’s test\n",
    "\n",
    "We will test the null hypothesis\n",
    "\n",
    ">$H_0:$ Carbon emission follows a normal distribution\n",
    "\n",
    "against the alternative hypothesis\n",
    "\n",
    ">$H_a:$ Carbon emission does not follow a normal distribution"
   ]
  },
  {
   "cell_type": "code",
   "execution_count": 28,
   "metadata": {
    "colab": {
     "base_uri": "https://localhost:8080/"
    },
    "id": "yHZdbI6hClTY",
    "outputId": "43d972c7-63e0-4376-947a-2e22bacfb23a"
   },
   "outputs": [
    {
     "name": "stdout",
     "output_type": "stream",
     "text": [
      "The p-value is 0.49750789999961853\n"
     ]
    }
   ],
   "source": [
    "# Assumption 1: Normality\n",
    "# import the required function\n",
    "from scipy import stats\n",
    "\n",
    "# find the p-value\n",
    "w, p_value = stats.shapiro(aovdata['co_emissions']) \n",
    "print('The p-value is', p_value)"
   ]
  },
  {
   "cell_type": "markdown",
   "metadata": {
    "id": "h1-_8Mi2EYIU"
   },
   "source": [
    "Since the p-value of the test is very large, we fail to reject the null hypothesis that the response variable follows the normal distribution."
   ]
  },
  {
   "cell_type": "markdown",
   "metadata": {
    "id": "RN7l8dkREpFu"
   },
   "source": [
    "### Levene’s test\n",
    "\n",
    "We will test the null hypothesis\n",
    "\n",
    ">$H_0$: All the population variances are equal\n",
    "\n",
    "against the alternative hypothesis\n",
    "\n",
    ">$H_a$: At least one variance is different from the rest"
   ]
  },
  {
   "cell_type": "code",
   "execution_count": 29,
   "metadata": {
    "colab": {
     "base_uri": "https://localhost:8080/"
    },
    "id": "Jj-jsFGTFKtI",
    "outputId": "b6247937-9127-4bbe-c677-b78eaf5652ce"
   },
   "outputs": [
    {
     "name": "stdout",
     "output_type": "stream",
     "text": [
      "The p-value is 0.19437768490117\n"
     ]
    }
   ],
   "source": [
    "# Assumption 2: Homogeneity of Variance\n",
    "# import the required function\n",
    "from scipy.stats import levene\n",
    "statistic, p_value = levene(aovdata['co_emissions'][aovdata['fuel_type'] == \"Petrol\"], \n",
    "                            aovdata['co_emissions'][aovdata['fuel_type'] == \"E85\"], \n",
    "                            aovdata['co_emissions'][aovdata['fuel_type'] ==  \"LPG\"])\n",
    "# find the p-value\n",
    "print('The p-value is', p_value)"
   ]
  },
  {
   "cell_type": "markdown",
   "metadata": {
    "id": "v6NjQ3iCF7tj"
   },
   "source": [
    "Since the p-value is large, we fail to reject the null hypothesis of homogeneity of variances."
   ]
  },
  {
   "cell_type": "markdown",
   "metadata": {
    "id": "kvMMknJDq_LU"
   },
   "source": [
    "### Let's test whether the assumptions of Anova are satisfied or not\n",
    "\n",
    "* The populations are normally distributed - Yes, the normality assumption is verified using the Shapiro-Wilk’s test.\n",
    "* Samples are independent simple random samples - Yes, we are informed that the collected sample is a simple random sample.\n",
    "* Population variances are equal - Yes, the homogeneity of variance assumption is verified using Levene's test."
   ]
  },
  {
   "cell_type": "markdown",
   "metadata": {
    "id": "mXyl5ApFr6zU"
   },
   "source": [
    "### Let's find the p-value"
   ]
  },
  {
   "cell_type": "code",
   "execution_count": 30,
   "metadata": {
    "colab": {
     "base_uri": "https://localhost:8080/"
    },
    "id": "HRjKGT13ryta",
    "outputId": "833aa1ea-cacd-4383-cac0-d463e585fc9c"
   },
   "outputs": [
    {
     "name": "stdout",
     "output_type": "stream",
     "text": [
      "The p-value is 8.274439764368132e-06\n"
     ]
    }
   ],
   "source": [
    "# import the required function\n",
    "from scipy.stats import f_oneway\n",
    "\n",
    "# perform one-way Anova test\n",
    "test_stat, p_value = f_oneway(aovdata.loc[aovdata['fuel_type'] == 'Petrol', 'co_emissions'],\n",
    "                              aovdata.loc[aovdata['fuel_type'] == 'E85', 'co_emissions'],\n",
    "                              aovdata.loc[aovdata['fuel_type'] == 'LPG', 'co_emissions'])\n",
    "print('The p-value is ' + str(p_value))"
   ]
  },
  {
   "cell_type": "markdown",
   "metadata": {
    "id": "m4Zat_fyvV3j"
   },
   "source": [
    "### Insight\n",
    "As the p-value is much less than the significance level, we can reject the null hypothesis. Hence, we do have enough statistical evidence to conclude that at least one carbon emission level is different from the rest at a 5% significance level.\n",
    "\n",
    "However, we don't know which mean is different from the rest or whether all pairs of means are different. Multiple comparison tests are used to test the differences between all pairs of means."
   ]
  },
  {
   "cell_type": "markdown",
   "metadata": {
    "id": "lb7fV6waiIb8"
   },
   "source": [
    "### Multiple Comparison test (Tukey HSD)"
   ]
  },
  {
   "cell_type": "markdown",
   "metadata": {
    "id": "g_YbQ9WL93KO"
   },
   "source": [
    "To identify which fuel type mean carbon emission is different from other groups, the null hypothesis is\n",
    "\n",
    "  > $𝐻_0: 𝜇_1=𝜇_2 \\text{ and } 𝜇_1=𝜇_3 \\text{ and } 𝜇_2=𝜇_3$\n",
    "\n",
    "against the alternative hypothesis\n",
    "\n",
    " > $𝐻_a: 𝜇_1\\neq𝜇_2 \\text{ or } 𝜇_1\\neq𝜇_3 \\text{ or } 𝜇_2\\neq𝜇_3$"
   ]
  },
  {
   "cell_type": "code",
   "execution_count": 31,
   "metadata": {
    "id": "7lb7lwUg93KO",
    "outputId": "69a8cfb8-76d2-4dbc-a51b-ffef19ac3202"
   },
   "outputs": [
    {
     "name": "stdout",
     "output_type": "stream",
     "text": [
      "Multiple Comparison of Means - Tukey HSD, FWER=0.05 \n",
      "====================================================\n",
      "group1 group2 meandiff p-adj   lower   upper  reject\n",
      "----------------------------------------------------\n",
      "   E85    LPG  25.6199 0.0012  8.6843 42.5554   True\n",
      "   E85 Petrol  33.5984    0.0 16.8712 50.3256   True\n",
      "   LPG Petrol   7.9785 0.4916 -8.5139  24.471  False\n",
      "----------------------------------------------------\n"
     ]
    }
   ],
   "source": [
    "# import the required function\n",
    "from statsmodels.stats.multicomp import pairwise_tukeyhsd\n",
    "\n",
    "# perform multiple pairwise comparison (Tukey HSD)\n",
    "m_comp = pairwise_tukeyhsd(endog = aovdata['co_emissions'], groups = aovdata['fuel_type'], alpha = 0.05)\n",
    "print(m_comp)"
   ]
  },
  {
   "cell_type": "markdown",
   "metadata": {
    "id": "phLeziu_93KP"
   },
   "source": [
    "### Insight\n",
    "\n",
    "As the p-value for comparing the mean carbon emissions for the pair E85-LPG and E85-Petrol is less than the significance level, the null hypothesis of equality of all population means can be rejected.\n",
    "\n",
    "Thus, we can say that the mean carbon emission for Petrol and LPG is similar but the emission for fuel type E85 is significantly different from LPG and Petrol."
   ]
  }
 ],
 "metadata": {
  "colab": {
   "collapsed_sections": [],
   "name": "Hypothesis Testing Optional Content.ipynb",
   "provenance": []
  },
  "kernelspec": {
   "display_name": "Python 3 (ipykernel)",
   "language": "python",
   "name": "python3"
  },
  "language_info": {
   "codemirror_mode": {
    "name": "ipython",
    "version": 3
   },
   "file_extension": ".py",
   "mimetype": "text/x-python",
   "name": "python",
   "nbconvert_exporter": "python",
   "pygments_lexer": "ipython3",
   "version": "3.11.7"
  }
 },
 "nbformat": 4,
 "nbformat_minor": 4
}
