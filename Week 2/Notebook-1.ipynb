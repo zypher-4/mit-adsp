{
 "cells": [
  {
   "cell_type": "code",
   "execution_count": 1,
   "id": "7a2628e6-29f9-4bae-94aa-e11779c3eb7d",
   "metadata": {},
   "outputs": [
    {
     "data": {
      "text/plain": [
       "0.033806170189140665"
      ]
     },
     "execution_count": 1,
     "metadata": {},
     "output_type": "execute_result"
    }
   ],
   "source": [
    "import numpy as np\n",
    "0.2/np.sqrt(35)"
   ]
  },
  {
   "cell_type": "code",
   "execution_count": 2,
   "id": "9dd6fbf2-94dd-4462-86ac-af3a3e92954b",
   "metadata": {},
   "outputs": [
    {
     "data": {
      "text/plain": [
       "0.5903777927789047"
      ]
     },
     "execution_count": 2,
     "metadata": {},
     "output_type": "execute_result"
    }
   ],
   "source": [
    "import scipy.stats as st\n",
    "st.norm.cdf(590, loc=502, scale=115) - st.norm.cdf(400, loc=502, scale=115)"
   ]
  },
  {
   "cell_type": "code",
   "execution_count": null,
   "id": "5b0ace75-b467-4c94-96cb-5b4a04dba18a",
   "metadata": {},
   "outputs": [],
   "source": []
  }
 ],
 "metadata": {
  "kernelspec": {
   "display_name": "Python 3 (ipykernel)",
   "language": "python",
   "name": "python3"
  },
  "language_info": {
   "codemirror_mode": {
    "name": "ipython",
    "version": 3
   },
   "file_extension": ".py",
   "mimetype": "text/x-python",
   "name": "python",
   "nbconvert_exporter": "python",
   "pygments_lexer": "ipython3",
   "version": "3.8.19"
  }
 },
 "nbformat": 4,
 "nbformat_minor": 5
}
