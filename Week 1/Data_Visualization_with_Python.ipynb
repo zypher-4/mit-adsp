{
 "cells": [
  {
   "cell_type": "markdown",
   "metadata": {
    "id": "N2HX33n-75hD"
   },
   "source": [
    "# Data Visualization with Python"
   ]
  },
  {
   "cell_type": "code",
   "execution_count": null,
   "metadata": {
    "id": "43iHPuZJfuMt"
   },
   "outputs": [],
   "source": [
    "from google.colab import drive\n",
    "drive.mount('/content/drive')"
   ]
  },
  {
   "cell_type": "code",
   "execution_count": 3,
   "metadata": {
    "id": "VIiUgH835IuJ"
   },
   "outputs": [],
   "source": [
    "# Libraries to help with reading and manipulating data\n",
    "import numpy as np\n",
    "import pandas as pd\n",
    "\n",
    "# Libraries to help with data visualization\n",
    "import matplotlib.pyplot as plt\n",
    "import seaborn as sns\n",
    "\n",
    "# Command to tell Python to actually display the graphs\n",
    "%matplotlib inline"
   ]
  },
  {
   "cell_type": "code",
   "execution_count": 4,
   "metadata": {
    "id": "_4PnXDoX5IuL"
   },
   "outputs": [],
   "source": [
    "df = pd.read_csv('data/Automobile.csv')\n",
    "# df = pd.read_csv('/location on your computer/Automobile.csv')"
   ]
  },
  {
   "cell_type": "code",
   "execution_count": 5,
   "metadata": {
    "id": "ep11mXFZ5IuM"
   },
   "outputs": [
    {
     "data": {
      "text/html": [
       "<div>\n",
       "<style scoped>\n",
       "    .dataframe tbody tr th:only-of-type {\n",
       "        vertical-align: middle;\n",
       "    }\n",
       "\n",
       "    .dataframe tbody tr th {\n",
       "        vertical-align: top;\n",
       "    }\n",
       "\n",
       "    .dataframe thead th {\n",
       "        text-align: right;\n",
       "    }\n",
       "</style>\n",
       "<table border=\"1\" class=\"dataframe\">\n",
       "  <thead>\n",
       "    <tr style=\"text-align: right;\">\n",
       "      <th></th>\n",
       "      <th>symboling</th>\n",
       "      <th>normalized_losses</th>\n",
       "      <th>make</th>\n",
       "      <th>fuel_type</th>\n",
       "      <th>aspiration</th>\n",
       "      <th>number_of_doors</th>\n",
       "      <th>body_style</th>\n",
       "      <th>drive_wheels</th>\n",
       "      <th>engine_location</th>\n",
       "      <th>wheel_base</th>\n",
       "      <th>...</th>\n",
       "      <th>engine_size</th>\n",
       "      <th>fuel_system</th>\n",
       "      <th>bore</th>\n",
       "      <th>stroke</th>\n",
       "      <th>compression_ratio</th>\n",
       "      <th>horsepower</th>\n",
       "      <th>peak_rpm</th>\n",
       "      <th>city_mpg</th>\n",
       "      <th>highway_mpg</th>\n",
       "      <th>price</th>\n",
       "    </tr>\n",
       "  </thead>\n",
       "  <tbody>\n",
       "    <tr>\n",
       "      <th>0</th>\n",
       "      <td>3</td>\n",
       "      <td>168</td>\n",
       "      <td>alfa-romero</td>\n",
       "      <td>gas</td>\n",
       "      <td>std</td>\n",
       "      <td>two</td>\n",
       "      <td>convertible</td>\n",
       "      <td>rwd</td>\n",
       "      <td>front</td>\n",
       "      <td>88.6</td>\n",
       "      <td>...</td>\n",
       "      <td>130</td>\n",
       "      <td>mpfi</td>\n",
       "      <td>3.47</td>\n",
       "      <td>2.68</td>\n",
       "      <td>9.0</td>\n",
       "      <td>111</td>\n",
       "      <td>5000</td>\n",
       "      <td>21</td>\n",
       "      <td>27</td>\n",
       "      <td>13495</td>\n",
       "    </tr>\n",
       "    <tr>\n",
       "      <th>1</th>\n",
       "      <td>3</td>\n",
       "      <td>168</td>\n",
       "      <td>alfa-romero</td>\n",
       "      <td>gas</td>\n",
       "      <td>std</td>\n",
       "      <td>two</td>\n",
       "      <td>convertible</td>\n",
       "      <td>rwd</td>\n",
       "      <td>front</td>\n",
       "      <td>88.6</td>\n",
       "      <td>...</td>\n",
       "      <td>130</td>\n",
       "      <td>mpfi</td>\n",
       "      <td>3.47</td>\n",
       "      <td>2.68</td>\n",
       "      <td>9.0</td>\n",
       "      <td>111</td>\n",
       "      <td>5000</td>\n",
       "      <td>21</td>\n",
       "      <td>27</td>\n",
       "      <td>16500</td>\n",
       "    </tr>\n",
       "    <tr>\n",
       "      <th>2</th>\n",
       "      <td>1</td>\n",
       "      <td>168</td>\n",
       "      <td>alfa-romero</td>\n",
       "      <td>gas</td>\n",
       "      <td>std</td>\n",
       "      <td>two</td>\n",
       "      <td>hatchback</td>\n",
       "      <td>rwd</td>\n",
       "      <td>front</td>\n",
       "      <td>94.5</td>\n",
       "      <td>...</td>\n",
       "      <td>152</td>\n",
       "      <td>mpfi</td>\n",
       "      <td>2.68</td>\n",
       "      <td>3.47</td>\n",
       "      <td>9.0</td>\n",
       "      <td>154</td>\n",
       "      <td>5000</td>\n",
       "      <td>19</td>\n",
       "      <td>26</td>\n",
       "      <td>16500</td>\n",
       "    </tr>\n",
       "    <tr>\n",
       "      <th>3</th>\n",
       "      <td>2</td>\n",
       "      <td>164</td>\n",
       "      <td>audi</td>\n",
       "      <td>gas</td>\n",
       "      <td>std</td>\n",
       "      <td>four</td>\n",
       "      <td>sedan</td>\n",
       "      <td>fwd</td>\n",
       "      <td>front</td>\n",
       "      <td>99.8</td>\n",
       "      <td>...</td>\n",
       "      <td>109</td>\n",
       "      <td>mpfi</td>\n",
       "      <td>3.19</td>\n",
       "      <td>3.40</td>\n",
       "      <td>10.0</td>\n",
       "      <td>102</td>\n",
       "      <td>5500</td>\n",
       "      <td>24</td>\n",
       "      <td>30</td>\n",
       "      <td>13950</td>\n",
       "    </tr>\n",
       "    <tr>\n",
       "      <th>4</th>\n",
       "      <td>2</td>\n",
       "      <td>164</td>\n",
       "      <td>audi</td>\n",
       "      <td>gas</td>\n",
       "      <td>std</td>\n",
       "      <td>four</td>\n",
       "      <td>sedan</td>\n",
       "      <td>4wd</td>\n",
       "      <td>front</td>\n",
       "      <td>99.4</td>\n",
       "      <td>...</td>\n",
       "      <td>136</td>\n",
       "      <td>mpfi</td>\n",
       "      <td>3.19</td>\n",
       "      <td>3.40</td>\n",
       "      <td>8.0</td>\n",
       "      <td>115</td>\n",
       "      <td>5500</td>\n",
       "      <td>18</td>\n",
       "      <td>22</td>\n",
       "      <td>17450</td>\n",
       "    </tr>\n",
       "  </tbody>\n",
       "</table>\n",
       "<p>5 rows × 26 columns</p>\n",
       "</div>"
      ],
      "text/plain": [
       "   symboling  normalized_losses         make fuel_type aspiration  \\\n",
       "0          3                168  alfa-romero       gas        std   \n",
       "1          3                168  alfa-romero       gas        std   \n",
       "2          1                168  alfa-romero       gas        std   \n",
       "3          2                164         audi       gas        std   \n",
       "4          2                164         audi       gas        std   \n",
       "\n",
       "  number_of_doors   body_style drive_wheels engine_location  wheel_base  ...  \\\n",
       "0             two  convertible          rwd           front        88.6  ...   \n",
       "1             two  convertible          rwd           front        88.6  ...   \n",
       "2             two    hatchback          rwd           front        94.5  ...   \n",
       "3            four        sedan          fwd           front        99.8  ...   \n",
       "4            four        sedan          4wd           front        99.4  ...   \n",
       "\n",
       "   engine_size  fuel_system  bore  stroke compression_ratio horsepower  \\\n",
       "0          130         mpfi  3.47    2.68               9.0        111   \n",
       "1          130         mpfi  3.47    2.68               9.0        111   \n",
       "2          152         mpfi  2.68    3.47               9.0        154   \n",
       "3          109         mpfi  3.19    3.40              10.0        102   \n",
       "4          136         mpfi  3.19    3.40               8.0        115   \n",
       "\n",
       "   peak_rpm city_mpg  highway_mpg  price  \n",
       "0      5000       21           27  13495  \n",
       "1      5000       21           27  16500  \n",
       "2      5000       19           26  16500  \n",
       "3      5500       24           30  13950  \n",
       "4      5500       18           22  17450  \n",
       "\n",
       "[5 rows x 26 columns]"
      ]
     },
     "execution_count": 5,
     "metadata": {},
     "output_type": "execute_result"
    }
   ],
   "source": [
    "df.head()"
   ]
  },
  {
   "cell_type": "code",
   "execution_count": 6,
   "metadata": {
    "id": "axRBUIrM5IuN"
   },
   "outputs": [
    {
     "data": {
      "text/plain": [
       "(201, 26)"
      ]
     },
     "execution_count": 6,
     "metadata": {},
     "output_type": "execute_result"
    }
   ],
   "source": [
    "df.shape"
   ]
  },
  {
   "cell_type": "markdown",
   "metadata": {
    "id": "8ji2SmBj75hK"
   },
   "source": [
    "- The data has 201 rows and 26 columns."
   ]
  },
  {
   "cell_type": "code",
   "execution_count": 7,
   "metadata": {
    "id": "ex4GmTCS5IuN"
   },
   "outputs": [
    {
     "name": "stdout",
     "output_type": "stream",
     "text": [
      "<class 'pandas.core.frame.DataFrame'>\n",
      "RangeIndex: 201 entries, 0 to 200\n",
      "Data columns (total 26 columns):\n",
      " #   Column               Non-Null Count  Dtype  \n",
      "---  ------               --------------  -----  \n",
      " 0   symboling            201 non-null    int64  \n",
      " 1   normalized_losses    201 non-null    int64  \n",
      " 2   make                 201 non-null    object \n",
      " 3   fuel_type            201 non-null    object \n",
      " 4   aspiration           201 non-null    object \n",
      " 5   number_of_doors      201 non-null    object \n",
      " 6   body_style           201 non-null    object \n",
      " 7   drive_wheels         201 non-null    object \n",
      " 8   engine_location      201 non-null    object \n",
      " 9   wheel_base           201 non-null    float64\n",
      " 10  length               201 non-null    float64\n",
      " 11  width                201 non-null    float64\n",
      " 12  height               201 non-null    float64\n",
      " 13  curb_weight          201 non-null    int64  \n",
      " 14  engine_type          201 non-null    object \n",
      " 15  number_of_cylinders  201 non-null    object \n",
      " 16  engine_size          201 non-null    int64  \n",
      " 17  fuel_system          201 non-null    object \n",
      " 18  bore                 201 non-null    float64\n",
      " 19  stroke               201 non-null    float64\n",
      " 20  compression_ratio    201 non-null    float64\n",
      " 21  horsepower           201 non-null    int64  \n",
      " 22  peak_rpm             201 non-null    int64  \n",
      " 23  city_mpg             201 non-null    int64  \n",
      " 24  highway_mpg          201 non-null    int64  \n",
      " 25  price                201 non-null    int64  \n",
      "dtypes: float64(7), int64(9), object(10)\n",
      "memory usage: 41.0+ KB\n"
     ]
    }
   ],
   "source": [
    "df.info()"
   ]
  },
  {
   "cell_type": "markdown",
   "metadata": {
    "id": "3hLDWznE75hL"
   },
   "source": [
    "- There are attributes of different types (*int*, *float*, *object*) in the data."
   ]
  },
  {
   "cell_type": "code",
   "execution_count": 8,
   "metadata": {},
   "outputs": [
    {
     "data": {
      "text/html": [
       "<div>\n",
       "<style scoped>\n",
       "    .dataframe tbody tr th:only-of-type {\n",
       "        vertical-align: middle;\n",
       "    }\n",
       "\n",
       "    .dataframe tbody tr th {\n",
       "        vertical-align: top;\n",
       "    }\n",
       "\n",
       "    .dataframe thead th {\n",
       "        text-align: right;\n",
       "    }\n",
       "</style>\n",
       "<table border=\"1\" class=\"dataframe\">\n",
       "  <thead>\n",
       "    <tr style=\"text-align: right;\">\n",
       "      <th></th>\n",
       "      <th>count</th>\n",
       "      <th>mean</th>\n",
       "      <th>std</th>\n",
       "      <th>min</th>\n",
       "      <th>25%</th>\n",
       "      <th>50%</th>\n",
       "      <th>75%</th>\n",
       "      <th>max</th>\n",
       "    </tr>\n",
       "  </thead>\n",
       "  <tbody>\n",
       "    <tr>\n",
       "      <th>symboling</th>\n",
       "      <td>201.0</td>\n",
       "      <td>0.840796</td>\n",
       "      <td>1.254802</td>\n",
       "      <td>-2.00</td>\n",
       "      <td>0.00</td>\n",
       "      <td>1.00</td>\n",
       "      <td>2.00</td>\n",
       "      <td>3.00</td>\n",
       "    </tr>\n",
       "    <tr>\n",
       "      <th>normalized_losses</th>\n",
       "      <td>201.0</td>\n",
       "      <td>125.189055</td>\n",
       "      <td>33.572966</td>\n",
       "      <td>65.00</td>\n",
       "      <td>101.00</td>\n",
       "      <td>122.00</td>\n",
       "      <td>150.00</td>\n",
       "      <td>256.00</td>\n",
       "    </tr>\n",
       "    <tr>\n",
       "      <th>wheel_base</th>\n",
       "      <td>201.0</td>\n",
       "      <td>98.797015</td>\n",
       "      <td>6.066366</td>\n",
       "      <td>86.60</td>\n",
       "      <td>94.50</td>\n",
       "      <td>97.00</td>\n",
       "      <td>102.40</td>\n",
       "      <td>120.90</td>\n",
       "    </tr>\n",
       "    <tr>\n",
       "      <th>length</th>\n",
       "      <td>201.0</td>\n",
       "      <td>174.200995</td>\n",
       "      <td>12.322175</td>\n",
       "      <td>141.10</td>\n",
       "      <td>166.80</td>\n",
       "      <td>173.20</td>\n",
       "      <td>183.50</td>\n",
       "      <td>208.10</td>\n",
       "    </tr>\n",
       "    <tr>\n",
       "      <th>width</th>\n",
       "      <td>201.0</td>\n",
       "      <td>65.889055</td>\n",
       "      <td>2.101471</td>\n",
       "      <td>60.30</td>\n",
       "      <td>64.10</td>\n",
       "      <td>65.50</td>\n",
       "      <td>66.60</td>\n",
       "      <td>72.00</td>\n",
       "    </tr>\n",
       "    <tr>\n",
       "      <th>height</th>\n",
       "      <td>201.0</td>\n",
       "      <td>53.766667</td>\n",
       "      <td>2.447822</td>\n",
       "      <td>47.80</td>\n",
       "      <td>52.00</td>\n",
       "      <td>54.10</td>\n",
       "      <td>55.50</td>\n",
       "      <td>59.80</td>\n",
       "    </tr>\n",
       "    <tr>\n",
       "      <th>curb_weight</th>\n",
       "      <td>201.0</td>\n",
       "      <td>2555.666667</td>\n",
       "      <td>517.296727</td>\n",
       "      <td>1488.00</td>\n",
       "      <td>2169.00</td>\n",
       "      <td>2414.00</td>\n",
       "      <td>2926.00</td>\n",
       "      <td>4066.00</td>\n",
       "    </tr>\n",
       "    <tr>\n",
       "      <th>engine_size</th>\n",
       "      <td>201.0</td>\n",
       "      <td>126.875622</td>\n",
       "      <td>41.546834</td>\n",
       "      <td>61.00</td>\n",
       "      <td>98.00</td>\n",
       "      <td>120.00</td>\n",
       "      <td>141.00</td>\n",
       "      <td>326.00</td>\n",
       "    </tr>\n",
       "    <tr>\n",
       "      <th>bore</th>\n",
       "      <td>201.0</td>\n",
       "      <td>3.329701</td>\n",
       "      <td>0.268166</td>\n",
       "      <td>2.54</td>\n",
       "      <td>3.15</td>\n",
       "      <td>3.31</td>\n",
       "      <td>3.58</td>\n",
       "      <td>3.94</td>\n",
       "    </tr>\n",
       "    <tr>\n",
       "      <th>stroke</th>\n",
       "      <td>201.0</td>\n",
       "      <td>3.261741</td>\n",
       "      <td>0.317875</td>\n",
       "      <td>2.07</td>\n",
       "      <td>3.11</td>\n",
       "      <td>3.29</td>\n",
       "      <td>3.46</td>\n",
       "      <td>4.17</td>\n",
       "    </tr>\n",
       "    <tr>\n",
       "      <th>compression_ratio</th>\n",
       "      <td>201.0</td>\n",
       "      <td>10.164279</td>\n",
       "      <td>4.004965</td>\n",
       "      <td>7.00</td>\n",
       "      <td>8.60</td>\n",
       "      <td>9.00</td>\n",
       "      <td>9.40</td>\n",
       "      <td>23.00</td>\n",
       "    </tr>\n",
       "    <tr>\n",
       "      <th>horsepower</th>\n",
       "      <td>201.0</td>\n",
       "      <td>103.263682</td>\n",
       "      <td>37.389372</td>\n",
       "      <td>48.00</td>\n",
       "      <td>70.00</td>\n",
       "      <td>95.00</td>\n",
       "      <td>116.00</td>\n",
       "      <td>262.00</td>\n",
       "    </tr>\n",
       "    <tr>\n",
       "      <th>peak_rpm</th>\n",
       "      <td>201.0</td>\n",
       "      <td>5121.393035</td>\n",
       "      <td>479.624905</td>\n",
       "      <td>4150.00</td>\n",
       "      <td>4800.00</td>\n",
       "      <td>5200.00</td>\n",
       "      <td>5500.00</td>\n",
       "      <td>6600.00</td>\n",
       "    </tr>\n",
       "    <tr>\n",
       "      <th>city_mpg</th>\n",
       "      <td>201.0</td>\n",
       "      <td>25.179104</td>\n",
       "      <td>6.423220</td>\n",
       "      <td>13.00</td>\n",
       "      <td>19.00</td>\n",
       "      <td>24.00</td>\n",
       "      <td>30.00</td>\n",
       "      <td>49.00</td>\n",
       "    </tr>\n",
       "    <tr>\n",
       "      <th>highway_mpg</th>\n",
       "      <td>201.0</td>\n",
       "      <td>30.686567</td>\n",
       "      <td>6.815150</td>\n",
       "      <td>16.00</td>\n",
       "      <td>25.00</td>\n",
       "      <td>30.00</td>\n",
       "      <td>34.00</td>\n",
       "      <td>54.00</td>\n",
       "    </tr>\n",
       "    <tr>\n",
       "      <th>price</th>\n",
       "      <td>201.0</td>\n",
       "      <td>13207.129353</td>\n",
       "      <td>7947.066342</td>\n",
       "      <td>5118.00</td>\n",
       "      <td>7775.00</td>\n",
       "      <td>10295.00</td>\n",
       "      <td>16500.00</td>\n",
       "      <td>45400.00</td>\n",
       "    </tr>\n",
       "  </tbody>\n",
       "</table>\n",
       "</div>"
      ],
      "text/plain": [
       "                   count          mean          std      min      25%  \\\n",
       "symboling          201.0      0.840796     1.254802    -2.00     0.00   \n",
       "normalized_losses  201.0    125.189055    33.572966    65.00   101.00   \n",
       "wheel_base         201.0     98.797015     6.066366    86.60    94.50   \n",
       "length             201.0    174.200995    12.322175   141.10   166.80   \n",
       "width              201.0     65.889055     2.101471    60.30    64.10   \n",
       "height             201.0     53.766667     2.447822    47.80    52.00   \n",
       "curb_weight        201.0   2555.666667   517.296727  1488.00  2169.00   \n",
       "engine_size        201.0    126.875622    41.546834    61.00    98.00   \n",
       "bore               201.0      3.329701     0.268166     2.54     3.15   \n",
       "stroke             201.0      3.261741     0.317875     2.07     3.11   \n",
       "compression_ratio  201.0     10.164279     4.004965     7.00     8.60   \n",
       "horsepower         201.0    103.263682    37.389372    48.00    70.00   \n",
       "peak_rpm           201.0   5121.393035   479.624905  4150.00  4800.00   \n",
       "city_mpg           201.0     25.179104     6.423220    13.00    19.00   \n",
       "highway_mpg        201.0     30.686567     6.815150    16.00    25.00   \n",
       "price              201.0  13207.129353  7947.066342  5118.00  7775.00   \n",
       "\n",
       "                        50%       75%       max  \n",
       "symboling              1.00      2.00      3.00  \n",
       "normalized_losses    122.00    150.00    256.00  \n",
       "wheel_base            97.00    102.40    120.90  \n",
       "length               173.20    183.50    208.10  \n",
       "width                 65.50     66.60     72.00  \n",
       "height                54.10     55.50     59.80  \n",
       "curb_weight         2414.00   2926.00   4066.00  \n",
       "engine_size          120.00    141.00    326.00  \n",
       "bore                   3.31      3.58      3.94  \n",
       "stroke                 3.29      3.46      4.17  \n",
       "compression_ratio      9.00      9.40     23.00  \n",
       "horsepower            95.00    116.00    262.00  \n",
       "peak_rpm            5200.00   5500.00   6600.00  \n",
       "city_mpg              24.00     30.00     49.00  \n",
       "highway_mpg           30.00     34.00     54.00  \n",
       "price              10295.00  16500.00  45400.00  "
      ]
     },
     "execution_count": 8,
     "metadata": {},
     "output_type": "execute_result"
    }
   ],
   "source": [
    "df.describe().T"
   ]
  },
  {
   "cell_type": "code",
   "execution_count": 9,
   "metadata": {
    "id": "-myaWt-Y5IuN"
   },
   "outputs": [
    {
     "data": {
      "text/html": [
       "<div>\n",
       "<style scoped>\n",
       "    .dataframe tbody tr th:only-of-type {\n",
       "        vertical-align: middle;\n",
       "    }\n",
       "\n",
       "    .dataframe tbody tr th {\n",
       "        vertical-align: top;\n",
       "    }\n",
       "\n",
       "    .dataframe thead th {\n",
       "        text-align: right;\n",
       "    }\n",
       "</style>\n",
       "<table border=\"1\" class=\"dataframe\">\n",
       "  <thead>\n",
       "    <tr style=\"text-align: right;\">\n",
       "      <th></th>\n",
       "      <th>count</th>\n",
       "      <th>unique</th>\n",
       "      <th>top</th>\n",
       "      <th>freq</th>\n",
       "      <th>mean</th>\n",
       "      <th>std</th>\n",
       "      <th>min</th>\n",
       "      <th>25%</th>\n",
       "      <th>50%</th>\n",
       "      <th>75%</th>\n",
       "      <th>max</th>\n",
       "    </tr>\n",
       "  </thead>\n",
       "  <tbody>\n",
       "    <tr>\n",
       "      <th>symboling</th>\n",
       "      <td>201.0</td>\n",
       "      <td>NaN</td>\n",
       "      <td>NaN</td>\n",
       "      <td>NaN</td>\n",
       "      <td>0.840796</td>\n",
       "      <td>1.254802</td>\n",
       "      <td>-2.0</td>\n",
       "      <td>0.0</td>\n",
       "      <td>1.0</td>\n",
       "      <td>2.0</td>\n",
       "      <td>3.0</td>\n",
       "    </tr>\n",
       "    <tr>\n",
       "      <th>normalized_losses</th>\n",
       "      <td>201.0</td>\n",
       "      <td>NaN</td>\n",
       "      <td>NaN</td>\n",
       "      <td>NaN</td>\n",
       "      <td>125.189055</td>\n",
       "      <td>33.572966</td>\n",
       "      <td>65.0</td>\n",
       "      <td>101.0</td>\n",
       "      <td>122.0</td>\n",
       "      <td>150.0</td>\n",
       "      <td>256.0</td>\n",
       "    </tr>\n",
       "    <tr>\n",
       "      <th>make</th>\n",
       "      <td>201</td>\n",
       "      <td>22</td>\n",
       "      <td>toyota</td>\n",
       "      <td>32</td>\n",
       "      <td>NaN</td>\n",
       "      <td>NaN</td>\n",
       "      <td>NaN</td>\n",
       "      <td>NaN</td>\n",
       "      <td>NaN</td>\n",
       "      <td>NaN</td>\n",
       "      <td>NaN</td>\n",
       "    </tr>\n",
       "    <tr>\n",
       "      <th>fuel_type</th>\n",
       "      <td>201</td>\n",
       "      <td>2</td>\n",
       "      <td>gas</td>\n",
       "      <td>181</td>\n",
       "      <td>NaN</td>\n",
       "      <td>NaN</td>\n",
       "      <td>NaN</td>\n",
       "      <td>NaN</td>\n",
       "      <td>NaN</td>\n",
       "      <td>NaN</td>\n",
       "      <td>NaN</td>\n",
       "    </tr>\n",
       "    <tr>\n",
       "      <th>aspiration</th>\n",
       "      <td>201</td>\n",
       "      <td>2</td>\n",
       "      <td>std</td>\n",
       "      <td>165</td>\n",
       "      <td>NaN</td>\n",
       "      <td>NaN</td>\n",
       "      <td>NaN</td>\n",
       "      <td>NaN</td>\n",
       "      <td>NaN</td>\n",
       "      <td>NaN</td>\n",
       "      <td>NaN</td>\n",
       "    </tr>\n",
       "    <tr>\n",
       "      <th>number_of_doors</th>\n",
       "      <td>201</td>\n",
       "      <td>2</td>\n",
       "      <td>four</td>\n",
       "      <td>114</td>\n",
       "      <td>NaN</td>\n",
       "      <td>NaN</td>\n",
       "      <td>NaN</td>\n",
       "      <td>NaN</td>\n",
       "      <td>NaN</td>\n",
       "      <td>NaN</td>\n",
       "      <td>NaN</td>\n",
       "    </tr>\n",
       "    <tr>\n",
       "      <th>body_style</th>\n",
       "      <td>201</td>\n",
       "      <td>5</td>\n",
       "      <td>sedan</td>\n",
       "      <td>94</td>\n",
       "      <td>NaN</td>\n",
       "      <td>NaN</td>\n",
       "      <td>NaN</td>\n",
       "      <td>NaN</td>\n",
       "      <td>NaN</td>\n",
       "      <td>NaN</td>\n",
       "      <td>NaN</td>\n",
       "    </tr>\n",
       "    <tr>\n",
       "      <th>drive_wheels</th>\n",
       "      <td>201</td>\n",
       "      <td>3</td>\n",
       "      <td>fwd</td>\n",
       "      <td>118</td>\n",
       "      <td>NaN</td>\n",
       "      <td>NaN</td>\n",
       "      <td>NaN</td>\n",
       "      <td>NaN</td>\n",
       "      <td>NaN</td>\n",
       "      <td>NaN</td>\n",
       "      <td>NaN</td>\n",
       "    </tr>\n",
       "    <tr>\n",
       "      <th>engine_location</th>\n",
       "      <td>201</td>\n",
       "      <td>2</td>\n",
       "      <td>front</td>\n",
       "      <td>198</td>\n",
       "      <td>NaN</td>\n",
       "      <td>NaN</td>\n",
       "      <td>NaN</td>\n",
       "      <td>NaN</td>\n",
       "      <td>NaN</td>\n",
       "      <td>NaN</td>\n",
       "      <td>NaN</td>\n",
       "    </tr>\n",
       "    <tr>\n",
       "      <th>wheel_base</th>\n",
       "      <td>201.0</td>\n",
       "      <td>NaN</td>\n",
       "      <td>NaN</td>\n",
       "      <td>NaN</td>\n",
       "      <td>98.797015</td>\n",
       "      <td>6.066366</td>\n",
       "      <td>86.6</td>\n",
       "      <td>94.5</td>\n",
       "      <td>97.0</td>\n",
       "      <td>102.4</td>\n",
       "      <td>120.9</td>\n",
       "    </tr>\n",
       "    <tr>\n",
       "      <th>length</th>\n",
       "      <td>201.0</td>\n",
       "      <td>NaN</td>\n",
       "      <td>NaN</td>\n",
       "      <td>NaN</td>\n",
       "      <td>174.200995</td>\n",
       "      <td>12.322175</td>\n",
       "      <td>141.1</td>\n",
       "      <td>166.8</td>\n",
       "      <td>173.2</td>\n",
       "      <td>183.5</td>\n",
       "      <td>208.1</td>\n",
       "    </tr>\n",
       "    <tr>\n",
       "      <th>width</th>\n",
       "      <td>201.0</td>\n",
       "      <td>NaN</td>\n",
       "      <td>NaN</td>\n",
       "      <td>NaN</td>\n",
       "      <td>65.889055</td>\n",
       "      <td>2.101471</td>\n",
       "      <td>60.3</td>\n",
       "      <td>64.1</td>\n",
       "      <td>65.5</td>\n",
       "      <td>66.6</td>\n",
       "      <td>72.0</td>\n",
       "    </tr>\n",
       "    <tr>\n",
       "      <th>height</th>\n",
       "      <td>201.0</td>\n",
       "      <td>NaN</td>\n",
       "      <td>NaN</td>\n",
       "      <td>NaN</td>\n",
       "      <td>53.766667</td>\n",
       "      <td>2.447822</td>\n",
       "      <td>47.8</td>\n",
       "      <td>52.0</td>\n",
       "      <td>54.1</td>\n",
       "      <td>55.5</td>\n",
       "      <td>59.8</td>\n",
       "    </tr>\n",
       "    <tr>\n",
       "      <th>curb_weight</th>\n",
       "      <td>201.0</td>\n",
       "      <td>NaN</td>\n",
       "      <td>NaN</td>\n",
       "      <td>NaN</td>\n",
       "      <td>2555.666667</td>\n",
       "      <td>517.296727</td>\n",
       "      <td>1488.0</td>\n",
       "      <td>2169.0</td>\n",
       "      <td>2414.0</td>\n",
       "      <td>2926.0</td>\n",
       "      <td>4066.0</td>\n",
       "    </tr>\n",
       "    <tr>\n",
       "      <th>engine_type</th>\n",
       "      <td>201</td>\n",
       "      <td>6</td>\n",
       "      <td>ohc</td>\n",
       "      <td>145</td>\n",
       "      <td>NaN</td>\n",
       "      <td>NaN</td>\n",
       "      <td>NaN</td>\n",
       "      <td>NaN</td>\n",
       "      <td>NaN</td>\n",
       "      <td>NaN</td>\n",
       "      <td>NaN</td>\n",
       "    </tr>\n",
       "    <tr>\n",
       "      <th>number_of_cylinders</th>\n",
       "      <td>201</td>\n",
       "      <td>7</td>\n",
       "      <td>four</td>\n",
       "      <td>157</td>\n",
       "      <td>NaN</td>\n",
       "      <td>NaN</td>\n",
       "      <td>NaN</td>\n",
       "      <td>NaN</td>\n",
       "      <td>NaN</td>\n",
       "      <td>NaN</td>\n",
       "      <td>NaN</td>\n",
       "    </tr>\n",
       "    <tr>\n",
       "      <th>engine_size</th>\n",
       "      <td>201.0</td>\n",
       "      <td>NaN</td>\n",
       "      <td>NaN</td>\n",
       "      <td>NaN</td>\n",
       "      <td>126.875622</td>\n",
       "      <td>41.546834</td>\n",
       "      <td>61.0</td>\n",
       "      <td>98.0</td>\n",
       "      <td>120.0</td>\n",
       "      <td>141.0</td>\n",
       "      <td>326.0</td>\n",
       "    </tr>\n",
       "    <tr>\n",
       "      <th>fuel_system</th>\n",
       "      <td>201</td>\n",
       "      <td>8</td>\n",
       "      <td>mpfi</td>\n",
       "      <td>92</td>\n",
       "      <td>NaN</td>\n",
       "      <td>NaN</td>\n",
       "      <td>NaN</td>\n",
       "      <td>NaN</td>\n",
       "      <td>NaN</td>\n",
       "      <td>NaN</td>\n",
       "      <td>NaN</td>\n",
       "    </tr>\n",
       "    <tr>\n",
       "      <th>bore</th>\n",
       "      <td>201.0</td>\n",
       "      <td>NaN</td>\n",
       "      <td>NaN</td>\n",
       "      <td>NaN</td>\n",
       "      <td>3.329701</td>\n",
       "      <td>0.268166</td>\n",
       "      <td>2.54</td>\n",
       "      <td>3.15</td>\n",
       "      <td>3.31</td>\n",
       "      <td>3.58</td>\n",
       "      <td>3.94</td>\n",
       "    </tr>\n",
       "    <tr>\n",
       "      <th>stroke</th>\n",
       "      <td>201.0</td>\n",
       "      <td>NaN</td>\n",
       "      <td>NaN</td>\n",
       "      <td>NaN</td>\n",
       "      <td>3.261741</td>\n",
       "      <td>0.317875</td>\n",
       "      <td>2.07</td>\n",
       "      <td>3.11</td>\n",
       "      <td>3.29</td>\n",
       "      <td>3.46</td>\n",
       "      <td>4.17</td>\n",
       "    </tr>\n",
       "    <tr>\n",
       "      <th>compression_ratio</th>\n",
       "      <td>201.0</td>\n",
       "      <td>NaN</td>\n",
       "      <td>NaN</td>\n",
       "      <td>NaN</td>\n",
       "      <td>10.164279</td>\n",
       "      <td>4.004965</td>\n",
       "      <td>7.0</td>\n",
       "      <td>8.6</td>\n",
       "      <td>9.0</td>\n",
       "      <td>9.4</td>\n",
       "      <td>23.0</td>\n",
       "    </tr>\n",
       "    <tr>\n",
       "      <th>horsepower</th>\n",
       "      <td>201.0</td>\n",
       "      <td>NaN</td>\n",
       "      <td>NaN</td>\n",
       "      <td>NaN</td>\n",
       "      <td>103.263682</td>\n",
       "      <td>37.389372</td>\n",
       "      <td>48.0</td>\n",
       "      <td>70.0</td>\n",
       "      <td>95.0</td>\n",
       "      <td>116.0</td>\n",
       "      <td>262.0</td>\n",
       "    </tr>\n",
       "    <tr>\n",
       "      <th>peak_rpm</th>\n",
       "      <td>201.0</td>\n",
       "      <td>NaN</td>\n",
       "      <td>NaN</td>\n",
       "      <td>NaN</td>\n",
       "      <td>5121.393035</td>\n",
       "      <td>479.624905</td>\n",
       "      <td>4150.0</td>\n",
       "      <td>4800.0</td>\n",
       "      <td>5200.0</td>\n",
       "      <td>5500.0</td>\n",
       "      <td>6600.0</td>\n",
       "    </tr>\n",
       "    <tr>\n",
       "      <th>city_mpg</th>\n",
       "      <td>201.0</td>\n",
       "      <td>NaN</td>\n",
       "      <td>NaN</td>\n",
       "      <td>NaN</td>\n",
       "      <td>25.179104</td>\n",
       "      <td>6.42322</td>\n",
       "      <td>13.0</td>\n",
       "      <td>19.0</td>\n",
       "      <td>24.0</td>\n",
       "      <td>30.0</td>\n",
       "      <td>49.0</td>\n",
       "    </tr>\n",
       "    <tr>\n",
       "      <th>highway_mpg</th>\n",
       "      <td>201.0</td>\n",
       "      <td>NaN</td>\n",
       "      <td>NaN</td>\n",
       "      <td>NaN</td>\n",
       "      <td>30.686567</td>\n",
       "      <td>6.81515</td>\n",
       "      <td>16.0</td>\n",
       "      <td>25.0</td>\n",
       "      <td>30.0</td>\n",
       "      <td>34.0</td>\n",
       "      <td>54.0</td>\n",
       "    </tr>\n",
       "    <tr>\n",
       "      <th>price</th>\n",
       "      <td>201.0</td>\n",
       "      <td>NaN</td>\n",
       "      <td>NaN</td>\n",
       "      <td>NaN</td>\n",
       "      <td>13207.129353</td>\n",
       "      <td>7947.066342</td>\n",
       "      <td>5118.0</td>\n",
       "      <td>7775.0</td>\n",
       "      <td>10295.0</td>\n",
       "      <td>16500.0</td>\n",
       "      <td>45400.0</td>\n",
       "    </tr>\n",
       "  </tbody>\n",
       "</table>\n",
       "</div>"
      ],
      "text/plain": [
       "                     count unique     top freq          mean          std  \\\n",
       "symboling            201.0    NaN     NaN  NaN      0.840796     1.254802   \n",
       "normalized_losses    201.0    NaN     NaN  NaN    125.189055    33.572966   \n",
       "make                   201     22  toyota   32           NaN          NaN   \n",
       "fuel_type              201      2     gas  181           NaN          NaN   \n",
       "aspiration             201      2     std  165           NaN          NaN   \n",
       "number_of_doors        201      2    four  114           NaN          NaN   \n",
       "body_style             201      5   sedan   94           NaN          NaN   \n",
       "drive_wheels           201      3     fwd  118           NaN          NaN   \n",
       "engine_location        201      2   front  198           NaN          NaN   \n",
       "wheel_base           201.0    NaN     NaN  NaN     98.797015     6.066366   \n",
       "length               201.0    NaN     NaN  NaN    174.200995    12.322175   \n",
       "width                201.0    NaN     NaN  NaN     65.889055     2.101471   \n",
       "height               201.0    NaN     NaN  NaN     53.766667     2.447822   \n",
       "curb_weight          201.0    NaN     NaN  NaN   2555.666667   517.296727   \n",
       "engine_type            201      6     ohc  145           NaN          NaN   \n",
       "number_of_cylinders    201      7    four  157           NaN          NaN   \n",
       "engine_size          201.0    NaN     NaN  NaN    126.875622    41.546834   \n",
       "fuel_system            201      8    mpfi   92           NaN          NaN   \n",
       "bore                 201.0    NaN     NaN  NaN      3.329701     0.268166   \n",
       "stroke               201.0    NaN     NaN  NaN      3.261741     0.317875   \n",
       "compression_ratio    201.0    NaN     NaN  NaN     10.164279     4.004965   \n",
       "horsepower           201.0    NaN     NaN  NaN    103.263682    37.389372   \n",
       "peak_rpm             201.0    NaN     NaN  NaN   5121.393035   479.624905   \n",
       "city_mpg             201.0    NaN     NaN  NaN     25.179104      6.42322   \n",
       "highway_mpg          201.0    NaN     NaN  NaN     30.686567      6.81515   \n",
       "price                201.0    NaN     NaN  NaN  13207.129353  7947.066342   \n",
       "\n",
       "                        min     25%      50%      75%      max  \n",
       "symboling              -2.0     0.0      1.0      2.0      3.0  \n",
       "normalized_losses      65.0   101.0    122.0    150.0    256.0  \n",
       "make                    NaN     NaN      NaN      NaN      NaN  \n",
       "fuel_type               NaN     NaN      NaN      NaN      NaN  \n",
       "aspiration              NaN     NaN      NaN      NaN      NaN  \n",
       "number_of_doors         NaN     NaN      NaN      NaN      NaN  \n",
       "body_style              NaN     NaN      NaN      NaN      NaN  \n",
       "drive_wheels            NaN     NaN      NaN      NaN      NaN  \n",
       "engine_location         NaN     NaN      NaN      NaN      NaN  \n",
       "wheel_base             86.6    94.5     97.0    102.4    120.9  \n",
       "length                141.1   166.8    173.2    183.5    208.1  \n",
       "width                  60.3    64.1     65.5     66.6     72.0  \n",
       "height                 47.8    52.0     54.1     55.5     59.8  \n",
       "curb_weight          1488.0  2169.0   2414.0   2926.0   4066.0  \n",
       "engine_type             NaN     NaN      NaN      NaN      NaN  \n",
       "number_of_cylinders     NaN     NaN      NaN      NaN      NaN  \n",
       "engine_size            61.0    98.0    120.0    141.0    326.0  \n",
       "fuel_system             NaN     NaN      NaN      NaN      NaN  \n",
       "bore                   2.54    3.15     3.31     3.58     3.94  \n",
       "stroke                 2.07    3.11     3.29     3.46     4.17  \n",
       "compression_ratio       7.0     8.6      9.0      9.4     23.0  \n",
       "horsepower             48.0    70.0     95.0    116.0    262.0  \n",
       "peak_rpm             4150.0  4800.0   5200.0   5500.0   6600.0  \n",
       "city_mpg               13.0    19.0     24.0     30.0     49.0  \n",
       "highway_mpg            16.0    25.0     30.0     34.0     54.0  \n",
       "price                5118.0  7775.0  10295.0  16500.0  45400.0  "
      ]
     },
     "execution_count": 9,
     "metadata": {},
     "output_type": "execute_result"
    }
   ],
   "source": [
    "df.describe(include='all').T"
   ]
  },
  {
   "cell_type": "markdown",
   "metadata": {
    "id": "6y3Rvun175hM"
   },
   "source": [
    "- The car price ranges from 5118 to 45400 units.\n",
    "- The car weight ranges from 1488 to 4066 units.\n",
    "- The most common car make in the data is of Toyota."
   ]
  },
  {
   "cell_type": "markdown",
   "metadata": {
    "id": "_ZMHhyuU5IuO"
   },
   "source": [
    "## Histogram\n",
    "\n",
    "- A **histogram** is a univariate plot which helps us understand the distribution of a continuous numerical variable.\n",
    "- It breaks the range of the continuous variables into a intervals of equal length and then counts the number of observations in each interval.\n",
    "- We will use the *histplot()* function of seaborn to create histograms."
   ]
  },
  {
   "cell_type": "code",
   "execution_count": 10,
   "metadata": {
    "id": "-Jwklh5X5IuP"
   },
   "outputs": [
    {
     "data": {
      "text/plain": [
       "<Axes: xlabel='price', ylabel='Count'>"
      ]
     },
     "execution_count": 10,
     "metadata": {},
     "output_type": "execute_result"
    },
    {
     "data": {
      "image/png": "[encoded data removed]",
      "text/plain": [
       "<Figure size 640x480 with 1 Axes>"
      ]
     },
     "metadata": {},
     "output_type": "display_data"
    }
   ],
   "source": [
    "sns.histplot(data=df, x='price')\n",
    "# plt.show()"
   ]
  },
  {
   "cell_type": "markdown",
   "metadata": {
    "id": "Gka2S_UAwixj"
   },
   "source": [
    "**Let's see how we can customize a histogram.**"
   ]
  },
  {
   "cell_type": "code",
   "execution_count": 49,
   "metadata": {
    "id": "JLJs-6TUwfQs"
   },
   "outputs": [],
   "source": [
    "plt.title('Histogram:Price')\n",
    "plt.xlim(3000,50000)\n",
    "plt.ylim(0,70)\n",
    "plt.xlabel('Price of cars')\n",
    "plt.ylabel('Frequency')\n",
    "sns.histplot(data=df, x='price',color='orange');"
   ]
  },
  {
   "cell_type": "markdown",
   "metadata": {
    "id": "bBA_Tspd5IuP"
   },
   "source": [
    "**We can specify the number of intervals (or groups or bins) to create by setting the *bins* parameter.**\n",
    "\n",
    "- If not specified it is passed to [numpy.histogram_bin_edges()](https://numpy.org/doc/stable/reference/generated/numpy.histogram_bin_edges.html#numpy.histogram_bin_edges)"
   ]
  },
  {
   "cell_type": "code",
   "execution_count": null,
   "metadata": {
    "id": "S7FUZDs65IuQ"
   },
   "outputs": [],
   "source": [
    "sns.histplot(data=df, x='price', bins=5)"
   ]
  },
  {
   "cell_type": "code",
   "execution_count": null,
   "metadata": {
    "id": "RxGGf9Kg5IuQ"
   },
   "outputs": [],
   "source": [
    "sns.histplot(data=df, x='price', bins=20)"
   ]
  },
  {
   "cell_type": "markdown",
   "metadata": {
    "id": "TwjJdJKSeYng"
   },
   "source": [
    "**If we want to specify the width of the intervals (or groups or bins), we can use *binwidth* parameter.**"
   ]
  },
  {
   "cell_type": "code",
   "execution_count": null,
   "metadata": {
    "id": "iKR0iV6ZeYng"
   },
   "outputs": [],
   "source": [
    "sns.histplot(data=df, x='price', binwidth=20)"
   ]
  },
  {
   "cell_type": "code",
   "execution_count": null,
   "metadata": {
    "id": "WfzCaoTheYnh"
   },
   "outputs": [],
   "source": [
    "sns.histplot(data=df, x='price', binwidth=200)"
   ]
  },
  {
   "cell_type": "markdown",
   "metadata": {
    "id": "ykUoSGy7eYnh"
   },
   "source": [
    "**How to find the optimal number of bins: Rule of thumb**\n",
    "\n",
    "- We calculate the bin-width first, using the following formula: $$ binwidth =\\frac{(2 * IQR)}{\\sqrt[3]{n}} $$ where n = number of rows the dataset\n",
    "\n",
    "- Then, we obtain bins using the calculated bin-width. $$ bins =\\frac{Range}{binwidth} $$"
   ]
  },
  {
   "cell_type": "markdown",
   "metadata": {
    "id": "ho0PxE275IuR"
   },
   "source": [
    "**In addition to the bars, we can also add a density estimate by setting the *kde* parameter to *True*.**\n",
    "\n",
    "- **Kernel Density Estimation**, or **KDE**, visualizes the distribution of data over a continuous interval.\n",
    "- The conventional scale for KDE is: **Total frequency of each bin × Probability**"
   ]
  },
  {
   "cell_type": "code",
   "execution_count": null,
   "metadata": {
    "id": "mjny7GLv5IuR"
   },
   "outputs": [],
   "source": [
    "sns.histplot(data=df, x='price', kde=True);"
   ]
  },
  {
   "cell_type": "code",
   "execution_count": null,
   "metadata": {
    "id": "hr_E-_lv5IuS"
   },
   "outputs": [],
   "source": [
    "sns.histplot(data=df, x='price', bins=700, kde=True);"
   ]
  },
  {
   "cell_type": "markdown",
   "metadata": {
    "id": "K8odvDwSeYni"
   },
   "source": [
    "Clearly, if we increase the number of bins, it reduces the frequency count in each group (bin). Since the scale of KDE depends on the total frequency of each bin (group), the above code gives us a flattened KDE plot."
   ]
  },
  {
   "cell_type": "markdown",
   "metadata": {
    "id": "YrNe76c55IuS"
   },
   "source": [
    "**Let's check out the histograms for a few more attributes in the data.**"
   ]
  },
  {
   "cell_type": "code",
   "execution_count": null,
   "metadata": {
    "id": "lvkFthd_5IuS"
   },
   "outputs": [],
   "source": [
    "sns.histplot(data=df, x='curb_weight', kde=True);"
   ]
  },
  {
   "cell_type": "markdown",
   "metadata": {
    "id": "hU64jtH-eYnj"
   },
   "source": [
    "- A histogram is said to be **symmetric** if the left-hand and right-hand sides resemble mirror images of each other when the histogram is cut down the middle."
   ]
  },
  {
   "cell_type": "code",
   "execution_count": null,
   "metadata": {
    "id": "EPGmJKGO5IuS"
   },
   "outputs": [],
   "source": [
    "sns.histplot(data=df, x='horsepower', kde=True);"
   ]
  },
  {
   "cell_type": "markdown",
   "metadata": {
    "id": "T2Nu0xFSeYnj"
   },
   "source": [
    "- The tallest clusters of bars, i.e., peaks, in a histogram represent the **modes** of the data.\n",
    "- A histogram **skewed to the right** has a large number of occurrences on the left side of the plot and a few on the right side of the plot.\n",
    "- Similarly, a histogram **skewed to the left** has a large number of occurrences on the right side of the plot and few on the left side of the plot."
   ]
  },
  {
   "cell_type": "markdown",
   "metadata": {
    "id": "CVpitoKleYnk"
   },
   "source": [
    "**Histograms are intuitive but it is hardly a good choice when we want to compare the distributions of several groups. For example,**"
   ]
  },
  {
   "cell_type": "code",
   "execution_count": null,
   "metadata": {
    "id": "U8G-kAWGeYnk"
   },
   "outputs": [],
   "source": [
    "sns.histplot(data=df, x='price', hue='body_style', kde=True);"
   ]
  },
  {
   "cell_type": "markdown",
   "metadata": {
    "id": "KcZRBLmN--tA"
   },
   "source": [
    "It might be better to use subplots!"
   ]
  },
  {
   "cell_type": "code",
   "execution_count": null,
   "metadata": {
    "id": "z1Z1dl-6BVMA"
   },
   "outputs": [],
   "source": [
    "g = sns.FacetGrid(df, col=\"body_style\")\n",
    "g.map(sns.histplot, \"price\");"
   ]
  },
  {
   "cell_type": "markdown",
   "metadata": {
    "id": "fzYXN1-a75hP"
   },
   "source": [
    "In such cases, we can use **boxplots**. Boxplots, or box-and-whiskers plots, are an excellent way to visualize differences among groups."
   ]
  },
  {
   "cell_type": "markdown",
   "metadata": {
    "id": "vEInLWSo5IuU",
    "jp-MarkdownHeadingCollapsed": true
   },
   "source": [
    "## Boxplot\n",
    "\n",
    "- A **boxplot**, or a **box-and-whisker plot**, shows the distribution of numerical data and skewness through displaying the data quartiles\n",
    "- It is also called a **five-number summary plot**, where the five-number summary includes the minimum value, first quartile, median, third quartile, and the maximum value.\n",
    "- The *boxplot()* function of seaborn can be used to create a boxplot."
   ]
  },
  {
   "cell_type": "code",
   "execution_count": null,
   "metadata": {
    "id": "YU3g9wFTeYnu"
   },
   "outputs": [],
   "source": [
    "from IPython.display import Image\n",
    "Image('/content/drive/MyDrive/Python Course/boxplot.png')\n",
    "#Image('/location on your computer/boxplot.png')"
   ]
  },
  {
   "cell_type": "code",
   "execution_count": null,
   "metadata": {
    "id": "0KpRGUH15IuU"
   },
   "outputs": [],
   "source": [
    "# creating a boxplot with seaborn\n",
    "sns.boxplot(data=df, x='curb_weight');"
   ]
  },
  {
   "cell_type": "markdown",
   "metadata": {
    "id": "EKK6WXds9hWw"
   },
   "source": [
    "**Let's see how we can customize a boxplot.**"
   ]
  },
  {
   "cell_type": "code",
   "execution_count": null,
   "metadata": {
    "id": "-mQ93PiW9m0r"
   },
   "outputs": [],
   "source": [
    "plt.title('Boxplot:Horsepower')\n",
    "plt.xlim(30,300)\n",
    "plt.xlabel('Horsepower')\n",
    "sns.axes_style('whitegrid')\n",
    "sns.boxplot(data=df, x='horsepower',color='green');"
   ]
  },
  {
   "cell_type": "markdown",
   "metadata": {
    "id": "0gNIxAvL-tJ-"
   },
   "source": [
    "- In a boxplot, when the median is closer to the left of the box and the whisker is shorter on the left end of the box, we say that the distribution is **positively skewed (skewed right)**.\n",
    "- Similarly, when the median is closer to the right of the box and the whisker is shorter on the right end of the box, we say that the distribution is **negatively skewed (skewed left)**."
   ]
  },
  {
   "cell_type": "code",
   "execution_count": null,
   "metadata": {
    "id": "rh73sV5iBdnB"
   },
   "outputs": [],
   "source": [
    "from IPython.display import Image\n",
    "Image('/content/drive/MyDrive/skew_box.png')\n",
    "#Image('/location on your computer/skew_box.png')"
   ]
  },
  {
   "cell_type": "markdown",
   "metadata": {
    "id": "8eLH2ULT5vo9"
   },
   "source": [
    "**For example,**"
   ]
  },
  {
   "cell_type": "code",
   "execution_count": null,
   "metadata": {
    "id": "-5Ta38rV5IuU"
   },
   "outputs": [],
   "source": [
    "sns.boxplot(data=df, x='price');"
   ]
  },
  {
   "cell_type": "markdown",
   "metadata": {
    "id": "rP4KARhjBnn4"
   },
   "source": [
    "From the above plot, we can see that the distribution of `price` is positively skewed."
   ]
  },
  {
   "cell_type": "markdown",
   "metadata": {
    "id": "WV0AVUY1Ho5q"
   },
   "source": [
    "**Let's see how we can compare groups with boxplots.**"
   ]
  },
  {
   "cell_type": "code",
   "execution_count": null,
   "metadata": {
    "id": "qsuosVXAIBjO"
   },
   "outputs": [],
   "source": [
    "sns.boxplot(data=df, x='body_style', y='price') ;"
   ]
  },
  {
   "cell_type": "markdown",
   "metadata": {
    "id": "HNwpY-9ceYnw"
   },
   "source": [
    "**Though boxplot visually summarizes variation in large datasets, it is unable to show multimodality and clusters.**"
   ]
  },
  {
   "cell_type": "code",
   "execution_count": null,
   "metadata": {
    "id": "s6w1YYNaeYnw"
   },
   "outputs": [],
   "source": [
    "sns.boxplot(data=df, x='bore');"
   ]
  },
  {
   "cell_type": "markdown",
   "metadata": {
    "id": "exW4UuCReYnw"
   },
   "source": [
    "- From the above boxplot we can not tell if the data is bimodal or not, but it is clearly visible in the following histogram."
   ]
  },
  {
   "cell_type": "code",
   "execution_count": null,
   "metadata": {
    "id": "7w7iE4BVeYnw"
   },
   "outputs": [],
   "source": [
    "sns.histplot(data=df, x='bore',kde = True);"
   ]
  },
  {
   "cell_type": "markdown",
   "metadata": {
    "id": "iVf003Gs5IuV",
    "jp-MarkdownHeadingCollapsed": true
   },
   "source": [
    "## Bar Graph\n",
    "\n",
    "- A bar graph is generally used to show the counts of observations in each bin (or level or group) of categorical variable using bars.\n",
    "- We can use the *countplot()* function of seaborn to plot a bar graph."
   ]
  },
  {
   "cell_type": "code",
   "execution_count": null,
   "metadata": {
    "id": "dVO4Q56f5IuV"
   },
   "outputs": [],
   "source": [
    "sns.countplot(data=df, x='body_style');"
   ]
  },
  {
   "cell_type": "markdown",
   "metadata": {
    "id": "4n0v6DcQ5IuV"
   },
   "source": [
    "**We can also make the plot more granular by specifying the *hue* parameter to display counts for subgroups.**"
   ]
  },
  {
   "cell_type": "code",
   "execution_count": null,
   "metadata": {
    "id": "xTHnIIKy5IuV"
   },
   "outputs": [],
   "source": [
    "sns.countplot(data=df, x='body_style', hue='fuel_type');"
   ]
  },
  {
   "cell_type": "markdown",
   "metadata": {
    "id": "vmDOlVCT5IuV"
   },
   "source": [
    "**Let's check out the bar graphs for a few more attributes in the data.**"
   ]
  },
  {
   "cell_type": "code",
   "execution_count": null,
   "metadata": {
    "id": "qHcjy0Fv5IuV"
   },
   "outputs": [],
   "source": [
    "sns.countplot(data=df, x='make');"
   ]
  },
  {
   "cell_type": "markdown",
   "metadata": {
    "id": "HkLgJzv75IuW"
   },
   "source": [
    "- This plot looks a little messy and congested.\n",
    "- Let's increase the size of the plot to make it look better."
   ]
  },
  {
   "cell_type": "code",
   "execution_count": null,
   "metadata": {
    "id": "DUhQ71Xc5IuW"
   },
   "outputs": [],
   "source": [
    "plt.figure(figsize=(20,7))\n",
    "sns.countplot(data=df, x='make');"
   ]
  },
  {
   "cell_type": "markdown",
   "metadata": {
    "id": "yVK2igls5IuW"
   },
   "source": [
    "- Some of the tick marks on the x-axis are overlapping with each other.\n",
    "- Let's rotate the tick marks to make it look better."
   ]
  },
  {
   "cell_type": "code",
   "execution_count": null,
   "metadata": {
    "id": "hGSTXceH5IuW"
   },
   "outputs": [],
   "source": [
    "plt.figure(figsize=(20,7))\n",
    "sns.countplot(data=df, x='make')\n",
    "plt.xticks(rotation=90)"
   ]
  },
  {
   "cell_type": "markdown",
   "metadata": {
    "id": "Ea22q-uo5IuW"
   },
   "source": [
    "- A lot of plot-specific text has shown up in the output.\n",
    "- Let's see how we can get rid of those."
   ]
  },
  {
   "cell_type": "code",
   "execution_count": null,
   "metadata": {
    "id": "fSHdavFm5IuW"
   },
   "outputs": [],
   "source": [
    "plt.figure(figsize=(20,7))\n",
    "sns.countplot(data=df, x='make')\n",
    "plt.xticks(rotation=90)\n",
    "plt.show() # this will ensure that the plot is displayed without the text"
   ]
  },
  {
   "cell_type": "markdown",
   "metadata": {
    "id": "kkLBjFcbEgtg"
   },
   "source": [
    "**Here are some common ways to customize a barplot.**"
   ]
  },
  {
   "cell_type": "code",
   "execution_count": null,
   "metadata": {
    "id": "4q223RFD5IuW"
   },
   "outputs": [],
   "source": [
    "plt.figure(figsize=(10,7))\n",
    "plt.title('Barplot:Engine-type')\n",
    "plt.ylim(0,180)\n",
    "sns.countplot(data=df, x='engine_type',hue='fuel_type')\n",
    "plt.xlabel('Engine-type');"
   ]
  },
  {
   "cell_type": "markdown",
   "metadata": {
    "id": "3y_u5xZv5IuW",
    "jp-MarkdownHeadingCollapsed": true
   },
   "source": [
    "## Lineplot\n",
    "\n",
    "Suppose, your dataset has multiple y values for each x value.  A lineplot is a great way to visualize this.  This type of data often shows up when we have data that evolves over time, for example, when we have monthly data over several years.  If we want to compare the individual months, then a line plot is a great option.  This is sometimes called seasonality analysis.\n",
    "\n"
   ]
  },
  {
   "cell_type": "code",
   "execution_count": null,
   "metadata": {
    "id": "AVLSppnef9Ks"
   },
   "outputs": [],
   "source": [
    "from IPython.display import Image\n",
    "Image('/content/drive/MyDrive/Python Course/Line_plot.png')\n",
    "#Image('/location on your computer/Line_plot.png')"
   ]
  },
  {
   "cell_type": "markdown",
   "metadata": {
    "id": "ddvSSLq9OxKy"
   },
   "source": [
    "- A **line plot** uses straight lines to connect individual data points to display a trend or pattern in the data.\n",
    "    - For example, seasonal effects and large changes over time.\n",
    "\n",
    "- The *lineplot()* function of seaborn, by default, aggregates over multiple y values at each value of x and uses an estimate of the central tendency for the plot.\n",
    "\n",
    "- *lineplot()* assumes that you are most often trying to draw y as a function of x. So, by default, it sorts the data by the x values before plotting."
   ]
  },
  {
   "cell_type": "code",
   "execution_count": null,
   "metadata": {
    "id": "PYEci6FO5IuW"
   },
   "outputs": [],
   "source": [
    "# loading one of the example datasets available in seaborn\n",
    "flights = sns.load_dataset(\"flights\")\n",
    "\n",
    "# creating a line plot\n",
    "sns.lineplot(data = flights , x = 'month' , y = 'passengers');"
   ]
  },
  {
   "cell_type": "markdown",
   "metadata": {
    "id": "MEfKsJUflDzJ"
   },
   "source": [
    "- The light blue shaded area is actually the '**confidence interval**' of the y-value estimates for each x-axis value.\n",
    "\n",
    "- The **confidence interval** is a range of values around that estimate that are believed to contain the true value of that estimate with a certain probability."
   ]
  },
  {
   "cell_type": "markdown",
   "metadata": {
    "id": "Qta0NdaV5IuW"
   },
   "source": [
    "**We can switch off the confidence intervals by setting the *ci* parameter to *'False'*.**"
   ]
  },
  {
   "cell_type": "code",
   "execution_count": null,
   "metadata": {
    "id": "QC4Bl2dz5IuW"
   },
   "outputs": [],
   "source": [
    "sns.lineplot(data = flights , x = 'month' , y = 'passengers', errorbar=('ci', False));"
   ]
  },
  {
   "cell_type": "markdown",
   "metadata": {
    "id": "I5j3we4V5IuX"
   },
   "source": [
    "**We can also check the relationship between two variables for different categories by specifying the *hue* parameter.**"
   ]
  },
  {
   "cell_type": "code",
   "execution_count": null,
   "metadata": {
    "id": "Cn-ki_Cb5IuX"
   },
   "outputs": [],
   "source": [
    "sns.lineplot(data=flights,x = 'month' , y = 'passengers', errorbar=('ci', False) ,hue='year');"
   ]
  },
  {
   "cell_type": "markdown",
   "metadata": {
    "id": "AsHYYzFnrhh9"
   },
   "source": [
    "**We can change the style of the lines by adding 'style' parameter to the function.**"
   ]
  },
  {
   "cell_type": "code",
   "execution_count": null,
   "metadata": {
    "id": "H2EvcdWB5IuX"
   },
   "outputs": [],
   "source": [
    "# loading one of the example datasets available in seaborn\n",
    "fmri = sns.load_dataset(\"fmri\")\n",
    "\n",
    "# creating the line plot\n",
    "sns.lineplot(data = fmri, x=\"timepoint\", y=\"signal\", hue=\"region\", style=\"region\", errorbar=('ci', False));"
   ]
  },
  {
   "cell_type": "markdown",
   "metadata": {
    "id": "l2QreA4ls8pk"
   },
   "source": [
    "**We can also add markers at each observation to identify groups in a better way.**"
   ]
  },
  {
   "cell_type": "code",
   "execution_count": null,
   "metadata": {
    "id": "eI-U5TIfsuXF"
   },
   "outputs": [],
   "source": [
    "sns.lineplot(data = fmri, x=\"timepoint\", y=\"signal\", hue=\"region\", style=\"region\", errorbar=('ci', False), markers = True);"
   ]
  },
  {
   "cell_type": "markdown",
   "metadata": {
    "id": "LITD773h5IuX"
   },
   "source": [
    "**Let's customize the lineplot for a better visualization.**"
   ]
  },
  {
   "cell_type": "code",
   "execution_count": null,
   "metadata": {
    "id": "QU06o0KM5IuX"
   },
   "outputs": [],
   "source": [
    "plt.figure(figsize = (15,7))\n",
    "sns.lineplot(data = flights , x = 'month' , y = 'passengers', hue = 'year')\n",
    "plt.ylabel('Number of Passengers')\n",
    "plt.legend(bbox_to_anchor=[1, 1]); #another way to change the legend's location in the plot"
   ]
  },
  {
   "cell_type": "markdown",
   "metadata": {
    "id": "CHjHKurcxv5K"
   },
   "source": [
    "- Note that, unlike barplots and histograms, line plots may not include a zero baseline.\n",
    "- We create a line chart is to emphasize changes in value, rather than the magnitude of the values themselves, and hence, a zero line is not meaningful."
   ]
  },
  {
   "cell_type": "markdown",
   "metadata": {
    "id": "2I1yAy1n5IuX",
    "jp-MarkdownHeadingCollapsed": true
   },
   "source": [
    "## Scatterplot\n",
    "\n",
    "Sometimes we want to know if two variables mean something when put together, whether a small change in one variable affects the other variable. In such cases, plotting a **scatterplot**, or **scatter-diagram**, with our data points can help us to check whether there is a potential relationship between them."
   ]
  },
  {
   "cell_type": "markdown",
   "metadata": {
    "id": "cwreKVcrzwpH"
   },
   "source": [
    "- A **scatterplot** is the simplest mode of a diagrammatic representation of two variables.\n",
    "- It takes two perpendicular axes of coordinates, one for x and one for y.\n",
    "- Unlike the lineplot, it directly plots each pair of values as a point on the 2D space.\n",
    "- The *scatterplot()* function of seaborn can be used to make a scatterplot."
   ]
  },
  {
   "cell_type": "code",
   "execution_count": null,
   "metadata": {
    "id": "Q7Y25sHm5IuX"
   },
   "outputs": [],
   "source": [
    "sns.scatterplot(data=df, x='engine_size', y='horsepower');"
   ]
  },
  {
   "cell_type": "markdown",
   "metadata": {
    "id": "Y4BpkiMy5IuX"
   },
   "source": [
    "**We can also check the relationship between two variables for different categories by specifying the *hue* parameter.**"
   ]
  },
  {
   "cell_type": "code",
   "execution_count": null,
   "metadata": {
    "id": "A--g5LGm5IuX"
   },
   "outputs": [],
   "source": [
    "sns.scatterplot(data=df, x='engine_size', y='horsepower', hue='fuel_type');"
   ]
  },
  {
   "cell_type": "markdown",
   "metadata": {
    "id": "nt4Ou1mPKBqq"
   },
   "source": [
    "**We can assign the same variable as *hue* to another parameter *style* which will vary the markers and create a more readable plot.**"
   ]
  },
  {
   "cell_type": "code",
   "execution_count": null,
   "metadata": {
    "id": "6nAcr_rQKQN9"
   },
   "outputs": [],
   "source": [
    "sns.scatterplot(data=df, x='engine_size', y='horsepower', hue='fuel_type', style='fuel_type');"
   ]
  },
  {
   "cell_type": "markdown",
   "metadata": {
    "id": "qUGTRzhO5IuX"
   },
   "source": [
    "**Correlation**\n",
    "\n",
    "Correlation means association. More precisely, it expresses the extent to which two variables change together at a constant rate.\n",
    "\n",
    "- In a scatter plot when the y variable tends to increase as the x variable increases, we say there is a **positive correlation** between the variables.\n",
    "- Again, when the y variable tends to decrease as the x variable increases, we say there is a **negative correlation** between the variables.\n",
    "- If the points on the scatter plot seem to be scattered randomly, we say that there is **no correlation** between the variables.\n",
    "\n",
    "**Let's check out the relationship between a few more variables using scatter plots.**"
   ]
  },
  {
   "cell_type": "code",
   "execution_count": null,
   "metadata": {
    "id": "hmi7wg7I5IuY"
   },
   "outputs": [],
   "source": [
    "sns.scatterplot(data=df, x='curb_weight', y='engine_size');"
   ]
  },
  {
   "cell_type": "markdown",
   "metadata": {
    "id": "rLjFCIXTJILW"
   },
   "source": [
    "From the above plot, we can say that these variables are *positively correlated.*"
   ]
  },
  {
   "cell_type": "code",
   "execution_count": null,
   "metadata": {
    "id": "uteVal3Q5IuY"
   },
   "outputs": [],
   "source": [
    "sns.scatterplot(data=df, x='bore', y='stroke');"
   ]
  },
  {
   "cell_type": "markdown",
   "metadata": {
    "id": "MGaL-lfpJbnC"
   },
   "source": [
    "- From the above plot, it is clear that the variables have no correlation.\n",
    "\n",
    "**Note:**\n",
    "1. A strong correlation will have data points close together, while a weak correlation will have data points that are further apart.\n",
    "2. We can not measure the relationship quantitatively using a scatter plot. It just gives an expression for the relative change between the variables."
   ]
  },
  {
   "cell_type": "markdown",
   "metadata": {
    "id": "rQrkio9KkNB6"
   },
   "source": [
    "We can see from the scatterplot of `engine_size` vs `horsepower` that there is a positive correlation between the two variables. Now, we want to measure the relationship between these two variables quantitatively and try to predict the '**horsepower**' based on '**engine size**'. This can be easily done by fitting a linear model. Here comes the seaborn ***lmplot()*** function to help us with that."
   ]
  },
  {
   "cell_type": "markdown",
   "metadata": {
    "id": "3rcx8yyM5IuY",
    "jp-MarkdownHeadingCollapsed": true
   },
   "source": [
    "## lmplot\n",
    "\n",
    "- The *lmplot()* function plots a scatterplot and also fit a linear model with a confidence interval for the fitted model."
   ]
  },
  {
   "cell_type": "code",
   "execution_count": null,
   "metadata": {
    "id": "G9YVMZBU5IuY"
   },
   "outputs": [],
   "source": [
    "sns.lmplot(data=df, x='curb_weight', y='horsepower');"
   ]
  },
  {
   "cell_type": "markdown",
   "metadata": {
    "id": "CNf18zOA5IuY"
   },
   "source": [
    "**We can also check the relationship between two variables for different categories by specifying the *hue* parameter.**"
   ]
  },
  {
   "cell_type": "code",
   "execution_count": null,
   "metadata": {
    "id": "pJJB8Gh35IuY"
   },
   "outputs": [],
   "source": [
    "sns.lmplot(data=df, x='curb_weight', y='horsepower', hue='fuel_type',ci=False);"
   ]
  },
  {
   "cell_type": "markdown",
   "metadata": {
    "id": "A8fsEnG85IuY"
   },
   "source": [
    "**We can also disable the 95% confidence interval and just keep the regression model fit by setting the *ci* parameter to *False*.**"
   ]
  },
  {
   "cell_type": "code",
   "execution_count": null,
   "metadata": {
    "id": "a5aD2wjl5IuY"
   },
   "outputs": [],
   "source": [
    "sns.lmplot(data=df, x='curb_weight', y='horsepower', ci=False);"
   ]
  },
  {
   "cell_type": "markdown",
   "metadata": {
    "id": "SnVjQ4Yu5IuY"
   },
   "source": [
    "**We can also plot the levels of the third variable across different plots.**"
   ]
  },
  {
   "cell_type": "code",
   "execution_count": null,
   "metadata": {
    "id": "f5o7WKp85IuY"
   },
   "outputs": [],
   "source": [
    "sns.lmplot(data=df, x='curb_weight', y='horsepower', col='fuel_type');"
   ]
  },
  {
   "cell_type": "markdown",
   "metadata": {
    "id": "qlSP-V945IuY"
   },
   "source": [
    "**Let's check out the relationship between a few more variables using *lmplot()*.**"
   ]
  },
  {
   "cell_type": "code",
   "execution_count": null,
   "metadata": {
    "id": "hSVOgvhj5IuY"
   },
   "outputs": [],
   "source": [
    "sns.lmplot(data=df, x='curb_weight', y='engine_size', col='number_of_doors', ci=False)"
   ]
  },
  {
   "cell_type": "code",
   "execution_count": null,
   "metadata": {
    "id": "Xs0GAgSO5IuZ"
   },
   "outputs": [],
   "source": [
    "sns.lmplot(data=df, x='horsepower', y='price', ci=False);"
   ]
  },
  {
   "cell_type": "markdown",
   "metadata": {
    "id": "gj01MSxVtzzz"
   },
   "source": [
    "We have seen that histograms help us understand the distribution of individual variables and scatterplots help us identify the relationship between two variables. While we can view and analyze these plots separately, having them together in a single visualization would allow us to capture a lot more information in a concise manner. That's where a **jointplot** comes to our aid."
   ]
  },
  {
   "cell_type": "markdown",
   "metadata": {
    "id": "JjWlKXnTJGr9",
    "jp-MarkdownHeadingCollapsed": true
   },
   "source": [
    "## Joint plot\n",
    "\n",
    "* A jointplot helps to quickly visualize the bivariate and univariate profiles on the same plot.\n",
    "* It comprises three plots - one displays the relationship between two variables while the other two show the individual distribution of each variable in the margins.\n",
    "* The *jointplot()* function of seaborn can be used to create a jointplot."
   ]
  },
  {
   "cell_type": "code",
   "execution_count": null,
   "metadata": {
    "id": "q1qFBMH_J2u4"
   },
   "outputs": [],
   "source": [
    "sns.jointplot(data=df, x='engine_size', y='horsepower');"
   ]
  },
  {
   "cell_type": "markdown",
   "metadata": {
    "id": "2KFtsOhTeYn3"
   },
   "source": [
    "- By default, *jointplot()* creates a scatter plot to show the relationship between two variables and individual histograms are created in x and y axis margins for each of the variables."
   ]
  },
  {
   "cell_type": "markdown",
   "metadata": {
    "id": "BR_sgdskwoyd"
   },
   "source": [
    "One of the drawbacks of **scatterplots** is the overlapping of points. When we have large volumes of data to plot, the data points in the plot overlap with each other, making it difficult to interpret the data.\n",
    "\n",
    "In such cases, we can *divide the entire plot into bins using different shapes (square, triangle, hexagon, etc.)* and then try to see the number of data points falling within each of the bins.\n",
    "\n",
    "seaborn's *jointplot()* provides a '**hex**' kind to plot the data in above-mentioned way."
   ]
  },
  {
   "cell_type": "markdown",
   "metadata": {
    "id": "17yDXHd5eYn4"
   },
   "source": [
    "**We can create a hexbin plot by setting *kind=\"hex\"*.**\n",
    "\n",
    "- It actually splits the plotting window into several hexagons and the colour of each hexagon denotes the number of data points in it."
   ]
  },
  {
   "cell_type": "code",
   "execution_count": null,
   "metadata": {
    "id": "J1Bz3wuFeYn4"
   },
   "outputs": [],
   "source": [
    "sns.jointplot(data=df, x='engine_size', y='horsepower', kind=\"hex\");\n",
    "plt.colorbar(); # adds a separate axis indicating the color scale in this plot"
   ]
  },
  {
   "cell_type": "markdown",
   "metadata": {
    "id": "jZkVXs6TuQA8"
   },
   "source": [
    "**We can also create a kde plot by setting *kind=\"kde\"*.**.\n",
    "\n",
    "- A KDE jointplot also uses color to determine where observations are the most dense.\n",
    "- It creates a continuous plot using probabilities of new data should be introduced."
   ]
  },
  {
   "cell_type": "code",
   "execution_count": null,
   "metadata": {
    "id": "NVwnM4t3u8a-"
   },
   "outputs": [],
   "source": [
    "sns.jointplot(data=df, x='engine_size', y='horsepower', kind=\"kde\", fill=True);"
   ]
  },
  {
   "cell_type": "markdown",
   "metadata": {
    "id": "pd_DFA3deYn4"
   },
   "source": [
    "**Let's check out the joint plots for a few more attributes in the data.**\n",
    "- By using **kind = \"reg\"**, we can use the joint point to find the best line or curve that fits the plot."
   ]
  },
  {
   "cell_type": "code",
   "execution_count": null,
   "metadata": {
    "id": "PWMwPK1PeYn4"
   },
   "outputs": [],
   "source": [
    "sns.jointplot(data=df, x='price', y='city_mpg', kind=\"reg\");"
   ]
  },
  {
   "cell_type": "markdown",
   "metadata": {
    "id": "WyEI358GeYn5",
    "jp-MarkdownHeadingCollapsed": true
   },
   "source": [
    "## Violin Plot\n",
    "\n",
    "* A **violin plot** allows us to visualize the distribution of a numeric variable for several groups.\n",
    "* It is similar to **boxplot** but with a rotated plot on each side, giving more information about the density estimate on the y-axis.\n",
    "* The *violinplot()* function of seaborn can be used to make a violin plot."
   ]
  },
  {
   "cell_type": "code",
   "execution_count": null,
   "metadata": {
    "id": "Eb8i04_teYn5"
   },
   "outputs": [],
   "source": [
    "sns.violinplot(data=df, x='horsepower');"
   ]
  },
  {
   "cell_type": "markdown",
   "metadata": {
    "id": "5BnaH-umeYn5"
   },
   "source": [
    "- The white dot in the plot represents the **median**.\n",
    "- The thick gray bar in the center represents the **interquartile range**.\n",
    "- The wider section of the violin plot represents a higher probability and the skinnier sections represent a lower probability for the given value."
   ]
  },
  {
   "cell_type": "markdown",
   "metadata": {
    "id": "TuLaxfKseYn5"
   },
   "source": [
    "**We can get a vertical plot by setting *orient* parameter to *'v'* and assigning a numeric variable to the y-axis.**"
   ]
  },
  {
   "cell_type": "code",
   "execution_count": null,
   "metadata": {
    "id": "gOn27pNIeYn6"
   },
   "outputs": [],
   "source": [
    "sns.violinplot(data=df, x='fuel_type', y='horsepower', orient='v');"
   ]
  },
  {
   "cell_type": "markdown",
   "metadata": {
    "id": "_-Ve6XzNeYn6"
   },
   "source": [
    "**Let's check out the violinplots for a few more attributes in the data.**"
   ]
  },
  {
   "cell_type": "code",
   "execution_count": null,
   "metadata": {
    "id": "WtDzN7zeeYn6"
   },
   "outputs": [],
   "source": [
    "sns.violinplot(data=df, x='engine_size', y='fuel_type');"
   ]
  },
  {
   "cell_type": "markdown",
   "metadata": {
    "id": "VXHeG4ONeYn6"
   },
   "source": [
    "**We can use the *palette* parameter to change the colour palette.**\n",
    "\n",
    "- seaborn has six variations of it - deep, muted, pastel, bright, dark, colorblind."
   ]
  },
  {
   "cell_type": "code",
   "execution_count": null,
   "metadata": {
    "id": "_liFDJGteYn8"
   },
   "outputs": [],
   "source": [
    "sns.violinplot(data=df, hue='body_style', y='engine_size', palette=\"bright\", legend = False);"
   ]
  },
  {
   "cell_type": "code",
   "execution_count": null,
   "metadata": {
    "id": "_wPymXZReYn8"
   },
   "outputs": [],
   "source": [
    "sns.violinplot(data=df, hue='engine_location', y='price', palette=\"colorblind\", legend = False);"
   ]
  },
  {
   "cell_type": "markdown",
   "metadata": {
    "id": "CTJu7b038AK1"
   },
   "source": [
    "Histograms and other distribution plots are typically preferred for larger data sets. When we have a small dataset and we want to visualize the frequency distribution, a **strip plot** can be used."
   ]
  },
  {
   "cell_type": "markdown",
   "metadata": {
    "id": "PkrTT17beYn8",
    "jp-MarkdownHeadingCollapsed": true
   },
   "source": [
    "## Strip Plot\n",
    "\n",
    "* A strip plot is basically a scatter plot that differentiates different categories.\n",
    "* The *stripplot()* function of seaborn can be used to make a strip plot."
   ]
  },
  {
   "cell_type": "code",
   "execution_count": null,
   "metadata": {
    "id": "STKc6cO785Pn"
   },
   "outputs": [],
   "source": [
    "sns.stripplot(data=df, x='engine_size');"
   ]
  },
  {
   "cell_type": "markdown",
   "metadata": {
    "id": "MqB31jjI-fhf"
   },
   "source": [
    "Strip plots are considered a good alternative to a box plot or a violin plot for comparing data distributions when we have fewer data points."
   ]
  },
  {
   "cell_type": "code",
   "execution_count": null,
   "metadata": {
    "id": "4xvVm2xneYn9"
   },
   "outputs": [],
   "source": [
    "plt.figure(figsize=(15,7))\n",
    "sns.stripplot(data=df, x='body_style', y='engine_size');"
   ]
  },
  {
   "cell_type": "markdown",
   "metadata": {
    "id": "To6mbpuweYn9"
   },
   "source": [
    "**Strip plots are more useful when we add random noise called \"jitter\" to avoid overlapping of data points with same values.**"
   ]
  },
  {
   "cell_type": "code",
   "execution_count": null,
   "metadata": {
    "id": "I4-U5XxVeYn9"
   },
   "outputs": [],
   "source": [
    "plt.figure(figsize=(20,7))\n",
    "sns.stripplot(data=df, x='body_style', y='engine_size', jitter=True);"
   ]
  },
  {
   "cell_type": "markdown",
   "metadata": {
    "id": "0aSgB8EVeYn9"
   },
   "source": [
    "**We can set the *hue* parameter to display observations for subgroups.**"
   ]
  },
  {
   "cell_type": "code",
   "execution_count": null,
   "metadata": {
    "id": "9YEXLrHveYn9"
   },
   "outputs": [],
   "source": [
    "plt.figure(figsize=(10,7))\n",
    "sns.stripplot(data=df, x='fuel_type', y='engine_size', hue=\"number_of_doors\", jitter=True);"
   ]
  },
  {
   "cell_type": "markdown",
   "metadata": {
    "id": "Oz_fkYA8eYn9"
   },
   "source": [
    "**Let's check out the strip plots for a few more attributes in the data.**"
   ]
  },
  {
   "cell_type": "code",
   "execution_count": null,
   "metadata": {
    "id": "Veh5lHaJeYn9"
   },
   "outputs": [],
   "source": [
    "plt.figure(figsize=(10,7))\n",
    "sns.stripplot(data=df, x='number_of_doors', y='price',jitter=True);"
   ]
  },
  {
   "cell_type": "code",
   "execution_count": null,
   "metadata": {
    "id": "Cb45rNzzeYn-"
   },
   "outputs": [],
   "source": [
    "plt.figure(figsize=(10,7))\n",
    "sns.stripplot(data=df, x='number_of_doors', y='horsepower', jitter=True);"
   ]
  },
  {
   "cell_type": "markdown",
   "metadata": {
    "id": "YtaZxsyCeYn-"
   },
   "source": [
    "In a strip plot, dots are randomly arranged in vertical direction, which means we can not use the width to estimate distribution. This can be easily done by **swarm plots**."
   ]
  },
  {
   "cell_type": "markdown",
   "metadata": {
    "id": "tdiUa4JHeYn-",
    "jp-MarkdownHeadingCollapsed": true
   },
   "source": [
    "## Swarm Plot\n",
    "\n",
    "* A **swarm plot** is very similar to the strip plot, but it avoids the overlapping of points.\n",
    "* The *swarmplot( )* function of seaborn can be used to create such a graph for categorical values."
   ]
  },
  {
   "cell_type": "code",
   "execution_count": null,
   "metadata": {
    "id": "dW9npMceeYn-"
   },
   "outputs": [],
   "source": [
    "sns.swarmplot(data=df, x='number_of_doors', y='price');"
   ]
  },
  {
   "cell_type": "markdown",
   "metadata": {
    "id": "HED4pVrXeYn-"
   },
   "source": [
    "- In a swarm plot, dots are arranged in vertical columns.\n",
    "- So, we can estimate the distribution of our data by looking at the width of the plot."
   ]
  },
  {
   "cell_type": "markdown",
   "metadata": {
    "id": "cA1IIpOTeYn-"
   },
   "source": [
    "**We can add the *hue* parameter to *swarmplot()* and separate the categories.**"
   ]
  },
  {
   "cell_type": "code",
   "execution_count": null,
   "metadata": {
    "id": "oJcc1KB5eYn-"
   },
   "outputs": [],
   "source": [
    "sns.swarmplot(data=df, x='fuel_type', y='price', hue='number_of_doors');"
   ]
  },
  {
   "cell_type": "markdown",
   "metadata": {
    "id": "NR-3LzPgeYn-"
   },
   "source": [
    "**We can split the two products setting the *dodge* argument to *True*.**"
   ]
  },
  {
   "cell_type": "code",
   "execution_count": null,
   "metadata": {
    "id": "izw1gwC7eYn-"
   },
   "outputs": [],
   "source": [
    "sns.swarmplot(data=df, x='fuel_type', y='price', hue='number_of_doors', dodge=True);"
   ]
  },
  {
   "cell_type": "markdown",
   "metadata": {
    "id": "UBxgsBmQeYn-",
    "jp-MarkdownHeadingCollapsed": true
   },
   "source": [
    "## Catplot\n",
    "\n",
    "* The *catplot()* function provides a new framework giving access to several types of plots that show relationship between numerical variable and one or more categorical variables.\n",
    "* Catplots supports 8 different plots including *stripplot()*, *swarmplot()*, *boxplot()* and more, with the default kind being 'strip'."
   ]
  },
  {
   "cell_type": "code",
   "execution_count": null,
   "metadata": {
    "id": "oJYSXs2oeYn_"
   },
   "outputs": [],
   "source": [
    "sns.catplot(data=df, x='fuel_type', y='horsepower');"
   ]
  },
  {
   "cell_type": "markdown",
   "metadata": {
    "id": "bm9T28uieYn_"
   },
   "source": [
    "**We can set *kind='point'* to create a pointplot using the *catplot()* function.**\n",
    "\n",
    "- A pointplot helps us to see how the main relationship is changing as a function of the second variable."
   ]
  },
  {
   "cell_type": "code",
   "execution_count": null,
   "metadata": {
    "id": "PBBJM3wqeYn_"
   },
   "outputs": [],
   "source": [
    "sns.catplot(data=df, x='body_style', y='horsepower', hue='fuel_type', kind='point');"
   ]
  },
  {
   "cell_type": "markdown",
   "metadata": {
    "id": "9-gsxIXLeYn_"
   },
   "source": [
    "**Catplot is very useful to draw categorical plots onto a FacetGrid by assigning a third variable to the *col* parameter.**"
   ]
  },
  {
   "cell_type": "code",
   "execution_count": null,
   "metadata": {
    "id": "ChpMUcuxeYn_"
   },
   "outputs": [],
   "source": [
    "sns.catplot(data=df, x=\"fuel_type\", y=\"horsepower\", hue=\"number_of_doors\", col=\"drive_wheels\", kind='bar', palette='pastel');"
   ]
  },
  {
   "cell_type": "markdown",
   "metadata": {
    "id": "KOGMFhMheYn_"
   },
   "source": [
    "**Let's check out the *catplot()* function for a few more attributes in the data.**"
   ]
  },
  {
   "cell_type": "code",
   "execution_count": null,
   "metadata": {
    "id": "HRX0eooMeYoA"
   },
   "outputs": [],
   "source": [
    "sns.catplot(data=df, x=\"fuel_type\", y=\"engine_size\", hue=\"body_style\", col=\"number_of_doors\", kind='box', palette='bright');"
   ]
  },
  {
   "cell_type": "code",
   "execution_count": null,
   "metadata": {
    "id": "4nWsUDnTeYoA"
   },
   "outputs": [],
   "source": [
    "sns.catplot(data=df, x=\"number_of_doors\", y=\"price\", hue=\"body_style\", col=\"fuel_type\", kind='swarm', palette='muted');"
   ]
  },
  {
   "cell_type": "markdown",
   "metadata": {
    "id": "T-nlv5e4eYoA",
    "jp-MarkdownHeadingCollapsed": true
   },
   "source": [
    "## Pair Plot\n",
    "\n",
    "* A **pairplot** shows the relationship between two numeric variables for each pair of columns in the dataset.\n",
    "* It creates a grid of axes such that each variable in data will be shared in the y-axis across a single row and in the x-axis across a single column.\n",
    "* The *pairplot()* function of seaborn can be used to create such a plot."
   ]
  },
  {
   "cell_type": "code",
   "execution_count": null,
   "metadata": {
    "id": "buECcXugeYoA"
   },
   "outputs": [],
   "source": [
    "sns.pairplot(data=df[['normalized_losses','wheel_base','curb_weight','engine_size','price','peak_rpm']])"
   ]
  },
  {
   "cell_type": "markdown",
   "metadata": {
    "id": "fvE6niNjeYoA"
   },
   "source": [
    "**We can add the *hue* parameter in pairplot to create a semantic mapping.**\n",
    "\n",
    "- It changes the default marginal plot to a layered kde plot.\n",
    "\n",
    "**Also, we can add *vars* parameter to assign a list of variables from the dataset for which we want to create the pairplot.**"
   ]
  },
  {
   "cell_type": "code",
   "execution_count": null,
   "metadata": {
    "id": "I1lkcQQoeYoA"
   },
   "outputs": [],
   "source": [
    "sns.pairplot(data=df, vars=['wheel_base', 'curb_weight', 'engine_size', 'price'], hue='number_of_doors');"
   ]
  },
  {
   "cell_type": "markdown",
   "metadata": {
    "id": "Dg3A6Di4eYoA"
   },
   "source": [
    "**We can set *corner=True* to plot only the lower triangle of a pairplot.**"
   ]
  },
  {
   "cell_type": "code",
   "execution_count": null,
   "metadata": {
    "id": "7ilNWCEBeYoA"
   },
   "outputs": [],
   "source": [
    "sns.pairplot(data=df, vars=['wheel_base', 'curb_weight', 'engine_size', 'price'], corner=True);"
   ]
  },
  {
   "cell_type": "markdown",
   "metadata": {
    "id": "-dBmPwyZeYoA",
    "jp-MarkdownHeadingCollapsed": true
   },
   "source": [
    "## Heatmap\n",
    "\n",
    "* A **heatmap** is a graphical representation of data as a color-encoded matrix.\n",
    "* It is a great way of representing  the correlation for each pair of columns in the data.\n",
    "* The *heatmap()* function of seaborn helps us to create such a plot."
   ]
  },
  {
   "cell_type": "code",
   "execution_count": null,
   "metadata": {
    "id": "wqr2KKEjeYoB"
   },
   "outputs": [],
   "source": [
    "sns.heatmap(data=df[['wheel_base','curb_weight','engine_size','price']].corr());"
   ]
  },
  {
   "cell_type": "markdown",
   "metadata": {
    "id": "IAjsxnq-eYoB"
   },
   "source": [
    "**We can set the *annot* parameter to *True* for displaying the numeric value in each cell.**\n",
    "\n",
    "- To remove the color bar, the *cbar* parameter can be set to *False*."
   ]
  },
  {
   "cell_type": "code",
   "execution_count": null,
   "metadata": {
    "id": "weuD2UBeeYoB"
   },
   "outputs": [],
   "source": [
    "sns.heatmap(data=df[['wheel_base','curb_weight','engine_size','price']].corr(), annot=True, cbar=False);"
   ]
  },
  {
   "cell_type": "markdown",
   "metadata": {
    "id": "LkBbtwdKeYoB"
   },
   "source": [
    "**We can apply a different colormap with the *cmap* parameter for better visual appeal.**"
   ]
  },
  {
   "cell_type": "code",
   "execution_count": null,
   "metadata": {
    "id": "zx-CQ-OheYoB"
   },
   "outputs": [],
   "source": [
    "sns.heatmap(data=df[['wheel_base','curb_weight','engine_size','price']].corr(), annot=True, cmap='YlGnBu');"
   ]
  },
  {
   "cell_type": "markdown",
   "metadata": {
    "id": "0J8SBLp0eYoB",
    "jp-MarkdownHeadingCollapsed": true
   },
   "source": [
    "## Plotly\n",
    "\n",
    "- **Plotly** is an open-source Python graphing library for building beautiful and interactive visualizations."
   ]
  },
  {
   "cell_type": "code",
   "execution_count": null,
   "metadata": {
    "id": "NIQHWyb-75he"
   },
   "outputs": [],
   "source": [
    "# let's start by installing plotly\n",
    "#!pip install plotly"
   ]
  },
  {
   "cell_type": "code",
   "execution_count": null,
   "metadata": {
    "id": "D9Dizr8teYoB"
   },
   "outputs": [],
   "source": [
    "# importing plotly\n",
    "import plotly.express as px"
   ]
  },
  {
   "cell_type": "markdown",
   "metadata": {
    "id": "sw3mphuneYoB"
   },
   "source": [
    "### Histogram"
   ]
  },
  {
   "cell_type": "code",
   "execution_count": null,
   "metadata": {
    "id": "txhySVjCeYoB"
   },
   "outputs": [],
   "source": [
    "his = px.histogram(df, x=\"price\")\n",
    "his.show()"
   ]
  },
  {
   "cell_type": "markdown",
   "metadata": {
    "id": "IlCahLQxeYoB"
   },
   "source": [
    "### Bar Plot"
   ]
  },
  {
   "cell_type": "code",
   "execution_count": null,
   "metadata": {
    "collapsed": true,
    "id": "uOgSYmUqeYoB",
    "jupyter": {
     "outputs_hidden": true
    }
   },
   "outputs": [],
   "source": [
    "bar = px.bar(df, x='peak_rpm', y='horsepower')\n",
    "bar.show()"
   ]
  },
  {
   "cell_type": "markdown",
   "metadata": {
    "id": "UhC25KmOeYoC"
   },
   "source": [
    "### Scatter Plot"
   ]
  },
  {
   "cell_type": "code",
   "execution_count": null,
   "metadata": {
    "id": "wWE4FkNKeYoC"
   },
   "outputs": [],
   "source": [
    "scat = px.scatter(df, x='price', y='engine_size')\n",
    "scat.show()"
   ]
  },
  {
   "cell_type": "markdown",
   "metadata": {
    "id": "c1aNBulPeYoC"
   },
   "source": [
    "### Boxplot with underlying data"
   ]
  },
  {
   "cell_type": "code",
   "execution_count": null,
   "metadata": {
    "id": "E2krft5deYoC"
   },
   "outputs": [],
   "source": [
    "fig = px.box(df, x=\"fuel_type\", y=\"horsepower\", points=\"all\")\n",
    "fig.show()"
   ]
  },
  {
   "cell_type": "markdown",
   "metadata": {
    "id": "JZpdvqaMeYoC"
   },
   "source": [
    "### 3D Scatter Plot"
   ]
  },
  {
   "cell_type": "code",
   "execution_count": null,
   "metadata": {
    "id": "n_Bi3pXKeYoC"
   },
   "outputs": [],
   "source": [
    "fig_3d = px.scatter_3d(df, x='fuel_type', y='horsepower', z='price', color='horsepower')\n",
    "fig_3d.show()"
   ]
  },
  {
   "cell_type": "code",
   "execution_count": null,
   "metadata": {
    "id": "gHik6nWM75hg"
   },
   "outputs": [],
   "source": [
    "# to save the output to an HTML file\n",
    "fig_3d.write_html(\"scatter_3d.html\")"
   ]
  },
  {
   "cell_type": "markdown",
   "metadata": {
    "id": "u1JDHv5HGHlk"
   },
   "source": [
    "***"
   ]
  },
  {
   "cell_type": "markdown",
   "metadata": {
    "id": "vabRDMbAU5Wi",
    "jp-MarkdownHeadingCollapsed": true
   },
   "source": [
    "## Customizing plots\n",
    "\n",
    "- In this section we will see how we can customize  plots by using different matplotlib and seaborn functions."
   ]
  },
  {
   "cell_type": "markdown",
   "metadata": {
    "id": "PWBp8W5rZ__D"
   },
   "source": [
    "To change the axis scales of a plot:\n",
    "\n",
    "```\n",
    "    plt.xlim(left, right)   # here left and right indicates the min and the max limits of  x-axis respectively\n",
    "    plt.ylim(bottom, top)   # here bottom and top indicates the min and the max limits of  y-axis respectively\n",
    "```"
   ]
  },
  {
   "cell_type": "markdown",
   "metadata": {
    "id": "xC7OYOonbtKj"
   },
   "source": [
    "To change the plot title and axis labels:\n",
    "\n",
    "```\n",
    "    plt.title()\n",
    "    plt.xlabel()   # for x_axis labels\n",
    "    plt.ylabel()   # for y_axis labels\n",
    "```"
   ]
  },
  {
   "cell_type": "markdown",
   "metadata": {
    "id": "uQdwXg3C75hT"
   },
   "source": [
    "To show the grid lines of a plot:\n",
    "\n",
    "```\n",
    "    sns.set(style=\"darkgrid\")\n",
    "    sns.set(style=\"whitegrid\")\n",
    "    sns.set(style=\"white\")\n",
    "```"
   ]
  },
  {
   "cell_type": "markdown",
   "metadata": {
    "id": "8YBShOtQdDkA"
   },
   "source": [
    "To hide the axes of a plot:\n",
    "\n",
    "```\n",
    "    plt.axis('off')   # it will hide both the x-axis and y-axis\n",
    "```"
   ]
  },
  {
   "cell_type": "markdown",
   "metadata": {
    "id": "3jD1WhQajLLa"
   },
   "source": [
    "To customize labels of the plot legend:\n",
    "\n",
    "```\n",
    "    ax.legend([])   # takes list of the legend values\n",
    "```"
   ]
  },
  {
   "cell_type": "markdown",
   "metadata": {
    "id": "Gaa2M7Ie75hT"
   },
   "source": [
    "To change the position of the plot legend:\n",
    "\n",
    "```\n",
    "    plt.legend(loc=___)\n",
    "```\n",
    "\n",
    "The following values can be added to *loc* to change the location of the legend:\n",
    "- 'upper left', 'upper right', 'lower left', 'lower right', 'center', 'best', [etc.](https://matplotlib.org/stable/api/_as_gen/matplotlib.pyplot.legend.html)"
   ]
  },
  {
   "cell_type": "markdown",
   "metadata": {
    "id": "jgaO84kgAS7B"
   },
   "source": [
    "***"
   ]
  }
 ],
 "metadata": {
  "colab": {
   "provenance": []
  },
  "kernelspec": {
   "display_name": "Python 3 (ipykernel)",
   "language": "python",
   "name": "python3"
  },
  "language_info": {
   "codemirror_mode": {
    "name": "ipython",
    "version": 3
   },
   "file_extension": ".py",
   "mimetype": "text/x-python",
   "name": "python",
   "nbconvert_exporter": "python",
   "pygments_lexer": "ipython3",
   "version": "3.12.4"
  }
 },
 "nbformat": 4,
 "nbformat_minor": 4
}
