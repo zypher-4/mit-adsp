{
 "cells": [
  {
   "cell_type": "code",
   "execution_count": 1,
   "id": "2847a55f-308e-48a0-a675-dbaa35f55456",
   "metadata": {},
   "outputs": [],
   "source": [
    "import pandas as pd\n",
    "import numpy as np\n",
    "\n",
    "import matplotlib.pyplot as plt\n",
    "import seaborn as sns\n",
    "%matplotlib inline"
   ]
  },
  {
   "cell_type": "code",
   "execution_count": 2,
   "id": "c1198cdd-6a40-480a-a8b6-a1f60e4ebcdc",
   "metadata": {},
   "outputs": [
    {
     "data": {
      "text/html": [
       "<div>\n",
       "<style scoped>\n",
       "    .dataframe tbody tr th:only-of-type {\n",
       "        vertical-align: middle;\n",
       "    }\n",
       "\n",
       "    .dataframe tbody tr th {\n",
       "        vertical-align: top;\n",
       "    }\n",
       "\n",
       "    .dataframe thead th {\n",
       "        text-align: right;\n",
       "    }\n",
       "</style>\n",
       "<table border=\"1\" class=\"dataframe\">\n",
       "  <thead>\n",
       "    <tr style=\"text-align: right;\">\n",
       "      <th></th>\n",
       "      <th>Scorecard</th>\n",
       "      <th>Team 1</th>\n",
       "      <th>Team 2</th>\n",
       "      <th>Winner</th>\n",
       "      <th>Margin</th>\n",
       "      <th>Ground</th>\n",
       "      <th>Match Date</th>\n",
       "    </tr>\n",
       "  </thead>\n",
       "  <tbody>\n",
       "    <tr>\n",
       "      <th>0</th>\n",
       "      <td>ODI # 1</td>\n",
       "      <td>Australia</td>\n",
       "      <td>England</td>\n",
       "      <td>Australia</td>\n",
       "      <td>5 wickets</td>\n",
       "      <td>Melbourne</td>\n",
       "      <td>Jan 5, 1971</td>\n",
       "    </tr>\n",
       "    <tr>\n",
       "      <th>1</th>\n",
       "      <td>ODI # 2</td>\n",
       "      <td>England</td>\n",
       "      <td>Australia</td>\n",
       "      <td>England</td>\n",
       "      <td>6 wickets</td>\n",
       "      <td>Manchester</td>\n",
       "      <td>Aug 24, 1972</td>\n",
       "    </tr>\n",
       "    <tr>\n",
       "      <th>2</th>\n",
       "      <td>ODI # 3</td>\n",
       "      <td>England</td>\n",
       "      <td>Australia</td>\n",
       "      <td>Australia</td>\n",
       "      <td>5 wickets</td>\n",
       "      <td>Lord's</td>\n",
       "      <td>Aug 26, 1972</td>\n",
       "    </tr>\n",
       "    <tr>\n",
       "      <th>3</th>\n",
       "      <td>ODI # 4</td>\n",
       "      <td>England</td>\n",
       "      <td>Australia</td>\n",
       "      <td>England</td>\n",
       "      <td>2 wickets</td>\n",
       "      <td>Birmingham</td>\n",
       "      <td>Aug 28, 1972</td>\n",
       "    </tr>\n",
       "    <tr>\n",
       "      <th>4</th>\n",
       "      <td>ODI # 5</td>\n",
       "      <td>New Zealand</td>\n",
       "      <td>Pakistan</td>\n",
       "      <td>New Zealand</td>\n",
       "      <td>22 runs</td>\n",
       "      <td>Christchurch</td>\n",
       "      <td>Feb 11, 1973</td>\n",
       "    </tr>\n",
       "    <tr>\n",
       "      <th>...</th>\n",
       "      <td>...</td>\n",
       "      <td>...</td>\n",
       "      <td>...</td>\n",
       "      <td>...</td>\n",
       "      <td>...</td>\n",
       "      <td>...</td>\n",
       "      <td>...</td>\n",
       "    </tr>\n",
       "    <tr>\n",
       "      <th>3927</th>\n",
       "      <td>ODI # 3928</td>\n",
       "      <td>India</td>\n",
       "      <td>New Zealand</td>\n",
       "      <td>New Zealand</td>\n",
       "      <td>6 wickets</td>\n",
       "      <td>Mumbai</td>\n",
       "      <td>Oct 22, 2017</td>\n",
       "    </tr>\n",
       "    <tr>\n",
       "      <th>3928</th>\n",
       "      <td>ODI # 3929</td>\n",
       "      <td>South Africa</td>\n",
       "      <td>Bangladesh</td>\n",
       "      <td>South Africa</td>\n",
       "      <td>200 runs</td>\n",
       "      <td>East London</td>\n",
       "      <td>Oct 22, 2017</td>\n",
       "    </tr>\n",
       "    <tr>\n",
       "      <th>3929</th>\n",
       "      <td>ODI # 3930</td>\n",
       "      <td>Pakistan</td>\n",
       "      <td>Sri Lanka</td>\n",
       "      <td>Pakistan</td>\n",
       "      <td>9 wickets</td>\n",
       "      <td>Sharjah</td>\n",
       "      <td>Oct 23, 2017</td>\n",
       "    </tr>\n",
       "    <tr>\n",
       "      <th>3930</th>\n",
       "      <td>ODI # 3931</td>\n",
       "      <td>India</td>\n",
       "      <td>New Zealand</td>\n",
       "      <td>India</td>\n",
       "      <td>6 wickets</td>\n",
       "      <td>Pune</td>\n",
       "      <td>Oct 25, 2017</td>\n",
       "    </tr>\n",
       "    <tr>\n",
       "      <th>3931</th>\n",
       "      <td>ODI # 3932</td>\n",
       "      <td>India</td>\n",
       "      <td>New Zealand</td>\n",
       "      <td>India</td>\n",
       "      <td>6 runs</td>\n",
       "      <td>Kanpur</td>\n",
       "      <td>Oct 29, 2017</td>\n",
       "    </tr>\n",
       "  </tbody>\n",
       "</table>\n",
       "<p>3932 rows × 7 columns</p>\n",
       "</div>"
      ],
      "text/plain": [
       "       Scorecard        Team 1       Team 2        Winner     Margin  \\\n",
       "0        ODI # 1     Australia      England     Australia  5 wickets   \n",
       "1        ODI # 2       England    Australia       England  6 wickets   \n",
       "2        ODI # 3       England    Australia     Australia  5 wickets   \n",
       "3        ODI # 4       England    Australia       England  2 wickets   \n",
       "4        ODI # 5   New Zealand     Pakistan   New Zealand    22 runs   \n",
       "...          ...           ...          ...           ...        ...   \n",
       "3927  ODI # 3928         India  New Zealand   New Zealand  6 wickets   \n",
       "3928  ODI # 3929  South Africa   Bangladesh  South Africa   200 runs   \n",
       "3929  ODI # 3930      Pakistan    Sri Lanka      Pakistan  9 wickets   \n",
       "3930  ODI # 3931         India  New Zealand         India  6 wickets   \n",
       "3931  ODI # 3932         India  New Zealand         India     6 runs   \n",
       "\n",
       "            Ground    Match Date  \n",
       "0        Melbourne   Jan 5, 1971  \n",
       "1       Manchester  Aug 24, 1972  \n",
       "2           Lord's  Aug 26, 1972  \n",
       "3       Birmingham  Aug 28, 1972  \n",
       "4     Christchurch  Feb 11, 1973  \n",
       "...            ...           ...  \n",
       "3927        Mumbai  Oct 22, 2017  \n",
       "3928   East London  Oct 22, 2017  \n",
       "3929       Sharjah  Oct 23, 2017  \n",
       "3930          Pune  Oct 25, 2017  \n",
       "3931        Kanpur  Oct 29, 2017  \n",
       "\n",
       "[3932 rows x 7 columns]"
      ]
     },
     "execution_count": 2,
     "metadata": {},
     "output_type": "execute_result"
    }
   ],
   "source": [
    "df = pd.read_csv('data/Dateset_ODI+-+Dateset_ODI.csv')\n",
    "df"
   ]
  },
  {
   "cell_type": "code",
   "execution_count": 4,
   "id": "fb63ed3c-f632-4833-9b02-5749b4558b56",
   "metadata": {},
   "outputs": [
    {
     "data": {
      "text/plain": [
       "array([  1, 100,   4,   0], dtype=int32)"
      ]
     },
     "execution_count": 4,
     "metadata": {},
     "output_type": "execute_result"
    }
   ],
   "source": [
    "a = np.array([1, 10, 2, 0])\n",
    "np.power(a, 2)"
   ]
  },
  {
   "cell_type": "code",
   "execution_count": 6,
   "id": "0a4b0a59-6ea9-45e7-87f4-d574dc41d7b9",
   "metadata": {},
   "outputs": [
    {
     "data": {
      "text/plain": [
       "'l'"
      ]
     },
     "execution_count": 6,
     "metadata": {},
     "output_type": "execute_result"
    }
   ],
   "source": [
    "a = np.array([['m', 'l'],['n', 'o']])\n",
    "a[0,1]"
   ]
  },
  {
   "cell_type": "code",
   "execution_count": 15,
   "id": "17eb86a0-ff3e-406e-a87f-a47e981758ae",
   "metadata": {},
   "outputs": [
    {
     "data": {
      "text/plain": [
       "[array([0, 1, 2, 3, 4]), array([5, 6, 7, 8, 9])]"
      ]
     },
     "execution_count": 15,
     "metadata": {},
     "output_type": "execute_result"
    }
   ],
   "source": [
    "array = np.arange(10) \n",
    "np.hsplit(array, 2)"
   ]
  },
  {
   "cell_type": "code",
   "execution_count": 16,
   "id": "635768e0-15f8-4dcc-bd47-05478318bbfb",
   "metadata": {},
   "outputs": [
    {
     "ename": "ValueError",
     "evalue": "operands could not be broadcast together with shapes (5,) (6,) ",
     "output_type": "error",
     "traceback": [
      "\u001b[1;31m---------------------------------------------------------------------------\u001b[0m",
      "\u001b[1;31mValueError\u001b[0m                                Traceback (most recent call last)",
      "Cell \u001b[1;32mIn[16], line 3\u001b[0m\n\u001b[0;32m      1\u001b[0m array1 \u001b[38;5;241m=\u001b[39m np\u001b[38;5;241m.\u001b[39marray([\u001b[38;5;241m1\u001b[39m, \u001b[38;5;241m0\u001b[39m, \u001b[38;5;241m0\u001b[39m, \u001b[38;5;241m1\u001b[39m, \u001b[38;5;241m0\u001b[39m])\n\u001b[0;32m      2\u001b[0m array2 \u001b[38;5;241m=\u001b[39m np\u001b[38;5;241m.\u001b[39marange(\u001b[38;5;241m6\u001b[39m)\n\u001b[1;32m----> 3\u001b[0m \u001b[43marray1\u001b[49m\u001b[43m \u001b[49m\u001b[38;5;241;43m+\u001b[39;49m\u001b[43m \u001b[49m\u001b[43marray2\u001b[49m\n",
      "\u001b[1;31mValueError\u001b[0m: operands could not be broadcast together with shapes (5,) (6,) "
     ]
    }
   ],
   "source": [
    "array1 = np.array([1, 0, 0, 1, 0])\n",
    "array2 = np.arange(6)\n",
    "array1 + array2"
   ]
  },
  {
   "cell_type": "code",
   "execution_count": 20,
   "id": "590f1415-e1f4-4f8f-af91-6d8cab1d35f7",
   "metadata": {},
   "outputs": [
    {
     "name": "stdout",
     "output_type": "stream",
     "text": [
      "<class 'pandas.core.frame.DataFrame'>\n",
      "RangeIndex: 3932 entries, 0 to 3931\n",
      "Data columns (total 7 columns):\n",
      " #   Column      Non-Null Count  Dtype \n",
      "---  ------      --------------  ----- \n",
      " 0   Scorecard   3932 non-null   object\n",
      " 1   Team 1      3932 non-null   object\n",
      " 2   Team 2      3932 non-null   object\n",
      " 3   Winner      3932 non-null   object\n",
      " 4   Margin      3753 non-null   object\n",
      " 5   Ground      3932 non-null   object\n",
      " 6   Match Date  3932 non-null   object\n",
      "dtypes: object(7)\n",
      "memory usage: 215.2+ KB\n"
     ]
    }
   ],
   "source": [
    "df.info()"
   ]
  },
  {
   "cell_type": "code",
   "execution_count": 23,
   "id": "f2f07d84-a603-498d-a292-f5547fc8a5f1",
   "metadata": {},
   "outputs": [
    {
     "data": {
      "text/plain": [
       "(3932, 7)"
      ]
     },
     "execution_count": 23,
     "metadata": {},
     "output_type": "execute_result"
    }
   ],
   "source": [
    "df.shape"
   ]
  },
  {
   "cell_type": "code",
   "execution_count": 32,
   "id": "6e2a279e-e25f-4d06-96db-5c5ccc053e6f",
   "metadata": {},
   "outputs": [
    {
     "data": {
      "text/plain": [
       "Scorecard            ODI # 50\n",
       "Team 1                England\n",
       "Team 2               Pakistan\n",
       "Winner                England\n",
       "Margin               132 runs\n",
       "Ground             Manchester\n",
       "Match Date    May 24-25, 1978\n",
       "Name: 49, dtype: object"
      ]
     },
     "execution_count": 32,
     "metadata": {},
     "output_type": "execute_result"
    }
   ],
   "source": [
    "df.iloc[49]"
   ]
  },
  {
   "cell_type": "code",
   "execution_count": 14,
   "id": "33856d4d-e19a-4460-9170-768b5a989cd0",
   "metadata": {},
   "outputs": [
    {
     "name": "stdout",
     "output_type": "stream",
     "text": [
      "1\n"
     ]
    }
   ],
   "source": [
    "ctr = 0\n",
    "\n",
    "for i in df['Ground']:\n",
    "    if i == 'Devonport':\n",
    "        ctr += 1\n",
    "\n",
    "print(ctr)"
   ]
  },
  {
   "cell_type": "code",
   "execution_count": 61,
   "id": "24c80cf1-63b3-47e1-8df5-d5aebe0f677f",
   "metadata": {},
   "outputs": [
    {
     "data": {
      "text/plain": [
       "Scorecard     1\n",
       "Team 1        1\n",
       "Team 2        1\n",
       "Winner        1\n",
       "Margin        1\n",
       "Ground        1\n",
       "Match Date    1\n",
       "dtype: int64"
      ]
     },
     "execution_count": 61,
     "metadata": {},
     "output_type": "execute_result"
    }
   ],
   "source": [
    "df[df['Ground']=='Devonport'].count()"
   ]
  },
  {
   "cell_type": "code",
   "execution_count": 65,
   "id": "ff59cf27-fbdb-45d3-a1c9-e0d9bf7f7f13",
   "metadata": {},
   "outputs": [
    {
     "data": {
      "text/plain": [
       "Scorecard     555\n",
       "Team 1        555\n",
       "Team 2        555\n",
       "Winner        555\n",
       "Margin        555\n",
       "Ground        555\n",
       "Match Date    555\n",
       "dtype: int64"
      ]
     },
     "execution_count": 65,
     "metadata": {},
     "output_type": "execute_result"
    }
   ],
   "source": [
    "df[df['Winner']=='Australia'].count()"
   ]
  },
  {
   "cell_type": "code",
   "execution_count": 75,
   "id": "2f507bac-b602-4dfa-8a4d-778515eae53e",
   "metadata": {},
   "outputs": [
    {
     "data": {
      "text/plain": [
       "Scorecard     1637\n",
       "Team 1        1637\n",
       "Team 2        1637\n",
       "Winner        1637\n",
       "Margin        1635\n",
       "Ground        1637\n",
       "Match Date    1637\n",
       "dtype: int64"
      ]
     },
     "execution_count": 75,
     "metadata": {},
     "output_type": "execute_result"
    }
   ],
   "source": [
    "df[df['Team 2'] == df['Winner']].count()"
   ]
  },
  {
   "cell_type": "code",
   "execution_count": 5,
   "id": "d5b1200d-54d8-4227-bfa6-f9a0fdffdf18",
   "metadata": {},
   "outputs": [
    {
     "data": {
      "text/html": [
       "<div>\n",
       "<style scoped>\n",
       "    .dataframe tbody tr th:only-of-type {\n",
       "        vertical-align: middle;\n",
       "    }\n",
       "\n",
       "    .dataframe tbody tr th {\n",
       "        vertical-align: top;\n",
       "    }\n",
       "\n",
       "    .dataframe thead th {\n",
       "        text-align: right;\n",
       "    }\n",
       "</style>\n",
       "<table border=\"1\" class=\"dataframe\">\n",
       "  <thead>\n",
       "    <tr style=\"text-align: right;\">\n",
       "      <th></th>\n",
       "      <th>Rating</th>\n",
       "      <th>Reviews</th>\n",
       "      <th>Book_title</th>\n",
       "      <th>Description</th>\n",
       "      <th>Number_Of_Pages</th>\n",
       "      <th>Type</th>\n",
       "      <th>Price</th>\n",
       "    </tr>\n",
       "  </thead>\n",
       "  <tbody>\n",
       "    <tr>\n",
       "      <th>0</th>\n",
       "      <td>4.17</td>\n",
       "      <td>3829</td>\n",
       "      <td>The Elements of Style</td>\n",
       "      <td>This style manual offers practical advice on i...</td>\n",
       "      <td>105</td>\n",
       "      <td>Hardcover</td>\n",
       "      <td>9.323529</td>\n",
       "    </tr>\n",
       "    <tr>\n",
       "      <th>1</th>\n",
       "      <td>4.01</td>\n",
       "      <td>1406</td>\n",
       "      <td>The Information: A History, a Theory, a Flood</td>\n",
       "      <td>James Gleick, the author of the best sellers C...</td>\n",
       "      <td>527</td>\n",
       "      <td>Hardcover</td>\n",
       "      <td>11.000000</td>\n",
       "    </tr>\n",
       "    <tr>\n",
       "      <th>2</th>\n",
       "      <td>3.33</td>\n",
       "      <td>0</td>\n",
       "      <td>Responsive Web Design Overview For Beginners</td>\n",
       "      <td>In Responsive Web Design Overview For Beginner...</td>\n",
       "      <td>50</td>\n",
       "      <td>Kindle Edition</td>\n",
       "      <td>11.267647</td>\n",
       "    </tr>\n",
       "    <tr>\n",
       "      <th>3</th>\n",
       "      <td>3.97</td>\n",
       "      <td>1658</td>\n",
       "      <td>Ghost in the Wires: My Adventures as the World...</td>\n",
       "      <td>If they were a hall of fame or shame for compu...</td>\n",
       "      <td>393</td>\n",
       "      <td>Hardcover</td>\n",
       "      <td>12.873529</td>\n",
       "    </tr>\n",
       "    <tr>\n",
       "      <th>4</th>\n",
       "      <td>4.06</td>\n",
       "      <td>1325</td>\n",
       "      <td>How Google Works</td>\n",
       "      <td>Both Eric Schmidt and Jonathan Rosenberg came ...</td>\n",
       "      <td>305</td>\n",
       "      <td>Kindle Edition</td>\n",
       "      <td>13.164706</td>\n",
       "    </tr>\n",
       "    <tr>\n",
       "      <th>...</th>\n",
       "      <td>...</td>\n",
       "      <td>...</td>\n",
       "      <td>...</td>\n",
       "      <td>...</td>\n",
       "      <td>...</td>\n",
       "      <td>...</td>\n",
       "      <td>...</td>\n",
       "    </tr>\n",
       "    <tr>\n",
       "      <th>266</th>\n",
       "      <td>3.76</td>\n",
       "      <td>0</td>\n",
       "      <td>3D Game Engine Architecture: Engineering Real-...</td>\n",
       "      <td>Dave Eberly's 3D Game Engine Design was the fi...</td>\n",
       "      <td>752</td>\n",
       "      <td>Hardcover</td>\n",
       "      <td>203.108823</td>\n",
       "    </tr>\n",
       "    <tr>\n",
       "      <th>267</th>\n",
       "      <td>3.94</td>\n",
       "      <td>22</td>\n",
       "      <td>An Introduction to Database Systems</td>\n",
       "      <td>Continuing in the eighth edition, An Introduct...</td>\n",
       "      <td>1040</td>\n",
       "      <td>Paperback</td>\n",
       "      <td>212.097059</td>\n",
       "    </tr>\n",
       "    <tr>\n",
       "      <th>268</th>\n",
       "      <td>4.49</td>\n",
       "      <td>36</td>\n",
       "      <td>The Art of Computer Programming, Volumes 1-3 B...</td>\n",
       "      <td>Knuth's classic work has been widely acclaimed...</td>\n",
       "      <td>896</td>\n",
       "      <td>Boxed Set - Hardcover</td>\n",
       "      <td>220.385294</td>\n",
       "    </tr>\n",
       "    <tr>\n",
       "      <th>269</th>\n",
       "      <td>4.77</td>\n",
       "      <td>4</td>\n",
       "      <td>The Art of Computer Programming, Volumes 1-4a ...</td>\n",
       "      <td>\"The bible of all fundamental algorithms and t...</td>\n",
       "      <td>3168</td>\n",
       "      <td>Hardcover</td>\n",
       "      <td>220.385294</td>\n",
       "    </tr>\n",
       "    <tr>\n",
       "      <th>270</th>\n",
       "      <td>3.84</td>\n",
       "      <td>5</td>\n",
       "      <td>A Discipline for Software Engineering</td>\n",
       "      <td>Designed to help individual programmers develo...</td>\n",
       "      <td>789</td>\n",
       "      <td>Hardcover</td>\n",
       "      <td>235.650000</td>\n",
       "    </tr>\n",
       "  </tbody>\n",
       "</table>\n",
       "<p>271 rows × 7 columns</p>\n",
       "</div>"
      ],
      "text/plain": [
       "     Rating  Reviews                                         Book_title  \\\n",
       "0      4.17     3829                              The Elements of Style   \n",
       "1      4.01     1406      The Information: A History, a Theory, a Flood   \n",
       "2      3.33        0       Responsive Web Design Overview For Beginners   \n",
       "3      3.97     1658  Ghost in the Wires: My Adventures as the World...   \n",
       "4      4.06     1325                                   How Google Works   \n",
       "..      ...      ...                                                ...   \n",
       "266    3.76        0  3D Game Engine Architecture: Engineering Real-...   \n",
       "267    3.94       22                An Introduction to Database Systems   \n",
       "268    4.49       36  The Art of Computer Programming, Volumes 1-3 B...   \n",
       "269    4.77        4  The Art of Computer Programming, Volumes 1-4a ...   \n",
       "270    3.84        5              A Discipline for Software Engineering   \n",
       "\n",
       "                                           Description  Number_Of_Pages  \\\n",
       "0    This style manual offers practical advice on i...              105   \n",
       "1    James Gleick, the author of the best sellers C...              527   \n",
       "2    In Responsive Web Design Overview For Beginner...               50   \n",
       "3    If they were a hall of fame or shame for compu...              393   \n",
       "4    Both Eric Schmidt and Jonathan Rosenberg came ...              305   \n",
       "..                                                 ...              ...   \n",
       "266  Dave Eberly's 3D Game Engine Design was the fi...              752   \n",
       "267  Continuing in the eighth edition, An Introduct...             1040   \n",
       "268  Knuth's classic work has been widely acclaimed...              896   \n",
       "269  \"The bible of all fundamental algorithms and t...             3168   \n",
       "270  Designed to help individual programmers develo...              789   \n",
       "\n",
       "                      Type       Price  \n",
       "0                Hardcover    9.323529  \n",
       "1                Hardcover   11.000000  \n",
       "2           Kindle Edition   11.267647  \n",
       "3                Hardcover   12.873529  \n",
       "4           Kindle Edition   13.164706  \n",
       "..                     ...         ...  \n",
       "266              Hardcover  203.108823  \n",
       "267              Paperback  212.097059  \n",
       "268  Boxed Set - Hardcover  220.385294  \n",
       "269              Hardcover  220.385294  \n",
       "270              Hardcover  235.650000  \n",
       "\n",
       "[271 rows x 7 columns]"
      ]
     },
     "execution_count": 5,
     "metadata": {},
     "output_type": "execute_result"
    }
   ],
   "source": [
    "df = pd.read_csv('data/prog_book.csv')\n",
    "df"
   ]
  },
  {
   "cell_type": "code",
   "execution_count": 130,
   "id": "11ed4bd6-58c1-4ce4-841b-06be826e165a",
   "metadata": {},
   "outputs": [
    {
     "data": {
      "image/png": "[encoded data removed]",
      "text/plain": [
       "<Figure size 640x480 with 1 Axes>"
      ]
     },
     "metadata": {},
     "output_type": "display_data"
    }
   ],
   "source": [
    "sns.histplot(data=df, x='Price')\n",
    "plt.savefig('Q1-Answer.png');"
   ]
  },
  {
   "cell_type": "code",
   "execution_count": 6,
   "id": "33a175e0-dda7-440a-a54d-981baa021836",
   "metadata": {},
   "outputs": [
    {
     "data": {
      "image/png": "[encoded data removed]",
      "text/plain": [
       "<Figure size 640x480 with 1 Axes>"
      ]
     },
     "metadata": {},
     "output_type": "display_data"
    }
   ],
   "source": [
    "plt.hist(df['Price']);"
   ]
  },
  {
   "cell_type": "code",
   "execution_count": 132,
   "id": "24ac03ec-0f01-4234-916f-c0af0a5b0b6e",
   "metadata": {},
   "outputs": [
    {
     "data": {
      "image/png": "[encoded data removed]",
      "text/plain": [
       "<Figure size 640x480 with 1 Axes>"
      ]
     },
     "metadata": {},
     "output_type": "display_data"
    }
   ],
   "source": [
    "plt.hist(df['Price']);"
   ]
  },
  {
   "cell_type": "code",
   "execution_count": 103,
   "id": "325590f7-b4fa-4180-9b7e-845516794cda",
   "metadata": {},
   "outputs": [
    {
     "data": {
      "image/png": "[encoded data removed]",
      "text/plain": [
       "<Figure size 1200x500 with 1 Axes>"
      ]
     },
     "metadata": {},
     "output_type": "display_data"
    }
   ],
   "source": [
    "plt.figure(figsize=(12,5))\n",
    "sns.countplot(data=df, x='Type');"
   ]
  },
  {
   "cell_type": "code",
   "execution_count": 107,
   "id": "8f6f49af-d5de-48ec-be94-38163d79eaab",
   "metadata": {},
   "outputs": [
    {
     "data": {
      "image/png": "[encoded data removed]",
      "text/plain": [
       "<Figure size 1500x500 with 1 Axes>"
      ]
     },
     "metadata": {},
     "output_type": "display_data"
    }
   ],
   "source": [
    "plt.figure(figsize=(15,5))\n",
    "sns.stripplot(data=df, x='Type', y='Rating');"
   ]
  },
  {
   "cell_type": "code",
   "execution_count": 111,
   "id": "700f5fe9-c005-4b37-9d64-a86fa92f582e",
   "metadata": {},
   "outputs": [
    {
     "data": {
      "image/png": "[encoded data removed]",
      "text/plain": [
       "<Figure size 700x1500 with 1 Axes>"
      ]
     },
     "metadata": {},
     "output_type": "display_data"
    }
   ],
   "source": [
    "plt.figure(figsize=(7,15))\n",
    "sns.boxplot(data=df, y='Rating');"
   ]
  },
  {
   "cell_type": "code",
   "execution_count": 22,
   "id": "2f72fe07-7bab-4aae-8e75-607862195a8d",
   "metadata": {},
   "outputs": [
    {
     "name": "stderr",
     "output_type": "stream",
     "text": [
      "C:\\Users\\Wasil\\Desktop\\ml\\env\\lib\\site-packages\\seaborn\\axisgrid.py:123: UserWarning: The figure layout has changed to tight\n",
      "  self._figure.tight_layout(*args, **kwargs)\n"
     ]
    },
    {
     "data": {
      "image/png": "[encoded data removed]",
      "text/plain": [
       "<Figure size 500x500 with 1 Axes>"
      ]
     },
     "metadata": {},
     "output_type": "display_data"
    }
   ],
   "source": [
    "sns.displot(data=df, x='Reviews', kind='kde');"
   ]
  },
  {
   "cell_type": "code",
   "execution_count": 23,
   "id": "1db0a24b-c0b6-4e88-9f6f-c607c2f0bbf7",
   "metadata": {},
   "outputs": [
    {
     "data": {
      "text/plain": [
       "39"
      ]
     },
     "execution_count": 23,
     "metadata": {},
     "output_type": "execute_result"
    }
   ],
   "source": [
    "demo_matrix = np.array(([13,35,74,48], [23,37,37,38],[73,32,93,39]))\n",
    "demo_matrix[2,3]"
   ]
  },
  {
   "cell_type": "code",
   "execution_count": 24,
   "id": "51615470-6e06-4a92-8d27-a6ef85d1c400",
   "metadata": {},
   "outputs": [
    {
     "data": {
      "text/plain": [
       "array([ 0,  6, 12, 18])"
      ]
     },
     "execution_count": 24,
     "metadata": {},
     "output_type": "execute_result"
    }
   ],
   "source": [
    "np.arange(0,22,6)"
   ]
  },
  {
   "cell_type": "code",
   "execution_count": 25,
   "id": "5bd96577-8cd7-4511-a9eb-b4800f829dd7",
   "metadata": {},
   "outputs": [
    {
     "data": {
      "text/plain": [
       "array([101, 101, 101, 101, 101, 101, 101])"
      ]
     },
     "execution_count": 25,
     "metadata": {},
     "output_type": "execute_result"
    }
   ],
   "source": [
    "demo_array = np.arange(10,17)\n",
    "demo_array [:]= 101\n",
    "demo_array"
   ]
  },
  {
   "cell_type": "code",
   "execution_count": 26,
   "id": "ecfa0849-d0d2-4a2e-a4ec-755df12449c8",
   "metadata": {},
   "outputs": [
    {
     "data": {
      "text/plain": [
       "a    10\n",
       "b    15\n",
       "c    20\n",
       "d    25\n",
       "dtype: int64"
      ]
     },
     "execution_count": 26,
     "metadata": {},
     "output_type": "execute_result"
    }
   ],
   "source": [
    "score = [10, 15, 20, 25]\n",
    "pd.Series(data=score, index = ['a','b','c','d'])"
   ]
  },
  {
   "cell_type": "code",
   "execution_count": null,
   "id": "7fa57f47-d029-4d10-becd-c4d4e58b8089",
   "metadata": {},
   "outputs": [],
   "source": []
  }
 ],
 "metadata": {
  "kernelspec": {
   "display_name": "Python 3 (ipykernel)",
   "language": "python",
   "name": "python3"
  },
  "language_info": {
   "codemirror_mode": {
    "name": "ipython",
    "version": 3
   },
   "file_extension": ".py",
   "mimetype": "text/x-python",
   "name": "python",
   "nbconvert_exporter": "python",
   "pygments_lexer": "ipython3",
   "version": "3.8.19"
  }
 },
 "nbformat": 4,
 "nbformat_minor": 5
}
