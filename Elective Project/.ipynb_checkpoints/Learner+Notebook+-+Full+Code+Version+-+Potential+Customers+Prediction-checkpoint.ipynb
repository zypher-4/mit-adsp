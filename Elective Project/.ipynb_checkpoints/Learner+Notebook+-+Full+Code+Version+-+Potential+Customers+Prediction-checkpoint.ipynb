{
 "cells": [
  {
   "cell_type": "markdown",
   "id": "AT5OogJVFbwu",
   "metadata": {
    "id": "AT5OogJVFbwu"
   },
   "source": [
    "# ExtraaLearn Project\n",
    "\n",
    "## Context\n",
    "\n",
    "The EdTech industry has been surging in the past decade immensely, and according to a forecast, the Online Education market would be worth $286.62bn by 2023 with a compound annual growth rate (CAGR) of 10.26% from 2018 to 2023. The modern era of online education has enforced a lot in its growth and expansion beyond any limit. Due to having many dominant features like ease of information sharing, personalized learning experience, transparency of assessment, etc, it is now preferable to traditional education. \n",
    "\n",
    "In the present scenario due to the Covid-19, the online education sector has witnessed rapid growth and is attracting a lot of new customers. Due to this rapid growth, many new companies have emerged in this industry. With the availability and ease of use of digital marketing resources, companies can reach out to a wider audience with their offerings. The customers who show interest in these offerings are termed as leads. There are various sources of obtaining leads for Edtech companies, like\n",
    "\n",
    "* The customer interacts with the marketing front on social media or other online platforms. \n",
    "* The customer browses the website/app and downloads the brochure\n",
    "* The customer connects through emails for more information.\n",
    "\n",
    "The company then nurtures these leads and tries to convert them to paid customers. For this, the representative from the organization connects with the lead on call or through email to share further details.\n",
    "\n",
    "## Objective\n",
    "\n",
    "ExtraaLearn is an initial stage startup that offers programs on cutting-edge technologies to students and professionals to help them upskill/reskill. With a large number of leads being generated on a regular basis, one of the issues faced by ExtraaLearn is to identify which of the leads are more likely to convert so that they can allocate resources accordingly. You, as a data scientist at ExtraaLearn, have been provided the leads data to:\n",
    "* Analyze and build an ML model to help identify which leads are more likely to convert to paid customers, \n",
    "* Find the factors driving the lead conversion process\n",
    "* Create a profile of the leads which are likely to convert\n",
    "\n",
    "\n",
    "## Data Description\n",
    "\n",
    "The data contains the different attributes of leads and their interaction details with ExtraaLearn. The detailed data dictionary is given below.\n",
    "\n",
    "\n",
    "**Data Dictionary**\n",
    "* ID: ID of the lead\n",
    "* age: Age of the lead\n",
    "* current_occupation: Current occupation of the lead. Values include 'Professional','Unemployed',and 'Student'\n",
    "* first_interaction: How did the lead first interacted with ExtraaLearn. Values include 'Website', 'Mobile App'\n",
    "* profile_completed: What percentage of profile has been filled by the lead on the website/mobile app. Values include Low - (0-50%), Medium - (50-75%), High (75-100%)\n",
    "* website_visits: How many times has a lead visited the website\n",
    "* time_spent_on_website: Total time spent on the website\n",
    "* page_views_per_visit: Average number of pages on the website viewed during the visits.\n",
    "* last_activity: Last interaction between the lead and ExtraaLearn. \n",
    "    * Email Activity: Seeking for details about program through email, Representative shared information with lead like brochure of program , etc \n",
    "    * Phone Activity: Had a Phone Conversation with representative, Had conversation over SMS with representative, etc\n",
    "    * Website Activity: Interacted on live chat with representative, Updated profile on website, etc\n",
    "\n",
    "* print_media_type1: Flag indicating whether the lead had seen the ad of ExtraaLearn in the Newspaper.\n",
    "* print_media_type2: Flag indicating whether the lead had seen the ad of ExtraaLearn in the Magazine.\n",
    "* digital_media: Flag indicating whether the lead had seen the ad of ExtraaLearn on the digital platforms.\n",
    "* educational_channels: Flag indicating whether the lead had heard about ExtraaLearn in the education channels like online forums, discussion threads, educational websites, etc.\n",
    "* referral: Flag indicating whether the lead had heard about ExtraaLearn through reference.\n",
    "* status: Flag indicating whether the lead was converted to a paid customer or not."
   ]
  },
  {
   "cell_type": "markdown",
   "id": "dirty-island",
   "metadata": {
    "id": "dirty-island"
   },
   "source": [
    "## Importing necessary libraries and data"
   ]
  },
  {
   "cell_type": "code",
   "execution_count": null,
   "id": "statewide-still",
   "metadata": {
    "id": "statewide-still"
   },
   "outputs": [],
   "source": []
  },
  {
   "cell_type": "markdown",
   "id": "desperate-infection",
   "metadata": {
    "id": "desperate-infection"
   },
   "source": [
    "## Data Overview\n",
    "\n",
    "- Observations\n",
    "- Sanity checks"
   ]
  },
  {
   "cell_type": "code",
   "execution_count": null,
   "id": "persistent-juice",
   "metadata": {
    "id": "persistent-juice"
   },
   "outputs": [],
   "source": []
  },
  {
   "cell_type": "markdown",
   "id": "seasonal-calibration",
   "metadata": {
    "id": "seasonal-calibration"
   },
   "source": [
    "## Exploratory Data Analysis (EDA)\n",
    "\n",
    "- EDA is an important part of any project involving data.\n",
    "- It is important to investigate and understand the data better before building a model with it.\n",
    "- A few questions have been mentioned below which will help you approach the analysis in the right manner and generate insights from the data.\n",
    "- A thorough analysis of the data, in addition to the questions mentioned below, should be done."
   ]
  },
  {
   "cell_type": "markdown",
   "id": "approved-brother",
   "metadata": {
    "id": "approved-brother"
   },
   "source": [
    "**Questions**\n",
    "1. Leads will have different expectations from the outcome of the course and the current occupation may play a key role in getting them to participate in the program. Find out how current occupation affects lead status.\n",
    "2. The company's first impression on the customer must have an impact. Do the first channels of interaction have an impact on the lead status? \n",
    "3. The company uses multiple modes to interact with prospects. Which way of interaction works best? \n",
    "4. The company gets leads from various channels such as print media, digital media, referrals, etc. Which of these channels have the highest lead conversion rate?\n",
    "5. People browsing the website or mobile application are generally required to create a profile by sharing their personal data before they can access additional information.Does having more details about a prospect increase the chances of conversion?"
   ]
  },
  {
   "cell_type": "code",
   "execution_count": null,
   "id": "87690d8f",
   "metadata": {},
   "outputs": [],
   "source": []
  },
  {
   "cell_type": "markdown",
   "id": "alleged-spirituality",
   "metadata": {
    "id": "alleged-spirituality"
   },
   "source": [
    "## Data Preprocessing\n",
    "\n",
    "- Missing value treatment (if needed)\n",
    "- Feature engineering (if needed)\n",
    "- Outlier detection and treatment (if needed)\n",
    "- Preparing data for modeling \n",
    "- Any other preprocessing steps (if needed)"
   ]
  },
  {
   "cell_type": "code",
   "execution_count": null,
   "id": "increasing-louisiana",
   "metadata": {
    "id": "increasing-louisiana"
   },
   "outputs": [],
   "source": []
  },
  {
   "cell_type": "markdown",
   "id": "amazing-fluid",
   "metadata": {
    "id": "amazing-fluid"
   },
   "source": [
    "## Building a Decision Tree model"
   ]
  },
  {
   "cell_type": "code",
   "execution_count": null,
   "id": "neither-hydrogen",
   "metadata": {
    "id": "neither-hydrogen"
   },
   "outputs": [],
   "source": []
  },
  {
   "cell_type": "markdown",
   "id": "limited-strengthening",
   "metadata": {
    "id": "limited-strengthening"
   },
   "source": [
    "## Model Performance evaluation and improvement"
   ]
  },
  {
   "cell_type": "code",
   "execution_count": null,
   "id": "ambient-elements",
   "metadata": {
    "id": "ambient-elements"
   },
   "outputs": [],
   "source": []
  },
  {
   "cell_type": "markdown",
   "id": "a8c47c07",
   "metadata": {
    "id": "amazing-fluid"
   },
   "source": [
    "## Building a Random Forest model"
   ]
  },
  {
   "cell_type": "code",
   "execution_count": null,
   "id": "8bbd87fb",
   "metadata": {},
   "outputs": [],
   "source": []
  },
  {
   "cell_type": "markdown",
   "id": "11bc14ca",
   "metadata": {},
   "source": [
    "## Model Performance evaluation and improvement"
   ]
  },
  {
   "cell_type": "code",
   "execution_count": null,
   "id": "65f89cc9",
   "metadata": {},
   "outputs": [],
   "source": []
  },
  {
   "cell_type": "markdown",
   "id": "nasty-retailer",
   "metadata": {
    "id": "nasty-retailer"
   },
   "source": [
    "## Actionable Insights and Recommendations"
   ]
  },
  {
   "cell_type": "code",
   "execution_count": null,
   "id": "amino-prediction",
   "metadata": {
    "id": "amino-prediction"
   },
   "outputs": [],
   "source": []
  }
 ],
 "metadata": {
  "colab": {
   "collapsed_sections": [],
   "name": "ExtraaLearn_Project_Template_Notebook.ipynb",
   "provenance": []
  },
  "kernelspec": {
   "display_name": "Python 3 (ipykernel)",
   "language": "python",
   "name": "python3"
  },
  "language_info": {
   "codemirror_mode": {
    "name": "ipython",
    "version": 3
   },
   "file_extension": ".py",
   "mimetype": "text/x-python",
   "name": "python",
   "nbconvert_exporter": "python",
   "pygments_lexer": "ipython3",
   "version": "3.9.16"
  }
 },
 "nbformat": 4,
 "nbformat_minor": 5
}
