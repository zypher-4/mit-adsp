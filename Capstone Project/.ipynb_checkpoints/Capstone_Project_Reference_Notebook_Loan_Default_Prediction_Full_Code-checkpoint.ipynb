{
  "cells": [
    {
      "cell_type": "markdown",
      "metadata": {
        "id": "1_iHEvciuTB9"
      },
      "source": [
        "# **Loan Default Prediction**"
      ]
    },
    {
      "cell_type": "markdown",
      "metadata": {
        "id": "ZKyzwpUiuTB2"
      },
      "source": [
        "## **Problem Definition**\n",
        "\n",
        "### **The Context:**\n",
        "\n",
        " - Why is this problem important to solve?\n",
        "\n",
        "### **The objective:**\n",
        "\n",
        " - What is the intended goal?\n",
        "\n",
        "### **The key questions:**\n",
        "\n",
        "- What are the key questions that need to be answered?\n",
        "\n",
        "### **The problem formulation**:\n",
        "\n",
        "- What is it that we are trying to solve using data science?"
      ]
    },
    {
      "cell_type": "markdown",
      "metadata": {
        "id": "qEHRGpcdo-KO"
      },
      "source": [
        "## **Data Description:**\n",
        "The Home Equity dataset (HMEQ) contains baseline and loan performance information for 5,960 recent home equity loans. The target (BAD) is a binary variable that indicates whether an applicant has ultimately defaulted or has been severely delinquent. This adverse outcome occurred in 1,189 cases (20 percent). 12 input variables were registered for each applicant.\n",
        "\n",
        "\n",
        "* **BAD:** 1 = Client defaulted on loan, 0 = loan repaid\n",
        "\n",
        "* **LOAN:** Amount of loan approved.\n",
        "\n",
        "* **MORTDUE:** Amount due on the existing mortgage.\n",
        "\n",
        "* **VALUE:** Current value of the property. \n",
        "\n",
        "* **REASON:** Reason for the loan request. (HomeImp = home improvement, DebtCon= debt consolidation which means taking out a new loan to pay off other liabilities and consumer debts) \n",
        "\n",
        "* **JOB:** The type of job that loan applicant has such as manager, self, etc.\n",
        "\n",
        "* **YOJ:** Years at present job.\n",
        "\n",
        "* **DEROG:** Number of major derogatory reports (which indicates a serious delinquency or late payments). \n",
        "\n",
        "* **DELINQ:** Number of delinquent credit lines (a line of credit becomes delinquent when a borrower does not make the minimum required payments 30 to 60 days past the day on which the payments were due). \n",
        "\n",
        "* **CLAGE:** Age of the oldest credit line in months. \n",
        "\n",
        "* **NINQ:** Number of recent credit inquiries. \n",
        "\n",
        "* **CLNO:** Number of existing credit lines.\n",
        "\n",
        "* **DEBTINC:** Debt-to-income ratio (all your monthly debt payments divided by your gross monthly income. This number is one way lenders measure your ability to manage the monthly payments to repay the money you plan to borrow."
      ]
    },
    {
      "cell_type": "markdown",
      "metadata": {
        "id": "DcZcGaZruTB-"
      },
      "source": [
        "## **Import the necessary libraries and Data**"
      ]
    },
    {
      "cell_type": "code",
      "execution_count": null,
      "metadata": {
        "id": "pvj9AGJtuTB_"
      },
      "outputs": [],
      "source": []
    },
    {
      "cell_type": "markdown",
      "metadata": {
        "id": "T9ykJzCRuTCD"
      },
      "source": [
        "## **Data Overview**"
      ]
    },
    {
      "cell_type": "markdown",
      "metadata": {
        "id": "DLgLExFVBZtg"
      },
      "source": [
        "- Reading the dataset\n",
        "- Understanding the shape of the dataset\n",
        "- Checking the data types\n",
        "- Checking for missing values\n",
        "- Checking for duplicated values"
      ]
    },
    {
      "cell_type": "code",
      "execution_count": null,
      "metadata": {
        "id": "za7znZ1cBZtg"
      },
      "outputs": [],
      "source": []
    },
    {
      "cell_type": "markdown",
      "metadata": {
        "id": "rHTODkjLuTCT"
      },
      "source": [
        "## Summary Statistics"
      ]
    },
    {
      "cell_type": "code",
      "execution_count": null,
      "metadata": {
        "id": "9hRbpzF0BZth"
      },
      "outputs": [],
      "source": []
    },
    {
      "cell_type": "markdown",
      "metadata": {
        "id": "g51vGZAGuTCT"
      },
      "source": [
        "- Observations from Summary Statistics"
      ]
    },
    {
      "cell_type": "markdown",
      "metadata": {
        "id": "3ZcMbNvZuTCW"
      },
      "source": [
        "## **Exploratory Data Analysis (EDA) and Visualization**"
      ]
    },
    {
      "cell_type": "markdown",
      "metadata": {
        "id": "_Td9x7DdBZti"
      },
      "source": [
        "- EDA is an important part of any project involving data.\n",
        "- It is important to investigate and understand the data better before building a model with it.\n",
        "- A few questions have been mentioned below which will help you approach the analysis in the right manner and generate insights from the data.\n",
        "- A thorough analysis of the data, in addition to the questions mentioned below, should be done."
      ]
    },
    {
      "cell_type": "markdown",
      "metadata": {
        "id": "ba_dqV0sBZti"
      },
      "source": [
        "**Leading Questions**:\n",
        "1. What is the range of values for the loan amount variable \"LOAN\"?\n",
        "2. How does the distribution of years at present job \"YOJ\" vary across the dataset?\n",
        "3. How many unique categories are there in the REASON variable?\n",
        "4. What is the most common category in the JOB variable?\n",
        "5. Is there a relationship between the REASON variable and the proportion of applicants who defaulted on their loan?\n",
        "6. Do applicants who default have a significantly different loan amount compared to those who repay their loan?\n",
        "7. Is there a correlation between the value of the property and the loan default rate?\n",
        "8. Do applicants who default have a significantly different mortgage amount compared to those who repay their loan?"
      ]
    },
    {
      "cell_type": "markdown",
      "metadata": {
        "id": "65yxFJFVuTCW"
      },
      "source": [
        "### **Univariate Analysis**\n"
      ]
    },
    {
      "cell_type": "code",
      "execution_count": null,
      "metadata": {
        "id": "2zXcgmBeBZti"
      },
      "outputs": [],
      "source": []
    },
    {
      "cell_type": "markdown",
      "metadata": {
        "id": "jg5IFtbouTCa"
      },
      "source": [
        "### **Bivariate Analysis**"
      ]
    },
    {
      "cell_type": "code",
      "execution_count": null,
      "metadata": {
        "id": "9b60NSTMBZtj"
      },
      "outputs": [],
      "source": []
    },
    {
      "cell_type": "markdown",
      "metadata": {
        "id": "pc9wZJcGuTCm"
      },
      "source": [
        "### **Multivariate Analysis**"
      ]
    },
    {
      "cell_type": "code",
      "execution_count": null,
      "metadata": {
        "id": "nLk0Fgx-BZtj"
      },
      "outputs": [],
      "source": []
    },
    {
      "cell_type": "markdown",
      "metadata": {
        "id": "zEjMlq0quTCp"
      },
      "source": [
        "## Treating Outliers"
      ]
    },
    {
      "cell_type": "code",
      "execution_count": null,
      "metadata": {
        "id": "WTtFHgKTBZtj"
      },
      "outputs": [],
      "source": []
    },
    {
      "cell_type": "markdown",
      "metadata": {
        "id": "U8CEq24hBZtj"
      },
      "source": [
        "## Treating Missing Values"
      ]
    },
    {
      "cell_type": "code",
      "execution_count": null,
      "metadata": {
        "id": "CDYGPOlXBZtk"
      },
      "outputs": [],
      "source": []
    },
    {
      "cell_type": "markdown",
      "metadata": {
        "id": "eG_XM04vuTCs"
      },
      "source": [
        "## **Important Insights from EDA**\n",
        "\n",
        "What are the the most important observations and insights from the data based on the EDA performed?"
      ]
    },
    {
      "cell_type": "code",
      "execution_count": null,
      "metadata": {
        "id": "jkV_0337BZtk"
      },
      "outputs": [],
      "source": []
    },
    {
      "cell_type": "markdown",
      "metadata": {
        "id": "Cdqhtr8yuS-L"
      },
      "source": [
        "## **Model Building - Approach**\n",
        "- Data preparation\n",
        "- Partition the data into train and test set\n",
        "- Build the model\n",
        "- Fit on the train data\n",
        "- Tune the model\n",
        "- Test the model on test set"
      ]
    },
    {
      "cell_type": "markdown",
      "metadata": {
        "id": "2CGW7uh5BZtk"
      },
      "source": [
        "### Logistic Regression"
      ]
    },
    {
      "cell_type": "code",
      "execution_count": null,
      "metadata": {
        "id": "fs0QKb4ABZtk"
      },
      "outputs": [],
      "source": []
    },
    {
      "cell_type": "markdown",
      "metadata": {
        "id": "9oYAeptGBZtk"
      },
      "source": [
        "### Decision Tree"
      ]
    },
    {
      "cell_type": "code",
      "execution_count": null,
      "metadata": {
        "id": "nfvaEVqsBZtk"
      },
      "outputs": [],
      "source": []
    },
    {
      "cell_type": "markdown",
      "source": [
        "### **Decision Tree - Hyperparameter Tuning**\n",
        "\n",
        "* Hyperparameter tuning is tricky in the sense that **there is no direct way to calculate how a change in the hyperparameter value will reduce the loss of your model**, so we usually resort to experimentation. We'll use Grid search to perform hyperparameter tuning.\n",
        "* **Grid search is a tuning technique that attempts to compute the optimum values of hyperparameters.** \n",
        "* **It is an exhaustive search** that is performed on the specific parameter values of a model.\n",
        "* The parameters of the estimator/model used to apply these methods are **optimized by cross-validated grid-search** over a parameter grid.\n",
        "\n",
        "**Criterion {“gini”, “entropy”}**\n",
        "\n",
        "The function to measure the quality of a split. Supported criteria are “gini” for the Gini impurity and “entropy” for the information gain.\n",
        "\n",
        "**max_depth** \n",
        "\n",
        "The maximum depth of the tree. If None, then nodes are expanded until all leaves are pure or until all leaves contain less than min_samples_split samples.\n",
        "\n",
        "**min_samples_leaf**\n",
        "\n",
        "The minimum number of samples is required to be at a leaf node. A split point at any depth will only be considered if it leaves at least min_samples_leaf training samples in each of the left and right branches. This may have the effect of smoothing the model, especially in regression.\n",
        "\n",
        "You can learn about more Hyperpapameters on this link and try to tune them. \n",
        "\n",
        "https://scikit-learn.org/stable/modules/generated/sklearn.tree.DecisionTreeClassifier.html\n"
      ],
      "metadata": {
        "id": "HdO4E2btpoPD"
      }
    },
    {
      "cell_type": "markdown",
      "metadata": {
        "id": "g4x88goTBZtk"
      },
      "source": [
        "### **Building a Random Forest Classifier**\n",
        "\n",
        "**Random Forest is a bagging algorithm where the base models are Decision Trees.** Samples are taken from the training data and on each sample a decision tree makes a prediction. \n",
        "\n",
        "**The results from all the decision trees are combined together and the final prediction is made using voting or averaging.**"
      ]
    },
    {
      "cell_type": "code",
      "source": [],
      "metadata": {
        "id": "64OtDSUSqbcD"
      },
      "execution_count": null,
      "outputs": []
    },
    {
      "cell_type": "markdown",
      "source": [
        "### **Random Forest Classifier Hyperparameter Tuning**"
      ],
      "metadata": {
        "id": "HAx1Ooocp72i"
      }
    },
    {
      "cell_type": "code",
      "source": [],
      "metadata": {
        "id": "9UQIxCZcqJHa"
      },
      "execution_count": null,
      "outputs": []
    },
    {
      "cell_type": "markdown",
      "metadata": {
        "id": "kPywjJo6uS-9"
      },
      "source": [
        "**1. Comparison of various techniques and their relative performance based on chosen Metric (Measure of success):** \n",
        "- How do different techniques perform? Which one is performing relatively better? Is there scope to improve the performance further?"
      ]
    },
    {
      "cell_type": "markdown",
      "metadata": {
        "id": "5mtOvTtEY7sM"
      },
      "source": [
        "**2. Refined insights:** \n",
        "- What are the most meaningful insights relevant to the problem?"
      ]
    },
    {
      "cell_type": "markdown",
      "metadata": {
        "id": "HNJHd0R7Y7sM"
      },
      "source": [
        "**3. Proposal for the final solution design:** \n",
        "- What model do you propose to be adopted? Why is this the best solution to adopt?"
      ]
    }
  ],
  "metadata": {
    "colab": {
      "provenance": []
    },
    "hide_input": false,
    "kernelspec": {
      "display_name": "Python 3 (ipykernel)",
      "language": "python",
      "name": "python3"
    },
    "language_info": {
      "codemirror_mode": {
        "name": "ipython",
        "version": 3
      },
      "file_extension": ".py",
      "mimetype": "text/x-python",
      "name": "python",
      "nbconvert_exporter": "python",
      "pygments_lexer": "ipython3",
      "version": "3.8.16"
    },
    "latex_envs": {
      "LaTeX_envs_menu_present": true,
      "autoclose": false,
      "autocomplete": true,
      "bibliofile": "biblio.bib",
      "cite_by": "apalike",
      "current_citInitial": 1,
      "eqLabelWithNumbers": true,
      "eqNumInitial": 1,
      "hotkeys": {
        "equation": "Ctrl-E",
        "itemize": "Ctrl-I"
      },
      "labels_anchors": false,
      "latex_user_defs": false,
      "report_style_numbering": false,
      "user_envs_cfg": false
    },
    "toc": {
      "base_numbering": 1,
      "nav_menu": {},
      "number_sections": true,
      "sideBar": true,
      "skip_h1_title": false,
      "title_cell": "Table of Contents",
      "title_sidebar": "Contents",
      "toc_cell": false,
      "toc_position": {},
      "toc_section_display": true,
      "toc_window_display": false
    },
    "varInspector": {
      "cols": {
        "lenName": 16,
        "lenType": 16,
        "lenVar": 40
      },
      "kernels_config": {
        "python": {
          "delete_cmd_postfix": "",
          "delete_cmd_prefix": "del ",
          "library": "var_list.py",
          "varRefreshCmd": "print(var_dic_list())"
        },
        "r": {
          "delete_cmd_postfix": ") ",
          "delete_cmd_prefix": "rm(",
          "library": "var_list.r",
          "varRefreshCmd": "cat(var_dic_list()) "
        }
      },
      "types_to_exclude": [
        "module",
        "function",
        "builtin_function_or_method",
        "instance",
        "_Feature"
      ],
      "window_display": false
    }
  },
  "nbformat": 4,
  "nbformat_minor": 0
}